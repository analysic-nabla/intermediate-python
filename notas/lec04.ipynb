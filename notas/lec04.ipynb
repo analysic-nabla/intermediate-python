{
 "cells": [
  {
   "cell_type": "markdown",
   "metadata": {},
   "source": [
    "![logo](../files/misc/logo.png)\n",
    "<h1 style=\"color:#872325\">Programación Orientada a Objetos (OOP)</h1>\n",
    "\n",
    "### Python por debajo del agua\n",
    "\n",
    "Python es conocido como un lenguaje de programación multi-paradigma. Un **paradigma** en computación, es la manera (o estilo) de expresar las ideas lógicas del programa. Uno de los estilos de programación con el que cuenta python es el OOP, el cual, como su nombre dice, se basa en los **objetos**. A lo largo del curso hemos, implicitamente, programado en una manera orientada a objetos.\n",
    "\n",
    "**La OOP busca tratar los objetos como contenedores de información.**\n",
    "\n",
    "Recordaremos que todo en Python es un objeto y podemos conocer la **clase** a la que pertenece con la función `type`"
   ]
  },
  {
   "cell_type": "markdown",
   "metadata": {},
   "source": [
    "# TODO:\n",
    "\n",
    "1. Add more exercises\n",
    "2. Add the use of private variables"
   ]
  },
  {
   "cell_type": "code",
   "execution_count": 1,
   "metadata": {},
   "outputs": [
    {
     "data": {
      "text/plain": [
       "str"
      ]
     },
     "execution_count": 1,
     "metadata": {},
     "output_type": "execute_result"
    }
   ],
   "source": [
    "type(\"SVM\")"
   ]
  },
  {
   "cell_type": "code",
   "execution_count": 2,
   "metadata": {},
   "outputs": [
    {
     "data": {
      "text/plain": [
       "int"
      ]
     },
     "execution_count": 2,
     "metadata": {},
     "output_type": "execute_result"
    }
   ],
   "source": [
    "type(2)"
   ]
  },
  {
   "cell_type": "code",
   "execution_count": 3,
   "metadata": {},
   "outputs": [
    {
     "data": {
      "text/plain": [
       "dict"
      ]
     },
     "execution_count": 3,
     "metadata": {},
     "output_type": "execute_result"
    }
   ],
   "source": [
    "type({\"nombre\": \"Bernt\", \"apellido\": \"Oksendal\"})"
   ]
  },
  {
   "cell_type": "markdown",
   "metadata": {},
   "source": [
    "En general, un objeto cuenta con dos características especiales:\n",
    "* Funcionamiento\n",
    "* Atributos\n",
    "\n",
    "Para una persona,\n",
    "* Nombre, apellido, edad serían sus **atributos**\n",
    "* Correr, Programar, Estudiar serían sus **funcionalidades**"
   ]
  },
  {
   "cell_type": "markdown",
   "metadata": {},
   "source": [
    "Considerando la lista\n",
    "```python\n",
    "elements = [3.14, \"e\", \"x^2\"]\n",
    "```\n",
    "¿Qué atributos y que funcionalidades tendría la lista?"
   ]
  },
  {
   "cell_type": "code",
   "execution_count": 4,
   "metadata": {},
   "outputs": [
    {
     "data": {
      "text/plain": [
       "[3.14, 'e', 'x^2', 'four']"
      ]
     },
     "execution_count": 4,
     "metadata": {},
     "output_type": "execute_result"
    }
   ],
   "source": [
    "elements = [3.14, \"e\", \"x^2\"]\n",
    "# Ans:\n",
    "# Realmente una lista no cuenta con atributos, ya que todos los elementos a los que podemos\n",
    "# acceder son métodos (funcionalidades)\n",
    "elements.append(\"four\") # Una funcionaidad\n",
    "elements"
   ]
  },
  {
   "cell_type": "code",
   "execution_count": 5,
   "metadata": {},
   "outputs": [
    {
     "data": {
      "text/plain": [
       "1"
      ]
     },
     "execution_count": 5,
     "metadata": {},
     "output_type": "execute_result"
    }
   ],
   "source": [
    "elements.count(\"e\") # Otra funcionalidad de laa lista"
   ]
  },
  {
   "cell_type": "code",
   "execution_count": 6,
   "metadata": {},
   "outputs": [
    {
     "data": {
      "text/plain": [
       "(1+2j)"
      ]
     },
     "execution_count": 6,
     "metadata": {},
     "output_type": "execute_result"
    }
   ],
   "source": [
    "1 + 2j"
   ]
  },
  {
   "cell_type": "markdown",
   "metadata": {},
   "source": [
    "Hasta ahora hemos visto diferentes *clases* de objetos\n",
    "* `dict`\n",
    "* `float`\n",
    "* `str`\n",
    "* `set`\n",
    "* ...\n",
    "\n",
    "Cada uno con su propia funcionalidad. Pero, ¿qué sucedería si desearamos declarar nuestra propia clase? Podríamos definir una nueva clase para:\n",
    "* Trabajar con elementos matriciales\n",
    "* Una caja registadora\n",
    "* Trabajar con el tiempo"
   ]
  },
  {
   "cell_type": "markdown",
   "metadata": {},
   "source": [
    "## Definiendo Clases en Python"
   ]
  },
  {
   "cell_type": "markdown",
   "metadata": {},
   "source": [
    "En python, definimos una clase por medio del keyword `class`.  \n",
    "Supongamos queremos definir una clase `Human`."
   ]
  },
  {
   "cell_type": "code",
   "execution_count": 7,
   "metadata": {},
   "outputs": [
    {
     "data": {
      "text/plain": [
       "__main__.Human"
      ]
     },
     "execution_count": 7,
     "metadata": {},
     "output_type": "execute_result"
    }
   ],
   "source": [
    "class Human:\n",
    "    pass\n",
    "\n",
    "isaac = Human()\n",
    "type(isaac)"
   ]
  },
  {
   "cell_type": "markdown",
   "metadata": {},
   "source": [
    "Isaac es una variable que guarda un objeto de clase `Human`. Sin embargo, `isaac`no tiene ningun atributo o funcionalidad definida hasta el momento. Al momento de crear una **instancia de una clase**, en ocasiones, es necesario *construir* nuestra clase o inicializar los elementos de la clase.\n",
    "\n",
    "Al definir un humano, tendría sentido tener un *nombre*, *apellido*, *edad* y *sexo* al momento de definir una nueva instancia de un `Human`. Para esto es necesario tener un **constructor** con las propiedades básicas de un humano al momento de su creación. Dentro de una clase, definimos su constructor por medio de `__init__`\n",
    "\n",
    "```python\n",
    "class ClassName:\n",
    "    def __init__(self, p1, p2, .., pk):\n",
    "        self.p1 = p1\n",
    "        self.p2 = p2\n",
    "        ...\n",
    "        self.pk = pk \n",
    "```\n",
    "\n",
    "Donde:\n",
    "* `self` hace referencia al objeto en cuestión, i.e., a la instancia del objeto definido.\n",
    "* `p1, ..., pk` son los parámetros que le daremos al constructor\n",
    "* `self.p1, ..., self.pk` son atributos o funcionalidades que la instancia del objeto tendrá definida\n",
    "\n",
    "**Nota**:\n",
    "* `pi` es un elemento que no existe dentro de la clase \n",
    "* `self.pi` es un elemento de la clase\n",
    "\n",
    "Podemos pensar la diferencia entre `pi` y `self.pi` considerando la clase `Human` que estamos definiendo: `nombre` sería el nombre que el padre de un humano desea darle a su hijo. Cuando escribimos, dentro de la clase, `self.nombre = nombre` le asignamos al humano el nombre deseado."
   ]
  },
  {
   "cell_type": "code",
   "execution_count": 8,
   "metadata": {},
   "outputs": [],
   "source": [
    "class Human:\n",
    "    def __init__(self, name, last_name, age, gender):\n",
    "        self.name = name\n",
    "        self.last_name = last_name\n",
    "        self.age = age\n",
    "        self.gender = gender"
   ]
  },
  {
   "cell_type": "code",
   "execution_count": 9,
   "metadata": {},
   "outputs": [],
   "source": [
    "geof = Human(\"Geoffrey\", \"Hinton\", 70, \"male\")"
   ]
  },
  {
   "cell_type": "markdown",
   "metadata": {},
   "source": [
    "Al definir una nueva instancia de la clase, `geof` ahora tiene 4 atributos:"
   ]
  },
  {
   "cell_type": "code",
   "execution_count": 10,
   "metadata": {},
   "outputs": [
    {
     "data": {
      "text/plain": [
       "'Geoffrey'"
      ]
     },
     "execution_count": 10,
     "metadata": {},
     "output_type": "execute_result"
    }
   ],
   "source": [
    "geof.name"
   ]
  },
  {
   "cell_type": "code",
   "execution_count": 11,
   "metadata": {},
   "outputs": [
    {
     "data": {
      "text/plain": [
       "70"
      ]
     },
     "execution_count": 11,
     "metadata": {},
     "output_type": "execute_result"
    }
   ],
   "source": [
    "geof.age"
   ]
  },
  {
   "cell_type": "markdown",
   "metadata": {},
   "source": [
    "**NOTA**  \n",
    "El *constructor* de un método siempre es usado cuando definimos una nueva instancia de una clase. Al escribir, por ejemplo, \n",
    "```python\n",
    "algo = {\"name\": \"backprop\", \"utils\" = \"gradient\"}\n",
    "```\n",
    "Realmente, python *construye* nuestro diccionario de la siguiente manera:\n",
    "```python\n",
    "algo = dict(name=\"backprop\", utils=\"gradient\")\n",
    "```"
   ]
  },
  {
   "cell_type": "markdown",
   "metadata": {},
   "source": [
    "Como se explicó anteriormente, un objeto debe tener tanto atributos como funcionalidad. En el caso de un humano, una funcionalidad que podría tener es cumplir años. Para esto, podemos definir un nuevo **método** que modifique la edad de nuestro `Human`"
   ]
  },
  {
   "cell_type": "code",
   "execution_count": 12,
   "metadata": {},
   "outputs": [],
   "source": [
    "class Human:\n",
    "    def __init__(self, name, last_name, age, gender):\n",
    "        self.name = name\n",
    "        self.last_name = last_name\n",
    "        self.age = age\n",
    "        self.gender = gender\n",
    "    \n",
    "    def birthday(self):\n",
    "        self.age = self.age + 1"
   ]
  },
  {
   "cell_type": "code",
   "execution_count": 13,
   "metadata": {},
   "outputs": [
    {
     "data": {
      "text/plain": [
       "70"
      ]
     },
     "execution_count": 13,
     "metadata": {},
     "output_type": "execute_result"
    }
   ],
   "source": [
    "geof = Human(\"Geoffrey\", \"Hinton\", 70, \"male\")\n",
    "geof.age"
   ]
  },
  {
   "cell_type": "code",
   "execution_count": 14,
   "metadata": {},
   "outputs": [
    {
     "data": {
      "text/plain": [
       "71"
      ]
     },
     "execution_count": 14,
     "metadata": {},
     "output_type": "execute_result"
    }
   ],
   "source": [
    "# Geof cunple años\n",
    "geof.birthday()\n",
    "geof.age"
   ]
  },
  {
   "cell_type": "code",
   "execution_count": 15,
   "metadata": {},
   "outputs": [],
   "source": [
    "class Human:\n",
    "    def __init__(self, name, last_name, age, gender):\n",
    "        self.name = name\n",
    "        self.last_name = last_name\n",
    "        self.age = age\n",
    "        self.gender = gender\n",
    "    \n",
    "    def birthday(self):\n",
    "        self.age = self.age + 1\n",
    "    \n",
    "    def greeting(self):\n",
    "        print(f\"Hello, my name is {self.name} {self.last_name}. I am {self.age} years old\")"
   ]
  },
  {
   "cell_type": "code",
   "execution_count": 16,
   "metadata": {},
   "outputs": [],
   "source": [
    "class Animal:\n",
    "    def __init__(self, specie, can_fly):\n",
    "        self.specie = specie\n",
    "        self.can_fly = can_fly\n",
    "        self.is_exint = False\n",
    "    \n",
    "    def exint(self):\n",
    "        print(f\"The specie {self.specie} is exint!\")\n",
    "        self.is_exint = True"
   ]
  },
  {
   "cell_type": "markdown",
   "metadata": {},
   "source": [
    "### Métodos especiales\n",
    "`__dunders__`\n",
    "\n",
    "Adicional a `__init__`, python cuenta con [métodos especiales](https://docs.python.org/3/reference/datamodel.html#special-method-names) que nos permiten *enriquecer* la funcionalidad de nuestras clases permitiendonos ocupar funciones definidas en python.\n",
    "\n",
    "Cómo un ejemplo, consideremos la *representación* y la *longitud* de la clase `Human`"
   ]
  },
  {
   "cell_type": "code",
   "execution_count": 17,
   "metadata": {},
   "outputs": [
    {
     "data": {
      "text/plain": [
       "<__main__.Human at 0x10873da58>"
      ]
     },
     "execution_count": 17,
     "metadata": {},
     "output_type": "execute_result"
    }
   ],
   "source": [
    "geof = Human(\"Geoffrey\", \"Hinton\", 70, \"male\")\n",
    "demis = Human(\"Demis\", \"Hassabis\", 42, \"male\")\n",
    "geof"
   ]
  },
  {
   "cell_type": "code",
   "execution_count": 18,
   "metadata": {},
   "outputs": [
    {
     "ename": "TypeError",
     "evalue": "object of type 'Human' has no len()",
     "output_type": "error",
     "traceback": [
      "\u001b[0;31m---------------------------------------------------------------------------\u001b[0m",
      "\u001b[0;31mTypeError\u001b[0m                                 Traceback (most recent call last)",
      "\u001b[0;32m<ipython-input-18-e91d06d6cf88>\u001b[0m in \u001b[0;36m<module>\u001b[0;34m\u001b[0m\n\u001b[0;32m----> 1\u001b[0;31m \u001b[0mlen\u001b[0m\u001b[0;34m(\u001b[0m\u001b[0mgeof\u001b[0m\u001b[0;34m)\u001b[0m\u001b[0;34m\u001b[0m\u001b[0m\n\u001b[0m",
      "\u001b[0;31mTypeError\u001b[0m: object of type 'Human' has no len()"
     ]
    }
   ],
   "source": [
    "len(geof)"
   ]
  },
  {
   "cell_type": "code",
   "execution_count": 19,
   "metadata": {},
   "outputs": [
    {
     "ename": "TypeError",
     "evalue": "'<' not supported between instances of 'Human' and 'Human'",
     "output_type": "error",
     "traceback": [
      "\u001b[0;31m---------------------------------------------------------------------------\u001b[0m",
      "\u001b[0;31mTypeError\u001b[0m                                 Traceback (most recent call last)",
      "\u001b[0;32m<ipython-input-19-80f1e2829b8e>\u001b[0m in \u001b[0;36m<module>\u001b[0;34m\u001b[0m\n\u001b[0;32m----> 1\u001b[0;31m \u001b[0mgeof\u001b[0m \u001b[0;34m<\u001b[0m \u001b[0mdemis\u001b[0m\u001b[0;34m\u001b[0m\u001b[0m\n\u001b[0m",
      "\u001b[0;31mTypeError\u001b[0m: '<' not supported between instances of 'Human' and 'Human'"
     ]
    }
   ],
   "source": [
    "geof < demis"
   ]
  },
  {
   "cell_type": "markdown",
   "metadata": {},
   "source": [
    "1. La representación de `Human` no nos dice mucho sobre el objeto en cuestión \n",
    "2. No tenemos definido una *longitud* para un humano"
   ]
  },
  {
   "cell_type": "code",
   "execution_count": 1,
   "metadata": {},
   "outputs": [],
   "source": [
    "class Human:\n",
    "    def __init__(self, name, last_name, age, gender):\n",
    "        self.name = name\n",
    "        self.last_name = last_name\n",
    "        self.age = age\n",
    "        self.gender = gender\n",
    "    \n",
    "    def birthday(self):\n",
    "        self.age = self.age + 1\n",
    "    \n",
    "    # Cambiando la representación de la clase Human\n",
    "    def __repr__(self):\n",
    "        return f\"Human({self.last_name}, {self.name})\"\n",
    "    \n",
    "    # Definiendo que es la longitud de la clase Human\n",
    "    def __len__(self):\n",
    "        return self.age\n",
    "    \n",
    "    # Definiendo una relación de <\n",
    "    def __lt__(self, h2):\n",
    "        return self.age < h2.age"
   ]
  },
  {
   "cell_type": "code",
   "execution_count": 21,
   "metadata": {},
   "outputs": [
    {
     "data": {
      "text/plain": [
       "Human(Hinton, Geoffrey)"
      ]
     },
     "execution_count": 21,
     "metadata": {},
     "output_type": "execute_result"
    }
   ],
   "source": [
    "geof = Human(\"Geoffrey\", \"Hinton\", 70, \"male\")\n",
    "geof"
   ]
  },
  {
   "cell_type": "code",
   "execution_count": 22,
   "metadata": {},
   "outputs": [
    {
     "data": {
      "text/plain": [
       "70"
      ]
     },
     "execution_count": 22,
     "metadata": {},
     "output_type": "execute_result"
    }
   ],
   "source": [
    "len(geof)"
   ]
  },
  {
   "cell_type": "code",
   "execution_count": 23,
   "metadata": {},
   "outputs": [
    {
     "data": {
      "text/plain": [
       "False"
      ]
     },
     "execution_count": 23,
     "metadata": {},
     "output_type": "execute_result"
    }
   ],
   "source": [
    "geof < demis"
   ]
  },
  {
   "cell_type": "markdown",
   "metadata": {},
   "source": [
    "## Inheritance\n",
    "En el paradigma OOP existe la propiedad de *heredar*, la cuál nos permite definir una nueva clase considerando los elementos de una clase anterior.\n",
    "Definir una herencia en python es sencillo\n",
    "\n",
    "```python\n",
    "class NewClasss(BaseClass):\n",
    "    ...\n",
    "```"
   ]
  },
  {
   "cell_type": "code",
   "execution_count": 9,
   "metadata": {},
   "outputs": [],
   "source": [
    "class Student(Human):\n",
    "    def __init__(self, name, last_name, age, gender, major):\n",
    "        # Init. una instancia de humano\n",
    "        super().__init__(name, last_name, age, gender) # inicializamos el objeto\n",
    "        self.major = major\n",
    "    "
   ]
  },
  {
   "cell_type": "code",
   "execution_count": 10,
   "metadata": {},
   "outputs": [],
   "source": [
    "leonardo = Student(\"Leonardo\", \"Arredondo\", 18, \"male\", \"actuary\")"
   ]
  },
  {
   "cell_type": "code",
   "execution_count": 11,
   "metadata": {},
   "outputs": [
    {
     "data": {
      "text/plain": [
       "18"
      ]
     },
     "execution_count": 11,
     "metadata": {},
     "output_type": "execute_result"
    }
   ],
   "source": [
    "leonardo.age"
   ]
  },
  {
   "cell_type": "code",
   "execution_count": 12,
   "metadata": {},
   "outputs": [
    {
     "data": {
      "text/plain": [
       "19"
      ]
     },
     "execution_count": 12,
     "metadata": {},
     "output_type": "execute_result"
    }
   ],
   "source": [
    "leonardo.birthday()\n",
    "leonardo.age"
   ]
  },
  {
   "cell_type": "markdown",
   "metadata": {},
   "source": [
    "<h2 style=\"color:crimson\">Ejercicio</h2>\n",
    "\n",
    "1. Modifica la clase `Human` definiendo el método `greeting` que presente al `Human`. Por ejemplo, \n",
    "```python\n",
    ">>> geof = Human(\"Geoffrey\", \"Hinton\", 70, \"male\")\n",
    ">>> geof.greeting()\n",
    "Hello, my name is Geoffrey Hinton. I am 70 years old\n",
    "```\n",
    "----\n",
    "2. Crea una clase `Animal` que tome como valores del constructor una `specie` de tipo str y un valor `can_fly` de tipo booleano. Dentro del constructor, asigna el atributo`is_exint = False`; define el método `exint` que modifique el atributo `is_exint` a `True`\n",
    "----\n",
    "3. Defina la clase `Bird` que herede las propiedades de `Animal`, inicialice la propiedad `can_fly=True`y tenga el método `sing` que imprima en la pantalla `\"tweet\"`"
   ]
  }
 ],
 "metadata": {
  "kernelspec": {
   "display_name": "Python 3",
   "language": "python",
   "name": "python3"
  },
  "language_info": {
   "codemirror_mode": {
    "name": "ipython",
    "version": 3
   },
   "file_extension": ".py",
   "mimetype": "text/x-python",
   "name": "python",
   "nbconvert_exporter": "python",
   "pygments_lexer": "ipython3",
   "version": "3.6.8"
  }
 },
 "nbformat": 4,
 "nbformat_minor": 2
}
