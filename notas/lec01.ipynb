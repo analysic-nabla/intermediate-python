{
 "cells": [
  {
   "cell_type": "markdown",
   "metadata": {},
   "source": [
    "![logo](../files/misc/logo.png)\n",
    "<h1 style=\"color:#872325\">Librerías y Entornos Virtuales</h1>"
   ]
  },
  {
   "cell_type": "markdown",
   "metadata": {},
   "source": [
    "## Instalando librerías"
   ]
  },
  {
   "cell_type": "markdown",
   "metadata": {},
   "source": [
    "En la primera parte del curso vimos como instalar Python y varias librerías por medio de [Anaconda](https://www.anaconda.com/). En esta segunda parte del curso veremos como instalar nuevas librerías que no se hayan encontrado al momento de instalar Anaconda."
   ]
  },
  {
   "cell_type": "markdown",
   "metadata": {},
   "source": [
    "* Para Python no existe diferencia conceptual entre una _librería_ y un _paquete_."
   ]
  },
  {
   "cell_type": "markdown",
   "metadata": {},
   "source": [
    "### PIP\n",
    "`pip` es el instalador de liberías para Python. `pip` es usado para instalar librerías que se encuentren dentro [PyPI](https://pypi.org/) (_Python Pacakge Index_), un repositorio de código para Python."
   ]
  },
  {
   "cell_type": "code",
   "execution_count": 1,
   "metadata": {},
   "outputs": [
    {
     "name": "stdout",
     "output_type": "stream",
     "text": [
      "\r\n",
      "Usage:   \r\n",
      "  pip <command> [options]\r\n",
      "\r\n",
      "Commands:\r\n",
      "  install                     Install packages.\r\n",
      "  download                    Download packages.\r\n",
      "  uninstall                   Uninstall packages.\r\n",
      "  freeze                      Output installed packages in requirements format.\r\n",
      "  list                        List installed packages.\r\n",
      "  show                        Show information about installed packages.\r\n",
      "  check                       Verify installed packages have compatible dependencies.\r\n",
      "  config                      Manage local and global configuration.\r\n",
      "  search                      Search PyPI for packages.\r\n",
      "  wheel                       Build wheels from your requirements.\r\n",
      "  hash                        Compute hashes of package archives.\r\n",
      "  completion                  A helper command used for command completion.\r\n",
      "  help                        Show help for commands.\r\n",
      "\r\n",
      "General Options:\r\n",
      "  -h, --help                  Show help.\r\n",
      "  --isolated                  Run pip in an isolated mode, ignoring\r\n",
      "                              environment variables and user configuration.\r\n",
      "  -v, --verbose               Give more output. Option is additive, and can be\r\n",
      "                              used up to 3 times.\r\n",
      "  -V, --version               Show version and exit.\r\n",
      "  -q, --quiet                 Give less output. Option is additive, and can be\r\n",
      "                              used up to 3 times (corresponding to WARNING,\r\n",
      "                              ERROR, and CRITICAL logging levels).\r\n",
      "  --log <path>                Path to a verbose appending log.\r\n",
      "  --proxy <proxy>             Specify a proxy in the form\r\n",
      "                              [user:passwd@]proxy.server:port.\r\n",
      "  --retries <retries>         Maximum number of retries each connection should\r\n",
      "                              attempt (default 5 times).\r\n",
      "  --timeout <sec>             Set the socket timeout (default 15 seconds).\r\n",
      "  --exists-action <action>    Default action when a path already exists:\r\n",
      "                              (s)witch, (i)gnore, (w)ipe, (b)ackup, (a)bort).\r\n",
      "  --trusted-host <hostname>   Mark this host as trusted, even though it does\r\n",
      "                              not have valid or any HTTPS.\r\n",
      "  --cert <path>               Path to alternate CA bundle.\r\n",
      "  --client-cert <path>        Path to SSL client certificate, a single file\r\n",
      "                              containing the private key and the certificate\r\n",
      "                              in PEM format.\r\n",
      "  --cache-dir <dir>           Store the cache data in <dir>.\r\n",
      "  --no-cache-dir              Disable the cache.\r\n",
      "  --disable-pip-version-check\r\n",
      "                              Don't periodically check PyPI to determine\r\n",
      "                              whether a new version of pip is available for\r\n",
      "                              download. Implied with --no-index.\r\n",
      "  --no-color                  Suppress colored output\r\n"
     ]
    }
   ],
   "source": [
    "!pip"
   ]
  },
  {
   "cell_type": "markdown",
   "metadata": {},
   "source": [
    "Para instalar un paquete por medio de `pip`, hacemos uso del comando\n",
    "\n",
    "```\n",
    "    pip install pkg_name\n",
    "```\n",
    "\n",
    "Dónde `pkg_name` es el nombre de la librería a instalar"
   ]
  },
  {
   "cell_type": "code",
   "execution_count": 2,
   "metadata": {},
   "outputs": [
    {
     "data": {
      "text/html": [
       "<script id=\"asciicast-ht7DeOoItTTTV50UKLQFoFwdP\"\n",
       "        src=\"https://asciinema.org/a/ht7DeOoItTTTV50UKLQFoFwdP.js\" async\n",
       "        data-autoplay=\"true\" data-speed=1 data-loop=1></script>\n"
      ],
      "text/plain": [
       "<IPython.core.display.HTML object>"
      ]
     },
     "metadata": {},
     "output_type": "display_data"
    }
   ],
   "source": [
    "%%html\n",
    "<script id=\"asciicast-ht7DeOoItTTTV50UKLQFoFwdP\"\n",
    "        src=\"https://asciinema.org/a/ht7DeOoItTTTV50UKLQFoFwdP.js\" async\n",
    "        data-autoplay=\"true\" data-speed=1 data-loop=1></script>"
   ]
  },
  {
   "cell_type": "markdown",
   "metadata": {},
   "source": [
    "Para ver los paquetes que tenemos instalados por medio de `pip`, hacemos uso del comando\n",
    "\n",
    "```\n",
    "pip freeze\n",
    "```"
   ]
  },
  {
   "cell_type": "code",
   "execution_count": 3,
   "metadata": {},
   "outputs": [
    {
     "name": "stdout",
     "output_type": "stream",
     "text": [
      "absl-py==0.7.0\r\n",
      "alabaster==0.7.12\r\n",
      "alembic==1.0.7\r\n",
      "alpha-vantage==2.1.0\r\n",
      "altair==2.2.2\r\n",
      "anaconda-client==1.7.2\r\n",
      "anaconda-navigator==1.9.6\r\n",
      "anaconda-project==0.8.2\r\n",
      "appdirs==1.4.3\r\n",
      "appnope==0.1.0\r\n"
     ]
    }
   ],
   "source": [
    "# Primeros diez elementos instalados\n",
    "!pip freeze | head -n 10"
   ]
  },
  {
   "cell_type": "markdown",
   "metadata": {},
   "source": [
    "Para **actualizar** una librería, hacemos uso del comando:\n",
    "\n",
    "```\n",
    "pip install -U pkg_name\n",
    "```\n",
    "\n",
    "donde `pkg_name` es el nombre de la librería a actualizar"
   ]
  },
  {
   "cell_type": "markdown",
   "metadata": {},
   "source": [
    "### conda\n",
    "A diferencia de `pip`, `conda` es un administrador de _entornos_ y _librerías_ para cualquier lenguaje. `conda` viene incluído al descargar Anaconda."
   ]
  },
  {
   "cell_type": "markdown",
   "metadata": {},
   "source": [
    "Para descargar una librería usando `conda`, hacemos uso del comando \n",
    "\n",
    "```\n",
    "conda install pkg_name\n",
    "```"
   ]
  },
  {
   "cell_type": "markdown",
   "metadata": {},
   "source": [
    "De querer actualizar una librería dentro de conda hacemos uso del comando\n",
    "\n",
    "```\n",
    "conda update pkg_name\n",
    "```"
   ]
  },
  {
   "cell_type": "markdown",
   "metadata": {},
   "source": [
    "De querer actualizar todas las librerías, hacemos uso del comando\n",
    "\n",
    "```\n",
    "conda update --all\n",
    "```\n"
   ]
  },
  {
   "cell_type": "markdown",
   "metadata": {},
   "source": [
    "### ¿`pip` o `conda`?"
   ]
  },
  {
   "cell_type": "markdown",
   "metadata": {},
   "source": [
    "`pip` fue diseñado para instalar librerías de python exclusivamente. En ocasiones, dichas librerías dependen de otros lenguajes de programación externos a Python para que puedan correr.\n",
    "\n",
    "Librerías como `tensorflow`, por ejemplo, depende del lenguaje `C++` para poder corer cálculos. Aunque es posible instalarlo por medio de `pip`, instalarlo por medio de `pip install tensorflow` no garantiza que la librería cargue.\n",
    "\n",
    "`conda` fue creado para lidiar con este problema."
   ]
  },
  {
   "cell_type": "markdown",
   "metadata": {},
   "source": [
    "## ¿En dónde viven las librerías dentro de Python?\n",
    "\n",
    "Durante el curso anterior, estuvimos viendo la manera de trabajar con pequeños bloques de código escritos en python. En el día a día no trabajamos con pequeños bloques de código los cuáles realizan alguna pequeña tarea, trabajamos con una base de código la cuál crece día a día y está designada a completar un **proyecto**.\n",
    "\n",
    "Comúnmente un proyecto, y el código que lo mantiene, es ocupado por más de una persona. ¿De qué manera podemos trabajar en un proyecto y estar seguros que el código correrá?"
   ]
  },
  {
   "cell_type": "markdown",
   "metadata": {},
   "source": [
    "Consideremos el siguiente programa:\n",
    "\n",
    "```python\n",
    "import pandas as pd\n",
    "pd.read_pickle(\"./files/lec01/fx.pkl\").head()\n",
    "```"
   ]
  },
  {
   "cell_type": "markdown",
   "metadata": {},
   "source": [
    "## Computadora 1\n",
    "![lec01](../files/lec01/screen1.png)"
   ]
  },
  {
   "cell_type": "markdown",
   "metadata": {},
   "source": [
    "## Computadora 2\n",
    "![lec01](../files/lec01/screen2.png)"
   ]
  },
  {
   "cell_type": "markdown",
   "metadata": {},
   "source": [
    "Corriendo el mismo programa se rompe el código en una computadora y en otra no. ¿A qué se debe esto?\n",
    "\n",
    "Las _versiones_ de librerías de python, e incluso la versión de python con la que trabajemos puede ocasionar que nuestro código se rompa si trabajamos con el código que escribimos en una computadora diferente.\n",
    "\n",
    "**Las versiones de python y de las librerías que utilicemos son muy importantes para garantizar el funcionamiento de nuestro código en cualquier computadora**"
   ]
  },
  {
   "cell_type": "markdown",
   "metadata": {},
   "source": [
    "Python instala los paquetes que hayamos descargado dentro del directorio `site-packages`"
   ]
  },
  {
   "cell_type": "code",
   "execution_count": 4,
   "metadata": {},
   "outputs": [
    {
     "data": {
      "text/plain": [
       "['/Users/gerardoduran/anaconda/lib/python3.6/site-packages']"
      ]
     },
     "execution_count": 4,
     "metadata": {},
     "output_type": "execute_result"
    }
   ],
   "source": [
    "import site\n",
    "site.getsitepackages()"
   ]
  },
  {
   "cell_type": "markdown",
   "metadata": {},
   "source": [
    "Cuando importamos una librería, python busca el paquete dentro del directorio `site-packages` para posteriormente cargarlo en la memoria.\n",
    "\n",
    "Los siguientes comandos nos muestran los primeros dos _niveles_ del directorio `site-packages`"
   ]
  },
  {
   "cell_type": "code",
   "execution_count": 5,
   "metadata": {
    "scrolled": false
   },
   "outputs": [
    {
     "name": "stdout",
     "output_type": "stream",
     "text": [
      "/Users/gerardoduran/anaconda/lib/python3.6/site-packages\r\n",
      "├── Automat-0.7.0-py3.6.egg-info\r\n",
      "│   ├── PKG-INFO\r\n",
      "│   ├── SOURCES.txt\r\n",
      "│   ├── dependency_links.txt\r\n",
      "│   ├── entry_points.txt\r\n",
      "│   ├── requires.txt\r\n",
      "│   └── top_level.txt\r\n",
      "├── Babel-2.6.0-py3.6.egg-info\r\n",
      "│   ├── PKG-INFO\r\n",
      "│   ├── SOURCES.txt\r\n",
      "│   ├── dependency_links.txt\r\n",
      "│   ├── entry_points.txt\r\n",
      "│   ├── not-zip-safe\r\n",
      "│   ├── requires.txt\r\n",
      "│   └── top_level.txt\r\n",
      "├── Bottleneck-1.2.1-py3.6.egg-info\r\n",
      "│   ├── PKG-INFO\r\n",
      "│   ├── SOURCES.txt\r\n",
      "│   ├── dependency_links.txt\r\n"
     ]
    }
   ],
   "source": [
    "!tree /Users/gerardoduran/anaconda/lib/python3.6/site-packages -L 2 | head -n 20"
   ]
  },
  {
   "cell_type": "markdown",
   "metadata": {},
   "source": [
    "Al tener un proyecto que deseemos desarrollar, muy probablemente este dependa de otras librerías que tengamos que instalar. Si instalamos paquete tras paquete y perdemos rastro de cuáles dependen de nuestros proyectos,\n",
    "* ¿Cómo sabríamos que paquetes únicamente necesarios para nuestros proyectos?\n",
    "* ¿Qué sucede si dos proyectos requiren dos versiones diferentes de un mismo proyecto?"
   ]
  },
  {
   "cell_type": "code",
   "execution_count": 6,
   "metadata": {},
   "outputs": [
    {
     "name": "stdout",
     "output_type": "stream",
     "text": [
      "Dentro del 'site-packages' actual hay 803 paquetes\n"
     ]
    }
   ],
   "source": [
    "import os\n",
    "n_packages = len(os.listdir(\"/Users/gerardoduran/anaconda/lib/python3.6/site-packages\"))\n",
    "print(f\"Dentro del 'site-packages' actual hay {n_packages} paquetes\")"
   ]
  },
  {
   "cell_type": "markdown",
   "metadata": {},
   "source": [
    "## Virtual Environments al rescate\n",
    "(Entorno virtual)"
   ]
  },
  {
   "cell_type": "markdown",
   "metadata": {},
   "source": [
    "Para solucionar las cuestiones planteadas arriba, podemos hacer uso de un **virtual environment** o _venv_.\n",
    "\n",
    "Un _venv_ es\n",
    "> Un árbol de directorios autocontenido que contiene una instalación de Python para una versión específica, adicional de  un número de paquetes adicionales"
   ]
  },
  {
   "cell_type": "markdown",
   "metadata": {},
   "source": [
    "Aunque Python cuenta con su propia manera de usar virtual environments, en este curso estaremos trabajando con los _venv_s proporcionados por `conda`. "
   ]
  },
  {
   "cell_type": "markdown",
   "metadata": {},
   "source": [
    "Para crear un nuevo entorno usando `conda` usamos el comando dentro de la línea de comandos:\n",
    "\n",
    "```bash\n",
    "conda create --name name_of_venv\n",
    "```"
   ]
  },
  {
   "cell_type": "code",
   "execution_count": 7,
   "metadata": {},
   "outputs": [
    {
     "data": {
      "text/html": [
       "<script id=\"asciicast-F5PQNQAmrw25CnWQ7eyT2131k\"\n",
       "        src=\"https://asciinema.org/a/F5PQNQAmrw25CnWQ7eyT2131k.js\" async\n",
       "        data-autoplay=\"true\" data-speed=1 data-loop=1></script>\n"
      ],
      "text/plain": [
       "<IPython.core.display.HTML object>"
      ]
     },
     "metadata": {},
     "output_type": "display_data"
    }
   ],
   "source": [
    "%%html\n",
    "<script id=\"asciicast-F5PQNQAmrw25CnWQ7eyT2131k\"\n",
    "        src=\"https://asciinema.org/a/F5PQNQAmrw25CnWQ7eyT2131k.js\" async\n",
    "        data-autoplay=\"true\" data-speed=1 data-loop=1></script>"
   ]
  },
  {
   "cell_type": "markdown",
   "metadata": {},
   "source": [
    "Podemos acceder a todos los entornos que hemos creado con conda por medio del comando\n",
    "\n",
    "```bash\n",
    "conda env list\n",
    "```"
   ]
  },
  {
   "cell_type": "code",
   "execution_count": 8,
   "metadata": {},
   "outputs": [
    {
     "name": "stdout",
     "output_type": "stream",
     "text": [
      "# conda environments:\r\n",
      "#\r\n",
      "base                  *  /Users/gerardoduran/anaconda\r\n",
      "dashenv                  /Users/gerardoduran/anaconda/envs/dashenv\r\n",
      "intermediate-python      /Users/gerardoduran/anaconda/envs/intermediate-python\r\n",
      "real-state-models        /Users/gerardoduran/anaconda/envs/real-state-models\r\n",
      "relative-value           /Users/gerardoduran/anaconda/envs/relative-value\r\n",
      "zipline                  /Users/gerardoduran/anaconda/envs/zipline\r\n",
      "\r\n"
     ]
    }
   ],
   "source": [
    "!conda env list"
   ]
  },
  {
   "cell_type": "markdown",
   "metadata": {},
   "source": [
    "Una vez activado el entorno, instalando _librerías_ por medio de conda las instalará ahora dentro de nuestro entorno. En el siguiente ejemplo, instalaremos Python 3.7 dentro del enorno `intermediate-python` "
   ]
  },
  {
   "cell_type": "code",
   "execution_count": 9,
   "metadata": {},
   "outputs": [
    {
     "data": {
      "text/html": [
       "<script id=\"asciicast-NIMsBj1WdvhRWkvflPoqwMeNw\"\n",
       "        src=\"https://asciinema.org/a/NIMsBj1WdvhRWkvflPoqwMeNw.js\" async\n",
       "    data-autoplay=\"true\" data-speed=1 data-loop=1></script>\n"
      ],
      "text/plain": [
       "<IPython.core.display.HTML object>"
      ]
     },
     "metadata": {},
     "output_type": "display_data"
    }
   ],
   "source": [
    "%%html\n",
    "<script id=\"asciicast-NIMsBj1WdvhRWkvflPoqwMeNw\"\n",
    "        src=\"https://asciinema.org/a/NIMsBj1WdvhRWkvflPoqwMeNw.js\" async\n",
    "    data-autoplay=\"true\" data-speed=1 data-loop=1></script>"
   ]
  },
  {
   "cell_type": "markdown",
   "metadata": {},
   "source": [
    "Si deseamos juntar estos dos últimos pasos: crear un nuevo entorno e instalar un paquete dentro de este podemos hacerlo mediate el comando\n",
    "\n",
    "```bash\n",
    "conda create --name intermediate-python python=3.7\n",
    "```"
   ]
  },
  {
   "cell_type": "markdown",
   "metadata": {},
   "source": [
    "De igual manera, al instalar paquetes dentro de un entorno por medio de `pip`, estos serán instalados dentro del entorno dentro del cuál nos encontramos"
   ]
  },
  {
   "cell_type": "markdown",
   "metadata": {},
   "source": [
    "<h2 style=\"color:crimson\">Ejercicios</h2>\n",
    "\n",
    "1. Crea un nuevo environment de nombre `first-python` e instala la primera versión de python\n",
    "----\n",
    "2. "
   ]
  },
  {
   "cell_type": "markdown",
   "metadata": {},
   "source": [
    "## Referencias\n",
    "1. https://docs.python.org/3/tutorial/venv.html\n",
    "2. https://conda.io/projects/conda/en/latest/user-guide/tasks/manage-environments.html\n",
    "3. https://jakevdp.github.io/blog/2016/08/25/conda-myths-and-misconceptions/\n",
    "4. https://conda.io/en/latest/"
   ]
  }
 ],
 "metadata": {
  "kernelspec": {
   "display_name": "Python 3",
   "language": "python",
   "name": "python3"
  },
  "language_info": {
   "codemirror_mode": {
    "name": "ipython",
    "version": 3
   },
   "file_extension": ".py",
   "mimetype": "text/x-python",
   "name": "python",
   "nbconvert_exporter": "python",
   "pygments_lexer": "ipython3",
   "version": "3.6.8"
  }
 },
 "nbformat": 4,
 "nbformat_minor": 2
}
