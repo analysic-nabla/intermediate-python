{
 "cells": [
  {
   "cell_type": "markdown",
   "metadata": {},
   "source": [
    "![logo](../files/misc/logo.png)\n",
    "\n",
    "# Packages and Virtual Environments"
   ]
  },
  {
   "cell_type": "markdown",
   "metadata": {},
   "source": [
    "## Instalando paquetes"
   ]
  },
  {
   "cell_type": "code",
   "execution_count": null,
   "metadata": {},
   "outputs": [],
   "source": []
  },
  {
   "cell_type": "markdown",
   "metadata": {},
   "source": [
    "## ¿En dónde viven las librerías dentro de Python?\n",
    "\n",
    "Durante el curso anterior, estuvimos viendo la manera de trabajar con pequeños bloques de código escritos en python. En el día a día no trabajamos con pequeños bloques de código los cuáles realizan alguna pequeña tarea, trabajamos con una base de código la cuál crece día a día y está designada a completar un **proyecto**.\n",
    "\n",
    "Comúnmente un proyecto, y el código que lo mantiene, es ocupado por más de una persona. ¿De qué manera podemos trabajar en un proyecto y estar seguros que el código correrá?"
   ]
  },
  {
   "cell_type": "markdown",
   "metadata": {},
   "source": [
    "Consideremos el siguiente programa:\n",
    "\n",
    "```python\n",
    "import pandas as pd\n",
    "pd.read_pickle(\"./files/lec01/fx.pkl\").head()\n",
    "```"
   ]
  },
  {
   "cell_type": "markdown",
   "metadata": {},
   "source": [
    "## Computadora 1\n",
    "![lec01](../files/lec01/screen1.png)"
   ]
  },
  {
   "cell_type": "markdown",
   "metadata": {},
   "source": [
    "## Computadora 2\n",
    "![lec01](../files/lec01/screen2.png)"
   ]
  },
  {
   "cell_type": "markdown",
   "metadata": {},
   "source": [
    "Corriendo el mismo programa se rompe el código en una computadora y en otra no. ¿A qué se debe esto?\n",
    "\n",
    "Las _versiones_ de librerías de python, e incluso la versión de python con la que trabajemos puede ocasionar que nuestro código se rompa si trabajamos con el código que escribimos en una computadora diferente.\n",
    "\n",
    "**Las versiones de python y de las librerías que utilicemos son muy importantes para garantizar el funcionamiento de nuestro código en cualquier computadora**"
   ]
  },
  {
   "cell_type": "markdown",
   "metadata": {},
   "source": [
    "Python instala los paquetes que hayamos descargado dentro del directorio `site-packages`"
   ]
  },
  {
   "cell_type": "code",
   "execution_count": 2,
   "metadata": {},
   "outputs": [
    {
     "data": {
      "text/plain": [
       "['/Users/gerardoduran/anaconda/lib/python3.6/site-packages']"
      ]
     },
     "execution_count": 2,
     "metadata": {},
     "output_type": "execute_result"
    }
   ],
   "source": [
    "import site\n",
    "site.getsitepackages()"
   ]
  },
  {
   "cell_type": "markdown",
   "metadata": {},
   "source": [
    "Cuando importamos una librería, python busca el paquete dentro del directorio `site-packages` para posteriormente cargarlo en la memoria.\n",
    "\n",
    "Los siguientes comandos nos muestran los primeros dos _niveles_ del directorio `site-packages`"
   ]
  },
  {
   "cell_type": "code",
   "execution_count": 6,
   "metadata": {
    "scrolled": false
   },
   "outputs": [
    {
     "name": "stdout",
     "output_type": "stream",
     "text": [
      "/Users/gerardoduran/anaconda/lib/python3.6/site-packages\r\n",
      "├── Automat-0.7.0-py3.6.egg-info\r\n",
      "│   ├── PKG-INFO\r\n",
      "│   ├── SOURCES.txt\r\n",
      "│   ├── dependency_links.txt\r\n",
      "│   ├── entry_points.txt\r\n",
      "│   ├── requires.txt\r\n",
      "│   └── top_level.txt\r\n",
      "├── Babel-2.6.0-py3.6.egg-info\r\n",
      "│   ├── PKG-INFO\r\n",
      "│   ├── SOURCES.txt\r\n",
      "│   ├── dependency_links.txt\r\n",
      "│   ├── entry_points.txt\r\n",
      "│   ├── not-zip-safe\r\n",
      "│   ├── requires.txt\r\n",
      "│   └── top_level.txt\r\n",
      "├── Bottleneck-1.2.1-py3.6.egg-info\r\n",
      "│   ├── PKG-INFO\r\n",
      "│   ├── SOURCES.txt\r\n",
      "│   ├── dependency_links.txt\r\n"
     ]
    }
   ],
   "source": [
    "!tree /Users/gerardoduran/anaconda/lib/python3.6/site-packages -L 2 | head -n 20"
   ]
  },
  {
   "cell_type": "markdown",
   "metadata": {},
   "source": [
    "Al tener un proyecto que deseemos desarrollar, muy probablemente este dependa de otras librerías que tengamos que instalar. Si instalamos paquete tras paquete y perdemos rastro de cuáles dependen de nuestros proyectos,\n",
    "* ¿Cómo sabríamos que paquetes únicamente necesarios para nuestros proyectos?\n",
    "* ¿Qué sucede si dos proyectos requiren dos versiones diferentes de un mismo proyecto?"
   ]
  },
  {
   "cell_type": "code",
   "execution_count": 13,
   "metadata": {},
   "outputs": [
    {
     "name": "stdout",
     "output_type": "stream",
     "text": [
      "Dentro del 'site-packages' actual hay 800 paquetes\n"
     ]
    }
   ],
   "source": [
    "import os\n",
    "n_packages = len(os.listdir(\"/Users/gerardoduran/anaconda/lib/python3.6/site-packages\"))\n",
    "print(f\"Dentro del 'site-packages' actual hay {n_packages} paquetes\")"
   ]
  },
  {
   "cell_type": "markdown",
   "metadata": {},
   "source": [
    "## Virtual Environments al rescate"
   ]
  },
  {
   "cell_type": "markdown",
   "metadata": {},
   "source": [
    "Para solucionar las cuestiones planteadas arriba, podemos hacer uso de un **virtual environment** o _venv_.\n",
    "\n",
    "Un _venv_ es\n",
    "> Un árbol de directorios autocontenido que contiene una instalación de Python para una versión específica, adicional de  un número de paquetes adicionales"
   ]
  },
  {
   "cell_type": "markdown",
   "metadata": {},
   "source": [
    "Aunque Python cuenta con su propia manera de usar virtual environments, en este curso estaremos trabajando con los _venv_s proporcionados por `conda`. "
   ]
  },
  {
   "cell_type": "markdown",
   "metadata": {},
   "source": [
    "## Referencias\n",
    "1. https://docs.python.org/3/tutorial/venv.html\n",
    "2. https://conda.io/projects/conda/en/latest/user-guide/tasks/manage-environments.html\n",
    "3. https://jakevdp.github.io/blog/2016/08/25/conda-myths-and-misconceptions/"
   ]
  }
 ],
 "metadata": {
  "kernelspec": {
   "display_name": "Python 3",
   "language": "python",
   "name": "python3"
  },
  "language_info": {
   "codemirror_mode": {
    "name": "ipython",
    "version": 3
   },
   "file_extension": ".py",
   "mimetype": "text/x-python",
   "name": "python",
   "nbconvert_exporter": "python",
   "pygments_lexer": "ipython3",
   "version": "3.6.8"
  }
 },
 "nbformat": 4,
 "nbformat_minor": 2
}
