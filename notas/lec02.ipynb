{
 "cells": [
  {
   "cell_type": "markdown",
   "metadata": {},
   "source": [
    "![logo](../files/misc/logo.png)\n",
    "<h1 style=\"color:#872325\">Depuración y Excepciones</h1>"
   ]
  },
  {
   "cell_type": "markdown",
   "metadata": {},
   "source": [
    "En ocasiones, el código que escribimos cuenta con errores que nos impiden continuar con el desarrollo de nuestro programa. A grades rasgos, podemos decir que existen tres tipos principales de *errores* con los cuales nos podemos topar:\n",
    "\n",
    "* **Syntax Error**\n",
    "* **Sematic Errors**\n",
    "* **Logical Errors** "
   ]
  },
  {
   "cell_type": "markdown",
   "metadata": {},
   "source": [
    "## Syntax Error\n",
    "\n",
    "* Un error de sintaxis occure cuando python detecta una expresión que viola la manera de escribir código dentro de python. \n",
    "* Al correr un programa con un *syntax error*, python nos indica en qué parte del código se encuentra el código inválido"
   ]
  },
  {
   "cell_type": "code",
   "execution_count": 1,
   "metadata": {},
   "outputs": [
    {
     "ename": "SyntaxError",
     "evalue": "invalid syntax (<ipython-input-1-4ce0fa08ff1c>, line 4)",
     "output_type": "error",
     "traceback": [
      "\u001b[0;36m  File \u001b[0;32m\"<ipython-input-1-4ce0fa08ff1c>\"\u001b[0;36m, line \u001b[0;32m4\u001b[0m\n\u001b[0;31m    def suma2(a)\u001b[0m\n\u001b[0m                ^\u001b[0m\n\u001b[0;31mSyntaxError\u001b[0m\u001b[0;31m:\u001b[0m invalid syntax\n"
     ]
    }
   ],
   "source": [
    "# Error: \n",
    "#    omitimos dos puntos después de la definición de la función\n",
    "#    un punto fuera de lugar depues de 'return'\n",
    "def suma2(a)\n",
    "    return. a + 2"
   ]
  },
  {
   "cell_type": "code",
   "execution_count": 2,
   "metadata": {},
   "outputs": [
    {
     "ename": "SyntaxError",
     "evalue": "invalid syntax (<ipython-input-2-eb6f74767a7e>, line 2)",
     "output_type": "error",
     "traceback": [
      "\u001b[0;36m  File \u001b[0;32m\"<ipython-input-2-eb6f74767a7e>\"\u001b[0;36m, line \u001b[0;32m2\u001b[0m\n\u001b[0;31m    (1 / 2) + 2)\u001b[0m\n\u001b[0m               ^\u001b[0m\n\u001b[0;31mSyntaxError\u001b[0m\u001b[0;31m:\u001b[0m invalid syntax\n"
     ]
    }
   ],
   "source": [
    "# Error: Olvidamos abrir un paréntesis\n",
    "(1 / 2) + 2)"
   ]
  },
  {
   "cell_type": "code",
   "execution_count": 3,
   "metadata": {},
   "outputs": [
    {
     "ename": "SyntaxError",
     "evalue": "invalid syntax (<ipython-input-3-63681a88bd67>, line 1)",
     "output_type": "error",
     "traceback": [
      "\u001b[0;36m  File \u001b[0;32m\"<ipython-input-3-63681a88bd67>\"\u001b[0;36m, line \u001b[0;32m1\u001b[0m\n\u001b[0;31m    5f = \"f\" * 5\u001b[0m\n\u001b[0m     ^\u001b[0m\n\u001b[0;31mSyntaxError\u001b[0m\u001b[0;31m:\u001b[0m invalid syntax\n"
     ]
    }
   ],
   "source": [
    "5f = \"f\" * 5"
   ]
  },
  {
   "cell_type": "markdown",
   "metadata": {},
   "source": [
    "No considerar una sangría se considera un error de sintaxis."
   ]
  },
  {
   "cell_type": "code",
   "execution_count": 4,
   "metadata": {},
   "outputs": [
    {
     "ename": "IndentationError",
     "evalue": "expected an indented block (<ipython-input-4-9dc74d382760>, line 2)",
     "output_type": "error",
     "traceback": [
      "\u001b[0;36m  File \u001b[0;32m\"<ipython-input-4-9dc74d382760>\"\u001b[0;36m, line \u001b[0;32m2\u001b[0m\n\u001b[0;31m    print(i, sep=\" \")\u001b[0m\n\u001b[0m        ^\u001b[0m\n\u001b[0;31mIndentationError\u001b[0m\u001b[0;31m:\u001b[0m expected an indented block\n"
     ]
    }
   ],
   "source": [
    "for i in range(10):\n",
    "print(i, sep=\" \")"
   ]
  },
  {
   "cell_type": "code",
   "execution_count": 5,
   "metadata": {},
   "outputs": [
    {
     "data": {
      "text/plain": [
       "True"
      ]
     },
     "execution_count": 5,
     "metadata": {},
     "output_type": "execute_result"
    }
   ],
   "source": [
    "# Validamos que un error de sangría pertenzca a un error de sintáxis\n",
    "issubclass(IndentationError, SyntaxError)"
   ]
  },
  {
   "cell_type": "markdown",
   "metadata": {},
   "source": [
    "## Semantic Error\n",
    "Un error semántico occure cuando la sintáxis de un programa es correcto, pero el resultado del programa arroja un error dado un uso incorrecto de alguna función u operación."
   ]
  },
  {
   "cell_type": "code",
   "execution_count": 6,
   "metadata": {},
   "outputs": [],
   "source": [
    "def power(a, b):\n",
    "    return a ** b"
   ]
  },
  {
   "cell_type": "code",
   "execution_count": 7,
   "metadata": {},
   "outputs": [
    {
     "ename": "TypeError",
     "evalue": "unsupported operand type(s) for ** or pow(): 'int' and 'str'",
     "output_type": "error",
     "traceback": [
      "\u001b[0;31m---------------------------------------------------------------------------\u001b[0m",
      "\u001b[0;31mTypeError\u001b[0m                                 Traceback (most recent call last)",
      "\u001b[0;32m<ipython-input-7-d6b91e06519a>\u001b[0m in \u001b[0;36m<module>\u001b[0;34m\u001b[0m\n\u001b[0;32m----> 1\u001b[0;31m \u001b[0mpower\u001b[0m\u001b[0;34m(\u001b[0m\u001b[0;36m3\u001b[0m\u001b[0;34m,\u001b[0m \u001b[0;34m\"a\"\u001b[0m\u001b[0;34m)\u001b[0m\u001b[0;34m\u001b[0m\u001b[0;34m\u001b[0m\u001b[0m\n\u001b[0m",
      "\u001b[0;32m<ipython-input-6-6b8c6f114cdc>\u001b[0m in \u001b[0;36mpower\u001b[0;34m(a, b)\u001b[0m\n\u001b[1;32m      1\u001b[0m \u001b[0;32mdef\u001b[0m \u001b[0mpower\u001b[0m\u001b[0;34m(\u001b[0m\u001b[0ma\u001b[0m\u001b[0;34m,\u001b[0m \u001b[0mb\u001b[0m\u001b[0;34m)\u001b[0m\u001b[0;34m:\u001b[0m\u001b[0;34m\u001b[0m\u001b[0;34m\u001b[0m\u001b[0m\n\u001b[0;32m----> 2\u001b[0;31m     \u001b[0;32mreturn\u001b[0m \u001b[0ma\u001b[0m \u001b[0;34m**\u001b[0m \u001b[0mb\u001b[0m\u001b[0;34m\u001b[0m\u001b[0;34m\u001b[0m\u001b[0m\n\u001b[0m",
      "\u001b[0;31mTypeError\u001b[0m: unsupported operand type(s) for ** or pow(): 'int' and 'str'"
     ]
    }
   ],
   "source": [
    "power(3, \"a\")"
   ]
  },
  {
   "cell_type": "markdown",
   "metadata": {},
   "source": [
    "En el ejemplo anterior, la definición de nuestra función es correcta. Sin embargo, al tratar de evaluar `power(3, \"a\"`), nuestro programa trata de elevar `3` al string `\"a\"`, lo cuál no tiene sentido. Por lo que nos arroja una *excepción* en el código.\n",
    "\n",
    "En python, cualquier error que detenga un programa se conoce como una **excepción**."
   ]
  },
  {
   "cell_type": "code",
   "execution_count": 8,
   "metadata": {},
   "outputs": [
    {
     "data": {
      "text/plain": [
       "True"
      ]
     },
     "execution_count": 8,
     "metadata": {},
     "output_type": "execute_result"
    }
   ],
   "source": [
    "issubclass(TypeError, Exception)"
   ]
  },
  {
   "cell_type": "markdown",
   "metadata": {},
   "source": [
    "Python cuenta con varias [excepciones incorporadas en el lenguaje](https://docs.python.org/3/library/exceptions.html) e igual nos permite declarar nuestras propias excepciones."
   ]
  },
  {
   "cell_type": "code",
   "execution_count": 9,
   "metadata": {},
   "outputs": [
    {
     "ename": "ZeroDivisionError",
     "evalue": "division by zero",
     "output_type": "error",
     "traceback": [
      "\u001b[0;31m---------------------------------------------------------------------------\u001b[0m",
      "\u001b[0;31mZeroDivisionError\u001b[0m                         Traceback (most recent call last)",
      "\u001b[0;32m<ipython-input-9-c0c9dc45e2b4>\u001b[0m in \u001b[0;36m<module>\u001b[0;34m\u001b[0m\n\u001b[0;32m----> 1\u001b[0;31m \u001b[0;36m7\u001b[0m \u001b[0;34m/\u001b[0m \u001b[0;36m0\u001b[0m\u001b[0;34m\u001b[0m\u001b[0;34m\u001b[0m\u001b[0m\n\u001b[0m",
      "\u001b[0;31mZeroDivisionError\u001b[0m: division by zero"
     ]
    }
   ],
   "source": [
    "7 / 0"
   ]
  },
  {
   "cell_type": "code",
   "execution_count": 10,
   "metadata": {},
   "outputs": [
    {
     "ename": "ModuleNotFoundError",
     "evalue": "No module named 'master_algo'",
     "output_type": "error",
     "traceback": [
      "\u001b[0;31m---------------------------------------------------------------------------\u001b[0m",
      "\u001b[0;31mModuleNotFoundError\u001b[0m                       Traceback (most recent call last)",
      "\u001b[0;32m<ipython-input-10-e980a7817899>\u001b[0m in \u001b[0;36m<module>\u001b[0;34m\u001b[0m\n\u001b[0;32m----> 1\u001b[0;31m \u001b[0;32mimport\u001b[0m \u001b[0mmaster_algo\u001b[0m\u001b[0;34m\u001b[0m\u001b[0;34m\u001b[0m\u001b[0m\n\u001b[0m",
      "\u001b[0;31mModuleNotFoundError\u001b[0m: No module named 'master_algo'"
     ]
    }
   ],
   "source": [
    "import master_algo"
   ]
  },
  {
   "cell_type": "code",
   "execution_count": 11,
   "metadata": {},
   "outputs": [
    {
     "ename": "KeyError",
     "evalue": "'invenciones'",
     "output_type": "error",
     "traceback": [
      "\u001b[0;31m---------------------------------------------------------------------------\u001b[0m",
      "\u001b[0;31mKeyError\u001b[0m                                  Traceback (most recent call last)",
      "\u001b[0;32m<ipython-input-11-fe8b0360ad22>\u001b[0m in \u001b[0;36m<module>\u001b[0;34m\u001b[0m\n\u001b[1;32m      5\u001b[0m }\n\u001b[1;32m      6\u001b[0m \u001b[0;34m\u001b[0m\u001b[0m\n\u001b[0;32m----> 7\u001b[0;31m \u001b[0malumno\u001b[0m\u001b[0;34m[\u001b[0m\u001b[0;34m\"invenciones\"\u001b[0m\u001b[0;34m]\u001b[0m\u001b[0;34m\u001b[0m\u001b[0;34m\u001b[0m\u001b[0m\n\u001b[0m",
      "\u001b[0;31mKeyError\u001b[0m: 'invenciones'"
     ]
    }
   ],
   "source": [
    "alumno = {\n",
    "    \"nombre\": \"Isaac\",\n",
    "    \"apellido\": \"Newton\",\n",
    "    \"edad\": 375,\n",
    "}\n",
    "\n",
    "alumno[\"invenciones\"]"
   ]
  },
  {
   "cell_type": "code",
   "execution_count": 12,
   "metadata": {},
   "outputs": [
    {
     "ename": "NameError",
     "evalue": "name 'b' is not defined",
     "output_type": "error",
     "traceback": [
      "\u001b[0;31m---------------------------------------------------------------------------\u001b[0m",
      "\u001b[0;31mNameError\u001b[0m                                 Traceback (most recent call last)",
      "\u001b[0;32m<ipython-input-12-3921907d5986>\u001b[0m in \u001b[0;36m<module>\u001b[0;34m\u001b[0m\n\u001b[1;32m      1\u001b[0m \u001b[0ma\u001b[0m \u001b[0;34m=\u001b[0m \u001b[0;36m42\u001b[0m\u001b[0;34m\u001b[0m\u001b[0;34m\u001b[0m\u001b[0m\n\u001b[0;32m----> 2\u001b[0;31m \u001b[0ma\u001b[0m \u001b[0;34m*\u001b[0m \u001b[0mb\u001b[0m\u001b[0;34m\u001b[0m\u001b[0;34m\u001b[0m\u001b[0m\n\u001b[0m",
      "\u001b[0;31mNameError\u001b[0m: name 'b' is not defined"
     ]
    }
   ],
   "source": [
    "a = 42\n",
    "a * b"
   ]
  },
  {
   "cell_type": "markdown",
   "metadata": {},
   "source": [
    "## Logical Errors\n",
    "Los errores lógicos ocurren cuando el programa no se topa con alguna excepción, pero el resultado del programa no es el esperado por el usuario, i.e., la *descripción* del programa no fue correctamente especificada."
   ]
  },
  {
   "cell_type": "markdown",
   "metadata": {},
   "source": [
    "Un ejemplo bastante sencillo de un error lógico sería calcular el área de un círculo de una manera incorrecta, e.g., calcular $\\pi^2 r$ en lugar de $\\pi r^2$"
   ]
  },
  {
   "cell_type": "code",
   "execution_count": 13,
   "metadata": {},
   "outputs": [
    {
     "data": {
      "text/plain": [
       "19.739208802178716"
      ]
     },
     "execution_count": 13,
     "metadata": {},
     "output_type": "execute_result"
    }
   ],
   "source": [
    "from math import pi\n",
    "\n",
    "def area_circle(radius):\n",
    "    return radius * pi ** 2\n",
    "\n",
    "area_circle(2) # Debería ser ~ 12.566"
   ]
  },
  {
   "cell_type": "markdown",
   "metadata": {},
   "source": [
    "Bajo el ejemplo anterior, la función `area_circle` nunca nos arrojará un error siempre y cuando `type(circle_radius) in [float, int]`. Sin embargo el cálculo realizado no es el correcto.\n",
    "\n",
    "Al tener un código muy complejo, una manera recomendada de revisar si el código es correcto o no es evaluando el programa bajo ejemplos fáciles de evaluar. (**nota**: Esta recomendación no garantiza que que el programa se encuentre libre de errores lógicos, pero sí maximiza la probabilidad)"
   ]
  },
  {
   "cell_type": "markdown",
   "metadata": {},
   "source": [
    "<h2 style=\"color:teal\">Ejemplo</h2>\n",
    "\n",
    "Se quiere definir la función `diamond` que imprima que, dado un parámetro `row` con el número total de filas, imprima un diamante de la siguiente manera.\n",
    "```\n",
    "    *    \n",
    "   ***   \n",
    "  *****  \n",
    " ******* \n",
    "*********\n",
    " ******* \n",
    "  *****  \n",
    "   ***   \n",
    "    *    \n",
    "```\n",
    "\n",
    "Hasta ahora tiene el siguiente programa\n",
    "```python\n",
    "def diamond(rows):\n",
    "    total_diamond = \"\"\n",
    "    mid_row = rows / 2 - 0.5\n",
    "    for i in range(rows):\n",
    "        if i <= mid_row:\n",
    "            nelemen = i + 1\n",
    "        else:\n",
    "            row_factor = (i - mid_row ) \n",
    "            nelemen = rows - row_factor\n",
    "\n",
    "        # row = \"*\" * nelemen.center(rows, \" \")\n",
    "        # total_diamond += row + \"\\n\"\n",
    "        print(nelemen)     \n",
    "```\n",
    "que imprime los siguientes valores\n",
    "```python\n",
    "1\n",
    "2\n",
    "3\n",
    "4\n",
    "5\n",
    "8.0\n",
    "7.0\n",
    "6.0\n",
    "5.0\n",
    "```\n",
    "¿Cómo arreglariamos el código?"
   ]
  },
  {
   "cell_type": "code",
   "execution_count": 14,
   "metadata": {},
   "outputs": [
    {
     "ename": "AttributeError",
     "evalue": "'int' object has no attribute 'center'",
     "output_type": "error",
     "traceback": [
      "\u001b[0;31m---------------------------------------------------------------------------\u001b[0m",
      "\u001b[0;31mAttributeError\u001b[0m                            Traceback (most recent call last)",
      "\u001b[0;32m<ipython-input-14-0d136b1fde4b>\u001b[0m in \u001b[0;36m<module>\u001b[0;34m\u001b[0m\n\u001b[1;32m     13\u001b[0m         \u001b[0mtotal_diamond\u001b[0m \u001b[0;34m+=\u001b[0m \u001b[0mrow\u001b[0m \u001b[0;34m+\u001b[0m \u001b[0;34m\"\\n\"\u001b[0m\u001b[0;34m\u001b[0m\u001b[0;34m\u001b[0m\u001b[0m\n\u001b[1;32m     14\u001b[0m \u001b[0;34m\u001b[0m\u001b[0m\n\u001b[0;32m---> 15\u001b[0;31m \u001b[0mdiamond\u001b[0m\u001b[0;34m(\u001b[0m\u001b[0;36m9\u001b[0m\u001b[0;34m)\u001b[0m\u001b[0;34m\u001b[0m\u001b[0;34m\u001b[0m\u001b[0m\n\u001b[0m",
      "\u001b[0;32m<ipython-input-14-0d136b1fde4b>\u001b[0m in \u001b[0;36mdiamond\u001b[0;34m(rows)\u001b[0m\n\u001b[1;32m      9\u001b[0m             \u001b[0mnelemen\u001b[0m \u001b[0;34m=\u001b[0m \u001b[0mrows\u001b[0m \u001b[0;34m-\u001b[0m \u001b[0mrow_factor\u001b[0m\u001b[0;34m\u001b[0m\u001b[0;34m\u001b[0m\u001b[0m\n\u001b[1;32m     10\u001b[0m         \u001b[0;31m# Quitando los comentarios nos arroja el siguiente resultado\u001b[0m\u001b[0;34m\u001b[0m\u001b[0;34m\u001b[0m\u001b[0;34m\u001b[0m\u001b[0m\n\u001b[0;32m---> 11\u001b[0;31m         \u001b[0mrow\u001b[0m \u001b[0;34m=\u001b[0m \u001b[0;34m\"*\"\u001b[0m \u001b[0;34m*\u001b[0m \u001b[0mnelemen\u001b[0m\u001b[0;34m.\u001b[0m\u001b[0mcenter\u001b[0m\u001b[0;34m(\u001b[0m\u001b[0mrows\u001b[0m\u001b[0;34m,\u001b[0m \u001b[0;34m\" \"\u001b[0m\u001b[0;34m)\u001b[0m\u001b[0;34m\u001b[0m\u001b[0;34m\u001b[0m\u001b[0m\n\u001b[0m\u001b[1;32m     12\u001b[0m         \u001b[0mprint\u001b[0m\u001b[0;34m(\u001b[0m\u001b[0mrow\u001b[0m\u001b[0;34m)\u001b[0m\u001b[0;34m\u001b[0m\u001b[0;34m\u001b[0m\u001b[0m\n\u001b[1;32m     13\u001b[0m         \u001b[0mtotal_diamond\u001b[0m \u001b[0;34m+=\u001b[0m \u001b[0mrow\u001b[0m \u001b[0;34m+\u001b[0m \u001b[0;34m\"\\n\"\u001b[0m\u001b[0;34m\u001b[0m\u001b[0;34m\u001b[0m\u001b[0m\n",
      "\u001b[0;31mAttributeError\u001b[0m: 'int' object has no attribute 'center'"
     ]
    }
   ],
   "source": [
    "def diamond(rows):\n",
    "    total_diamond = \"\"\n",
    "    mid_row = rows / 2 - 0.5\n",
    "    for i in range(rows):\n",
    "        if i <= mid_row:\n",
    "            nelemen = i + 1\n",
    "        else:\n",
    "            row_factor = (i - mid_row) \n",
    "            nelemen = rows - row_factor\n",
    "        # Quitando los comentarios nos arroja el siguiente resultado\n",
    "        row = \"*\" * nelemen.center(rows, \" \")\n",
    "        print(row)\n",
    "        total_diamond += row + \"\\n\"\n",
    "        \n",
    "diamond(9)"
   ]
  },
  {
   "cell_type": "markdown",
   "metadata": {},
   "source": [
    "Fijándonos en la última celda, vemos que el programa nos arroja un error de sintaxis."
   ]
  },
  {
   "cell_type": "code",
   "execution_count": 15,
   "metadata": {},
   "outputs": [
    {
     "name": "stdout",
     "output_type": "stream",
     "text": [
      "    *    \n",
      "    **   \n",
      "   ***   \n",
      "   ****  \n",
      "  *****  \n"
     ]
    },
    {
     "ename": "TypeError",
     "evalue": "can't multiply sequence by non-int of type 'float'",
     "output_type": "error",
     "traceback": [
      "\u001b[0;31m---------------------------------------------------------------------------\u001b[0m",
      "\u001b[0;31mTypeError\u001b[0m                                 Traceback (most recent call last)",
      "\u001b[0;32m<ipython-input-15-c4c76b0ebce5>\u001b[0m in \u001b[0;36m<module>\u001b[0;34m\u001b[0m\n\u001b[1;32m     13\u001b[0m         \u001b[0mprint\u001b[0m\u001b[0;34m(\u001b[0m\u001b[0mrow\u001b[0m\u001b[0;34m)\u001b[0m\u001b[0;34m\u001b[0m\u001b[0;34m\u001b[0m\u001b[0m\n\u001b[1;32m     14\u001b[0m \u001b[0;34m\u001b[0m\u001b[0m\n\u001b[0;32m---> 15\u001b[0;31m \u001b[0mdiamond\u001b[0m\u001b[0;34m(\u001b[0m\u001b[0;36m9\u001b[0m\u001b[0;34m)\u001b[0m\u001b[0;34m\u001b[0m\u001b[0;34m\u001b[0m\u001b[0m\n\u001b[0m",
      "\u001b[0;32m<ipython-input-15-c4c76b0ebce5>\u001b[0m in \u001b[0;36mdiamond\u001b[0;34m(rows)\u001b[0m\n\u001b[1;32m      9\u001b[0m             \u001b[0mnelemen\u001b[0m \u001b[0;34m=\u001b[0m \u001b[0mrows\u001b[0m \u001b[0;34m-\u001b[0m \u001b[0mrow_factor\u001b[0m\u001b[0;34m\u001b[0m\u001b[0;34m\u001b[0m\u001b[0m\n\u001b[1;32m     10\u001b[0m         \u001b[0;31m# Agregamos los paréntesis faltantes\u001b[0m\u001b[0;34m\u001b[0m\u001b[0;34m\u001b[0m\u001b[0;34m\u001b[0m\u001b[0m\n\u001b[0;32m---> 11\u001b[0;31m         \u001b[0mrow\u001b[0m \u001b[0;34m=\u001b[0m \u001b[0;34m(\u001b[0m\u001b[0;34m\"*\"\u001b[0m \u001b[0;34m*\u001b[0m \u001b[0mnelemen\u001b[0m\u001b[0;34m)\u001b[0m\u001b[0;34m.\u001b[0m\u001b[0mcenter\u001b[0m\u001b[0;34m(\u001b[0m\u001b[0mrows\u001b[0m\u001b[0;34m,\u001b[0m \u001b[0;34m\" \"\u001b[0m\u001b[0;34m)\u001b[0m\u001b[0;34m\u001b[0m\u001b[0;34m\u001b[0m\u001b[0m\n\u001b[0m\u001b[1;32m     12\u001b[0m         \u001b[0mtotal_diamond\u001b[0m \u001b[0;34m+=\u001b[0m \u001b[0mrow\u001b[0m \u001b[0;34m+\u001b[0m \u001b[0;34m\"\\n\"\u001b[0m\u001b[0;34m\u001b[0m\u001b[0;34m\u001b[0m\u001b[0m\n\u001b[1;32m     13\u001b[0m         \u001b[0mprint\u001b[0m\u001b[0;34m(\u001b[0m\u001b[0mrow\u001b[0m\u001b[0;34m)\u001b[0m\u001b[0;34m\u001b[0m\u001b[0;34m\u001b[0m\u001b[0m\n",
      "\u001b[0;31mTypeError\u001b[0m: can't multiply sequence by non-int of type 'float'"
     ]
    }
   ],
   "source": [
    "def diamond(rows):\n",
    "    total_diamond = \"\"\n",
    "    mid_row = rows / 2 - 0.5\n",
    "    for i in range(rows):\n",
    "        if i <= mid_row:\n",
    "            nelemen = i + 1\n",
    "        else:\n",
    "            row_factor = (i - mid_row) \n",
    "            nelemen = rows - row_factor\n",
    "        # Agregamos los paréntesis faltantes\n",
    "        row = (\"*\" * nelemen).center(rows, \" \")\n",
    "        total_diamond += row + \"\\n\"\n",
    "        print(row)\n",
    "        \n",
    "diamond(9)"
   ]
  },
  {
   "cell_type": "markdown",
   "metadata": {},
   "source": [
    "El programa ahora detectra otra excepción: no podemos crear una secuencia de `str`s considerando un float"
   ]
  },
  {
   "cell_type": "code",
   "execution_count": 16,
   "metadata": {},
   "outputs": [
    {
     "name": "stdout",
     "output_type": "stream",
     "text": [
      "    *    \n",
      "    **   \n",
      "   ***   \n",
      "   ****  \n",
      "  *****  \n",
      " ********\n",
      " ******* \n",
      "  ****** \n",
      "  *****  \n"
     ]
    }
   ],
   "source": [
    "def diamond(rows):\n",
    "    total_diamond = \"\"\n",
    "    # División entera\n",
    "    mid_row = rows // 2\n",
    "    for i in range(rows):\n",
    "        if i <= mid_row:\n",
    "            nelemen = i + 1\n",
    "        else:\n",
    "            row_factor = (i - mid_row) \n",
    "            nelemen = rows - row_factor\n",
    "        row = (\"*\" * nelemen).center(rows, \" \")\n",
    "        print(row)\n",
    "        total_diamond += row + \"\\n\"\n",
    "        \n",
    "diamond(9)"
   ]
  },
  {
   "cell_type": "code",
   "execution_count": 17,
   "metadata": {},
   "outputs": [
    {
     "name": "stdout",
     "output_type": "stream",
     "text": [
      "    *    \n",
      "   ***   \n",
      "  *****  \n",
      " ******* \n",
      "*********\n",
      " ********\n",
      " ******* \n",
      "  ****** \n",
      "  *****  \n"
     ]
    }
   ],
   "source": [
    "def diamond(rows):\n",
    "    total_diamond = \"\"\n",
    "    # División entera\n",
    "    mid_row = rows // 2\n",
    "    for i in range(rows):\n",
    "        if i <= mid_row:\n",
    "            # ordenar los elementos\n",
    "            nelemen = i * 2 + 1\n",
    "        else:\n",
    "            row_factor = (i - mid_row ) \n",
    "            nelemen = rows - row_factor\n",
    "        # Quitando los comentarios nos arroja el siguiente resultado\n",
    "        row = (\"*\" * nelemen).center(rows, \" \")\n",
    "        print(row)\n",
    "        total_diamond += row + \"\\n\"\n",
    "        \n",
    "diamond(9)"
   ]
  },
  {
   "cell_type": "code",
   "execution_count": 18,
   "metadata": {},
   "outputs": [
    {
     "name": "stdout",
     "output_type": "stream",
     "text": [
      "    *    \n",
      "   ***   \n",
      "  *****  \n",
      " ******* \n",
      "*********\n",
      " ******* \n",
      "  *****  \n",
      "   ***   \n",
      "    *    \n"
     ]
    }
   ],
   "source": [
    "def diamond(rows):\n",
    "    total_diamond = \"\"\n",
    "    # División entera\n",
    "    mid_row = rows // 2\n",
    "    for i in range(rows):\n",
    "        if i <= mid_row:\n",
    "            # ordenar los elementos\n",
    "            nelemen = i * 2 + 1\n",
    "        else:\n",
    "            # Consideramos el número de elementos \n",
    "            # por abajo de la segunda línea\n",
    "            row_factor = (i - mid_row) * 2 \n",
    "            nelemen = rows - row_factor\n",
    "        row = (\"*\" * nelemen).center(rows, \" \")\n",
    "        print(row)\n",
    "        total_diamond += row + \"\\n\"\n",
    "        \n",
    "diamond(9)"
   ]
  },
  {
   "cell_type": "markdown",
   "metadata": {},
   "source": [
    "--------"
   ]
  },
  {
   "cell_type": "markdown",
   "metadata": {},
   "source": [
    "## Trabajando con excepciones\n",
    "### `try`, `except`"
   ]
  },
  {
   "cell_type": "markdown",
   "metadata": {},
   "source": [
    "### Retener Excepciones\n",
    "El keyword `try` nos permite continuar la ejecución de un programa, aún existiendo excepciones dentro de un bloque de código en especifico."
   ]
  },
  {
   "cell_type": "code",
   "execution_count": 19,
   "metadata": {},
   "outputs": [
    {
     "name": "stdout",
     "output_type": "stream",
     "text": [
      "ingresa un número: 1\n",
      "ingresa un número: x\n",
      "El valor asignado no es un número\n",
      "ingresa un número: 99\n"
     ]
    }
   ],
   "source": [
    "# Pide una serie de números tal que su suma sea mayor o igual a 100\n",
    "# guarda cada elemento de la suma final en una lista de números. \n",
    "# Ignora todo elemento que no se pueda convertir a un int (el cuál\n",
    "# se vería reflejado en un 'ValueError')\n",
    "\n",
    "numbers = []\n",
    "while True:\n",
    "    try:\n",
    "        x = int(input(\"ingresa un número: \"))\n",
    "        numbers.append(x)\n",
    "        if sum(numbers) >= 100:\n",
    "            break\n",
    "    except ValueError:\n",
    "        print(\"El valor asignado no es un número\")"
   ]
  },
  {
   "cell_type": "markdown",
   "metadata": {},
   "source": [
    "El `try` keyword funciona de la siguiente manera:\n",
    "\n",
    "1. Las líneas dentro del `try` se ejecutan\n",
    "2. * Si no ocurre ninguna excepción, las líneas del `except` se omiten y el programa continua\n",
    "   * Si ocurre alguna excepción dentro del `try`, se omite el resto de las líneas del `try` y se evalua el `except`, el cuál se ejectuta si el tipo de excepción es la especificada después del `except`.\n",
    "   * Si la excepción del programa no es la especificada después del `except`, el programa se detiene.\n",
    "\n"
   ]
  },
  {
   "cell_type": "markdown",
   "metadata": {},
   "source": [
    "**nota**  \n",
    "Una nota sobre `try`. Aunque es posible trabajar con `try-except` sin necesidad de especificar el tipo de excepción, esto no es recomendable dada la generalidad de excepciones que podría ocasionar\n",
    "\n",
    "<h2 style=\"color:teal\">Ejemplo</h2>\n",
    "\n",
    "Supongamos queremos escribir un programa que lea una serie de números  y regrese la suma de todos los elementos del archivo. En caso de encontrarse un elemento el cuál no sea posible convertir a un flotante, el programa regresará como suma total el valor `0`.\n",
    "\n",
    "Hasta ahora se tiene el siguiente programa:"
   ]
  },
  {
   "cell_type": "code",
   "execution_count": 20,
   "metadata": {},
   "outputs": [],
   "source": [
    "def sum_numbers(path):\n",
    "    try:\n",
    "        with open(path) as f:\n",
    "            total_sum = 0\n",
    "            numbers = f.read().split()\n",
    "            for n in numbers:\n",
    "                total_sum += float(n)\n",
    "    except:\n",
    "        print(\"Números no son todos ints o floats\")\n",
    "        total_sum = 0\n",
    "    \n",
    "    return total_sum"
   ]
  },
  {
   "cell_type": "markdown",
   "metadata": {},
   "source": [
    "La función anterior logra capturar la excepción cuando `n` no puede ser convertida a un `float`"
   ]
  },
  {
   "cell_type": "code",
   "execution_count": 21,
   "metadata": {},
   "outputs": [],
   "source": [
    "path0 = \"../files/lec02/numbers0.txt\"\n",
    "path1 = \"../files/lec02/numbers1.txt\"\n",
    "path2 = \"../files/lec02/numbers2.txt\""
   ]
  },
  {
   "cell_type": "code",
   "execution_count": 22,
   "metadata": {},
   "outputs": [
    {
     "data": {
      "text/plain": [
       "-173.0"
      ]
     },
     "execution_count": 22,
     "metadata": {},
     "output_type": "execute_result"
    }
   ],
   "source": [
    "sum_numbers(path0)"
   ]
  },
  {
   "cell_type": "code",
   "execution_count": 23,
   "metadata": {},
   "outputs": [
    {
     "name": "stdout",
     "output_type": "stream",
     "text": [
      "Números no son todos ints o floats\n"
     ]
    },
    {
     "data": {
      "text/plain": [
       "0"
      ]
     },
     "execution_count": 23,
     "metadata": {},
     "output_type": "execute_result"
    }
   ],
   "source": [
    "sum_numbers(path1)"
   ]
  },
  {
   "cell_type": "markdown",
   "metadata": {},
   "source": [
    "¿Qué sucede cuando el archivo no existe?"
   ]
  },
  {
   "cell_type": "code",
   "execution_count": 24,
   "metadata": {},
   "outputs": [
    {
     "name": "stdout",
     "output_type": "stream",
     "text": [
      "Números no son todos ints o floats\n"
     ]
    },
    {
     "data": {
      "text/plain": [
       "0"
      ]
     },
     "execution_count": 24,
     "metadata": {},
     "output_type": "execute_result"
    }
   ],
   "source": [
    "## La función arroja 0 aún cuando el archivo no existe\n",
    "sum_numbers(path2)"
   ]
  },
  {
   "cell_type": "markdown",
   "metadata": {},
   "source": [
    "### `else`, `finally`"
   ]
  },
  {
   "cell_type": "markdown",
   "metadata": {},
   "source": [
    "**Else**  \n",
    "Es importante considerar que `try-except` se debe ocupar, preferentemente, únicamente sobre el bloque de código que estemos interesados en probar si existe o no una excepción.\n",
    "\n",
    "Para casos en los que deseemos seguir con la lógica del programa **únicamente** si el bloque de código dentro de `try` es verdadero, hacemos uso de `else`"
   ]
  },
  {
   "cell_type": "code",
   "execution_count": 28,
   "metadata": {},
   "outputs": [],
   "source": [
    "def normed_squared(a, b):\n",
    "    \"\"\"\n",
    "    Suma el cuadrado de dos números\n",
    "    \"\"\"\n",
    "    try:\n",
    "        # Dados dos elementos \"a\", \"b\";\n",
    "        # tratamos de elevar al cuadrado cada término antes de seguir\n",
    "        a, b = a ** 2, b ** 2\n",
    "    except TypeError:\n",
    "        sum_ab2 = \"No podemos sumar\"\n",
    "    else:\n",
    "        # Sumamos a ** 2 + b ** 2 únicamente\n",
    "        # si `try` se corrió exitosamente\n",
    "        sum_ab2 = a + b\n",
    "\n",
    "    return sum_ab2"
   ]
  },
  {
   "cell_type": "code",
   "execution_count": 29,
   "metadata": {},
   "outputs": [
    {
     "data": {
      "text/plain": [
       "'No podemos sumar'"
      ]
     },
     "execution_count": 29,
     "metadata": {},
     "output_type": "execute_result"
    }
   ],
   "source": [
    "normed_squared(2, \"a\")"
   ]
  },
  {
   "cell_type": "markdown",
   "metadata": {},
   "source": [
    "**Finally**  \n",
    "En ocasiones es deseable tener un bloque de código dentro de una función que siempre se cumpla, independiente de si `try` o `except` se ejecutó. En estos casos podemos hacer uso del keyword `finally`, el cuál **siempre** ejecuta código dentro de su bloque independientemente de la ejecución o excepción del programa:"
   ]
  },
  {
   "cell_type": "code",
   "execution_count": 30,
   "metadata": {},
   "outputs": [],
   "source": [
    "def sum_two(a, b):\n",
    "    try:\n",
    "        return a + b\n",
    "    except TypeError:\n",
    "        return \"No podemos sumar\"\n",
    "    finally:\n",
    "        print(\"Goodbye!\")"
   ]
  },
  {
   "cell_type": "code",
   "execution_count": 31,
   "metadata": {},
   "outputs": [
    {
     "name": "stdout",
     "output_type": "stream",
     "text": [
      "Goodbye!\n",
      "3\n"
     ]
    }
   ],
   "source": [
    "v = sum_two(1, 2)\n",
    "print(v)"
   ]
  },
  {
   "cell_type": "code",
   "execution_count": 32,
   "metadata": {},
   "outputs": [
    {
     "name": "stdout",
     "output_type": "stream",
     "text": [
      "Goodbye!\n",
      "No podemos sumar\n"
     ]
    }
   ],
   "source": [
    "v = sum_two(1, \"a\")\n",
    "print(v)"
   ]
  },
  {
   "cell_type": "markdown",
   "metadata": {},
   "source": [
    "----\n",
    "\n",
    "### Levantando Excepciones\n",
    "\n",
    "El keyword `raise` nos permite levantar excepciones en partes específicas de un programa. Esto es deseable en todas aquellas ocasiones en las cuales un programa no sea conforme a las partes usadas (funciones, operaciones, *statements*, etc.), pero no a nuestro programa.\n",
    "\n",
    "Consideremos la función `rate_converter` definida a continuación"
   ]
  },
  {
   "cell_type": "code",
   "execution_count": 33,
   "metadata": {},
   "outputs": [],
   "source": [
    "def rate_converter(rate, yearly_payoff, base):\n",
    "    \"\"\"\n",
    "    Convierte una tasa nominal pagadera 'yearly_payoff'\n",
    "    al año, por una tasa anual efectiva\n",
    "\n",
    "    Parameters\n",
    "    ----------\n",
    "    rate: Una tasa convertir\n",
    "    yearly_payoff: el número de veces en el que se reinvierte la tasa nominal\n",
    "    base: str (\"nominal\" ^ \"effective\")\n",
    "        La base de la tasa a convertir\n",
    "\n",
    "    Returns\n",
    "    -------\n",
    "    Una tasa convertida\n",
    "    \"\"\"\n",
    "    if base == \"nominal\":\n",
    "        return (1 + rate) ** yearly_payoff - 1\n",
    "    elif base == \"effective\":\n",
    "        return yearly_payoff * ((1 + rate) ** (1 / yearly_payoff) - 1)"
   ]
  },
  {
   "cell_type": "markdown",
   "metadata": {},
   "source": [
    "`rate_converter` nos permite asignar cualquier tipo de *base* a la función. En cuyo caso, si `base` no es ninguno de `\"nominal\"` o `\"effective\"`, el problema arroja `None`.\n",
    "\n",
    "```python\n",
    ">> r2 = rate_converter(0.05, 12, \"continuous\")\n",
    ">>> print(r2)\n",
    "None\n",
    "```\n",
    "\n",
    "En estos casos,es deseable notificar al usuario de una excepción (en el ejemplo anterior, el hecho que `base == \"continuous\"` no está definido). El `raise` keyword nos ayuda a levantar excepciones notificando al usuario de un error en nuestro programa.\n",
    "\n",
    "La sintaxis de un `raise` es la siguiente:\n",
    "```python\n",
    "raise ExceptionType(\"optional message\")\n",
    "```\n",
    "\n",
    "donde:\n",
    "* `ExceptionType` es una excepción.\n",
    "\n",
    "    Para modificar nuestro programa consideraremos un [ValueError](https://docs.python.org/3/library/exceptions.html#ValueError) que le informe al usuario que el `base` asignado no se encuentra contemplado dentro de la función.\n",
    "    "
   ]
  },
  {
   "cell_type": "code",
   "execution_count": 34,
   "metadata": {},
   "outputs": [],
   "source": [
    "def rate_converter(rate, yearly_payoff, base):\n",
    "    \"\"\"\n",
    "    Convierte una tasa nominal pagadera 'yearly_payoff'\n",
    "    al año, por una tasa anual efectiva\n",
    "\n",
    "    Parameters\n",
    "    ----------\n",
    "    rate: Una tasa convertir\n",
    "    yearly_payoff: el número de veces en el que se reinvierte la tasa nominal\n",
    "    base: str (\"nominal\" ^ \"effective\")\n",
    "        La base \n",
    "\n",
    "    Returns\n",
    "    -------\n",
    "    Una tasa convertida\n",
    "    \"\"\"\n",
    "    if base == \"nominal\":\n",
    "        return (1 + rate) ** yearly_payoff - 1\n",
    "    elif base == \"effective\":\n",
    "        return yearly_payoff * ((1 + rate) ** (1 / yearly_payoff) - 1)\n",
    "    else:\n",
    "        msg = f\"La base '{base}' no está definida\"\n",
    "        raise ValueError(msg)"
   ]
  },
  {
   "cell_type": "markdown",
   "metadata": {},
   "source": [
    "Corriendo el caso anterior resulta ahora en un error\n",
    "\n",
    "```python\n",
    ">> r2 = rate_converter(0.05, 12, \"continuous\")\n",
    ">>> print(r2)\n",
    "---------------------------------------------------------------------------\n",
    "ValueError                                Traceback (most recent call last)\n",
    "<ipython-input-37-44aeee1942b9> in <module>\n",
    "----> 1 r2 = rate_converter(0.05, 12, \"continuous\")\n",
    "      2 print(r2)\n",
    "\n",
    "<ipython-input-36-a606369e2153> in rate_converter(rate, yearly_payoff, base)\n",
    "     21     else:\n",
    "     22         msg = f\"La base '{base}' no está definida\"\n",
    "---> 23         raise ValueError(msg)\n",
    "\n",
    "ValueError: La base 'continuous' no está definida\n",
    "\n",
    "```"
   ]
  },
  {
   "cell_type": "markdown",
   "metadata": {},
   "source": [
    "<h2 style=\"color:crimson\">Ejercicios</h2>\n",
    "\n",
    "1. Considera el siguiente programa e indica si el programa contiene algún error. De ser así, ¿Qué clase de errores contiene y cómo lo arreglarías?\n",
    "\n",
    "    ```python\n",
    "    def sum_pow(n, p=2):\n",
    "        \"\"\"\n",
    "        Función que suma todos los\n",
    "        valores del 1 al n elevados a\n",
    "        una potencia 'p'\n",
    "        \"\"\"\n",
    "        total_sum = 0\n",
    "        for i in range(1: n + 1):\n",
    "        total_sum += i ** 2\n",
    "        return total_sum\n",
    "    ```\n",
    "----\n",
    "2. Modifica la función `diamond` que genere una excepción si `rows % 2 == 0` (es par) o `rows < 3`. Esta excepción deberá informarle al usuario que es necesario un entero mayor o igual a tres para generar la figura.\n",
    "----\n",
    "3. Modifica la función `sum_numbers` que regrese `0` únicamente si existe algún elemento dentro de la ruta el cuál no sea posible convertirlo a un `float`\n",
    "----\n",
    "4. Considera las siguientes funciones y usando `try`, actualiza las funciones a fin de hacerlas flexibles a posibles excepciones\n",
    "\n",
    "```python\n",
    "def input_divide():\n",
    "    \"\"\"\n",
    "    Función que imprime el resultado de dividir dos números dados por el usuario\n",
    "    \"\"\"\n",
    "    n1 = float(input(\"Dame un primer número\"))\n",
    "    n2 = float(input(\"Dame un segundo número\"))\n",
    "    print(f\"{n1} / {n2} = {n1 / n2}\")\n",
    "    \n",
    "    \n",
    "def sum_pairs(values, verbose=True):\n",
    "    sums = []\n",
    "    for i in range(len(values)):\n",
    "        pair = values[i: i + 2]\n",
    "        if verbose: print(pair, end=\" \")\n",
    "        pair_sum = sum(pair)\n",
    "        sums.append(pair_sum)\n",
    "```\n",
    "----\n",
    "5. Escribe la función `sum_in_file(path)` que abra el archivo dentro de `path` y calcule la suma de todos los números dentro del archivo. Si la función encuentra un carácter que no pude ser sumado, la función deberá considerar ese dato como nulo (cero).\n",
    "```python\n",
    ">>> sum_in_file(\"../files/lec02/numbers0.txt\")\n",
    "-173.0\n",
    ">>> sum_in_file(\"../files/lec02/numbers1.txt\")\n",
    "-52.0\n",
    "```"
   ]
  },
  {
   "cell_type": "markdown",
   "metadata": {},
   "source": [
    "## Referencias\n",
    "\n",
    "1. https://docs.python.org/3/tutorial/errors.html\n",
    "2. https://www.inf.unibz.it/~calvanese/teaching/05-06-ip/lecture-notes/uni10/node2.html"
   ]
  }
 ],
 "metadata": {
  "kernelspec": {
   "display_name": "Python 3",
   "language": "python",
   "name": "python3"
  },
  "language_info": {
   "codemirror_mode": {
    "name": "ipython",
    "version": 3
   },
   "file_extension": ".py",
   "mimetype": "text/x-python",
   "name": "python",
   "nbconvert_exporter": "python",
   "pygments_lexer": "ipython3",
   "version": "3.6.8"
  }
 },
 "nbformat": 4,
 "nbformat_minor": 2
}
