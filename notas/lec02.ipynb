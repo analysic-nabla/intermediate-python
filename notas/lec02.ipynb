{
 "cells": [
  {
   "cell_type": "markdown",
   "metadata": {},
   "source": [
    "![logo](../files/misc/logo.png)\n",
    "<h1 style=\"color:#872325\">Generadores e Iteradores</h1>"
   ]
  },
  {
   "cell_type": "markdown",
   "metadata": {},
   "source": [
    "Recordemos la manera de generar un rango de elementos dentro de Python es mediante la función `range`"
   ]
  },
  {
   "cell_type": "code",
   "execution_count": 1,
   "metadata": {},
   "outputs": [
    {
     "name": "stdout",
     "output_type": "stream",
     "text": [
      "1 2 3 "
     ]
    }
   ],
   "source": [
    "for i in range(1, 4):\n",
    "    print(i, end=\" \")"
   ]
  },
  {
   "cell_type": "markdown",
   "metadata": {},
   "source": [
    "Sin embargo, si al crear una instancia de un `range`, el resultado no es una colección con los elementos deseados."
   ]
  },
  {
   "cell_type": "code",
   "execution_count": 2,
   "metadata": {},
   "outputs": [
    {
     "data": {
      "text/plain": [
       "range(0, 10)"
      ]
     },
     "execution_count": 2,
     "metadata": {},
     "output_type": "execute_result"
    }
   ],
   "source": [
    "range(10)"
   ]
  },
  {
   "cell_type": "markdown",
   "metadata": {},
   "source": [
    "Por abajo del agua, cuando llamamos un for loop,\n",
    "1. Python llama la función `iter()` sobre el objeto a iterar;\n",
    "2. La función `iter()` regresa un objeto **iterable** sobre el cuál se define el método `__next__()`;\n",
    "3. Python llama la el método `__next__` sobre el resultado del `iter` hasta que no existan más elementos a regresar, en cuyo caso Python levanta una excepción `StopIteration` que termina el loop. "
   ]
  },
  {
   "cell_type": "code",
   "execution_count": 3,
   "metadata": {},
   "outputs": [],
   "source": [
    "values = iter(range(1, 4))"
   ]
  },
  {
   "cell_type": "code",
   "execution_count": 4,
   "metadata": {},
   "outputs": [
    {
     "data": {
      "text/plain": [
       "1"
      ]
     },
     "execution_count": 4,
     "metadata": {},
     "output_type": "execute_result"
    }
   ],
   "source": [
    "next(values)"
   ]
  },
  {
   "cell_type": "code",
   "execution_count": 5,
   "metadata": {},
   "outputs": [
    {
     "data": {
      "text/plain": [
       "2"
      ]
     },
     "execution_count": 5,
     "metadata": {},
     "output_type": "execute_result"
    }
   ],
   "source": [
    "next(values)"
   ]
  },
  {
   "cell_type": "code",
   "execution_count": 6,
   "metadata": {},
   "outputs": [
    {
     "data": {
      "text/plain": [
       "3"
      ]
     },
     "execution_count": 6,
     "metadata": {},
     "output_type": "execute_result"
    }
   ],
   "source": [
    "next(values)"
   ]
  },
  {
   "cell_type": "code",
   "execution_count": 7,
   "metadata": {},
   "outputs": [
    {
     "ename": "StopIteration",
     "evalue": "",
     "output_type": "error",
     "traceback": [
      "\u001b[0;31m---------------------------------------------------------------------------\u001b[0m",
      "\u001b[0;31mStopIteration\u001b[0m                             Traceback (most recent call last)",
      "\u001b[0;32m<ipython-input-7-d96d89106248>\u001b[0m in \u001b[0;36m<module>\u001b[0;34m\u001b[0m\n\u001b[0;32m----> 1\u001b[0;31m \u001b[0mnext\u001b[0m\u001b[0;34m(\u001b[0m\u001b[0mvalues\u001b[0m\u001b[0;34m)\u001b[0m\u001b[0;34m\u001b[0m\u001b[0;34m\u001b[0m\u001b[0m\n\u001b[0m",
      "\u001b[0;31mStopIteration\u001b[0m: "
     ]
    }
   ],
   "source": [
    "next(values)"
   ]
  },
  {
   "cell_type": "markdown",
   "metadata": {},
   "source": [
    "## Iterables\n",
    "\n",
    "Un iterable es un objeto de python que implementa el método `__iter__`. Al utlizar un _for loop_, python llama la función `iter` sobre el objeto a trabajar."
   ]
  },
  {
   "cell_type": "code",
   "execution_count": 8,
   "metadata": {},
   "outputs": [],
   "source": [
    "from random import randint, seed\n",
    "\n",
    "class RandomValues:\n",
    "    # Menncionamos que esta clase puede ser iterada\n",
    "    def __iter__(self):\n",
    "        return self\n",
    "    def __next__(self):\n",
    "        value = randint(1, 10)\n",
    "        if value == 1:\n",
    "            raise StopIteration  # signals \"the end\"\n",
    "        return value"
   ]
  },
  {
   "cell_type": "code",
   "execution_count": 9,
   "metadata": {},
   "outputs": [
    {
     "name": "stdout",
     "output_type": "stream",
     "text": [
      "4 8 2 3 "
     ]
    }
   ],
   "source": [
    "seed(314)\n",
    "for v in RandomValues():\n",
    "    print(v, end=\" \")"
   ]
  },
  {
   "cell_type": "code",
   "execution_count": 10,
   "metadata": {},
   "outputs": [
    {
     "name": "stdout",
     "output_type": "stream",
     "text": [
      "10 5 8 "
     ]
    }
   ],
   "source": [
    "seed(31415)\n",
    "for v in RandomValues():\n",
    "    print(v, end=\" \")"
   ]
  },
  {
   "cell_type": "code",
   "execution_count": 11,
   "metadata": {},
   "outputs": [
    {
     "name": "stdout",
     "output_type": "stream",
     "text": [
      "7 7 6 5 8 "
     ]
    }
   ],
   "source": [
    "seed(31415926)\n",
    "for v in RandomValues():\n",
    "    print(v, end=\" \")"
   ]
  },
  {
   "cell_type": "markdown",
   "metadata": {},
   "source": [
    "<h3 style=\"color:#56565a\">Ejemplo</h3>\n",
    "Consideremos el siguiente ejemplo: queremos crear una clase iterable que nos regrese valores de Fibonacci uno a uno:"
   ]
  },
  {
   "cell_type": "code",
   "execution_count": 12,
   "metadata": {},
   "outputs": [],
   "source": [
    "class FiboIter:\n",
    "    def __init__(self, n_elements):\n",
    "        self.x0 = 0\n",
    "        self.x1 = 1\n",
    "        self.n_elements = n_elements\n",
    "        self.curr_elements = 0\n",
    "    def __iter__(self):\n",
    "        return self\n",
    "    def __next__(self):\n",
    "        self.curr_elements += 1\n",
    "        if self.curr_elements == 1:\n",
    "            return self.x0\n",
    "        elif self.curr_elements == 2:\n",
    "            return self.x1\n",
    "        elif self.curr_elements < self.n_elements:\n",
    "            self.x0, self.x1 = self.x1, self.x0 + self.x1\n",
    "            return self.x1\n",
    "        else:\n",
    "            raise StopIteration"
   ]
  },
  {
   "cell_type": "code",
   "execution_count": 13,
   "metadata": {},
   "outputs": [
    {
     "name": "stdout",
     "output_type": "stream",
     "text": [
      "0\n",
      "1\n",
      "1\n",
      "2\n",
      "3\n",
      "5\n",
      "8\n",
      "13\n",
      "21\n"
     ]
    }
   ],
   "source": [
    "for n in FiboIter(10):\n",
    "    print(n)"
   ]
  },
  {
   "cell_type": "markdown",
   "metadata": {},
   "source": [
    "<h3 style=\"color:crimson\">Ejercicios</h3>\n",
    "\n",
    "1. Crea el iterable `FizzBuzz(n)` el cual itere `n` veces y cumpla que, para cada `i = 1, ..., n`,\n",
    "    * Si `i` es divisible por `3`, el iterador deberá regresar `\"Fizz\"`;\n",
    "    * si `i` es divisible por `5`, el iterador deberá regresar `\"Buzz\"`; \n",
    "    * si `i` es divisible por `5` y `3`, el iterador deberá regresar `\"FizzBuzz\"`; \n",
    "    * si ninguna de las reglas de arriba se cumple, el iterador deberá regresar `i`.\n",
    "2. Crea el iterable `FizzBuzzV2(n, v1, v2)` el cuál itere `n` veces y cumpla que, para cada `i = 1, ..., n`,\n",
    "    * Si `i` es divisible por `v1`, el iterador deberá regresar `\"Fizz\"`;\n",
    "    * si `i` es divisible por `v2`, el iterador deberá regresar `\"Buzz\"`; \n",
    "    * si `i` es divisible por `v1` y `v2`, el iterador deberá regresar `\"FizzBuzz\"`; \n",
    "    * si ninguna de las reglas de arriba se cumple, el iterador deberá regresar `i`.\n",
    "3. Crea el iterrable `Div(n, v1, v2, ..., vk)` el cuál itere `n` veces y cumpla que, para cada `i = 1, ..., n`\n",
    "    * Si `i` es divisible por cualesquiera `vi`, el iterador deberá regresar:  \n",
    "        `\"i divisible by vi, vi2, ..., vik\"`\n",
    "    * En otro caso, el iterrador deberá regresar: `i`\n",
    "    \n",
    "    \n",
    "```python\n",
    ">>> for v in Divn(n=14, v1=2, v2=3, v3=7):\n",
    ">>>     print(v)\n",
    "1\n",
    "2 divisible by 2\n",
    "3 divisible by 3\n",
    "4 divisible by 2\n",
    "5\n",
    "6 divisible by 2, 3\n",
    "7 divisible by 7\n",
    "8 divisible by 2\n",
    "9 divisible by 3\n",
    "10 divisible by 2\n",
    "11\n",
    "12 divisible by 2, 3\n",
    "13\n",
    "14 divisible by 2, 7\n",
    "```"
   ]
  },
  {
   "cell_type": "markdown",
   "metadata": {},
   "source": [
    "## Generadores"
   ]
  },
  {
   "cell_type": "markdown",
   "metadata": {},
   "source": [
    "La complejidad de crear un iterador no es siempre necesarias. Un _generador_ es una herramienta simple para crear un iterador.\n",
    "\n",
    "> Una función _generadora_ nos permite declarar una función que se comporte como un iterador, i.e., que se pueda usar en un _for loop_\n",
    "\n",
    "La diferencia entre una función y un generador está en usar el keyword `yield` a cada momento que deseamos regresar información.\n",
    "\n",
    "```python\n",
    "def generator_fn():\n",
    "    ...\n",
    "    yield v\n",
    "```"
   ]
  },
  {
   "cell_type": "code",
   "execution_count": 14,
   "metadata": {},
   "outputs": [
    {
     "name": "stdout",
     "output_type": "stream",
     "text": [
      "0 1 2 3 4 5 6 7 8 9 "
     ]
    }
   ],
   "source": [
    "from time import sleep\n",
    "def give_10():\n",
    "    for i in range(10):\n",
    "        yield i\n",
    "        sleep(0.5)\n",
    "\n",
    "for v in give_10():\n",
    "    print(v, end=\" \")"
   ]
  },
  {
   "cell_type": "code",
   "execution_count": 15,
   "metadata": {},
   "outputs": [
    {
     "name": "stdout",
     "output_type": "stream",
     "text": [
      "0 1 2 3 4 5 6 7 8 9 "
     ]
    }
   ],
   "source": [
    "from time import sleep\n",
    "def give_10():\n",
    "    return [0, 1, 2, 3, 4, 5, 6, 7, 8, 9]\n",
    "\n",
    "for v in give_10():\n",
    "    print(v, end=\" \")"
   ]
  },
  {
   "cell_type": "markdown",
   "metadata": {},
   "source": [
    "En los ejemplos anteriores creamos una función la cuál nos regresa una lista de 10 elementos.\n",
    "\n",
    "En el siguiente ejemplos las ventas y desventajas de usar una función o un generador dentro de una función. Mientras que `func.py` corrió substancialmente más rápido, crear la lista `a` genera 7mb de memoria extra que no ocupa el archivo `gen.py`."
   ]
  },
  {
   "cell_type": "code",
   "execution_count": 19,
   "metadata": {},
   "outputs": [
    {
     "name": "stdout",
     "output_type": "stream",
     "text": [
      "Filename: ../files/lec02/func.py\n",
      "\n",
      "Line #    Mem usage    Increment   Line Contents\n",
      "================================================\n",
      "     1   36.180 MiB   36.180 MiB   @profile\n",
      "     2                             def my_func():\n",
      "     3   43.812 MiB    7.633 MiB       a = [1] * (10 ** 6)\n",
      "     4   43.812 MiB    0.000 MiB       return sum(a)\n",
      "\n",
      "\n",
      "\n",
      "real\t0m0.448s\n",
      "user\t0m0.324s\n",
      "sys\t0m0.119s\n"
     ]
    }
   ],
   "source": [
    "!time python -m memory_profiler ../files/lec02/func.py"
   ]
  },
  {
   "cell_type": "code",
   "execution_count": 21,
   "metadata": {},
   "outputs": [
    {
     "name": "stdout",
     "output_type": "stream",
     "text": [
      "Filename: ../files/lec02/gen.py\n",
      "\n",
      "Line #    Mem usage    Increment   Line Contents\n",
      "================================================\n",
      "     1   36.195 MiB   36.195 MiB   @profile\n",
      "     2                             def my_func():\n",
      "     3   36.195 MiB    0.000 MiB       total_sum = 0\n",
      "     4   36.207 MiB    0.000 MiB       for v in range(10 ** 6):\n",
      "     5   36.207 MiB    0.012 MiB           total_sum += v\n",
      "     6   36.207 MiB    0.000 MiB       return total_sum\n",
      "\n",
      "\n",
      "\n",
      "real\t1m11.906s\n",
      "user\t0m47.399s\n",
      "sys\t0m24.312s\n"
     ]
    }
   ],
   "source": [
    "!time python -m memory_profiler ../files/lec02/gen.py"
   ]
  },
  {
   "cell_type": "markdown",
   "metadata": {},
   "source": [
    "<h3 style=\"color:#56565a\">Ejemplos</h3>\n",
    "\n",
    "1. Crea el generador `fizz_buzz(n)` el cual itere `n` veces y cumpla que, para cada `i = 1, ..., n`,\n",
    "    * Si `i` es divisible por `3`, el generador deberá regresar `\"Fizz\"`;\n",
    "    * si `i` es divisible por `5`, el generador deberá regresar `\"Buzz\"`; \n",
    "    * si `i` es divisible por `5` y `3`, el generador deberá regresar `\"FizzBuzz\"`; \n",
    "    * si ninguna de las reglas de arriba se cumple, el generador deberá regresar `i`."
   ]
  },
  {
   "cell_type": "code",
   "execution_count": 17,
   "metadata": {},
   "outputs": [
    {
     "name": "stdout",
     "output_type": "stream",
     "text": [
      "1   2   Fizz   4   Buzz   Fizz   7   8   Fizz   Buzz   11   Fizz   13   14   FizzBuzz   "
     ]
    }
   ],
   "source": [
    "def fizz_buzz(n):\n",
    "    for i in range(1, n + 1):\n",
    "        f_or_b = [i % 3 == 0, i % 5 == 0]\n",
    "        if any(f_or_b):\n",
    "            yield \"Fizz\" * f_or_b[0] + \"Buzz\" * f_or_b[1]\n",
    "        else:\n",
    "            yield i\n",
    "\n",
    "for v in fizz_buzz(15):\n",
    "    print(v, end=\"   \")"
   ]
  },
  {
   "cell_type": "markdown",
   "metadata": {},
   "source": [
    "Consideremos como un segundo ejemplo cálcular la suma de los número $\\{0, 1, \\ldots, 10^{10} - 1\\}$\n",
    "\n",
    "`P1`\n",
    "```python\n",
    "    sum(list(range(10 ** 10)))\n",
    "```\n",
    "\n",
    "`P2`\n",
    "```python\n",
    "    sum(range(10 ** 10))\n",
    "```\n",
    "\n",
    "\n",
    "\n",
    "* **¿Cuál de las siguientes gráficas es más factible haya sido creado por el primer programa? ¿por qué?**"
   ]
  },
  {
   "cell_type": "markdown",
   "metadata": {},
   "source": [
    "![F1](../files/lec02/pfunc.png)\n",
    "\n",
    "![Generator](../files/lec02/pgen.png)"
   ]
  },
  {
   "cell_type": "markdown",
   "metadata": {},
   "source": [
    "Del ejemplo antetior,\n",
    "* el incremento de memoría usada del segundo al primer programa, en su punto máximo es 9,900% (approx);\n",
    "* el incremento del primer al segundo programa fue 125% (approx)"
   ]
  },
  {
   "cell_type": "markdown",
   "metadata": {},
   "source": [
    "Usar un generador es más convieniente cuando:\n",
    "* Trabajemos con datos sobre los cuáles vamos a iterar. _Desempacar_ los valores uno a uno o _one shot_ depende de la cantidad de información con la que trabajaremos;\n",
    "* exista un proceso dentro de nuestro programa el cuál no dependa de nuestra computadora, e.g., requerir información de un servidor o base de datos.\n",
    "\n"
   ]
  },
  {
   "cell_type": "markdown",
   "metadata": {},
   "source": [
    "## Itertools\n",
    "\n",
    "`itertools` es una colección de funciones que regresan `iterators` o `generadores`"
   ]
  },
  {
   "cell_type": "markdown",
   "metadata": {},
   "source": [
    "## Referencias\n",
    "1. https://wiki.python.org/moin/Generators\n",
    "2. https://wiki.python.org/moin/Iterator\n",
    "3. https://docs.python.org/3/tutorial/classes.html\n",
    "4. https://docs.python.org/3/library/itertools.html"
   ]
  }
 ],
 "metadata": {
  "kernelspec": {
   "display_name": "Python 3",
   "language": "python",
   "name": "python3"
  },
  "language_info": {
   "codemirror_mode": {
    "name": "ipython",
    "version": 3
   },
   "file_extension": ".py",
   "mimetype": "text/x-python",
   "name": "python",
   "nbconvert_exporter": "python",
   "pygments_lexer": "ipython3",
   "version": "3.7.2"
  }
 },
 "nbformat": 4,
 "nbformat_minor": 2
}
