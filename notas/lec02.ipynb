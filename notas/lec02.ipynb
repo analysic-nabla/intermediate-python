{
 "cells": [
  {
   "cell_type": "markdown",
   "metadata": {},
   "source": [
    "![logo](../files/misc/logo.png)\n",
    "<h1 style=\"color:#872325\">Depuración y Excepciones</h1>"
   ]
  },
  {
   "cell_type": "markdown",
   "metadata": {},
   "source": [
    "A medida que nuestros programas crecen o trabajamos con problemas complejos, la probabildad de cometer un error al programar crece de igual manera. En la programación, así como en python, existen tres tipos principales de *errores* con los que nos podemos encontrar:\n",
    "* **Syntax Error**\n",
    "* **Sematic Errors**\n",
    "* **Logical Errors** "
   ]
  },
  {
   "cell_type": "markdown",
   "metadata": {},
   "source": [
    "## Syntax Error\n",
    "\n",
    "* Un error de sintaxis occure cuando python detecta una expresión que viola la manera de escribir código dentro de python. \n",
    "* Al correr un programa con un *syntax error*, python nos indica en qué parte del código se encuentra el código inválido"
   ]
  },
  {
   "cell_type": "code",
   "execution_count": 19,
   "metadata": {},
   "outputs": [
    {
     "ename": "SyntaxError",
     "evalue": "invalid syntax (<ipython-input-19-4ce0fa08ff1c>, line 4)",
     "output_type": "error",
     "traceback": [
      "\u001b[0;36m  File \u001b[0;32m\"<ipython-input-19-4ce0fa08ff1c>\"\u001b[0;36m, line \u001b[0;32m4\u001b[0m\n\u001b[0;31m    def suma2(a)\u001b[0m\n\u001b[0m                ^\u001b[0m\n\u001b[0;31mSyntaxError\u001b[0m\u001b[0;31m:\u001b[0m invalid syntax\n"
     ]
    }
   ],
   "source": [
    "# Error: \n",
    "#    omitimos dos puntos después de la definición de la función\n",
    "#    un punto fuera de lugar depues de 'return'\n",
    "def suma2(a)\n",
    "    return. a + 2"
   ]
  },
  {
   "cell_type": "code",
   "execution_count": 20,
   "metadata": {},
   "outputs": [
    {
     "ename": "SyntaxError",
     "evalue": "invalid syntax (<ipython-input-20-eb6f74767a7e>, line 2)",
     "output_type": "error",
     "traceback": [
      "\u001b[0;36m  File \u001b[0;32m\"<ipython-input-20-eb6f74767a7e>\"\u001b[0;36m, line \u001b[0;32m2\u001b[0m\n\u001b[0;31m    (1 / 2) + 2)\u001b[0m\n\u001b[0m               ^\u001b[0m\n\u001b[0;31mSyntaxError\u001b[0m\u001b[0;31m:\u001b[0m invalid syntax\n"
     ]
    }
   ],
   "source": [
    "# Error: Olvidamos abrir un paréntesis\n",
    "(1 / 2) + 2)"
   ]
  },
  {
   "cell_type": "code",
   "execution_count": 24,
   "metadata": {},
   "outputs": [
    {
     "ename": "SyntaxError",
     "evalue": "invalid syntax (<ipython-input-24-63681a88bd67>, line 1)",
     "output_type": "error",
     "traceback": [
      "\u001b[0;36m  File \u001b[0;32m\"<ipython-input-24-63681a88bd67>\"\u001b[0;36m, line \u001b[0;32m1\u001b[0m\n\u001b[0;31m    5f = \"f\" * 5\u001b[0m\n\u001b[0m     ^\u001b[0m\n\u001b[0;31mSyntaxError\u001b[0m\u001b[0;31m:\u001b[0m invalid syntax\n"
     ]
    }
   ],
   "source": [
    "5f = \"f\" * 5"
   ]
  },
  {
   "cell_type": "markdown",
   "metadata": {},
   "source": [
    "No considerar una sangría se considera un error de sintaxis."
   ]
  },
  {
   "cell_type": "code",
   "execution_count": 21,
   "metadata": {},
   "outputs": [
    {
     "ename": "IndentationError",
     "evalue": "expected an indented block (<ipython-input-21-9dc74d382760>, line 2)",
     "output_type": "error",
     "traceback": [
      "\u001b[0;36m  File \u001b[0;32m\"<ipython-input-21-9dc74d382760>\"\u001b[0;36m, line \u001b[0;32m2\u001b[0m\n\u001b[0;31m    print(i, sep=\" \")\u001b[0m\n\u001b[0m        ^\u001b[0m\n\u001b[0;31mIndentationError\u001b[0m\u001b[0;31m:\u001b[0m expected an indented block\n"
     ]
    }
   ],
   "source": [
    "for i in range(10):\n",
    "print(i, sep=\" \")"
   ]
  },
  {
   "cell_type": "code",
   "execution_count": 23,
   "metadata": {},
   "outputs": [
    {
     "data": {
      "text/plain": [
       "True"
      ]
     },
     "execution_count": 23,
     "metadata": {},
     "output_type": "execute_result"
    }
   ],
   "source": [
    "# Validamos que un error de sangría pertenzca a un error de sintáxis\n",
    "issubclass(IndentationError, SyntaxError)"
   ]
  },
  {
   "cell_type": "markdown",
   "metadata": {},
   "source": [
    "## Semantic Error\n",
    "Un error semántico occure cuando la sintáxis de un programa es correcto, pero el resultado del programa arroja un error dado un uso incorrecto de alguna función u operación."
   ]
  },
  {
   "cell_type": "code",
   "execution_count": 24,
   "metadata": {},
   "outputs": [],
   "source": [
    "def power(a, b):\n",
    "    return a ** b"
   ]
  },
  {
   "cell_type": "code",
   "execution_count": 26,
   "metadata": {},
   "outputs": [
    {
     "ename": "TypeError",
     "evalue": "unsupported operand type(s) for ** or pow(): 'int' and 'str'",
     "output_type": "error",
     "traceback": [
      "\u001b[0;31m---------------------------------------------------------------------------\u001b[0m",
      "\u001b[0;31mTypeError\u001b[0m                                 Traceback (most recent call last)",
      "\u001b[0;32m<ipython-input-26-d6b91e06519a>\u001b[0m in \u001b[0;36m<module>\u001b[0;34m\u001b[0m\n\u001b[0;32m----> 1\u001b[0;31m \u001b[0mpower\u001b[0m\u001b[0;34m(\u001b[0m\u001b[0;36m3\u001b[0m\u001b[0;34m,\u001b[0m \u001b[0;34m\"a\"\u001b[0m\u001b[0;34m)\u001b[0m\u001b[0;34m\u001b[0m\u001b[0m\n\u001b[0m",
      "\u001b[0;32m<ipython-input-24-6b8c6f114cdc>\u001b[0m in \u001b[0;36mpower\u001b[0;34m(a, b)\u001b[0m\n\u001b[1;32m      1\u001b[0m \u001b[0;32mdef\u001b[0m \u001b[0mpower\u001b[0m\u001b[0;34m(\u001b[0m\u001b[0ma\u001b[0m\u001b[0;34m,\u001b[0m \u001b[0mb\u001b[0m\u001b[0;34m)\u001b[0m\u001b[0;34m:\u001b[0m\u001b[0;34m\u001b[0m\u001b[0m\n\u001b[0;32m----> 2\u001b[0;31m     \u001b[0;32mreturn\u001b[0m \u001b[0ma\u001b[0m \u001b[0;34m**\u001b[0m \u001b[0mb\u001b[0m\u001b[0;34m\u001b[0m\u001b[0m\n\u001b[0m",
      "\u001b[0;31mTypeError\u001b[0m: unsupported operand type(s) for ** or pow(): 'int' and 'str'"
     ]
    }
   ],
   "source": [
    "power(3, \"a\")"
   ]
  },
  {
   "cell_type": "markdown",
   "metadata": {},
   "source": [
    "En el ejemplo anterior, la definición de nuestra función es correcta. Sin embargo, al tratar de evaluar `power(3, \"a\"`), nuestro programa trata de elevar `3` al string `\"a\"`, lo cuál no tiene sentido. Por lo que nos arroja una *excepción* en el código.\n",
    "\n",
    "En python, cualquier error que detenga un programa se conoce como una **excepción**."
   ]
  },
  {
   "cell_type": "code",
   "execution_count": 6,
   "metadata": {},
   "outputs": [
    {
     "data": {
      "text/plain": [
       "True"
      ]
     },
     "execution_count": 6,
     "metadata": {},
     "output_type": "execute_result"
    }
   ],
   "source": [
    "issubclass(TypeError, Exception)"
   ]
  },
  {
   "cell_type": "markdown",
   "metadata": {},
   "source": [
    "Python cuenta con varias [excepciones incorporadas en el lenguaje](https://docs.python.org/3/library/exceptions.html) e igual nos permite declarar nuestras propias excepciones."
   ]
  },
  {
   "cell_type": "code",
   "execution_count": 7,
   "metadata": {},
   "outputs": [
    {
     "ename": "ZeroDivisionError",
     "evalue": "division by zero",
     "output_type": "error",
     "traceback": [
      "\u001b[0;31m---------------------------------------------------------------------------\u001b[0m",
      "\u001b[0;31mZeroDivisionError\u001b[0m                         Traceback (most recent call last)",
      "\u001b[0;32m<ipython-input-7-c0c9dc45e2b4>\u001b[0m in \u001b[0;36m<module>\u001b[0;34m\u001b[0m\n\u001b[0;32m----> 1\u001b[0;31m \u001b[0;36m7\u001b[0m \u001b[0;34m/\u001b[0m \u001b[0;36m0\u001b[0m\u001b[0;34m\u001b[0m\u001b[0m\n\u001b[0m",
      "\u001b[0;31mZeroDivisionError\u001b[0m: division by zero"
     ]
    }
   ],
   "source": [
    "7 / 0"
   ]
  },
  {
   "cell_type": "code",
   "execution_count": 27,
   "metadata": {},
   "outputs": [
    {
     "ename": "ModuleNotFoundError",
     "evalue": "No module named 'exams_solutions'",
     "output_type": "error",
     "traceback": [
      "\u001b[0;31m---------------------------------------------------------------------------\u001b[0m",
      "\u001b[0;31mModuleNotFoundError\u001b[0m                       Traceback (most recent call last)",
      "\u001b[0;32m<ipython-input-27-297ae11403a2>\u001b[0m in \u001b[0;36m<module>\u001b[0;34m\u001b[0m\n\u001b[0;32m----> 1\u001b[0;31m \u001b[0;32mimport\u001b[0m \u001b[0mexams_solutions\u001b[0m\u001b[0;34m\u001b[0m\u001b[0m\n\u001b[0m",
      "\u001b[0;31mModuleNotFoundError\u001b[0m: No module named 'exams_solutions'"
     ]
    }
   ],
   "source": [
    "import exams_solutions"
   ]
  },
  {
   "cell_type": "code",
   "execution_count": 15,
   "metadata": {},
   "outputs": [
    {
     "ename": "KeyError",
     "evalue": "'invenciones'",
     "output_type": "error",
     "traceback": [
      "\u001b[0;31m---------------------------------------------------------------------------\u001b[0m",
      "\u001b[0;31mKeyError\u001b[0m                                  Traceback (most recent call last)",
      "\u001b[0;32m<ipython-input-15-fe8b0360ad22>\u001b[0m in \u001b[0;36m<module>\u001b[0;34m\u001b[0m\n\u001b[1;32m      5\u001b[0m }\n\u001b[1;32m      6\u001b[0m \u001b[0;34m\u001b[0m\u001b[0m\n\u001b[0;32m----> 7\u001b[0;31m \u001b[0malumno\u001b[0m\u001b[0;34m[\u001b[0m\u001b[0;34m\"invenciones\"\u001b[0m\u001b[0;34m]\u001b[0m\u001b[0;34m\u001b[0m\u001b[0m\n\u001b[0m",
      "\u001b[0;31mKeyError\u001b[0m: 'invenciones'"
     ]
    }
   ],
   "source": [
    "alumno = {\n",
    "    \"nombre\": \"Isaac\",\n",
    "    \"apellido\": \"Newton\",\n",
    "    \"edad\": 375,\n",
    "}\n",
    "\n",
    "alumno[\"invenciones\"]"
   ]
  },
  {
   "cell_type": "code",
   "execution_count": 28,
   "metadata": {},
   "outputs": [
    {
     "ename": "NameError",
     "evalue": "name 'b' is not defined",
     "output_type": "error",
     "traceback": [
      "\u001b[0;31m---------------------------------------------------------------------------\u001b[0m",
      "\u001b[0;31mNameError\u001b[0m                                 Traceback (most recent call last)",
      "\u001b[0;32m<ipython-input-28-3921907d5986>\u001b[0m in \u001b[0;36m<module>\u001b[0;34m\u001b[0m\n\u001b[1;32m      1\u001b[0m \u001b[0ma\u001b[0m \u001b[0;34m=\u001b[0m \u001b[0;36m42\u001b[0m\u001b[0;34m\u001b[0m\u001b[0m\n\u001b[0;32m----> 2\u001b[0;31m \u001b[0ma\u001b[0m \u001b[0;34m*\u001b[0m \u001b[0mb\u001b[0m\u001b[0;34m\u001b[0m\u001b[0m\n\u001b[0m",
      "\u001b[0;31mNameError\u001b[0m: name 'b' is not defined"
     ]
    }
   ],
   "source": [
    "a = 42\n",
    "a * b"
   ]
  },
  {
   "cell_type": "markdown",
   "metadata": {},
   "source": [
    "## Logical Errors\n",
    "Los errores lógicos ocurren cuando el programa no se topa con alguna excepción, pero el resultado del programa no es el esperado por el usuario, i.e., la *descripción* del programa no fue correctamente especificada."
   ]
  },
  {
   "cell_type": "markdown",
   "metadata": {},
   "source": [
    "<h2 style=\"color:teal\">Ejemplo</h2>\n",
    "\n",
    "Julieta quiere definir una función `diamond` que imprima que, dado un parámetro `row` con el número total de filas, imprima un diamante de la siguiente manera.\n",
    "```\n",
    "    *    \n",
    "   ***   \n",
    "  *****  \n",
    " ******* \n",
    "*********\n",
    " ******* \n",
    "  *****  \n",
    "   ***   \n",
    "    *    \n",
    "```\n",
    "\n",
    "Hasta ahora tiene el siguiente programa\n",
    "```python\n",
    "def diamond(rows):\n",
    "    total_diamond = \"\"\n",
    "    mid_row = rows / 2 - 0.5\n",
    "    for i in range(rows):\n",
    "        if i <= mid_row:\n",
    "            nelemen = i + 1\n",
    "        else:\n",
    "            row_factor = (i - mid_row ) \n",
    "            nelemen = rows - row_factor\n",
    "\n",
    "        # row = \"*\" * nelemen.center(rows, \" \")\n",
    "        # total_diamond += row + \"\\n\"\n",
    "        print(nelemen)     \n",
    "```\n",
    "que imprime los siguientes valores\n",
    "```python\n",
    "1\n",
    "2\n",
    "3\n",
    "4\n",
    "5\n",
    "8.0\n",
    "7.0\n",
    "6.0\n",
    "5.0\n",
    "```\n",
    "¿Cómo arreglariamos el código?"
   ]
  },
  {
   "cell_type": "code",
   "execution_count": 2,
   "metadata": {},
   "outputs": [
    {
     "ename": "AttributeError",
     "evalue": "'int' object has no attribute 'center'",
     "output_type": "error",
     "traceback": [
      "\u001b[0;31m---------------------------------------------------------------------------\u001b[0m",
      "\u001b[0;31mAttributeError\u001b[0m                            Traceback (most recent call last)",
      "\u001b[0;32m<ipython-input-2-0d136b1fde4b>\u001b[0m in \u001b[0;36m<module>\u001b[0;34m\u001b[0m\n\u001b[1;32m     13\u001b[0m         \u001b[0mtotal_diamond\u001b[0m \u001b[0;34m+=\u001b[0m \u001b[0mrow\u001b[0m \u001b[0;34m+\u001b[0m \u001b[0;34m\"\\n\"\u001b[0m\u001b[0;34m\u001b[0m\u001b[0m\n\u001b[1;32m     14\u001b[0m \u001b[0;34m\u001b[0m\u001b[0m\n\u001b[0;32m---> 15\u001b[0;31m \u001b[0mdiamond\u001b[0m\u001b[0;34m(\u001b[0m\u001b[0;36m9\u001b[0m\u001b[0;34m)\u001b[0m\u001b[0;34m\u001b[0m\u001b[0m\n\u001b[0m",
      "\u001b[0;32m<ipython-input-2-0d136b1fde4b>\u001b[0m in \u001b[0;36mdiamond\u001b[0;34m(rows)\u001b[0m\n\u001b[1;32m      9\u001b[0m             \u001b[0mnelemen\u001b[0m \u001b[0;34m=\u001b[0m \u001b[0mrows\u001b[0m \u001b[0;34m-\u001b[0m \u001b[0mrow_factor\u001b[0m\u001b[0;34m\u001b[0m\u001b[0m\n\u001b[1;32m     10\u001b[0m         \u001b[0;31m# Quitando los comentarios nos arroja el siguiente resultado\u001b[0m\u001b[0;34m\u001b[0m\u001b[0;34m\u001b[0m\u001b[0m\n\u001b[0;32m---> 11\u001b[0;31m         \u001b[0mrow\u001b[0m \u001b[0;34m=\u001b[0m \u001b[0;34m\"*\"\u001b[0m \u001b[0;34m*\u001b[0m \u001b[0mnelemen\u001b[0m\u001b[0;34m.\u001b[0m\u001b[0mcenter\u001b[0m\u001b[0;34m(\u001b[0m\u001b[0mrows\u001b[0m\u001b[0;34m,\u001b[0m \u001b[0;34m\" \"\u001b[0m\u001b[0;34m)\u001b[0m\u001b[0;34m\u001b[0m\u001b[0m\n\u001b[0m\u001b[1;32m     12\u001b[0m         \u001b[0mprint\u001b[0m\u001b[0;34m(\u001b[0m\u001b[0mrow\u001b[0m\u001b[0;34m)\u001b[0m\u001b[0;34m\u001b[0m\u001b[0m\n\u001b[1;32m     13\u001b[0m         \u001b[0mtotal_diamond\u001b[0m \u001b[0;34m+=\u001b[0m \u001b[0mrow\u001b[0m \u001b[0;34m+\u001b[0m \u001b[0;34m\"\\n\"\u001b[0m\u001b[0;34m\u001b[0m\u001b[0m\n",
      "\u001b[0;31mAttributeError\u001b[0m: 'int' object has no attribute 'center'"
     ]
    }
   ],
   "source": [
    "def diamond(rows):\n",
    "    total_diamond = \"\"\n",
    "    mid_row = rows / 2 - 0.5\n",
    "    for i in range(rows):\n",
    "        if i <= mid_row:\n",
    "            nelemen = i + 1\n",
    "        else:\n",
    "            row_factor = (i - mid_row) \n",
    "            nelemen = rows - row_factor\n",
    "        # Quitando los comentarios nos arroja el siguiente resultado\n",
    "        row = \"*\" * nelemen.center(rows, \" \")\n",
    "        print(row)\n",
    "        total_diamond += row + \"\\n\"\n",
    "        \n",
    "diamond(9)"
   ]
  },
  {
   "cell_type": "markdown",
   "metadata": {},
   "source": [
    "Fijándonos en la última celda, vemos que el programa nos arroja un error de sintaxis."
   ]
  },
  {
   "cell_type": "code",
   "execution_count": 3,
   "metadata": {},
   "outputs": [
    {
     "name": "stdout",
     "output_type": "stream",
     "text": [
      "    *    \n",
      "    **   \n",
      "   ***   \n",
      "   ****  \n",
      "  *****  \n"
     ]
    },
    {
     "ename": "TypeError",
     "evalue": "can't multiply sequence by non-int of type 'float'",
     "output_type": "error",
     "traceback": [
      "\u001b[0;31m---------------------------------------------------------------------------\u001b[0m",
      "\u001b[0;31mTypeError\u001b[0m                                 Traceback (most recent call last)",
      "\u001b[0;32m<ipython-input-3-c4c76b0ebce5>\u001b[0m in \u001b[0;36m<module>\u001b[0;34m\u001b[0m\n\u001b[1;32m     13\u001b[0m         \u001b[0mprint\u001b[0m\u001b[0;34m(\u001b[0m\u001b[0mrow\u001b[0m\u001b[0;34m)\u001b[0m\u001b[0;34m\u001b[0m\u001b[0m\n\u001b[1;32m     14\u001b[0m \u001b[0;34m\u001b[0m\u001b[0m\n\u001b[0;32m---> 15\u001b[0;31m \u001b[0mdiamond\u001b[0m\u001b[0;34m(\u001b[0m\u001b[0;36m9\u001b[0m\u001b[0;34m)\u001b[0m\u001b[0;34m\u001b[0m\u001b[0m\n\u001b[0m",
      "\u001b[0;32m<ipython-input-3-c4c76b0ebce5>\u001b[0m in \u001b[0;36mdiamond\u001b[0;34m(rows)\u001b[0m\n\u001b[1;32m      9\u001b[0m             \u001b[0mnelemen\u001b[0m \u001b[0;34m=\u001b[0m \u001b[0mrows\u001b[0m \u001b[0;34m-\u001b[0m \u001b[0mrow_factor\u001b[0m\u001b[0;34m\u001b[0m\u001b[0m\n\u001b[1;32m     10\u001b[0m         \u001b[0;31m# Agregamos los paréntesis faltantes\u001b[0m\u001b[0;34m\u001b[0m\u001b[0;34m\u001b[0m\u001b[0m\n\u001b[0;32m---> 11\u001b[0;31m         \u001b[0mrow\u001b[0m \u001b[0;34m=\u001b[0m \u001b[0;34m(\u001b[0m\u001b[0;34m\"*\"\u001b[0m \u001b[0;34m*\u001b[0m \u001b[0mnelemen\u001b[0m\u001b[0;34m)\u001b[0m\u001b[0;34m.\u001b[0m\u001b[0mcenter\u001b[0m\u001b[0;34m(\u001b[0m\u001b[0mrows\u001b[0m\u001b[0;34m,\u001b[0m \u001b[0;34m\" \"\u001b[0m\u001b[0;34m)\u001b[0m\u001b[0;34m\u001b[0m\u001b[0m\n\u001b[0m\u001b[1;32m     12\u001b[0m         \u001b[0mtotal_diamond\u001b[0m \u001b[0;34m+=\u001b[0m \u001b[0mrow\u001b[0m \u001b[0;34m+\u001b[0m \u001b[0;34m\"\\n\"\u001b[0m\u001b[0;34m\u001b[0m\u001b[0m\n\u001b[1;32m     13\u001b[0m         \u001b[0mprint\u001b[0m\u001b[0;34m(\u001b[0m\u001b[0mrow\u001b[0m\u001b[0;34m)\u001b[0m\u001b[0;34m\u001b[0m\u001b[0m\n",
      "\u001b[0;31mTypeError\u001b[0m: can't multiply sequence by non-int of type 'float'"
     ]
    }
   ],
   "source": [
    "def diamond(rows):\n",
    "    total_diamond = \"\"\n",
    "    mid_row = rows / 2 - 0.5\n",
    "    for i in range(rows):\n",
    "        if i <= mid_row:\n",
    "            nelemen = i + 1\n",
    "        else:\n",
    "            row_factor = (i - mid_row) \n",
    "            nelemen = rows - row_factor\n",
    "        # Agregamos los paréntesis faltantes\n",
    "        row = (\"*\" * nelemen).center(rows, \" \")\n",
    "        total_diamond += row + \"\\n\"\n",
    "        print(row)\n",
    "        \n",
    "diamond(9)"
   ]
  },
  {
   "cell_type": "markdown",
   "metadata": {},
   "source": [
    "El programa ahora detectra otra excepción: no podemos crear una secuencia de `str`s considerando un float"
   ]
  },
  {
   "cell_type": "code",
   "execution_count": 5,
   "metadata": {},
   "outputs": [
    {
     "name": "stdout",
     "output_type": "stream",
     "text": [
      "    *    \n",
      "    **   \n",
      "   ***   \n",
      "   ****  \n",
      "  *****  \n",
      " ********\n",
      " ******* \n",
      "  ****** \n",
      "  *****  \n"
     ]
    }
   ],
   "source": [
    "def diamond(rows):\n",
    "    total_diamond = \"\"\n",
    "    # División entera\n",
    "    mid_row = rows // 2\n",
    "    for i in range(rows):\n",
    "        if i <= mid_row:\n",
    "            nelemen = i + 1\n",
    "        else:\n",
    "            row_factor = (i - mid_row) \n",
    "            nelemen = rows - row_factor\n",
    "        row = (\"*\" * nelemen).center(rows, \" \")\n",
    "        print(row)\n",
    "        total_diamond += row + \"\\n\"\n",
    "        \n",
    "diamond(9)"
   ]
  },
  {
   "cell_type": "code",
   "execution_count": 223,
   "metadata": {},
   "outputs": [
    {
     "name": "stdout",
     "output_type": "stream",
     "text": [
      "    *    \n",
      "   ***   \n",
      "  *****  \n",
      " ******* \n",
      "*********\n",
      " ********\n",
      " ******* \n",
      "  ****** \n",
      "  *****  \n"
     ]
    }
   ],
   "source": [
    "def diamond(rows):\n",
    "    total_diamond = \"\"\n",
    "    # División entera\n",
    "    mid_row = rows // 2\n",
    "    for i in range(rows):\n",
    "        if i <= mid_row:\n",
    "            # ordenar los elementos\n",
    "            nelemen = i * 2 + 1\n",
    "        else:\n",
    "            row_factor = (i - mid_row ) \n",
    "            nelemen = rows - row_factor\n",
    "        # Quitando los comentarios nos arroja el siguiente resultado\n",
    "        row = (\"*\" * nelemen).center(rows, \" \")\n",
    "        print(row)\n",
    "        total_diamond += row + \"\\n\"\n",
    "        \n",
    "diamond(9)"
   ]
  },
  {
   "cell_type": "code",
   "execution_count": 6,
   "metadata": {},
   "outputs": [
    {
     "name": "stdout",
     "output_type": "stream",
     "text": [
      "    *    \n",
      "   ***   \n",
      "  *****  \n",
      " ******* \n",
      "*********\n",
      " ******* \n",
      "  *****  \n",
      "   ***   \n",
      "    *    \n"
     ]
    }
   ],
   "source": [
    "def diamond(rows):\n",
    "    total_diamond = \"\"\n",
    "    # División entera\n",
    "    mid_row = rows // 2\n",
    "    for i in range(rows):\n",
    "        if i <= mid_row:\n",
    "            # ordenar los elementos\n",
    "            nelemen = i * 2 + 1\n",
    "        else:\n",
    "            # Consideramos el número de elementos \n",
    "            # por abajo de la segunda línea\n",
    "            row_factor = (i - mid_row) * 2 \n",
    "            nelemen = rows - row_factor\n",
    "        row = (\"*\" * nelemen).center(rows, \" \")\n",
    "        print(row)\n",
    "        total_diamond += row + \"\\n\"\n",
    "        \n",
    "diamond(9)"
   ]
  },
  {
   "cell_type": "markdown",
   "metadata": {},
   "source": [
    "-------"
   ]
  },
  {
   "cell_type": "markdown",
   "metadata": {},
   "source": [
    "## Trabajando con excepciones\n",
    "### `try`, `except`\n",
    "\n",
    "En ocasiones es deseable continuar la ejecución de un programa, aún existiendo excepciones dentro del mismo."
   ]
  },
  {
   "cell_type": "code",
   "execution_count": 1,
   "metadata": {},
   "outputs": [
    {
     "name": "stdout",
     "output_type": "stream",
     "text": [
      "ingresa un número: arbol\n",
      "El valor asignado no es un número\n",
      "ingresa un número: 100\n"
     ]
    }
   ],
   "source": [
    "# Pide una serie de números tal que su suma sea mayor o igual a 100\n",
    "# guarda cada elemento de la suma final en una lista de números. \n",
    "# Ignora todo elemento que no se pueda convertir a un int (el cuál\n",
    "# se vería reflejado en un 'ValueError')\n",
    "numbers = []\n",
    "while True:\n",
    "    try:\n",
    "        x = int(input(\"ingresa un número: \"))\n",
    "        numbers.append(x)\n",
    "        if sum(numbers) >= 100:\n",
    "            break\n",
    "    except (ValueError, FileNotFoundError):\n",
    "        print(\"El valor asignado no es un número\")"
   ]
  },
  {
   "cell_type": "markdown",
   "metadata": {},
   "source": [
    "El `try` keyword funciona de la siguiente manera:\n",
    "\n",
    "1. Las líneas dentro del `try` se ejecutan\n",
    "2. * Si no ocurre ninguna excepción, las líneas del `except` se omiten y el programa continua\n",
    "   * Si ocurre alguna excepción dentro del `try`, se omite el resto de las líneas del `try` y se evalua el `except`, el cuál se ejectuta si el tipo de excepción es la especificada después del `except`.\n",
    "   * Si la excepción del programa no es la especificada después del `except`, el programa se detiene.\n",
    "\n"
   ]
  },
  {
   "cell_type": "markdown",
   "metadata": {},
   "source": [
    "### Levantando Excepciones\n",
    "\n",
    "El keyword `raise` nos permite levantar excepciones en partes específicas de un programa. Esto es deseable en todas aquellas ocasiones en las cuales un programa no sea conforme a las partes usadas (funciones, operaciones, *statements*, etc.), pero no a nuestro programa.\n",
    "\n",
    "Consideremos la función `rate_converter` definida a continuación\n",
    "\n",
    "```python\n",
    "def rate_converter(rate, yearly_payoff, base):\n",
    "    \"\"\"\n",
    "    Convierte una tasa nominal pagadera 'yearly_payoff'\n",
    "    al año, por una tasa anual efectiva\n",
    "\n",
    "    Parameters\n",
    "    ----------\n",
    "    rate: Una tasa convertir\n",
    "    yearly_payoff: el número de veces en el que se reinvierte la tasa nominal\n",
    "    base: str (\"nominal\" ^ \"effective\")\n",
    "        La base de la tasa a convertir\n",
    "\n",
    "    Returns\n",
    "    -------\n",
    "    Una tasa convertida\n",
    "    \"\"\"\n",
    "    if base == \"nominal\":\n",
    "        return (1 + rate) ** yearly_payoff - 1\n",
    "    elif base == \"effective\":\n",
    "        return yearly_payoff * ((1 + rate) ** (1 / yearly_payoff) - 1)\n",
    "```\n",
    "\n",
    "`rate_converter` nos permite asignar cualquier tipo de *base* a la función. En cuyo caso, si `base` no es ninguno de `\"nominal\"` o `\"effective\"`, el problema arroja `None`.\n",
    "\n",
    "```python\n",
    ">> r2 = rate_converter(0.05, 12, \"continuous\")\n",
    ">>> print(r2)\n",
    "None\n",
    "```\n",
    "\n",
    "En estos casos,es deseable notificar al usuario de una excepción (en el ejemplo anterior, el hecho que `base == \"continuous\"` no está definido). El `raise` keyword nos ayuda a levantar excepciones notificando al usuario de un error en nuestro programa.\n",
    "\n",
    "La sintaxis de un `raise` es la siguiente:\n",
    "```python\n",
    "raise ExceptionType(\"optional message\")\n",
    "```\n",
    "\n",
    "donde:\n",
    "* `ExceptionType` es una excepción.\n",
    "\n",
    "    Para modificar nuestro programa consideraremos un [ValueError](https://docs.python.org/3/library/exceptions.html#ValueError) que le informe al usuario que el `base` asignado no se encuentra contemplado dentro de la función.\n",
    "    \n",
    "```python\n",
    "def rate_converter(rate, yearly_payoff, base):\n",
    "    \"\"\"\n",
    "    Convierte una tasa nominal pagadera 'yearly_payoff'\n",
    "    al año, por una tasa anual efectiva\n",
    "\n",
    "    Parameters\n",
    "    ----------\n",
    "    rate: Una tasa convertir\n",
    "    yearly_payoff: el número de veces en el que se reinvierte la tasa nominal\n",
    "    base: str (\"nominal\" ^ \"effective\")\n",
    "        La base \n",
    "\n",
    "    Returns\n",
    "    -------\n",
    "    Una tasa convertida\n",
    "    \"\"\"\n",
    "    if base == \"nominal\":\n",
    "        return (1 + rate) ** yearly_payoff - 1\n",
    "    elif base == \"effective\":\n",
    "        return yearly_payoff * ((1 + rate) ** (1 / yearly_payoff) - 1)\n",
    "    else:\n",
    "        msg = f\"La base '{base}' no está definida\"\n",
    "        raise ValueError(msg)\n",
    "```\n",
    "\n",
    "Corriendo el caso anterior resulta ahora en un error\n",
    "\n",
    "```python\n",
    ">> r2 = rate_converter(0.05, 12, \"continuous\")\n",
    ">>> print(r2)\n",
    "---------------------------------------------------------------------------\n",
    "ValueError                                Traceback (most recent call last)\n",
    "<ipython-input-37-44aeee1942b9> in <module>\n",
    "----> 1 r2 = rate_converter(0.05, 12, \"continuous\")\n",
    "      2 print(r2)\n",
    "\n",
    "<ipython-input-36-a606369e2153> in rate_converter(rate, yearly_payoff, base)\n",
    "     21     else:\n",
    "     22         msg = f\"La base '{base}' no está definida\"\n",
    "---> 23         raise ValueError(msg)\n",
    "\n",
    "ValueError: La base 'continuous' no está definida\n",
    "\n",
    "```"
   ]
  },
  {
   "cell_type": "code",
   "execution_count": 20,
   "metadata": {},
   "outputs": [
    {
     "data": {
      "text/plain": [
       "5.196152422706632"
      ]
     },
     "execution_count": 20,
     "metadata": {},
     "output_type": "execute_result"
    }
   ],
   "source": [
    "def sum_pow(n, p=2):\n",
    "    \"\"\"\n",
    "    Función que suma todos los\n",
    "    valores del 1 al n elevados a\n",
    "    una potencia 'p'\n",
    "    \"\"\"\n",
    "    total_sum = 0\n",
    "    for i in range(1, n + 1):\n",
    "        total_sum += i ** p\n",
    "    return total_sum\n",
    "\n",
    "from math import sqrt\n",
    "import pdb\n",
    "def distancia(V, W):\n",
    "    dist = 0\n",
    "    for v, w in zip(V, W):\n",
    "        dist += (v - w) ** 2\n",
    "        \n",
    "    return sqrt(dist)\n",
    "\n",
    "v1 = [3, 5, 1, 5]\n",
    "v2 = [0, 1, 0, 4]\n",
    "distancia(v1, v2)"
   ]
  },
  {
   "cell_type": "code",
   "execution_count": 16,
   "metadata": {},
   "outputs": [
    {
     "data": {
      "text/plain": [
       "5.196152422706632"
      ]
     },
     "execution_count": 16,
     "metadata": {},
     "output_type": "execute_result"
    }
   ],
   "source": [
    "sqrt(9 + 16 + 1+ 1)"
   ]
  },
  {
   "cell_type": "markdown",
   "metadata": {},
   "source": [
    "<h2 style=\"color:crimson\">Ejercicios</h2>\n",
    "\n",
    "**1.** Considera el siguiente programa e indica si el programa contiene algún error de sintaxis. De ser así, ¿Cómo lo arreglarías?\n",
    "\n",
    "```python\n",
    "def sum_pow(n, p=2):\n",
    "    \"\"\"\n",
    "    Función que suma todos los\n",
    "    valores del 1 al n elevados a\n",
    "    una potencia 'p'\n",
    "    \"\"\"\n",
    "    total_sum = 0\n",
    "    for i in range(1: n + 1):\n",
    "    total_sum += i ** 2\n",
    "    return total_sum\n",
    "```\n",
    "\n",
    "\n",
    "**2.** Se quiere definir una función que tome dos listas de enteros y calcule la distancia euclidiana entre dos vectores `V` y `W`. \n",
    "\n",
    "$$\n",
    "    d(V,W) = \\sqrt{\\sum_{i=1}^n (V_i - W_i)^2}\n",
    "$$\n",
    "Dónde $V_i$  es el $i$-ésimo elemento del vector $V$\n",
    "\n",
    "Hasta ahora se tiene el siguiente programa:\n",
    "\n",
    "```python\n",
    "from math import sqrt\n",
    "def distancia(V, W):\n",
    "    for v, w in zip(V, V):\n",
    "        dist = (v - w) ^ 2\n",
    "    return sqrt(dist)\n",
    "```\n",
    "El cuál arroja lo siguente:\n",
    "```python\n",
    ">>> v1 = [3, 5, 1, 5]\n",
    ">>> v2 = [0, 1, 0, 4]\n",
    ">>> distancia(v1, v2)\n",
    "1.7320508075688772\n",
    "```\n",
    "\n",
    "Arregla `distancia `Usando `pdb` y considerando `v1`, `v2`.\n",
    "\n",
    "\n",
    "**3.**\n",
    "Modifica la función `diamond` que genere una excepción si `rows % 2 == 0` (es par) o `rows < 3`. Esta excepción deberá informarle al usuario que es necesario un entero mayor o igual a tres para generar la figura."
   ]
  }
 ],
 "metadata": {
  "kernelspec": {
   "display_name": "Python 3",
   "language": "python",
   "name": "python3"
  },
  "language_info": {
   "codemirror_mode": {
    "name": "ipython",
    "version": 3
   },
   "file_extension": ".py",
   "mimetype": "text/x-python",
   "name": "python",
   "nbconvert_exporter": "python",
   "pygments_lexer": "ipython3",
   "version": "3.6.8"
  }
 },
 "nbformat": 4,
 "nbformat_minor": 2
}
