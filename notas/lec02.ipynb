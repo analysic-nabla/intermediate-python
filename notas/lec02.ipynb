{
 "cells": [
  {
   "cell_type": "markdown",
   "metadata": {},
   "source": [
    "![logo](../files/misc/logo.png)\n",
    "<h1 style=\"color:#872325\">Generadores e Iteradores</h1>"
   ]
  },
  {
   "cell_type": "markdown",
   "metadata": {},
   "source": [
    "Recordemos la manera de generar un rango de elementos dentro de Python es mediante la función `range`"
   ]
  },
  {
   "cell_type": "code",
   "execution_count": 1,
   "metadata": {},
   "outputs": [
    {
     "name": "stdout",
     "output_type": "stream",
     "text": [
      "1 2 3 "
     ]
    }
   ],
   "source": [
    "for i in range(1, 4):\n",
    "    print(i, end=\" \")"
   ]
  },
  {
   "cell_type": "markdown",
   "metadata": {},
   "source": [
    "Sin embargo, si al crear una instancia de un `range`, el resultado no es una colección con los elementos deseados."
   ]
  },
  {
   "cell_type": "code",
   "execution_count": 2,
   "metadata": {},
   "outputs": [
    {
     "data": {
      "text/plain": [
       "range(0, 10)"
      ]
     },
     "execution_count": 2,
     "metadata": {},
     "output_type": "execute_result"
    }
   ],
   "source": [
    "range(10)"
   ]
  },
  {
   "cell_type": "markdown",
   "metadata": {},
   "source": [
    "El resultado de `range(10)` se conoce como un generador. Pero antes de hablar de generadores es necesario hablar de **iterables**."
   ]
  },
  {
   "cell_type": "markdown",
   "metadata": {},
   "source": [
    "## Iterables\n",
    "\n",
    "Un iterable es un objeto de python que implementa el método `__iter__`. Al utlizar un _for loop_, python llama la función `iter` sobre el objeto a trabajar."
   ]
  },
  {
   "cell_type": "markdown",
   "metadata": {},
   "source": [
    "Por abajo del agua, cuando llamamos un for loop,\n",
    "1. Python llama la función `iter()` sobre el objeto a iterar;\n",
    "2. La función `iter()` regresa un objeto **iterable** sobre el cuál se define el método `__next__()`;\n",
    "3. Python llama la el método `__next__` sobre el resultado del `iter` hasta que no existan más elementos a regresar, en cuyo caso Python levanta una excepción `StopIteration` que termina el loop. "
   ]
  },
  {
   "cell_type": "code",
   "execution_count": 3,
   "metadata": {},
   "outputs": [],
   "source": [
    "values = iter(range(1, 4))"
   ]
  },
  {
   "cell_type": "code",
   "execution_count": 4,
   "metadata": {},
   "outputs": [
    {
     "data": {
      "text/plain": [
       "1"
      ]
     },
     "execution_count": 4,
     "metadata": {},
     "output_type": "execute_result"
    }
   ],
   "source": [
    "next(values)"
   ]
  },
  {
   "cell_type": "code",
   "execution_count": 5,
   "metadata": {},
   "outputs": [
    {
     "data": {
      "text/plain": [
       "2"
      ]
     },
     "execution_count": 5,
     "metadata": {},
     "output_type": "execute_result"
    }
   ],
   "source": [
    "next(values)"
   ]
  },
  {
   "cell_type": "code",
   "execution_count": 6,
   "metadata": {},
   "outputs": [
    {
     "data": {
      "text/plain": [
       "3"
      ]
     },
     "execution_count": 6,
     "metadata": {},
     "output_type": "execute_result"
    }
   ],
   "source": [
    "next(values)"
   ]
  },
  {
   "cell_type": "code",
   "execution_count": 7,
   "metadata": {},
   "outputs": [
    {
     "ename": "StopIteration",
     "evalue": "",
     "output_type": "error",
     "traceback": [
      "\u001b[0;31m---------------------------------------------------------------------------\u001b[0m",
      "\u001b[0;31mStopIteration\u001b[0m                             Traceback (most recent call last)",
      "\u001b[0;32m<ipython-input-7-d96d89106248>\u001b[0m in \u001b[0;36m<module>\u001b[0;34m\u001b[0m\n\u001b[0;32m----> 1\u001b[0;31m \u001b[0mnext\u001b[0m\u001b[0;34m(\u001b[0m\u001b[0mvalues\u001b[0m\u001b[0;34m)\u001b[0m\u001b[0;34m\u001b[0m\u001b[0;34m\u001b[0m\u001b[0m\n\u001b[0m",
      "\u001b[0;31mStopIteration\u001b[0m: "
     ]
    }
   ],
   "source": [
    "next(values)"
   ]
  },
  {
   "cell_type": "markdown",
   "metadata": {},
   "source": [
    "<h3 style=\"color:#56565a\">Ejemplo</h3>\n",
    "\n",
    "Creemos un primer _iterable_ que nos regrese números entre el 2 y el 10 al azar. Si el número observado es un 1, el ciclo se rompe."
   ]
  },
  {
   "cell_type": "code",
   "execution_count": 5,
   "metadata": {},
   "outputs": [],
   "source": [
    "from random import randint, seed\n",
    "\n",
    "# Creamos un objeto: necesario para crear un iterable\n",
    "class RandomValues:\n",
    "    # Mencionamos que esta clase puede ser iterada\n",
    "    def __iter__(self):\n",
    "        return self\n",
    "    # Definimos que sucede a cada iteración\n",
    "    def __next__(self):\n",
    "        value = randint(1, 10)\n",
    "        if value == 1:\n",
    "            raise StopIteration  # signals \"the end\"\n",
    "        return value"
   ]
  },
  {
   "cell_type": "markdown",
   "metadata": {},
   "source": [
    "La clase `RandomValues` únicamente implementa los métodos `__iter__` y `__next__`. Necesarios y suficientes para crear un iterable:"
   ]
  },
  {
   "cell_type": "code",
   "execution_count": 6,
   "metadata": {},
   "outputs": [
    {
     "name": "stdout",
     "output_type": "stream",
     "text": [
      "4 8 2 3 "
     ]
    }
   ],
   "source": [
    "seed(314)\n",
    "for v in RandomValues():\n",
    "    print(v, end=\" \")"
   ]
  },
  {
   "cell_type": "code",
   "execution_count": 7,
   "metadata": {},
   "outputs": [
    {
     "name": "stdout",
     "output_type": "stream",
     "text": [
      "10 5 8 "
     ]
    }
   ],
   "source": [
    "seed(31415)\n",
    "for v in RandomValues():\n",
    "    print(v, end=\" \")"
   ]
  },
  {
   "cell_type": "code",
   "execution_count": 8,
   "metadata": {},
   "outputs": [
    {
     "name": "stdout",
     "output_type": "stream",
     "text": [
      "7 7 6 5 8 "
     ]
    }
   ],
   "source": [
    "seed(31415926)\n",
    "for v in RandomValues():\n",
    "    print(v, end=\" \")"
   ]
  },
  {
   "cell_type": "markdown",
   "metadata": {},
   "source": [
    "<h3 style=\"color:#56565a\">Ejemplo</h3>\n",
    "Consideremos el siguiente ejemplo: queremos crear una clase iterable que nos regrese valores de Fibonacci uno a uno:"
   ]
  },
  {
   "cell_type": "code",
   "execution_count": 292,
   "metadata": {},
   "outputs": [],
   "source": [
    "class FiboIter:\n",
    "    # Valores únicos de la clase:\n",
    "    #  * Número de elementos a iterar\n",
    "    #  * Número actual (x1)\n",
    "    #  * Número anterior (x0)\n",
    "    #  * Número de elementos iterados (curr_elements)\n",
    "    def __init__(self, n_elements):\n",
    "        self.x0 = 0\n",
    "        self.x1 = 1\n",
    "        self.n_elements = n_elements\n",
    "        self.curr_elements = 0\n",
    "    def __iter__(self):\n",
    "        return self\n",
    "    def __next__(self):\n",
    "        self.curr_elements += 1\n",
    "        if self.curr_elements == 1:\n",
    "            return self.x0\n",
    "        elif self.curr_elements == 2:\n",
    "            return self.x1\n",
    "        elif self.curr_elements < self.n_elements:\n",
    "            self.x0, self.x1 = self.x1, self.x0 + self.x1\n",
    "            return self.x1\n",
    "        else:\n",
    "            raise StopIteration"
   ]
  },
  {
   "cell_type": "code",
   "execution_count": 293,
   "metadata": {},
   "outputs": [
    {
     "name": "stdout",
     "output_type": "stream",
     "text": [
      "0 1 1 2 3 5 8 13 21 "
     ]
    }
   ],
   "source": [
    "for n in FiboIter(10):\n",
    "    print(n, end=\" \")"
   ]
  },
  {
   "cell_type": "markdown",
   "metadata": {},
   "source": [
    "<h3 style=\"color:crimson\">Ejercicios</h3>\n",
    "\n",
    "1. Crea el iterable `FizzBuzz(n)` el cual itere `n` veces y cumpla que, para cada `i = 1, ..., n`,\n",
    "    * Si `i` es divisible por `3`, el iterador deberá regresar `\"Fizz\"`;\n",
    "    * si `i` es divisible por `5`, el iterador deberá regresar `\"Buzz\"`; \n",
    "    * si `i` es divisible por `5` y `3`, el iterador deberá regresar `\"FizzBuzz\"`; \n",
    "    * si ninguna de las reglas de arriba se cumple, el iterador deberá regresar `i`.\n",
    "2. Crea el iterable `FizzBuzzV2(n, v1, v2)` el cuál itere `n` veces y cumpla que, para cada `i = 1, ..., n`,\n",
    "    * Si `i` es divisible por `v1`, el iterador deberá regresar `\"Fizz\"`;\n",
    "    * si `i` es divisible por `v2`, el iterador deberá regresar `\"Buzz\"`; \n",
    "    * si `i` es divisible por `v1` y `v2`, el iterador deberá regresar `\"FizzBuzz\"`; \n",
    "    * si ninguna de las reglas de arriba se cumple, el iterador deberá regresar `i`.\n",
    "3. Crea el iterrable `Div(n, v1, v2, ..., vk)` el cuál itere `n` veces y cumpla que, para cada `i = 1, ..., n`\n",
    "    * Si `i` es divisible por cualesquiera `vi`, el iterador deberá regresar:  \n",
    "        `\"i divisible by vi, vi2, ..., vik\"`\n",
    "    * En otro caso, el iterrador deberá regresar: `i`\n",
    "    \n",
    "    \n",
    "```python\n",
    ">>> for v in Divn(n=14, v1=2, v2=3, v3=7):\n",
    ">>>     print(v)\n",
    "1\n",
    "2 divisible by 2\n",
    "3 divisible by 3\n",
    "4 divisible by 2\n",
    "5\n",
    "6 divisible by 2, 3\n",
    "7 divisible by 7\n",
    "8 divisible by 2\n",
    "9 divisible by 3\n",
    "10 divisible by 2\n",
    "11\n",
    "12 divisible by 2, 3\n",
    "13\n",
    "14 divisible by 2, 7\n",
    "```"
   ]
  },
  {
   "cell_type": "markdown",
   "metadata": {},
   "source": [
    "## Generadores"
   ]
  },
  {
   "cell_type": "markdown",
   "metadata": {},
   "source": [
    "La complejidad de crear un iterador no es siempre necesaria. Un _generador_ es una simple y efectiva herramienta para crear un iterador.\n",
    "\n",
    "> Una función _generadora_ nos permite declarar una función que se comporte como un iterador, i.e., que se pueda usar en un _for loop_\n",
    "\n",
    "La diferencia entre una función y un generador está en usar el keyword `yield` a cada momento que deseamos regresar información.\n",
    "\n",
    "```python\n",
    "def generator_fn():\n",
    "    ...\n",
    "    yield v\n",
    "```\n",
    "\n",
    "A diferencia de una función, al llegar a `yield`, la función regresa un valor y sigue el curso de la función."
   ]
  },
  {
   "cell_type": "code",
   "execution_count": 18,
   "metadata": {},
   "outputs": [
    {
     "name": "stdout",
     "output_type": "stream",
     "text": [
      "0 1 2 3 4 5 6 7 8 9 "
     ]
    }
   ],
   "source": [
    "from time import sleep\n",
    "def give_10():\n",
    "    for i in range(10):\n",
    "        yield i\n",
    "\n",
    "for v in give_10():\n",
    "    print(v, end=\" \")"
   ]
  },
  {
   "cell_type": "code",
   "execution_count": 19,
   "metadata": {},
   "outputs": [
    {
     "name": "stdout",
     "output_type": "stream",
     "text": [
      "0 1 2 3 4 5 6 7 8 9 "
     ]
    }
   ],
   "source": [
    "from time import sleep\n",
    "def give_10():\n",
    "    return [0, 1, 2, 3, 4, 5, 6, 7, 8, 9]\n",
    "\n",
    "for v in give_10():\n",
    "    print(v, end=\" \")"
   ]
  },
  {
   "cell_type": "markdown",
   "metadata": {},
   "source": [
    "En los ejemplos anteriores creamos una función la cuál nos regresa una lista de 10 elementos.\n",
    "\n",
    "En el siguiente ejemplo veremos las ventas y desventajas de usar una función o un generador dentro de una función. "
   ]
  },
  {
   "cell_type": "code",
   "execution_count": 20,
   "metadata": {},
   "outputs": [
    {
     "name": "stdout",
     "output_type": "stream",
     "text": [
      "Filename: ../files/lec02/func.py\n",
      "\n",
      "Line #    Mem usage    Increment   Line Contents\n",
      "================================================\n",
      "     1   36.203 MiB   36.203 MiB   @profile\n",
      "     2                             def my_func():\n",
      "     3   43.836 MiB    7.633 MiB       a = [1] * (10 ** 6)\n",
      "     4   43.836 MiB    0.000 MiB       return sum(a)\n",
      "\n",
      "\n",
      "\n",
      "real\t0m0.839s\n",
      "user\t0m0.440s\n",
      "sys\t0m0.215s\n"
     ]
    }
   ],
   "source": [
    "# Corriendo Función \n",
    "!time python -m memory_profiler ../files/lec02/func.py"
   ]
  },
  {
   "cell_type": "code",
   "execution_count": 21,
   "metadata": {},
   "outputs": [
    {
     "name": "stdout",
     "output_type": "stream",
     "text": [
      "Filename: ../files/lec02/gen.py\n",
      "\n",
      "Line #    Mem usage    Increment   Line Contents\n",
      "================================================\n",
      "     1   36.195 MiB   36.195 MiB   @profile\n",
      "     2                             def my_func():\n",
      "     3   36.195 MiB    0.000 MiB       total_sum = 0\n",
      "     4   36.207 MiB    0.000 MiB       for v in range(10 ** 6):\n",
      "     5   36.207 MiB    0.012 MiB           total_sum += v\n",
      "     6   36.207 MiB    0.000 MiB       return total_sum\n",
      "\n",
      "\n",
      "\n",
      "real\t1m11.906s\n",
      "user\t0m47.399s\n",
      "sys\t0m24.312s\n"
     ]
    }
   ],
   "source": [
    "# Corriendo un generador\n",
    "!time python -m memory_profiler ../files/lec02/gen.py"
   ]
  },
  {
   "cell_type": "markdown",
   "metadata": {},
   "source": [
    "Mientras que `func.py` corrió substancialmente más rápido, crear la lista `a` genera 7mb de memoria extra que no ocupa el archivo `gen.py`."
   ]
  },
  {
   "cell_type": "markdown",
   "metadata": {},
   "source": [
    "<h3 style=\"color:#56565a\">Ejemplos</h3>\n",
    "\n",
    "1. Crea el generador `fizz_buzz(n)` el cual itere `n` veces y cumpla que, para cada `i = 1, ..., n`,\n",
    "    * Si `i` es divisible por `3`, el generador deberá regresar `\"Fizz\"`;\n",
    "    * si `i` es divisible por `5`, el generador deberá regresar `\"Buzz\"`; \n",
    "    * si `i` es divisible por `5` y `3`, el generador deberá regresar `\"FizzBuzz\"`; \n",
    "    * si ninguna de las reglas de arriba se cumple, el generador deberá regresar `i`."
   ]
  },
  {
   "cell_type": "code",
   "execution_count": 17,
   "metadata": {},
   "outputs": [
    {
     "name": "stdout",
     "output_type": "stream",
     "text": [
      "1   2   Fizz   4   Buzz   Fizz   7   8   Fizz   Buzz   11   Fizz   13   14   FizzBuzz   "
     ]
    }
   ],
   "source": [
    "def fizz_buzz(n):\n",
    "    for i in range(1, n + 1):\n",
    "        f_or_b = [i % 3 == 0, i % 5 == 0]\n",
    "        if any(f_or_b):\n",
    "            yield \"Fizz\" * f_or_b[0] + \"Buzz\" * f_or_b[1]\n",
    "        else:\n",
    "            yield i\n",
    "\n",
    "for v in fizz_buzz(15):\n",
    "    print(v, end=\"   \")"
   ]
  },
  {
   "cell_type": "markdown",
   "metadata": {},
   "source": [
    "2. Calculemos la suma de los números $\\{0, 1, \\ldots, 10^{10} - 1\\}$. Considerando los siguientes dos programas, **¿Cuál de las siguientes gráficas es más factible haya sido creado por el primer programa? ¿por qué?**\n",
    "\n",
    "* `Programa_1`\n",
    "```python\n",
    "    sum(list(range(10 ** 10)))\n",
    "```\n",
    "\n",
    "* `Programa_2`\n",
    "```python\n",
    "    sum(range(10 ** 10))\n",
    "```"
   ]
  },
  {
   "cell_type": "markdown",
   "metadata": {},
   "source": [
    "![F1](../files/lec02/pfunc.png)\n",
    "\n",
    "![Generator](../files/lec02/pgen.png)"
   ]
  },
  {
   "cell_type": "markdown",
   "metadata": {},
   "source": [
    "Del ejemplo antetior,\n",
    "* el incremento de memoría usada del segundo al primer programa, en su punto máximo es 9,900% (approx);\n",
    "* el incremento del primer al segundo programa fue 125% (approx)"
   ]
  },
  {
   "cell_type": "markdown",
   "metadata": {},
   "source": [
    "Usar un generador es más convieniente cuando:\n",
    "* Trabajemos con datos sobre los cuáles vamos a iterar. _Desempacar_ los valores uno a uno o _one shot_ depende de la cantidad de información con la que trabajaremos;\n",
    "* exista un proceso dentro de nuestro programa el cuál no dependa de nuestra computadora, e.g., requerir información de un servidor o base de datos.\n",
    "\n"
   ]
  },
  {
   "cell_type": "markdown",
   "metadata": {},
   "source": [
    "<h3 style=\"color:crimson\">Ejercicios</h3>\n",
    "\n",
    "1. Crea el generador `fibo_iter(n)` el cuál itere `n` veces y, a cada paso, regrese el `i`-ésimo elemento de la secuencia Fibonacci."
   ]
  },
  {
   "cell_type": "code",
   "execution_count": 1,
   "metadata": {},
   "outputs": [],
   "source": [
    "import math\n",
    "from random import shuffle, seed"
   ]
  },
  {
   "cell_type": "markdown",
   "metadata": {},
   "source": [
    "## Itertools\n",
    "\n",
    "`itertools` es una colección de generadores es que regresan `iterators`. Como hemos visto, es importante crear iteradores que controlen el uso de memoria. `itertools` es una librería especializada para tratar con esos problemas."
   ]
  },
  {
   "cell_type": "code",
   "execution_count": 2,
   "metadata": {},
   "outputs": [],
   "source": [
    "import itertools as it"
   ]
  },
  {
   "cell_type": "markdown",
   "metadata": {},
   "source": [
    "---\n",
    "### `itertools.count`\n",
    "Esta función es un contador infinito de valores"
   ]
  },
  {
   "cell_type": "code",
   "execution_count": 70,
   "metadata": {
    "scrolled": false
   },
   "outputs": [
    {
     "name": "stdout",
     "output_type": "stream",
     "text": [
      "0.0\n",
      "0.5877852522924731\n",
      "0.9510565162951535\n",
      "0.9510565162951536\n",
      "0.5877852522924732\n",
      "1.2246467991473532e-16\n"
     ]
    }
   ],
   "source": [
    "for x in it.count(start=0, step=math.pi / 5):\n",
    "    y = math.sin(x)\n",
    "    print(y)\n",
    "    if round(y) == 0 and x != 0:\n",
    "        break"
   ]
  },
  {
   "cell_type": "code",
   "execution_count": 79,
   "metadata": {},
   "outputs": [
    {
     "name": "stdout",
     "output_type": "stream",
     "text": [
      "1 ^ 0.00 = 1.00\n",
      "2 ^ 0.10 = 1.07\n",
      "3 ^ 0.20 = 1.25\n",
      "4 ^ 0.30 = 1.52\n"
     ]
    }
   ],
   "source": [
    "values = [1, 2, 3, 4]\n",
    "for v, dec in zip(values, it.count(0, 0.1)):\n",
    "    print(f\"{v} ^ {dec:0.2f} = {v ** dec:0.2f}\")"
   ]
  },
  {
   "cell_type": "markdown",
   "metadata": {},
   "source": [
    "----\n",
    "### `itertools.cycle`\n",
    "Dado un iterable, esta función itera uno a uno los valores y, una vez agotados, incia de nuevo"
   ]
  },
  {
   "cell_type": "code",
   "execution_count": 361,
   "metadata": {},
   "outputs": [
    {
     "name": "stdout",
     "output_type": "stream",
     "text": [
      "0 A\n",
      "1 B\n",
      "2 A\n",
      "3 B\n",
      "4 A\n",
      "5 B\n",
      "6 A\n",
      "7 B\n",
      "8 A\n",
      "9 B\n"
     ]
    }
   ],
   "source": [
    "letters = [\"A\", \"B\"]\n",
    "for n, letter in enumerate(it.cycle(letters)):\n",
    "    if n == 10:\n",
    "        break\n",
    "    print(n, letter)"
   ]
  },
  {
   "cell_type": "code",
   "execution_count": 122,
   "metadata": {},
   "outputs": [
    {
     "name": "stdout",
     "output_type": "stream",
     "text": [
      "01 impar\n",
      "02 par\n",
      "03 impar\n",
      "04 par\n",
      "05 impar\n",
      "06 par\n",
      "07 impar\n",
      "08 par\n",
      "09 impar\n",
      "10 par\n",
      "11 impar\n",
      "12 par\n",
      "13 impar\n",
      "14 par\n",
      "15 impar\n",
      "16 par\n",
      "17 impar\n",
      "18 par\n",
      "19 impar\n"
     ]
    }
   ],
   "source": [
    "numbers = range(1, 20)\n",
    "forms = [\"impar\", \"par\"]\n",
    "for number, form in zip(numbers, it.cycle(forms)):\n",
    "    print(f\"{number:02} {form}\")"
   ]
  },
  {
   "cell_type": "markdown",
   "metadata": {},
   "source": [
    "Los iteradores anteriores son conocidos como **iteradores infinitos** dado que no se establece dentro de estos el momento último en el que acaban."
   ]
  },
  {
   "cell_type": "markdown",
   "metadata": {},
   "source": [
    "### `itertools.accumulate`\n",
    "Esta función acumula los resultados de los valores uno a uno hasta que se agote la lista de los valores a iterar. \n",
    "\n",
    "![Acumulate](../files/lec02/accumulate.png)\n",
    "\n",
    "La función predeterminada a ocupar es suma. En cuyo caso, dada una lista $\\{x_1, x_2, \\ldots, x_n\\}$ los elementos resultantes serían\n",
    "$$\n",
    "    \\{x_1, x_1 + x_2, \\ldots, x_1 + x_2 + \\ldots + x_n\\}\n",
    "$$"
   ]
  },
  {
   "cell_type": "code",
   "execution_count": 27,
   "metadata": {},
   "outputs": [
    {
     "name": "stdout",
     "output_type": "stream",
     "text": [
      "1 3 6 10 15 "
     ]
    }
   ],
   "source": [
    "x = [1, 2, 3, 4, 5]\n",
    "for v in it.accumulate(x):\n",
    "    print(v, end=\" \")"
   ]
  },
  {
   "cell_type": "markdown",
   "metadata": {},
   "source": [
    "la función `accumulate` lleva como parámetro opcional la función a aplicar a cada uno de los elementos. Esta función deberá tomar como primer parámetro el valor acumulado y como segundo parámetro el nuevo valor a aplicar."
   ]
  },
  {
   "cell_type": "code",
   "execution_count": 45,
   "metadata": {},
   "outputs": [
    {
     "data": {
      "text/plain": [
       "[-56, -18, 49, 49, 49, 49, 49, 49, 49, 89, 89, 89, 89, 89, 89]"
      ]
     },
     "execution_count": 45,
     "metadata": {},
     "output_type": "execute_result"
    }
   ],
   "source": [
    "numbers = [-56, -18,  49,  0, -55,  30, -46, -80, -42,  89,  88,  82, -73, -25,  32]\n",
    "[n for n in it.accumulate(numbers, max)]"
   ]
  },
  {
   "cell_type": "code",
   "execution_count": 46,
   "metadata": {},
   "outputs": [
    {
     "data": {
      "text/plain": [
       "[-56, -56, -56, -56, -56, -56, -56, -80, -80, -80, -80, -80, -80, -80, -80]"
      ]
     },
     "execution_count": 46,
     "metadata": {},
     "output_type": "execute_result"
    }
   ],
   "source": [
    "[n for n in it.accumulate(numbers, min)]"
   ]
  },
  {
   "cell_type": "markdown",
   "metadata": {},
   "source": [
    "----\n",
    "### `itertools.chain`\n",
    "Esta función crea un iterable de elementos iterables sobre una lista"
   ]
  },
  {
   "cell_type": "code",
   "execution_count": 194,
   "metadata": {},
   "outputs": [
    {
     "name": "stdout",
     "output_type": "stream",
     "text": [
      "A\n",
      "B\n",
      "C\n",
      "D\n"
     ]
    }
   ],
   "source": [
    "for v in it.chain([\"A\", \"B\"], [\"C\", \"D\"]):\n",
    "    print(v)"
   ]
  },
  {
   "cell_type": "code",
   "execution_count": 287,
   "metadata": {},
   "outputs": [
    {
     "name": "stdout",
     "output_type": "stream",
     "text": [
      "A\n",
      "AB\n",
      "ABC\n",
      "ABCD\n"
     ]
    }
   ],
   "source": [
    "for v in it.accumulate(it.chain([\"A\", \"B\"], [\"C\", \"D\"])):\n",
    "    print(v)"
   ]
  },
  {
   "cell_type": "markdown",
   "metadata": {},
   "source": [
    "En el caso de tener una lista con iterables sobre los cuáles aplicaremos `chain`, podemos"
   ]
  },
  {
   "cell_type": "code",
   "execution_count": 289,
   "metadata": {},
   "outputs": [
    {
     "name": "stdout",
     "output_type": "stream",
     "text": [
      "A\n",
      "B\n",
      "C\n",
      "D\n"
     ]
    }
   ],
   "source": [
    "# Desempacar los valores de la lista \n",
    "letters = [[\"A\", \"B\"], [\"C\", \"D\"]]\n",
    "for v in it.chain(*letters):\n",
    "    print(v)"
   ]
  },
  {
   "cell_type": "code",
   "execution_count": 290,
   "metadata": {},
   "outputs": [
    {
     "name": "stdout",
     "output_type": "stream",
     "text": [
      "A\n",
      "B\n",
      "C\n",
      "D\n"
     ]
    }
   ],
   "source": [
    "# usar la propiedad \"from_iterable\" dentro de letters\n",
    "letters = [[\"A\", \"B\"], [\"C\", \"D\"]]\n",
    "for v in it.chain.from_iterable(letters):\n",
    "    print(v)"
   ]
  },
  {
   "cell_type": "markdown",
   "metadata": {},
   "source": [
    "----\n",
    "### `itertools.groupby`\n",
    "Esta función crea un iterador que regresa las llaves de agrupación y los elementos agrupados dentro de un conjunto de datos."
   ]
  },
  {
   "cell_type": "code",
   "execution_count": 308,
   "metadata": {},
   "outputs": [
    {
     "name": "stdout",
     "output_type": "stream",
     "text": [
      "A\n",
      "X\n",
      "B\n",
      "C\n",
      "D\n",
      "O\n"
     ]
    }
   ],
   "source": [
    "values = \"AAAAAXXBBBBCCCCCDDDOOOO\"\n",
    "for key, iterables in it.groupby(values):\n",
    "    print(key)"
   ]
  },
  {
   "cell_type": "code",
   "execution_count": 309,
   "metadata": {},
   "outputs": [
    {
     "name": "stdout",
     "output_type": "stream",
     "text": [
      "<itertools._grouper object at 0x113b5dfd0>\n",
      "<itertools._grouper object at 0x113b5da20>\n",
      "<itertools._grouper object at 0x113b5dfd0>\n",
      "<itertools._grouper object at 0x113b5da20>\n",
      "<itertools._grouper object at 0x113b5dfd0>\n"
     ]
    }
   ],
   "source": [
    "values = \"AAAAABBBBCCCCCDDDOOOO\"\n",
    "for key, iterables in it.groupby(values):\n",
    "    print(iterables)"
   ]
  },
  {
   "cell_type": "markdown",
   "metadata": {},
   "source": [
    "<h3 style=\"color:#56565a\">Ejemplo</h3>\n",
    "\n",
    "Considerando la siguiente lista de clientes con nombre y monto de deuda, supón queremos crear un programa en Python que nos agrupe la lista entre aquellos que estén por abajo del promedio y los que estén por arriba del promedio.\n",
    "```\n",
    "clients = [('person_0', 8),\n",
    " ('person_1', 30),\n",
    " ('person_2', 97),\n",
    " ('person_3', 516),\n",
    " ('person_4', 4597),\n",
    " ('person_5', 4592),\n",
    " ('person_6', 489),\n",
    " ('person_7', 7628),\n",
    " ('person_8', 6098),\n",
    " ('person_9', 2),\n",
    " ('person_10', 80501),\n",
    " ('person_11', 58094),\n",
    " ('person_12', 6743),\n",
    " ('person_13', 10018),\n",
    " ('person_14', 1736),\n",
    " ('person_15', 5678),\n",
    " ('person_16', 93520),\n",
    " ('person_17', 1956),\n",
    " ('person_18', 8083),\n",
    " ('person_19', 430017)]\n",
    "```"
   ]
  },
  {
   "cell_type": "markdown",
   "metadata": {},
   "source": [
    "El siguiente paso será crear una función auxiliar que nos diga el _orden_ del monto que deben"
   ]
  },
  {
   "cell_type": "code",
   "execution_count": 259,
   "metadata": {},
   "outputs": [],
   "source": [
    "def order_num(n, o=1):\n",
    "    if n % o != n:\n",
    "        return order_num(n, o * 10)\n",
    "    else:\n",
    "        return o // 10"
   ]
  },
  {
   "cell_type": "code",
   "execution_count": 267,
   "metadata": {},
   "outputs": [
    {
     "data": {
      "text/plain": [
       "1"
      ]
     },
     "execution_count": 267,
     "metadata": {},
     "output_type": "execute_result"
    }
   ],
   "source": [
    "order_num(5)"
   ]
  },
  {
   "cell_type": "code",
   "execution_count": 275,
   "metadata": {},
   "outputs": [
    {
     "data": {
      "text/plain": [
       "10"
      ]
     },
     "execution_count": 275,
     "metadata": {},
     "output_type": "execute_result"
    }
   ],
   "source": [
    "order_num(80)"
   ]
  },
  {
   "cell_type": "code",
   "execution_count": 277,
   "metadata": {},
   "outputs": [
    {
     "data": {
      "text/plain": [
       "10000"
      ]
     },
     "execution_count": 277,
     "metadata": {},
     "output_type": "execute_result"
    }
   ],
   "source": [
    "order_num(89404)"
   ]
  },
  {
   "cell_type": "markdown",
   "metadata": {},
   "source": [
    "El paso siguiente será ordenar los elementos de menor a mayor considerando el monto. Para esto, usaremos la función `sorted` ocupando como _lave_ la segunda entrada de cada tuple."
   ]
  },
  {
   "cell_type": "code",
   "execution_count": 59,
   "metadata": {},
   "outputs": [
    {
     "data": {
      "text/plain": [
       "[('person_9', 2),\n",
       " ('person_0', 8),\n",
       " ('person_1', 30),\n",
       " ('person_2', 97),\n",
       " ('person_6', 489),\n",
       " ('person_3', 516),\n",
       " ('person_14', 1736),\n",
       " ('person_17', 1956),\n",
       " ('person_5', 4592),\n",
       " ('person_4', 4597),\n",
       " ('person_15', 5678),\n",
       " ('person_8', 6098),\n",
       " ('person_12', 6743),\n",
       " ('person_7', 7628),\n",
       " ('person_18', 8083),\n",
       " ('person_13', 10018),\n",
       " ('person_11', 58094),\n",
       " ('person_10', 80501),\n",
       " ('person_16', 93520),\n",
       " ('person_19', 430017)]"
      ]
     },
     "execution_count": 59,
     "metadata": {},
     "output_type": "execute_result"
    }
   ],
   "source": [
    "sorted(clients, key=lambda v: v[1])"
   ]
  },
  {
   "cell_type": "markdown",
   "metadata": {},
   "source": [
    "Con los elementos ordenados, podemos agrupar los elementos dependiendo de su _orden_."
   ]
  },
  {
   "cell_type": "code",
   "execution_count": 278,
   "metadata": {},
   "outputs": [
    {
     "data": {
      "text/plain": [
       "<itertools.groupby at 0x1152fc688>"
      ]
     },
     "execution_count": 278,
     "metadata": {},
     "output_type": "execute_result"
    }
   ],
   "source": [
    "it.groupby(sorted(clients, key=lambda v: v[1]), key=lambda v: order_num(v[1]))"
   ]
  },
  {
   "cell_type": "markdown",
   "metadata": {},
   "source": [
    "El iterador anterior nos regresa pares de elementos `(llave, valores[generador])`. Del cuál sólo nos interesa obtener el segundo elemento; otro generador sobre cada agrupación encontrada"
   ]
  },
  {
   "cell_type": "code",
   "execution_count": 281,
   "metadata": {},
   "outputs": [
    {
     "data": {
      "text/plain": [
       "<map at 0x11638a0f0>"
      ]
     },
     "execution_count": 281,
     "metadata": {},
     "output_type": "execute_result"
    }
   ],
   "source": [
    "map(lambda v: v[1], it.groupby(sorted(clients, key=lambda v: v[1]), key=lambda v: order_num(v[1])))"
   ]
  },
  {
   "cell_type": "code",
   "execution_count": 310,
   "metadata": {},
   "outputs": [
    {
     "name": "stdout",
     "output_type": "stream",
     "text": [
      "[('person_9', 2), ('person_0', 8)]\n",
      "\n",
      "[('person_1', 30), ('person_2', 97)]\n",
      "\n",
      "[('person_6', 489), ('person_3', 516)]\n",
      "\n",
      "[('person_14', 1736), ('person_17', 1956), ('person_5', 4592), ('person_4', 4597), ('person_15', 5678), ('person_8', 6098), ('person_12', 6743), ('person_7', 7628), ('person_18', 8083)]\n",
      "\n",
      "[('person_13', 10018), ('person_11', 58094), ('person_10', 80501), ('person_16', 93520)]\n",
      "\n",
      "[('person_19', 430017)]\n",
      "\n"
     ]
    }
   ],
   "source": [
    "values = map(lambda v: v[1], it.groupby(sorted(clients, key=lambda v: v[1]), key=lambda v: order_num(v[1])))\n",
    "for v in values:\n",
    "    print(list(v), end=\"\\n\" * 2)"
   ]
  },
  {
   "cell_type": "markdown",
   "metadata": {},
   "source": [
    "----\n",
    "### `itertools.compress`\n",
    "Crea un iterador que regresa únicamente los elementos que regresen ciertos."
   ]
  },
  {
   "cell_type": "code",
   "execution_count": 358,
   "metadata": {
    "scrolled": false
   },
   "outputs": [
    {
     "name": "stdout",
     "output_type": "stream",
     "text": [
      "3\n",
      "5\n",
      "3\n",
      "2\n"
     ]
    }
   ],
   "source": [
    "values = [3, 1, 4, 1, 5, 2, 3, 1, 5, 2]\n",
    "select = [1, 0, 0, 0, 1, 0, 1, 0, 0, 1]\n",
    "\n",
    "for v in it.compress(values, select):\n",
    "    print(v)"
   ]
  },
  {
   "cell_type": "markdown",
   "metadata": {},
   "source": [
    "<h3 style=\"color:#56565a\">Ejemplo</h3>\n",
    "\n",
    "Crea la función `range_primes` que regrese todos los números primos entre un rango `[2, n]`."
   ]
  },
  {
   "cell_type": "code",
   "execution_count": 60,
   "metadata": {},
   "outputs": [],
   "source": [
    "def range_primes(values, primes=None):\n",
    "    primes = primes if primes is not None else [2]\n",
    "    *_, last_prime = primes\n",
    "    prime, *values = it.compress(values, map(lambda x: x % last_prime != 0, values))\n",
    "    primes.append(prime)\n",
    "    if len(values) != 0:\n",
    "        return range_primes(values, primes)\n",
    "    else:\n",
    "        return primes"
   ]
  },
  {
   "cell_type": "code",
   "execution_count": 61,
   "metadata": {},
   "outputs": [
    {
     "data": {
      "text/plain": [
       "[2, 3, 5, 7, 11, 13, 17, 19, 23, 29, 31, 37, 41, 43, 47, 53, 59]"
      ]
     },
     "execution_count": 61,
     "metadata": {},
     "output_type": "execute_result"
    }
   ],
   "source": [
    "vals = range(2, 60)\n",
    "range_primes(vals)"
   ]
  },
  {
   "cell_type": "markdown",
   "metadata": {},
   "source": [
    "----\n",
    "### `itertools.product`\n",
    "Esta función regresa el producto cartesiano entre dos iterables. Esta  función es comunmente usada como reemplazo de un doble for loop."
   ]
  },
  {
   "cell_type": "code",
   "execution_count": 25,
   "metadata": {},
   "outputs": [
    {
     "name": "stdout",
     "output_type": "stream",
     "text": [
      "A-a  A-b  A-c  B-a  B-b  B-c  C-a  C-b  C-c  "
     ]
    }
   ],
   "source": [
    "upper = [\"A\", \"B\", \"C\"]\n",
    "lower = [\"a\", \"b\", \"c\"]\n",
    "\n",
    "for u, l in it.product(upper, lower):\n",
    "    print(f\"{u}-{l}\", end=\"  \")"
   ]
  },
  {
   "cell_type": "code",
   "execution_count": 12,
   "metadata": {},
   "outputs": [
    {
     "name": "stdout",
     "output_type": "stream",
     "text": [
      "01 02 03 04 05\n",
      "02 04 06 08 10\n",
      "03 06 09 12 15\n",
      "04 08 12 16 20\n",
      "05 10 15 20 25\n"
     ]
    }
   ],
   "source": [
    "table_size = 5\n",
    "elements = [*[\" \"] * (table_size - 1), \"\\n\"]\n",
    "for (i, j), end in zip(it.product(*it.repeat(range(1, table_size + 1), 2)), it.cycle(elements)):\n",
    "    print(f\"{i * j:02}\", end=end)"
   ]
  },
  {
   "cell_type": "markdown",
   "metadata": {},
   "source": [
    "----\n",
    "### `itertools.permutations`\n",
    "Esta función crea un iterable de todas las permutaciones posibles de elementos de longitud `m`"
   ]
  },
  {
   "cell_type": "code",
   "execution_count": 106,
   "metadata": {},
   "outputs": [
    {
     "name": "stdout",
     "output_type": "stream",
     "text": [
      "('N', 'a', 'b', 'l', 'a')\n",
      "('N', 'a', 'b', 'a', 'l')\n",
      "('N', 'a', 'l', 'b', 'a')\n",
      "('N', 'a', 'l', 'a', 'b')\n",
      "('N', 'a', 'a', 'b', 'l')\n",
      "('N', 'a', 'a', 'l', 'b')\n",
      "('N', 'b', 'a', 'l', 'a')\n",
      "('N', 'b', 'a', 'a', 'l')\n",
      "('N', 'b', 'l', 'a', 'a')\n",
      "('N', 'b', 'l', 'a', 'a')\n"
     ]
    }
   ],
   "source": [
    "for v in it.islice(it.permutations(\"Nabla\"), 10):\n",
    "    print(v)"
   ]
  },
  {
   "cell_type": "markdown",
   "metadata": {},
   "source": [
    "----\n",
    "### `itertools.combinations`\n",
    "Esta función crea un iterable de todas las combinaciones posibles de elementos de longitud `m`"
   ]
  },
  {
   "cell_type": "markdown",
   "metadata": {},
   "source": [
    "All possible combinations of games"
   ]
  },
  {
   "cell_type": "code",
   "execution_count": 18,
   "metadata": {
    "scrolled": false
   },
   "outputs": [],
   "source": [
    "def royal_flush(hand):\n",
    "    \"\"\"\n",
    "    Returns True if all suits are same\n",
    "    and has combinations 10, J, Q, K, A\n",
    "    \"\"\"\n",
    "    rank = [10, \"J\", \"Q\", \"K\", \"A\"]\n",
    "    same_suits = all(hand[0][0] == s for s, r in hand[1:])\n",
    "    all_ranks = all(r in rank for s, r in hand)\n",
    "    return all_ranks and same_suits"
   ]
  },
  {
   "cell_type": "code",
   "execution_count": 46,
   "metadata": {},
   "outputs": [
    {
     "name": "stdout",
     "output_type": "stream",
     "text": [
      "3.56 s ± 41.3 ms per loop (mean ± std. dev. of 7 runs, 3 loops each)\n"
     ]
    }
   ],
   "source": [
    "%%timeit -n 3\n",
    "list(itertools.filterfalse(lambda hand: not royal_flush(hand), itertools.combinations(poker, 5)))"
   ]
  },
  {
   "cell_type": "code",
   "execution_count": 39,
   "metadata": {},
   "outputs": [
    {
     "name": "stdout",
     "output_type": "stream",
     "text": [
      "peak memory: 496.74 MiB, increment: 191.01 MiB\n"
     ]
    }
   ],
   "source": [
    "%%memit\n",
    "hands = list(itertools.combinations(poker, 5))\n",
    "for hand in hands:\n",
    "    if royal_flush(hand):\n",
    "        (hand)"
   ]
  },
  {
   "cell_type": "markdown",
   "metadata": {},
   "source": [
    "<h3 style=\"color:crimson\">Ejercicios</h3>\n",
    "\n",
    "1. Usando elementos de itertools, crea la función `factorial` que regrese los primeros `n` números naturales aplicados\n",
    "2. Crea una lista de todos los elementos dentro de una tabla de multiplicación de 10x10 cuyo último dígito sea 1\n",
    "4. Considerando la lista `clients` definida arriba, escribe un programa que regrese un generador de los clientes cuyo monto en deuda está por abajo del promedio y aquellos que están por arriba del promedio.\n",
    "3. Considerando la variable `numbers = [[(i, j) for i in range(1, 10)] for j in range(1, 10)]`, crea la función `sum_pairs(n)` que regrese un iterable con todos los pares de números que sumen `n` ocupando **unicamente** `itertools`, `sorted`, `map` & `filter`. No puedes ocupar for loops ni list comphrensions\\*\\*\n",
    "\n",
    "```python\n",
    ">>> numbers = [[(i, j) for i in range(1, 10)] for j in range(1, 10)]\n",
    ">>> for v in sum_pairs(5):\n",
    ">>>    print(v)\n",
    "(4, 1)\n",
    "(3, 2)\n",
    "(2, 3)\n",
    "(1, 4)\n",
    " ```\n",
    "5. Sabiendo que existen 4 clases de cartas de poker y 12 rango de cartas, calcula usando `itertools` el número de cartas posibles por tener\n",
    "\n",
    "```python\n",
    "poker_class = [\"Espadas\", \"Corazones\", \"Diamantes\", \"Tréboles\"]\n",
    "poker_rank = [\"A\", 1, 2, ..., 10, \"J\", \"Q\", \"K\"]\n",
    "```\n",
    "6. Un juego títpico de poker involucra tener 5 cartas en la mano. ¿Cuántas combinaciones de 5 cartas en la mano existen?"
   ]
  },
  {
   "cell_type": "markdown",
   "metadata": {},
   "source": [
    "## Referencias\n",
    "1. https://wiki.python.org/moin/Generators\n",
    "2. https://wiki.python.org/moin/Iterator\n",
    "3. https://docs.python.org/3/tutorial/classes.html\n",
    "4. https://docs.python.org/3/library/itertools.html"
   ]
  }
 ],
 "metadata": {
  "kernelspec": {
   "display_name": "Python 3",
   "language": "python",
   "name": "python3"
  },
  "language_info": {
   "codemirror_mode": {
    "name": "ipython",
    "version": 3
   },
   "file_extension": ".py",
   "mimetype": "text/x-python",
   "name": "python",
   "nbconvert_exporter": "python",
   "pygments_lexer": "ipython3",
   "version": "3.6.8"
  }
 },
 "nbformat": 4,
 "nbformat_minor": 2
}
