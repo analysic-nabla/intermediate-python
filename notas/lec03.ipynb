{
 "cells": [
  {
   "cell_type": "markdown",
   "metadata": {},
   "source": [
    "![logo](../files/misc/logo.png)\n",
    "<h1 style=\"color:#872325\">Debugging and Profiling</h1>\n",
    "\n",
    "A medida que vamos trabajando con código cada vez más complejo, la probabilidad de erroes lógicos y cuellos de botella en el procesamietno de nuestros datos  "
   ]
  },
  {
   "cell_type": "markdown",
   "metadata": {},
   "source": [
    "## `pdb`\n",
    "\n",
    "El módulo `pdb` (Python Debugger) define un *debugger* interactivo para programas en python. Este tipo de herramientas nos ayudan a analizar nuestro código y poder detectar más facilmente los errores de nuestros programas."
   ]
  },
  {
   "cell_type": "code",
   "execution_count": 8,
   "metadata": {},
   "outputs": [],
   "source": [
    "import pdb"
   ]
  },
  {
   "cell_type": "markdown",
   "metadata": {},
   "source": [
    "Una vez importado, hacemos uso de `pdb` dentro de un programa con `pdb.set_trace()`. Esta función pausa el programa en la línea deseada e inicia el debugger.\n",
    "\n",
    "**Comandos de navegación PDB** ([fuente](https://web.stanford.edu/class/physics91si/2013/handouts/Pdb_Commands.pdf))\n",
    "\n",
    "* `(l)ist`: muestra 11 líneas alrededor de la línea actual\n",
    "* `(w)here`: muestra el archivo y la línea actual del programa\n",
    "* `(n)ext`: ejecuta la línea actual\n",
    "* `(s)tep`: ingresa a la función dentro de la línea actual\n",
    "* `(r)eturn`: (dentro de una función), corre el progama hasta encontrar el `return` de la función actual\n",
    "* `(c)ontinue`: corre el programa hasta encontrar un *trace* o *breakpoint*"
   ]
  },
  {
   "cell_type": "markdown",
   "metadata": {},
   "source": [
    "<h2 style=\"color:teal\">Ejemplo</h2>\n",
    "\n",
    "Un número entero positivo es conocido como un número de Amstrong de orden $n$ si\n",
    "\n",
    "$$\n",
    "    \\alpha_1\\alpha_2\\ldots\\alpha_n = \\sum_{i=1}^n \\alpha_i^n = \\alpha_1 ^ n + \\alpha_2 ^ n + \\ldots + \\alpha_n ^ n\n",
    "$$\n",
    "\n",
    "Por ejemplo, el número 153 es un número de Amstrong de orden 3 ya que $153 = 1^3 + 5 ^3  + 3 ^ 3$\n",
    "\n",
    "Se quiere escribir un programa que regrese todos los números Amstrong dentro de un rango $[a, b]$. Hasta ahora se tiene el el siguiente programa:\n",
    "\n",
    "```python\n",
    "def is_amstrong(n):\n",
    "    \"\"\"\n",
    "    Función para validar si un número entero positivo\n",
    "    es un número de Amstrong\n",
    "    \n",
    "    parameters\n",
    "    ----------\n",
    "    n: int\n",
    "        número a validar si es Amstrong\n",
    "       \n",
    "    Returns\n",
    "    -------\n",
    "    Bool:\n",
    "        True si 'n' es Amstrong. Falso de otra manera\n",
    "    \"\"\"\n",
    "    numbers = []\n",
    "    total_sum = 0\n",
    "    # Obtenemos cada dígito del número\n",
    "    for ni in str(n):\n",
    "        numbers.append(ni)\n",
    "    \n",
    "    for ni in numbers:\n",
    "        total_sum = ni\n",
    "    \n",
    "    validation = True if total_sum == n else False\n",
    "    return validation\n",
    "    \n",
    "def amstrong_between(a, b):\n",
    "    \"\"\"\n",
    "    Función para encontrar todos los números\n",
    "    amstrong entre un rango a, ..., b\n",
    "    \n",
    "    Parameters\n",
    "    ----------\n",
    "    a: int\n",
    "        cota inferior a evaluar\n",
    "    b: int\n",
    "        cota superior a evaluar\n",
    "    \n",
    "    Returns\n",
    "    -------\n",
    "    list:\n",
    "        elementos entre a, ... ,b que sean número de Amstrong\n",
    "    \"\"\"\n",
    "    amstrong_numbers = []\n",
    "    for i in range(a, b + 1):\n",
    "        if is_amstrong(a):\n",
    "            amstrong_numbers.append(i)\n",
    "    \n",
    "    return amstrong_numbers\n",
    "```\n",
    "\n",
    "Usando `pdb`, arregla el programa anterior para regresar todos los números Amstrong de $a$ a $b$."
   ]
  },
  {
   "cell_type": "markdown",
   "metadata": {},
   "source": [
    "## Esquema de códigio: línea por línea\n",
    "\n",
    "```\n",
    "ipython profile create\n",
    "```\n",
    "\n",
    "Modificamos el archivo `~/.ipython/profile_default/ipython_config.py`\n",
    "\n",
    "```\n",
    "## A list of dotted module names of IPython extensions to load.\n",
    "c.TerminalIPythonApp.extensions = ['line_profiler']\n",
    "```"
   ]
  },
  {
   "cell_type": "code",
   "execution_count": 6,
   "metadata": {},
   "outputs": [],
   "source": [
    "%load_ext line_profiler"
   ]
  },
  {
   "cell_type": "code",
   "execution_count": 7,
   "metadata": {},
   "outputs": [],
   "source": [
    "import numpy as np\n",
    "from numpy.linalg import inv\n",
    "\n",
    "def pseudoinverse(phi):\n",
    "    phi_inv = phi.T @ phi\n",
    "    phi_inv = inv(phi_inv)\n",
    "    phi_inv = phi_inv @ phi.T\n",
    "    return phi_inv\n",
    "\n",
    "def projection(phi, v):\n",
    "    phi_inv = pseudoinverse(phi)\n",
    "    projection = phi @ phi_inv @ v\n",
    "    return projection\n",
    "\n",
    "def random_projection(M, N, random_state=None):\n",
    "    np.random.seed(random_state)\n",
    "    phi = np.random.randn(N, M)\n",
    "    v = np.random.randn(N, 1)\n",
    "    # Projection from vector v onto hyperplane phi\n",
    "    return projection(phi, v)"
   ]
  },
  {
   "cell_type": "code",
   "execution_count": null,
   "metadata": {},
   "outputs": [],
   "source": [
    "%lprun -u 1 -f pseudoinverse -f projection random_projection(1_000, 50_000)"
   ]
  },
  {
   "cell_type": "raw",
   "metadata": {},
   "source": [
    "Timer unit: 1 s\n",
    "\n",
    "Total time: 1.12307 s\n",
    "File: <ipython-input-7-953830b0dddf>\n",
    "Function: pseudoinverse at line 4\n",
    "\n",
    "Line #      Hits         Time  Per Hit   % Time  Line Contents\n",
    "==============================================================\n",
    "     4                                           def pseudoinverse(phi):\n",
    "     5         1          0.4      0.4     31.7      phi_inv = phi.T @ phi\n",
    "     6         1          0.0      0.0      2.5      phi_inv = inv(phi_inv)\n",
    "     7         1          0.7      0.7     65.8      phi_inv = phi_inv @ phi.T\n",
    "     8         1          0.0      0.0      0.0      return phi_inv\n",
    "\n",
    "Total time: 506.198 s\n",
    "File: <ipython-input-7-953830b0dddf>\n",
    "Function: projection at line 10\n",
    "\n",
    "Line #      Hits         Time  Per Hit   % Time  Line Contents\n",
    "==============================================================\n",
    "    10                                           def projection(phi, v):\n",
    "    11         1          1.1      1.1      0.2      phi_inv = pseudoinverse(phi)\n",
    "    12         1        505.1    505.1     99.8      projection = phi @ phi_inv @ v\n",
    "    13         1          0.0      0.0      0.0      return projection"
   ]
  },
  {
   "cell_type": "markdown",
   "metadata": {},
   "source": [
    "<h2 style=\"color:crimson\">Ejercicios</h2>"
   ]
  }
 ],
 "metadata": {
  "kernelspec": {
   "display_name": "Python 3",
   "language": "python",
   "name": "python3"
  },
  "language_info": {
   "codemirror_mode": {
    "name": "ipython",
    "version": 3
   },
   "file_extension": ".py",
   "mimetype": "text/x-python",
   "name": "python",
   "nbconvert_exporter": "python",
   "pygments_lexer": "ipython3",
   "version": "3.6.8"
  }
 },
 "nbformat": 4,
 "nbformat_minor": 2
}
