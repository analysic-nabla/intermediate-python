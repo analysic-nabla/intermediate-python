{
 "cells": [
  {
   "cell_type": "markdown",
   "metadata": {},
   "source": [
    "![logo](../files/misc/logo.png)\n",
    "<h1 style=\"color:#872325\">Debugging and Profiling</h1>\n",
    "\n",
    "A medida que vamos trabajando con código cada vez más complejo, la probabilidad de erroes lógicos y cuellos de botella en el procesamietno de nuestros datos se incrementa de igual manera.\n",
    "\n",
    "Python cuenta con varias herramientas para combatir estos tipos de problemas."
   ]
  },
  {
   "cell_type": "markdown",
   "metadata": {},
   "source": [
    "## `pdb`\n",
    "\n",
    "El módulo `pdb` (Python Debugger) define un *debugger* interactivo para programas en python. Este tipo de herramientas nos ayudan a analizar nuestro código y poder detectar más facilmente los errores de nuestros programas."
   ]
  },
  {
   "cell_type": "code",
   "execution_count": 193,
   "metadata": {},
   "outputs": [],
   "source": [
    "import pdb"
   ]
  },
  {
   "cell_type": "markdown",
   "metadata": {},
   "source": [
    "Una vez importado, hacemos uso de `pdb` dentro de un programa con `pdb.set_trace()`. Esta función pausa el programa en la línea deseada e inicia el debugger.\n",
    "\n",
    "**Comandos de navegación PDB** ([fuente](https://web.stanford.edu/class/physics91si/2013/handouts/Pdb_Commands.pdf))\n",
    "\n",
    "* `(l)ist`: muestra 11 líneas alrededor de la línea actual\n",
    "* `(w)here`: muestra el archivo y la línea actual del programa\n",
    "* `(n)ext`: ejecuta la línea actual\n",
    "* `(s)tep`: ingresa a la función dentro de la línea actual\n",
    "* `(r)eturn`: (dentro de una función), corre el progama hasta encontrar el `return` de la función actual\n",
    "* `(c)ontinue`: corre el programa hasta encontrar un *trace* o *breakpoint*"
   ]
  },
  {
   "cell_type": "code",
   "execution_count": 198,
   "metadata": {},
   "outputs": [
    {
     "name": "stdout",
     "output_type": "stream",
     "text": [
      "> <ipython-input-198-4c0292c576ae>(5)<module>()\n",
      "-> values.append(i ** 2)\n",
      "(Pdb) print(\"Llegado a un breakpoint; el programa pausa\")\n",
      "Llegado a un breakpoint; el programa pausa\n",
      "(Pdb) l\n",
      "  1  \tvalues = []\n",
      "  2  \tfor i in range(10):\n",
      "  3  \t    if i % 2 == 0:\n",
      "  4  \t        pdb.set_trace() # <--- Selección de un \"breakpoint\"\n",
      "  5  ->\t        values.append(i ** 2)\n",
      "[EOF]\n",
      "(Pdb) print(\"Con 'n' ejecutamos la línea actual y pausamos al siguiente paso\")\n",
      "Con 'n' ejecutamos la línea actual y pausamos al siguiente paso\n",
      "(Pdb) n\n",
      "> <ipython-input-198-4c0292c576ae>(2)<module>()\n",
      "-> for i in range(10):\n",
      "(Pdb) l\n",
      "  1  \tvalues = []\n",
      "  2  ->\tfor i in range(10):\n",
      "  3  \t    if i % 2 == 0:\n",
      "  4  \t        pdb.set_trace() # <--- Selección de un \"breakpoint\"\n",
      "  5  \t        values.append(i ** 2)\n",
      "[EOF]\n",
      "(Pdb) print(\"Con 'c' el programa corre hasta encontrar un breakpoint\")\n",
      "Con 'c' el programa corre hasta encontrar un breakpoint\n",
      "(Pdb) c\n",
      "> <ipython-input-198-4c0292c576ae>(5)<module>()\n",
      "-> values.append(i ** 2)\n",
      "(Pdb) l\n",
      "  1  \tvalues = []\n",
      "  2  \tfor i in range(10):\n",
      "  3  \t    if i % 2 == 0:\n",
      "  4  \t        pdb.set_trace() # <--- Selección de un \"breakpoint\"\n",
      "  5  ->\t        values.append(i ** 2)\n",
      "[EOF]\n",
      "(Pdb) print(\"Dentro del debugger podemos observar las variables actuales\")\n",
      "Dentro del debugger podemos observar las variables actuales\n",
      "(Pdb) values\n",
      "[0]\n",
      "(Pdb) i\n",
      "2\n",
      "(Pdb) print(\"En el ejemplo anterior; i == 2, mas no se ha corrido la línea para agregarlo a 'values'\")\n",
      "En el ejemplo anterior; i == 2, mas no se ha corrido la línea para agregarlo a 'values'\n",
      "(Pdb) print(\"Salimos del debugger escribiendo Exit\")\n",
      "Salimos del debugger escribiendo Exit\n",
      "(Pdb) quit\n"
     ]
    },
    {
     "ename": "BdbQuit",
     "evalue": "",
     "output_type": "error",
     "traceback": [
      "\u001b[0;31m---------------------------------------------------------------------------\u001b[0m",
      "\u001b[0;31mBdbQuit\u001b[0m                                   Traceback (most recent call last)",
      "\u001b[0;32m<ipython-input-198-4c0292c576ae>\u001b[0m in \u001b[0;36m<module>\u001b[0;34m\u001b[0m\n\u001b[1;32m      3\u001b[0m     \u001b[0;32mif\u001b[0m \u001b[0mi\u001b[0m \u001b[0;34m%\u001b[0m \u001b[0;36m2\u001b[0m \u001b[0;34m==\u001b[0m \u001b[0;36m0\u001b[0m\u001b[0;34m:\u001b[0m\u001b[0;34m\u001b[0m\u001b[0;34m\u001b[0m\u001b[0m\n\u001b[1;32m      4\u001b[0m         \u001b[0mpdb\u001b[0m\u001b[0;34m.\u001b[0m\u001b[0mset_trace\u001b[0m\u001b[0;34m(\u001b[0m\u001b[0;34m)\u001b[0m \u001b[0;31m# <--- Selección de un \"breakpoint\"\u001b[0m\u001b[0;34m\u001b[0m\u001b[0;34m\u001b[0m\u001b[0m\n\u001b[0;32m----> 5\u001b[0;31m         \u001b[0mvalues\u001b[0m\u001b[0;34m.\u001b[0m\u001b[0mappend\u001b[0m\u001b[0;34m(\u001b[0m\u001b[0mi\u001b[0m \u001b[0;34m**\u001b[0m \u001b[0;36m2\u001b[0m\u001b[0;34m)\u001b[0m\u001b[0;34m\u001b[0m\u001b[0;34m\u001b[0m\u001b[0m\n\u001b[0m",
      "\u001b[0;32m<ipython-input-198-4c0292c576ae>\u001b[0m in \u001b[0;36m<module>\u001b[0;34m\u001b[0m\n\u001b[1;32m      3\u001b[0m     \u001b[0;32mif\u001b[0m \u001b[0mi\u001b[0m \u001b[0;34m%\u001b[0m \u001b[0;36m2\u001b[0m \u001b[0;34m==\u001b[0m \u001b[0;36m0\u001b[0m\u001b[0;34m:\u001b[0m\u001b[0;34m\u001b[0m\u001b[0;34m\u001b[0m\u001b[0m\n\u001b[1;32m      4\u001b[0m         \u001b[0mpdb\u001b[0m\u001b[0;34m.\u001b[0m\u001b[0mset_trace\u001b[0m\u001b[0;34m(\u001b[0m\u001b[0;34m)\u001b[0m \u001b[0;31m# <--- Selección de un \"breakpoint\"\u001b[0m\u001b[0;34m\u001b[0m\u001b[0;34m\u001b[0m\u001b[0m\n\u001b[0;32m----> 5\u001b[0;31m         \u001b[0mvalues\u001b[0m\u001b[0;34m.\u001b[0m\u001b[0mappend\u001b[0m\u001b[0;34m(\u001b[0m\u001b[0mi\u001b[0m \u001b[0;34m**\u001b[0m \u001b[0;36m2\u001b[0m\u001b[0;34m)\u001b[0m\u001b[0;34m\u001b[0m\u001b[0;34m\u001b[0m\u001b[0m\n\u001b[0m",
      "\u001b[0;32m~/anaconda/lib/python3.6/bdb.py\u001b[0m in \u001b[0;36mtrace_dispatch\u001b[0;34m(self, frame, event, arg)\u001b[0m\n\u001b[1;32m     49\u001b[0m             \u001b[0;32mreturn\u001b[0m \u001b[0;31m# None\u001b[0m\u001b[0;34m\u001b[0m\u001b[0;34m\u001b[0m\u001b[0m\n\u001b[1;32m     50\u001b[0m         \u001b[0;32mif\u001b[0m \u001b[0mevent\u001b[0m \u001b[0;34m==\u001b[0m \u001b[0;34m'line'\u001b[0m\u001b[0;34m:\u001b[0m\u001b[0;34m\u001b[0m\u001b[0;34m\u001b[0m\u001b[0m\n\u001b[0;32m---> 51\u001b[0;31m             \u001b[0;32mreturn\u001b[0m \u001b[0mself\u001b[0m\u001b[0;34m.\u001b[0m\u001b[0mdispatch_line\u001b[0m\u001b[0;34m(\u001b[0m\u001b[0mframe\u001b[0m\u001b[0;34m)\u001b[0m\u001b[0;34m\u001b[0m\u001b[0;34m\u001b[0m\u001b[0m\n\u001b[0m\u001b[1;32m     52\u001b[0m         \u001b[0;32mif\u001b[0m \u001b[0mevent\u001b[0m \u001b[0;34m==\u001b[0m \u001b[0;34m'call'\u001b[0m\u001b[0;34m:\u001b[0m\u001b[0;34m\u001b[0m\u001b[0;34m\u001b[0m\u001b[0m\n\u001b[1;32m     53\u001b[0m             \u001b[0;32mreturn\u001b[0m \u001b[0mself\u001b[0m\u001b[0;34m.\u001b[0m\u001b[0mdispatch_call\u001b[0m\u001b[0;34m(\u001b[0m\u001b[0mframe\u001b[0m\u001b[0;34m,\u001b[0m \u001b[0marg\u001b[0m\u001b[0;34m)\u001b[0m\u001b[0;34m\u001b[0m\u001b[0;34m\u001b[0m\u001b[0m\n",
      "\u001b[0;32m~/anaconda/lib/python3.6/bdb.py\u001b[0m in \u001b[0;36mdispatch_line\u001b[0;34m(self, frame)\u001b[0m\n\u001b[1;32m     68\u001b[0m         \u001b[0;32mif\u001b[0m \u001b[0mself\u001b[0m\u001b[0;34m.\u001b[0m\u001b[0mstop_here\u001b[0m\u001b[0;34m(\u001b[0m\u001b[0mframe\u001b[0m\u001b[0;34m)\u001b[0m \u001b[0;32mor\u001b[0m \u001b[0mself\u001b[0m\u001b[0;34m.\u001b[0m\u001b[0mbreak_here\u001b[0m\u001b[0;34m(\u001b[0m\u001b[0mframe\u001b[0m\u001b[0;34m)\u001b[0m\u001b[0;34m:\u001b[0m\u001b[0;34m\u001b[0m\u001b[0;34m\u001b[0m\u001b[0m\n\u001b[1;32m     69\u001b[0m             \u001b[0mself\u001b[0m\u001b[0;34m.\u001b[0m\u001b[0muser_line\u001b[0m\u001b[0;34m(\u001b[0m\u001b[0mframe\u001b[0m\u001b[0;34m)\u001b[0m\u001b[0;34m\u001b[0m\u001b[0;34m\u001b[0m\u001b[0m\n\u001b[0;32m---> 70\u001b[0;31m             \u001b[0;32mif\u001b[0m \u001b[0mself\u001b[0m\u001b[0;34m.\u001b[0m\u001b[0mquitting\u001b[0m\u001b[0;34m:\u001b[0m \u001b[0;32mraise\u001b[0m \u001b[0mBdbQuit\u001b[0m\u001b[0;34m\u001b[0m\u001b[0;34m\u001b[0m\u001b[0m\n\u001b[0m\u001b[1;32m     71\u001b[0m         \u001b[0;32mreturn\u001b[0m \u001b[0mself\u001b[0m\u001b[0;34m.\u001b[0m\u001b[0mtrace_dispatch\u001b[0m\u001b[0;34m\u001b[0m\u001b[0;34m\u001b[0m\u001b[0m\n\u001b[1;32m     72\u001b[0m \u001b[0;34m\u001b[0m\u001b[0m\n",
      "\u001b[0;31mBdbQuit\u001b[0m: "
     ]
    }
   ],
   "source": [
    "values = []\n",
    "for i in range(10):\n",
    "    if i % 2 == 0:\n",
    "        pdb.set_trace() # <--- Selección de un \"breakpoint\"\n",
    "        values.append(i ** 2)"
   ]
  },
  {
   "cell_type": "markdown",
   "metadata": {},
   "source": [
    "<h2 style=\"color:teal\">Ejemplo</h2>\n",
    "\n",
    "Un número entero positivo es conocido como un número de Amstrong de orden $n$ si\n",
    "\n",
    "$$\n",
    "    \\alpha_1\\alpha_2\\ldots\\alpha_n = \\sum_{i=1}^n \\alpha_i^n = \\alpha_1 ^ n + \\alpha_2 ^ n + \\ldots + \\alpha_n ^ n\n",
    "$$\n",
    "\n",
    "Por ejemplo, el número 153 es un número de Amstrong de orden 3 ya que $153 = 1^3 + 5 ^3  + 3 ^ 3$\n",
    "\n",
    "Se quiere escribir un programa que regrese todos los números Amstrong dentro de un rango $[a, b]$. Hasta ahora se tiene el el siguiente programa:\n",
    "\n",
    "```python\n",
    "def is_amstrong(n):\n",
    "    \"\"\"\n",
    "    Función para validar si un número entero positivo\n",
    "    es un número de Amstrong\n",
    "    \n",
    "    parameters\n",
    "    ----------\n",
    "    n: int\n",
    "        número a validar si es Amstrong\n",
    "       \n",
    "    Returns\n",
    "    -------\n",
    "    Bool:\n",
    "        True si 'n' es Amstrong. Falso de otra manera\n",
    "    \"\"\"\n",
    "    numbers = []\n",
    "    total_sum = 0\n",
    "    # Obtenemos cada dígito del número\n",
    "    for ni in str(n):\n",
    "        numbers.append(ni)\n",
    "    \n",
    "    for ni in numbers:\n",
    "        total_sum = ni\n",
    "    \n",
    "    validation = True if total_sum == n else False\n",
    "    return validation\n",
    "    \n",
    "def amstrong_between(a, b):\n",
    "    \"\"\"\n",
    "    Función para encontrar todos los números\n",
    "    amstrong entre un rango a, ..., b\n",
    "    \n",
    "    Parameters\n",
    "    ----------\n",
    "    a: int\n",
    "        cota inferior a evaluar\n",
    "    b: int\n",
    "        cota superior a evaluar\n",
    "    \n",
    "    Returns\n",
    "    -------\n",
    "    list:\n",
    "        elementos entre a, ... ,b que sean número de Amstrong\n",
    "    \"\"\"\n",
    "    amstrong_numbers = []\n",
    "    for i in range(a, b + 1):\n",
    "        if is_amstrong(a):\n",
    "            amstrong_numbers.append(i)\n",
    "    \n",
    "    return amstrong_numbers\n",
    "```\n",
    "\n",
    "Usando `pdb`, arregla el programa anterior para regresar todos los números Amstrong de $a$ a $b$."
   ]
  },
  {
   "cell_type": "markdown",
   "metadata": {},
   "source": [
    "## Evaluando Desempeño de Código"
   ]
  },
  {
   "cell_type": "markdown",
   "metadata": {},
   "source": [
    "### `%time`"
   ]
  },
  {
   "cell_type": "code",
   "execution_count": 30,
   "metadata": {},
   "outputs": [],
   "source": [
    "from numpy.linalg import eigvalsh, det\n",
    "from numpy.random import seed"
   ]
  },
  {
   "cell_type": "code",
   "execution_count": 162,
   "metadata": {},
   "outputs": [
    {
     "data": {
      "text/plain": [
       "array([[ 0.21 ,  1.31 , -0.878, ...,  0.543,  1.225, -0.881],\n",
       "       [-0.096,  0.381, -1.061, ...,  0.66 , -0.65 , -0.173],\n",
       "       [ 1.835, -1.037, -0.573, ...,  0.165,  2.769, -0.763],\n",
       "       ...,\n",
       "       [ 0.38 ,  1.117, -1.203, ...,  0.429,  0.979,  0.68 ],\n",
       "       [ 0.616,  0.485, -0.569, ...,  0.493,  1.302,  0.882],\n",
       "       [-0.394,  1.251, -0.355, ..., -0.222,  0.138, -0.642]])"
      ]
     },
     "execution_count": 162,
     "metadata": {},
     "output_type": "execute_result"
    }
   ],
   "source": [
    "np.set_printoptions(suppress=True, precision=3, linewidth=200)\n",
    "seed(314159)\n",
    "A = np.random.randn(50,50)\n",
    "A"
   ]
  },
  {
   "cell_type": "code",
   "execution_count": 163,
   "metadata": {},
   "outputs": [
    {
     "name": "stdout",
     "output_type": "stream",
     "text": [
      "CPU times: user 361 µs, sys: 344 µs, total: 705 µs\n",
      "Wall time: 6.67 ms\n"
     ]
    },
    {
     "data": {
      "text/plain": [
       "-1.3064225294089122e+32"
      ]
     },
     "execution_count": 163,
     "metadata": {},
     "output_type": "execute_result"
    }
   ],
   "source": [
    "%%time\n",
    "det(A)"
   ]
  },
  {
   "cell_type": "code",
   "execution_count": 164,
   "metadata": {
    "scrolled": true
   },
   "outputs": [
    {
     "name": "stdout",
     "output_type": "stream",
     "text": [
      "CPU times: user 773 µs, sys: 16 µs, total: 789 µs\n",
      "Wall time: 778 µs\n"
     ]
    },
    {
     "data": {
      "text/plain": [
       "-1.3064225294089345e+32"
      ]
     },
     "execution_count": 164,
     "metadata": {},
     "output_type": "execute_result"
    }
   ],
   "source": [
    "%%time\n",
    "np.prod(eigvals(A)).real"
   ]
  },
  {
   "cell_type": "markdown",
   "metadata": {},
   "source": [
    "### `%timeit`"
   ]
  },
  {
   "cell_type": "code",
   "execution_count": 165,
   "metadata": {},
   "outputs": [
    {
     "name": "stdout",
     "output_type": "stream",
     "text": [
      "24.4 µs ± 926 ns per loop (mean ± std. dev. of 7 runs, 10000 loops each)\n"
     ]
    }
   ],
   "source": [
    "%%timeit\n",
    "det(A)"
   ]
  },
  {
   "cell_type": "code",
   "execution_count": 166,
   "metadata": {
    "scrolled": true
   },
   "outputs": [
    {
     "name": "stdout",
     "output_type": "stream",
     "text": [
      "482 µs ± 18.2 µs per loop (mean ± std. dev. of 7 runs, 1000 loops each)\n"
     ]
    }
   ],
   "source": [
    "%%timeit\n",
    "np.prod(eigvals(A)).real"
   ]
  },
  {
   "cell_type": "markdown",
   "metadata": {},
   "source": [
    "#### Eligiendo número de loops"
   ]
  },
  {
   "cell_type": "code",
   "execution_count": 167,
   "metadata": {},
   "outputs": [
    {
     "name": "stdout",
     "output_type": "stream",
     "text": [
      "30.2 µs ± 4.89 µs per loop (mean ± std. dev. of 7 runs, 10 loops each)\n"
     ]
    }
   ],
   "source": [
    "%%timeit -n 10\n",
    "det(A)"
   ]
  },
  {
   "cell_type": "code",
   "execution_count": 168,
   "metadata": {
    "scrolled": true
   },
   "outputs": [
    {
     "name": "stdout",
     "output_type": "stream",
     "text": [
      "526 µs ± 22 µs per loop (mean ± std. dev. of 7 runs, 10 loops each)\n"
     ]
    }
   ],
   "source": [
    "%%timeit -n 10\n",
    "np.prod(eigvals(A)).real"
   ]
  },
  {
   "cell_type": "markdown",
   "metadata": {},
   "source": [
    "#### Eligiendo número de rondas por loop"
   ]
  },
  {
   "cell_type": "code",
   "execution_count": 169,
   "metadata": {},
   "outputs": [
    {
     "name": "stdout",
     "output_type": "stream",
     "text": [
      "27.3 µs ± 921 ns per loop (mean ± std. dev. of 10 runs, 10000 loops each)\n"
     ]
    }
   ],
   "source": [
    "%%timeit -r 10\n",
    "det(A)"
   ]
  },
  {
   "cell_type": "code",
   "execution_count": 170,
   "metadata": {
    "scrolled": true
   },
   "outputs": [
    {
     "name": "stdout",
     "output_type": "stream",
     "text": [
      "477 µs ± 16.6 µs per loop (mean ± std. dev. of 10 runs, 1000 loops each)\n"
     ]
    }
   ],
   "source": [
    "%%timeit -r 10\n",
    "np.prod(eigvals(A)).real"
   ]
  },
  {
   "cell_type": "markdown",
   "metadata": {},
   "source": [
    "#### Eligiendo número de rondas y loops"
   ]
  },
  {
   "cell_type": "code",
   "execution_count": 171,
   "metadata": {},
   "outputs": [
    {
     "name": "stdout",
     "output_type": "stream",
     "text": [
      "32.3 µs ± 10.7 µs per loop (mean ± std. dev. of 10 runs, 20 loops each)\n"
     ]
    }
   ],
   "source": [
    "%%timeit -r 10 -n 20\n",
    "det(A)"
   ]
  },
  {
   "cell_type": "code",
   "execution_count": 172,
   "metadata": {
    "scrolled": true
   },
   "outputs": [
    {
     "name": "stdout",
     "output_type": "stream",
     "text": [
      "514 µs ± 37.5 µs per loop (mean ± std. dev. of 10 runs, 20 loops each)\n"
     ]
    }
   ],
   "source": [
    "%%timeit -r 10 -n 20\n",
    "np.prod(eigvals(A)).real"
   ]
  },
  {
   "cell_type": "code",
   "execution_count": 178,
   "metadata": {},
   "outputs": [],
   "source": [
    "%config IPKernelApp.extensions = [\"line_profiler\"]"
   ]
  },
  {
   "cell_type": "markdown",
   "metadata": {},
   "source": [
    "## Esquema de códigio: línea por línea\n",
    "\n",
    "```\n",
    "ipython profile create\n",
    "```\n",
    "\n",
    "Modificamos el archivo `~/.ipython/profile_default/ipython_config.py`\n",
    "\n",
    "```\n",
    "## A list of dotted module names of IPython extensions to load.\n",
    "c.TerminalIPythonApp.extensions = ['line_profiler']\n",
    "```"
   ]
  },
  {
   "cell_type": "code",
   "execution_count": 6,
   "metadata": {},
   "outputs": [],
   "source": [
    "%load_ext line_profiler"
   ]
  },
  {
   "cell_type": "code",
   "execution_count": 4,
   "metadata": {},
   "outputs": [],
   "source": [
    "import numpy as np\n",
    "from numpy.linalg import inv\n",
    "\n",
    "def pseudoinverse(phi):\n",
    "    phi_inv = phi.T @ phi\n",
    "    phi_inv = inv(phi_inv)\n",
    "    phi_inv = phi_inv @ phi.T\n",
    "    return phi_inv\n",
    "\n",
    "def projection(phi, v):\n",
    "    phi_inv = pseudoinverse(phi)\n",
    "    projection = phi @ phi_inv @ v\n",
    "    return projection\n",
    "\n",
    "def random_projection(M, N, random_state=None):\n",
    "    np.random.seed(random_state)\n",
    "    phi = np.random.randn(N, M)\n",
    "    v = np.random.randn(N, 1)\n",
    "    # Projection from vector v onto hyperplane phi\n",
    "    return projection(phi, v)"
   ]
  },
  {
   "cell_type": "code",
   "execution_count": null,
   "metadata": {},
   "outputs": [],
   "source": [
    "%lprun -u 1 -f pseudoinverse -f projection random_projection(1_000, 50_000)"
   ]
  },
  {
   "cell_type": "raw",
   "metadata": {},
   "source": [
    "Timer unit: 1 s\n",
    "\n",
    "Total time: 1.12307 s\n",
    "File: <ipython-input-7-953830b0dddf>\n",
    "Function: pseudoinverse at line 4\n",
    "\n",
    "Line #      Hits         Time  Per Hit   % Time  Line Contents\n",
    "==============================================================\n",
    "     4                                           def pseudoinverse(phi):\n",
    "     5         1          0.4      0.4     31.7      phi_inv = phi.T @ phi\n",
    "     6         1          0.0      0.0      2.5      phi_inv = inv(phi_inv)\n",
    "     7         1          0.7      0.7     65.8      phi_inv = phi_inv @ phi.T\n",
    "     8         1          0.0      0.0      0.0      return phi_inv\n",
    "\n",
    "Total time: 506.198 s\n",
    "File: <ipython-input-7-953830b0dddf>\n",
    "Function: projection at line 10\n",
    "\n",
    "Line #      Hits         Time  Per Hit   % Time  Line Contents\n",
    "==============================================================\n",
    "    10                                           def projection(phi, v):\n",
    "    11         1          1.1      1.1      0.2      phi_inv = pseudoinverse(phi)\n",
    "    12         1        505.1    505.1     99.8      projection = phi @ phi_inv @ v\n",
    "    13         1          0.0      0.0      0.0      return projection"
   ]
  },
  {
   "cell_type": "markdown",
   "metadata": {},
   "source": [
    "<h2 style=\"color:crimson\">Ejercicios</h2>"
   ]
  }
 ],
 "metadata": {
  "kernelspec": {
   "display_name": "Python 3",
   "language": "python",
   "name": "python3"
  },
  "language_info": {
   "codemirror_mode": {
    "name": "ipython",
    "version": 3
   },
   "file_extension": ".py",
   "mimetype": "text/x-python",
   "name": "python",
   "nbconvert_exporter": "python",
   "pygments_lexer": "ipython3",
   "version": "3.6.8"
  }
 },
 "nbformat": 4,
 "nbformat_minor": 2
}
