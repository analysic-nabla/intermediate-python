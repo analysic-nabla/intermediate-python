{
 "cells": [
  {
   "cell_type": "markdown",
   "metadata": {},
   "source": [
    "![logo](../files/misc/logo.png)\n",
    "<h1 style=\"color:#872325\">Decorators</h1>\n",
    "\n",
    "## Modificando Funciones"
   ]
  },
  {
   "cell_type": "markdown",
   "metadata": {},
   "source": [
    "### Fuciones como argumentos a funciones\n",
    "\n",
    "Empezamos esta lectura recordando que en Python todo es un objeto: funciones, listas, numpy arrays, dicionarios, classes, etc. De igual manera, una función en Python puede obtener cualquier tipo de objeto. Por lo tanto, dentro de Python, **podemos definir funciones que tomen funciones**."
   ]
  },
  {
   "cell_type": "code",
   "execution_count": 33,
   "metadata": {},
   "outputs": [
    {
     "data": {
      "text/plain": [
       "0.8109302162163288"
      ]
     },
     "execution_count": 33,
     "metadata": {},
     "output_type": "execute_result"
    }
   ],
   "source": [
    "from typing import Callable\n",
    "from math import log\n",
    "\n",
    "def h(f: Callable[[float], float], x: float) -> float:\n",
    "    return f(x ** 2)\n",
    "\n",
    "h(log, 1.5)"
   ]
  },
  {
   "cell_type": "code",
   "execution_count": 34,
   "metadata": {},
   "outputs": [
    {
     "data": {
      "text/plain": [
       "<function __main__.h(f:Callable[[float], float], x:float) -> float>"
      ]
     },
     "execution_count": 34,
     "metadata": {},
     "output_type": "execute_result"
    }
   ],
   "source": [
    "h"
   ]
  },
  {
   "cell_type": "markdown",
   "metadata": {},
   "source": [
    "### Funciones dentro de funciones"
   ]
  },
  {
   "cell_type": "markdown",
   "metadata": {},
   "source": [
    "Al igual que tomar funciones dentro de funciones, podemos escribir funciones dentro de funciones. Estas funciones son efímeras ya que dejan de existir una vez terminada la ejecución de la función"
   ]
  },
  {
   "cell_type": "code",
   "execution_count": 40,
   "metadata": {},
   "outputs": [
    {
     "name": "stdout",
     "output_type": "stream",
     "text": [
      "150\n",
      "-122\n",
      "-150\n"
     ]
    }
   ],
   "source": [
    "from random import randint, seed\n",
    "seed(271828)\n",
    "\n",
    "def f(x):\n",
    "    def k(x, y):\n",
    "        return x * y\n",
    "    mult = randint(-100, 100)\n",
    "    return k(x, mult)\n",
    "\n",
    "for _ in range(3):\n",
    "    print(f(2))"
   ]
  },
  {
   "cell_type": "markdown",
   "metadata": {},
   "source": [
    "### Funciones que regresan funciones\n",
    "\n",
    "¿De qué manera podríamos escribir una función que siempre multiplique `x` por un número aleatorio?"
   ]
  },
  {
   "cell_type": "code",
   "execution_count": 42,
   "metadata": {},
   "outputs": [],
   "source": [
    "def f(x):\n",
    "    def k(y):\n",
    "        return x * y\n",
    "    return k"
   ]
  },
  {
   "cell_type": "code",
   "execution_count": 46,
   "metadata": {},
   "outputs": [
    {
     "data": {
      "text/plain": [
       "6"
      ]
     },
     "execution_count": 46,
     "metadata": {},
     "output_type": "execute_result"
    }
   ],
   "source": [
    "h = f(3)\n",
    "h(2)"
   ]
  },
  {
   "cell_type": "code",
   "execution_count": 65,
   "metadata": {},
   "outputs": [],
   "source": [
    "def square_number(g):\n",
    "    def k(x):\n",
    "        return g(x ** 2)\n",
    "    return k\n",
    "\n",
    "def add_one(x):\n",
    "    return x + 1\n",
    "\n",
    "def inverse(x):\n",
    "    return 1 / x"
   ]
  },
  {
   "cell_type": "markdown",
   "metadata": {},
   "source": [
    "¿Cuál sería el resultado de ejecutar los siguiente programas?"
   ]
  },
  {
   "cell_type": "code",
   "execution_count": null,
   "metadata": {},
   "outputs": [],
   "source": [
    "f = square_number(add_one)\n",
    "f(3)"
   ]
  },
  {
   "cell_type": "code",
   "execution_count": null,
   "metadata": {},
   "outputs": [],
   "source": [
    "g = square_number(inverse)\n",
    "g(2)"
   ]
  },
  {
   "cell_type": "code",
   "execution_count": null,
   "metadata": {},
   "outputs": [],
   "source": [
    "h = square_number(log)\n",
    "h(2)"
   ]
  },
  {
   "cell_type": "markdown",
   "metadata": {},
   "source": [
    "## Decoradores `@`\n",
    "\n",
    "Para casos en los que deseemos modificar una función en base a alguna otra función, es común (y recomendable) usar **decoradores**. En otras palabras, \n",
    "\n",
    "> Un decorador en Python es una función que toma otra función y extiende su funcionalidad sin modificar la definición de la función original"
   ]
  },
  {
   "cell_type": "markdown",
   "metadata": {},
   "source": [
    "<h2 style=\"color:teal\">Ejemplo</h2>\n",
    "\n",
    "Considerando la función `announce_func(f)`, escribamos un programa que regrese el valor de la función, imprimiendo en la pantalla que la función `f` se está corriendo actualmente."
   ]
  },
  {
   "cell_type": "code",
   "execution_count": 81,
   "metadata": {},
   "outputs": [],
   "source": [
    "def announce_func(f):\n",
    "    print(f\"Estas corriendo la función {f}\")\n",
    "    return f"
   ]
  },
  {
   "cell_type": "code",
   "execution_count": 82,
   "metadata": {},
   "outputs": [
    {
     "name": "stdout",
     "output_type": "stream",
     "text": [
      "Estas corriendo la función <function f at 0x11522d8c8>\n"
     ]
    },
    {
     "data": {
      "text/plain": [
       "25.0"
      ]
     },
     "execution_count": 82,
     "metadata": {},
     "output_type": "execute_result"
    }
   ],
   "source": [
    "# La manera \"tradicional\"\n",
    "def f(x):\n",
    "    return (x / 2) ** 2\n",
    "annnounce_f = announce_func(f)\n",
    "annnounce_f(10)"
   ]
  },
  {
   "cell_type": "code",
   "execution_count": 83,
   "metadata": {},
   "outputs": [
    {
     "name": "stdout",
     "output_type": "stream",
     "text": [
      "Estas corriendo la función <function announce_f at 0x11522dae8>\n"
     ]
    },
    {
     "data": {
      "text/plain": [
       "25.0"
      ]
     },
     "execution_count": 83,
     "metadata": {},
     "output_type": "execute_result"
    }
   ],
   "source": [
    "# Con un decorador\n",
    "@announce_func\n",
    "def announce_f(x):\n",
    "    return (x / 2) ** 2\n",
    "\n",
    "announce_f(10)"
   ]
  },
  {
   "cell_type": "markdown",
   "metadata": {},
   "source": [
    "<h2 style=\"color:crimson\">Ejercicios</h2>\n",
    "\n",
    "**De regreso al ejemplo original**  \n",
    "Recordemos la siguiente función:\n",
    "```python\n",
    "def square_number(g):\n",
    "    def k(x):\n",
    "        return g(x ** 2)\n",
    "    return k\n",
    "\n",
    "def add_one(x):\n",
    "    return x + 1\n",
    "\n",
    "def inverse(x):\n",
    "    return 1 / x\n",
    "```\n",
    "\n",
    "1. Usando decoradores define la función `sq_add_one` que regrese la evaluación de `add_one` con `x`  evaluado en `square_number`.\n",
    "\n",
    "---\n",
    "\n",
    "2. Usando decoradores define la función `sq_inverse` que regrese la evaluación de `inverse` con `x`  evaluado en `square_number`."
   ]
  },
  {
   "cell_type": "markdown",
   "metadata": {},
   "source": [
    "## Acumulando Decoradores\n",
    "\n",
    "Una ventaja de usar decoradores, desde un punto de vista estético, es la posibilidad de encadenar decoradores."
   ]
  },
  {
   "cell_type": "markdown",
   "metadata": {},
   "source": [
    "<h2 style=\"color:teal\">Ejemplo</h2>\n",
    "\n",
    "Consideramos la función `f`"
   ]
  },
  {
   "cell_type": "code",
   "execution_count": 104,
   "metadata": {},
   "outputs": [
    {
     "data": {
      "text/plain": [
       "'<---1--->'"
      ]
     },
     "execution_count": 104,
     "metadata": {},
     "output_type": "execute_result"
    }
   ],
   "source": [
    "def decorate(string):\n",
    "    return f\"<---{string}--->\"\n",
    "\n",
    "decorate(1)"
   ]
  },
  {
   "cell_type": "markdown",
   "metadata": {},
   "source": [
    "Supongamos nos interesa crear una variante de `decorate` que considere una lista y nos regrese una nueva lista con `decorate` aplicado a cada uno de los elementos.\n",
    "\n",
    "**Nota:** Este ejemplo es ilustrativo y puede ser solucionado muy fácilmente considerando una función que ocupe _list comprehensions_.\n",
    "\n",
    "Evaluar decorate sobre una lista nos regresa lo siguiente:"
   ]
  },
  {
   "cell_type": "code",
   "execution_count": 106,
   "metadata": {},
   "outputs": [
    {
     "data": {
      "text/plain": [
       "'<---[1, 3]--->'"
      ]
     },
     "execution_count": 106,
     "metadata": {},
     "output_type": "execute_result"
    }
   ],
   "source": [
    "decorate([1, 3])"
   ]
  },
  {
   "cell_type": "markdown",
   "metadata": {},
   "source": [
    "Introduciremos la función `vectorize` dentro de la librería `numpy` la cual toma una función `f` que regresa un único elemento y la transforma en una que aplica `f` a cada uno de los valores."
   ]
  },
  {
   "cell_type": "code",
   "execution_count": 110,
   "metadata": {},
   "outputs": [
    {
     "data": {
      "text/plain": [
       "array(['<---1--->', '<---3--->'], dtype='<U9')"
      ]
     },
     "execution_count": 110,
     "metadata": {},
     "output_type": "execute_result"
    }
   ],
   "source": [
    "decorate_it = np.vectorize(f)\n",
    "decorate_it([1, 3])"
   ]
  },
  {
   "cell_type": "markdown",
   "metadata": {},
   "source": [
    "\n",
    "Por medio de un decorador, podemos definir `decorate_it` de la siguiente manera"
   ]
  },
  {
   "cell_type": "code",
   "execution_count": 109,
   "metadata": {},
   "outputs": [
    {
     "data": {
      "text/plain": [
       "array(['<---1--->', '<---3--->'], dtype='<U9')"
      ]
     },
     "execution_count": 109,
     "metadata": {},
     "output_type": "execute_result"
    }
   ],
   "source": [
    "@np.vectorize\n",
    "def decorate_it(element):\n",
    "    return decorate(element)\n",
    "\n",
    "decorate_it([1, 3])"
   ]
  },
  {
   "cell_type": "markdown",
   "metadata": {},
   "source": [
    "último problema nos queda: nos gustaría que el resultado final de `decorate_it` sea una lista, no un `numpy.array`. Para solucionar esto, definiremos la función `to_list`, que tome una función `f` y regrese una función de `f` evaluada y el resultado convertido a una lista."
   ]
  },
  {
   "cell_type": "code",
   "execution_count": 118,
   "metadata": {},
   "outputs": [
    {
     "data": {
      "text/plain": [
       "['<---1--->', '<---3--->']"
      ]
     },
     "execution_count": 118,
     "metadata": {},
     "output_type": "execute_result"
    }
   ],
   "source": [
    "def to_list(f):\n",
    "    def fout(v):\n",
    "        return list(f(v))\n",
    "    return fout\n",
    "\n",
    "@to_list\n",
    "@np.vectorize\n",
    "def decorate_it(string):\n",
    "    return decorate(string)\n",
    "\n",
    "decorate_it([1, 3])"
   ]
  },
  {
   "cell_type": "markdown",
   "metadata": {},
   "source": [
    "# _Decorators in the wild_"
   ]
  },
  {
   "cell_type": "markdown",
   "metadata": {},
   "source": [
    "Lo siguiente que veremos son funciones comunmente usadas como decoradores dentro de la librería estándar de Python. Los primeros tres decoradores corresponden a funcionalidades adiconales que les podemos ofrecer a las clases."
   ]
  },
  {
   "attachments": {},
   "cell_type": "markdown",
   "metadata": {},
   "source": [
    "## `@staticmethod`\n",
    "\n",
    "Un `staticmethod`, como su nombre lo menciona, es un método el cuál no depende de la instancia de la clase desde la cuál fue invocada.\n",
    "\n",
    "La sintáxis de un `staticmethod` es la siguiente:\n",
    "\n",
    "```python\n",
    "class A:\n",
    "    @staticmethod\n",
    "    def staticm(a, b):\n",
    "        # so smth\n",
    "        ...\n",
    "```\n",
    "\n",
    "Como podemos ver en el ejemplo, un `@staticmethod` no toma `self` como un primer parámetro."
   ]
  },
  {
   "cell_type": "code",
   "execution_count": null,
   "metadata": {},
   "outputs": [],
   "source": []
  },
  {
   "cell_type": "markdown",
   "metadata": {},
   "source": [
    "## `@classmethod`\n",
    "\n",
    "Un `@classmethod` es un método el cuál depende, como primer parámetro, de una clase.\n",
    "\n",
    "```python\n",
    "class A:\n",
    "    @classmethod\n",
    "    def method(cls, a, b):\n",
    "        # do smth\n",
    "        ...\n",
    "```"
   ]
  },
  {
   "cell_type": "code",
   "execution_count": null,
   "metadata": {},
   "outputs": [],
   "source": []
  },
  {
   "attachments": {},
   "cell_type": "markdown",
   "metadata": {},
   "source": [
    "## `@property`\n",
    "\n",
    "Como su nombre menciona, `@property` nos permite definir un _getter_ para elementos que deseemos tengan un nombre privado.\n",
    "\n",
    "\n",
    "```python\n",
    "class A:\n",
    "    def __init__(self, param):\n",
    "        self._param = param\n",
    "    @property\n",
    "    def param(self):\n",
    "        return self._param\n",
    "```"
   ]
  },
  {
   "cell_type": "code",
   "execution_count": null,
   "metadata": {},
   "outputs": [],
   "source": []
  },
  {
   "cell_type": "markdown",
   "metadata": {},
   "source": [
    "## Referencias\n",
    "1. https://www.python.org/dev/peps/pep-0318/"
   ]
  }
 ],
 "metadata": {
  "kernelspec": {
   "display_name": "Python 3",
   "language": "python",
   "name": "python3"
  },
  "language_info": {
   "codemirror_mode": {
    "name": "ipython",
    "version": 3
   },
   "file_extension": ".py",
   "mimetype": "text/x-python",
   "name": "python",
   "nbconvert_exporter": "python",
   "pygments_lexer": "ipython3",
   "version": "3.6.8"
  }
 },
 "nbformat": 4,
 "nbformat_minor": 2
}
