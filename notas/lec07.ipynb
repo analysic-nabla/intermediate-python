{
 "cells": [
  {
   "cell_type": "markdown",
   "metadata": {},
   "source": [
    "![logo](../files/misc/logo.png)\n",
    "<h1 style=\"color:#872325\">Decorators</h1>\n",
    "\n",
    "## Modificando Funciones"
   ]
  },
  {
   "cell_type": "markdown",
   "metadata": {},
   "source": [
    "### Fuciones como argumentos a funciones\n",
    "\n",
    "Empezamos esta lectura recordando que en Python todo es un objeto: funciones, listas, numpy arrays, dicionarios, classes, etc. De igual manera, una función en Python puede obtener cualquier tipo de objeto. Por lo tanto, dentro de Python, **podemos definir funciones que tomen funciones**."
   ]
  },
  {
   "cell_type": "code",
   "execution_count": 33,
   "metadata": {},
   "outputs": [
    {
     "data": {
      "text/plain": [
       "0.8109302162163288"
      ]
     },
     "execution_count": 33,
     "metadata": {},
     "output_type": "execute_result"
    }
   ],
   "source": [
    "from typing import Callable\n",
    "from math import log\n",
    "\n",
    "def h(f: Callable[[float], float], x: float) -> float:\n",
    "    return f(x ** 2)\n",
    "\n",
    "h(log, 1.5)"
   ]
  },
  {
   "cell_type": "code",
   "execution_count": 34,
   "metadata": {},
   "outputs": [
    {
     "data": {
      "text/plain": [
       "<function __main__.h(f:Callable[[float], float], x:float) -> float>"
      ]
     },
     "execution_count": 34,
     "metadata": {},
     "output_type": "execute_result"
    }
   ],
   "source": [
    "h"
   ]
  },
  {
   "cell_type": "markdown",
   "metadata": {},
   "source": [
    "### Funciones dentro de funciones"
   ]
  },
  {
   "cell_type": "markdown",
   "metadata": {},
   "source": [
    "Al igual que tomar funciones dentro de funciones, podemos escribir funciones dentro de funciones. Estas funciones son efímeras ya que dejan de existir una vez terminada la ejecución de la función"
   ]
  },
  {
   "cell_type": "code",
   "execution_count": 40,
   "metadata": {},
   "outputs": [
    {
     "name": "stdout",
     "output_type": "stream",
     "text": [
      "150\n",
      "-122\n",
      "-150\n"
     ]
    }
   ],
   "source": [
    "from random import randint, seed\n",
    "seed(271828)\n",
    "\n",
    "def f(x):\n",
    "    def k(x, y):\n",
    "        return x * y\n",
    "    mult = randint(-100, 100)\n",
    "    return k(x, mult)\n",
    "\n",
    "for _ in range(3):\n",
    "    print(f(2))"
   ]
  },
  {
   "cell_type": "markdown",
   "metadata": {},
   "source": [
    "### Funciones que regresan funciones\n",
    "\n",
    "¿De qué manera podríamos escribir una función que siempre multiplique `x` por un número aleatorio?"
   ]
  },
  {
   "cell_type": "code",
   "execution_count": 42,
   "metadata": {},
   "outputs": [],
   "source": [
    "def f(x):\n",
    "    def k(y):\n",
    "        return x * y\n",
    "    return k"
   ]
  },
  {
   "cell_type": "code",
   "execution_count": 46,
   "metadata": {},
   "outputs": [
    {
     "data": {
      "text/plain": [
       "6"
      ]
     },
     "execution_count": 46,
     "metadata": {},
     "output_type": "execute_result"
    }
   ],
   "source": [
    "h = f(3)\n",
    "h(2)"
   ]
  },
  {
   "cell_type": "code",
   "execution_count": 65,
   "metadata": {},
   "outputs": [],
   "source": [
    "def square_number(g):\n",
    "    def k(x):\n",
    "        return g(x ** 2)\n",
    "    return k\n",
    "\n",
    "def add_one(x):\n",
    "    return x + 1\n",
    "\n",
    "def inverse(x):\n",
    "    return 1 / x"
   ]
  },
  {
   "cell_type": "markdown",
   "metadata": {},
   "source": [
    "¿Cuál sería el resultado de ejecutar los siguiente programas?"
   ]
  },
  {
   "cell_type": "code",
   "execution_count": null,
   "metadata": {},
   "outputs": [],
   "source": [
    "f = square_number(add_one)\n",
    "f(3)"
   ]
  },
  {
   "cell_type": "code",
   "execution_count": null,
   "metadata": {},
   "outputs": [],
   "source": [
    "g = square_number(inverse)\n",
    "g(2)"
   ]
  },
  {
   "cell_type": "code",
   "execution_count": null,
   "metadata": {},
   "outputs": [],
   "source": [
    "h = square_number(log)\n",
    "h(2)"
   ]
  },
  {
   "cell_type": "markdown",
   "metadata": {},
   "source": [
    "## Decoradores `@`\n",
    "\n",
    "Para casos en los que deseemos modificar una función en base a alguna otra función, es común (y recomendable) usar **decoradores**. En otras palabras, \n",
    "\n",
    "> Un decorador en Python es una función que toma otra función y extiende su funcionalidad sin modificar la definición de la función original"
   ]
  },
  {
   "cell_type": "markdown",
   "metadata": {},
   "source": [
    "<h2 style=\"color:teal\">Ejemplo</h2>\n",
    "\n",
    "Considerando la función `announce_func(f)`, escribamos un programa que regrese el valor de la función, imprimiendo en la pantalla que la función `f` se está corriendo actualmente."
   ]
  },
  {
   "cell_type": "code",
   "execution_count": 81,
   "metadata": {},
   "outputs": [],
   "source": [
    "def announce_func(f):\n",
    "    print(f\"Estas corriendo la función {f}\")\n",
    "    return f"
   ]
  },
  {
   "cell_type": "code",
   "execution_count": 82,
   "metadata": {},
   "outputs": [
    {
     "name": "stdout",
     "output_type": "stream",
     "text": [
      "Estas corriendo la función <function f at 0x11522d8c8>\n"
     ]
    },
    {
     "data": {
      "text/plain": [
       "25.0"
      ]
     },
     "execution_count": 82,
     "metadata": {},
     "output_type": "execute_result"
    }
   ],
   "source": [
    "# La manera \"tradicional\"\n",
    "def f(x):\n",
    "    return (x / 2) ** 2\n",
    "annnounce_f = announce_func(f)\n",
    "annnounce_f(10)"
   ]
  },
  {
   "cell_type": "code",
   "execution_count": 83,
   "metadata": {},
   "outputs": [
    {
     "name": "stdout",
     "output_type": "stream",
     "text": [
      "Estas corriendo la función <function announce_f at 0x11522dae8>\n"
     ]
    },
    {
     "data": {
      "text/plain": [
       "25.0"
      ]
     },
     "execution_count": 83,
     "metadata": {},
     "output_type": "execute_result"
    }
   ],
   "source": [
    "# Con un decorador\n",
    "@announce_func\n",
    "def announce_f(x):\n",
    "    return (x / 2) ** 2\n",
    "\n",
    "announce_f(10)"
   ]
  },
  {
   "cell_type": "markdown",
   "metadata": {},
   "source": [
    "<h2 style=\"color:crimson\">Ejercicios</h2>\n",
    "\n",
    "**De regreso al ejemplo original**  \n",
    "Recordemos la siguiente función:\n",
    "```python\n",
    "def square_number(g):\n",
    "    def k(x):\n",
    "        return g(x ** 2)\n",
    "    return k\n",
    "\n",
    "def add_one(x):\n",
    "    return x + 1\n",
    "\n",
    "def inverse(x):\n",
    "    return 1 / x\n",
    "```\n",
    "\n",
    "1. Usando decoradores define la función `sq_add_one` que regrese la evaluación de `add_one` con `x`  evaluado en `square_number`.\n",
    "\n",
    "---\n",
    "\n",
    "2. Usando decoradores define la función `sq_inverse` que regrese la evaluación de `inverse` con `x`  evaluado en `square_number`."
   ]
  },
  {
   "cell_type": "markdown",
   "metadata": {},
   "source": [
    "## Acumulando Decoradores\n",
    "\n",
    "Una ventaja de usar decoradores, desde un punto de vista estético, es la posibilidad de encadenar decoradores."
   ]
  },
  {
   "cell_type": "markdown",
   "metadata": {},
   "source": [
    "<h2 style=\"color:teal\">Ejemplo</h2>\n",
    "\n",
    "Consideramos la función `decorate` que, dado un elemento, lo decora de la siguiente manera:"
   ]
  },
  {
   "cell_type": "code",
   "execution_count": 104,
   "metadata": {},
   "outputs": [
    {
     "data": {
      "text/plain": [
       "'<---1--->'"
      ]
     },
     "execution_count": 104,
     "metadata": {},
     "output_type": "execute_result"
    }
   ],
   "source": [
    "def decorate(string):\n",
    "    return f\"<---{string}--->\"\n",
    "\n",
    "decorate(1)"
   ]
  },
  {
   "cell_type": "markdown",
   "metadata": {},
   "source": [
    "Supongamos nos interesa crear una variante de `decorate` que considere una lista y nos regrese una nueva lista con `decorate` aplicado a cada uno de los elementos.\n",
    "\n",
    "**Nota:** Este ejemplo es ilustrativo y puede ser solucionado muy fácilmente considerando una función que ocupe _list comprehensions_.\n",
    "\n",
    "Evaluar decorate sobre una lista nos regresa lo siguiente:"
   ]
  },
  {
   "cell_type": "code",
   "execution_count": 106,
   "metadata": {},
   "outputs": [
    {
     "data": {
      "text/plain": [
       "'<---[1, 3]--->'"
      ]
     },
     "execution_count": 106,
     "metadata": {},
     "output_type": "execute_result"
    }
   ],
   "source": [
    "decorate([1, 3])"
   ]
  },
  {
   "cell_type": "markdown",
   "metadata": {},
   "source": [
    "Introduciremos la función `vectorize` dentro de la librería `numpy` la cual toma una función `f` que regresa un único elemento y la transforma en una que aplica `f` a cada uno de los valores."
   ]
  },
  {
   "cell_type": "code",
   "execution_count": 110,
   "metadata": {},
   "outputs": [
    {
     "data": {
      "text/plain": [
       "array(['<---1--->', '<---3--->'], dtype='<U9')"
      ]
     },
     "execution_count": 110,
     "metadata": {},
     "output_type": "execute_result"
    }
   ],
   "source": [
    "decorate_it = np.vectorize(f)\n",
    "decorate_it([1, 3])"
   ]
  },
  {
   "cell_type": "markdown",
   "metadata": {},
   "source": [
    "\n",
    "Por medio de un decorador, podemos definir `decorate_it` de la siguiente manera"
   ]
  },
  {
   "cell_type": "code",
   "execution_count": 109,
   "metadata": {},
   "outputs": [
    {
     "data": {
      "text/plain": [
       "array(['<---1--->', '<---3--->'], dtype='<U9')"
      ]
     },
     "execution_count": 109,
     "metadata": {},
     "output_type": "execute_result"
    }
   ],
   "source": [
    "@np.vectorize\n",
    "def decorate_it(element):\n",
    "    return decorate(element)\n",
    "\n",
    "decorate_it([1, 3])"
   ]
  },
  {
   "cell_type": "markdown",
   "metadata": {},
   "source": [
    "último problema nos queda: nos gustaría que el resultado final de `decorate_it` sea una lista, no un `numpy.array`. Para solucionar esto, definiremos la función `to_list`, que tome una función `f` y regrese una función de `f` evaluada y el resultado convertido a una lista."
   ]
  },
  {
   "cell_type": "code",
   "execution_count": 118,
   "metadata": {},
   "outputs": [
    {
     "data": {
      "text/plain": [
       "['<---1--->', '<---3--->']"
      ]
     },
     "execution_count": 118,
     "metadata": {},
     "output_type": "execute_result"
    }
   ],
   "source": [
    "def to_list(f):\n",
    "    def fout(v):\n",
    "        return list(f(v))\n",
    "    return fout\n",
    "\n",
    "@to_list\n",
    "@np.vectorize\n",
    "def decorate_it(string):\n",
    "    return decorate(string)\n",
    "\n",
    "decorate_it([1, 3])"
   ]
  },
  {
   "cell_type": "markdown",
   "metadata": {},
   "source": [
    "# _Decorators in the wild_"
   ]
  },
  {
   "cell_type": "markdown",
   "metadata": {},
   "source": [
    "Lo siguiente que veremos son funciones comunmente usadas como decoradores dentro de la librería estándar de Python. Los primeros tres decoradores corresponden a funcionalidades adicionales que podemos otorgar a las clases."
   ]
  },
  {
   "cell_type": "markdown",
   "metadata": {},
   "source": [
    "## `@staticmethod`\n",
    "\n",
    "Un `staticmethod`, como su nombre lo menciona, es un método el cuál no depende de la instancia de la clase desde la cuál fue invocada.\n",
    "\n",
    "La sintáxis de un `staticmethod` es la siguiente:\n",
    "\n",
    "```python\n",
    "class A:\n",
    "    @staticmethod\n",
    "    def staticm(a, b):\n",
    "        # so smth\n",
    "        ...\n",
    "```\n",
    "\n",
    "Como podemos ver en el ejemplo, un `@staticmethod` no toma `self` como un primer parámetro. \n",
    "\n",
    "Comúnmente usamos `staticmethod`s cuando querramos definir funciones de una clase que no dependan de una instancia para ser invocadas."
   ]
  },
  {
   "cell_type": "markdown",
   "metadata": {},
   "source": [
    "<h2 style=\"color:teal\">Ejemplo</h2>\n",
    "\n",
    "Consideremos la clase `Normal` y supongamos nos interesa tener una función que valide si un `sigma` dado es un parámetro que podamos ocupar, i.e, $\\sigma > 0$.\n",
    "\n",
    "```python\n",
    "import numpy as np\n",
    "class Normal:\n",
    "    def __init__(self, mu, sigma):\n",
    "        self.mu = mu\n",
    "        self.sigma = sigma\n",
    "    \n",
    "    def pdf(self, x):\n",
    "        return np.exp(-(x - self.mu) ** 2 / (2 * self.sigma ** 2)) / (2 * np.pi * self.sigma) ** 2\n",
    "```"
   ]
  },
  {
   "cell_type": "code",
   "execution_count": 25,
   "metadata": {},
   "outputs": [],
   "source": [
    "import numpy as np\n",
    "class Normal:\n",
    "    def __init__(self, mu, sigma):\n",
    "        self.mu = mu\n",
    "        self.sigma = sigma\n",
    "    \n",
    "    def pdf(self, x):\n",
    "        return np.exp(-(x - self.mu) ** 2 / (2 * self.sigma ** 2)) / np.sqrt(2 * np.pi * self.sigma ** 2)\n",
    "    \n",
    "    @staticmethod\n",
    "    def is_valid_sigma(sigma):\n",
    "        return True if sigma > 0 else False"
   ]
  },
  {
   "cell_type": "code",
   "execution_count": 22,
   "metadata": {},
   "outputs": [
    {
     "data": {
      "text/plain": [
       "0.025330295910584444"
      ]
     },
     "execution_count": 22,
     "metadata": {},
     "output_type": "execute_result"
    }
   ],
   "source": [
    "norm = Normal(0, 1)\n",
    "norm.pdf(0)"
   ]
  },
  {
   "cell_type": "markdown",
   "metadata": {},
   "source": [
    "Suponiendo que deseemos saber si un valor dado puede ser utilizado como parámetro `sigma`, no tendría por qué ser necesario crear una instancia de la clase `Normal` para validar esto. Sin embargo, es lógico querer definir una función que viva dentro de la clase `Normal` ya que la función está definida para el caso específico de un valor dentro de nuestra clase."
   ]
  },
  {
   "cell_type": "code",
   "execution_count": 23,
   "metadata": {},
   "outputs": [
    {
     "data": {
      "text/plain": [
       "True"
      ]
     },
     "execution_count": 23,
     "metadata": {},
     "output_type": "execute_result"
    }
   ],
   "source": [
    "Normal.is_valid_sigma(2)"
   ]
  },
  {
   "cell_type": "code",
   "execution_count": 24,
   "metadata": {},
   "outputs": [
    {
     "data": {
      "text/plain": [
       "False"
      ]
     },
     "execution_count": 24,
     "metadata": {},
     "output_type": "execute_result"
    }
   ],
   "source": [
    "Normal.is_valid_sigma(-0.4)"
   ]
  },
  {
   "cell_type": "markdown",
   "metadata": {},
   "source": [
    "## `@classmethod`\n",
    "\n",
    "Un `@classmethod` es un método el cuál depende, como primer parámetro, de una clase.\n",
    "\n",
    "```python\n",
    "class A:\n",
    "    @classmethod\n",
    "    def method(cls, a, b):\n",
    "        # do smth\n",
    "        ...\n",
    "```\n",
    "\n",
    "La funcionalidad común de un `@classmethod` es definir una manera alternativa de inicializar una clase."
   ]
  },
  {
   "cell_type": "markdown",
   "metadata": {},
   "source": [
    "Considerando la clase `Normal` definida anteriormente, supongamos queremos inicializar nuestra clase de una manera diferente, en lugar de tener que pasar `sigma` como desviación estándard, nos gustaría inicializar la normal con un parámetro `beta` definida como la precisión $\\beta = 1 / \\sigma^2$.\n",
    "\n",
    "$$\n",
    "    p(x | \\mu, \\beta) = \\frac{\\beta}{\\sqrt{2\\pi}}\\exp\\left(-\\frac{\\beta}{2}(x - \\mu) ^ 2\\right)\n",
    "$$"
   ]
  },
  {
   "cell_type": "code",
   "execution_count": 28,
   "metadata": {},
   "outputs": [],
   "source": [
    "class Normal:\n",
    "    def __init__(self, mu, sigma):\n",
    "        self.mu = mu\n",
    "        self.sigma = sigma\n",
    "    \n",
    "    def pdf(self, x):\n",
    "        return np.exp(-(x - self.mu) ** 2 / (2 * self.sigma ** 2)) / np.sqrt(2 * np.pi * self.sigma ** 2)\n",
    "    \n",
    "    @staticmethod\n",
    "    def is_valid_sigma(sigma):\n",
    "        return True if sigma > 0 else False\n",
    "    \n",
    "    @classmethod\n",
    "    def from_precision(cls, mu, beta):\n",
    "        sigma = 1 / np.sqrt(beta)\n",
    "        return cls(mu, sigma)"
   ]
  },
  {
   "cell_type": "code",
   "execution_count": 30,
   "metadata": {
    "scrolled": false
   },
   "outputs": [
    {
     "data": {
      "text/plain": [
       "0.03989422804014327"
      ]
     },
     "execution_count": 30,
     "metadata": {},
     "output_type": "execute_result"
    }
   ],
   "source": [
    "norm1 = Normal(0, 10)\n",
    "norm1.pdf(0)"
   ]
  },
  {
   "cell_type": "code",
   "execution_count": 31,
   "metadata": {
    "scrolled": true
   },
   "outputs": [
    {
     "data": {
      "text/plain": [
       "1.2615662610100802"
      ]
     },
     "execution_count": 31,
     "metadata": {},
     "output_type": "execute_result"
    }
   ],
   "source": [
    "norm1 = Normal.from_precision(0, 10)\n",
    "norm1.pdf(0)"
   ]
  },
  {
   "cell_type": "markdown",
   "metadata": {},
   "source": [
    "## `@property`\n",
    "\n",
    "Como su nombre menciona, `@property` nos permite definir un _getter_ para elementos que deseemos tengan un nombre privado.\n",
    "\n",
    "\n",
    "```python\n",
    "class A:\n",
    "    def __init__(self, param):\n",
    "        self._param = param\n",
    "    @property\n",
    "    def param(self):\n",
    "        return self._param\n",
    "```"
   ]
  },
  {
   "cell_type": "markdown",
   "metadata": {},
   "source": [
    "En la mayoría de las clases que definamos, como es el caso de la clase `Normal` que hemos estado definiendo, es necesario tener valores que no se puedan modificar una vez inicializada la función. Anteriormente vimos que una manera de resolver este problema es definiendo una función que nos regrese el valor de la variable. Otra manera en la que podemos lograr esto es por medio de `@property`."
   ]
  },
  {
   "cell_type": "code",
   "execution_count": 91,
   "metadata": {},
   "outputs": [],
   "source": [
    "class Normal:\n",
    "    def __init__(self, mu, sigma):\n",
    "        self._mu = mu\n",
    "        self._sigma = sigma\n",
    "    \n",
    "    def pdf(self, x):\n",
    "        return np.exp(-(x - self.mu) ** 2 / (2 * self.sigma ** 2)) / np.sqrt(2 * np.pi * self.sigma ** 2)\n",
    "    \n",
    "    @staticmethod\n",
    "    def is_valid_sigma(sigma):\n",
    "        return True if sigma > 0 else False\n",
    "    \n",
    "    @classmethod\n",
    "    def from_precision(cls, mu, beta):\n",
    "        sigma = 1 / np.sqrt(beta)\n",
    "        return cls(mu, sigma)\n",
    "    \n",
    "    @property\n",
    "    def mu(self):\n",
    "        return self._mu\n",
    "    \n",
    "    @property\n",
    "    def sigma(self):\n",
    "        return self._sigma"
   ]
  },
  {
   "cell_type": "code",
   "execution_count": 92,
   "metadata": {},
   "outputs": [
    {
     "data": {
      "text/plain": [
       "0.3243433173995388"
      ]
     },
     "execution_count": 92,
     "metadata": {},
     "output_type": "execute_result"
    }
   ],
   "source": [
    "norm0 = Normal(0, 1.23)\n",
    "norm0.pdf(0)"
   ]
  },
  {
   "cell_type": "code",
   "execution_count": 93,
   "metadata": {},
   "outputs": [
    {
     "data": {
      "text/plain": [
       "1.23"
      ]
     },
     "execution_count": 93,
     "metadata": {},
     "output_type": "execute_result"
    }
   ],
   "source": [
    "norm0.sigma"
   ]
  },
  {
   "cell_type": "code",
   "execution_count": 94,
   "metadata": {},
   "outputs": [
    {
     "ename": "AttributeError",
     "evalue": "can't set attribute",
     "output_type": "error",
     "traceback": [
      "\u001b[0;31m---------------------------------------------------------------------------\u001b[0m",
      "\u001b[0;31mAttributeError\u001b[0m                            Traceback (most recent call last)",
      "\u001b[0;32m<ipython-input-94-2b18cbda04ed>\u001b[0m in \u001b[0;36m<module>\u001b[0;34m\u001b[0m\n\u001b[1;32m      1\u001b[0m \u001b[0;31m# Python nos prohibe acceder al valor de la clase y modificarla\u001b[0m\u001b[0;34m\u001b[0m\u001b[0;34m\u001b[0m\u001b[0;34m\u001b[0m\u001b[0m\n\u001b[0;32m----> 2\u001b[0;31m \u001b[0mnorm0\u001b[0m\u001b[0;34m.\u001b[0m\u001b[0msigma\u001b[0m \u001b[0;34m=\u001b[0m \u001b[0;36m2\u001b[0m\u001b[0;34m\u001b[0m\u001b[0;34m\u001b[0m\u001b[0m\n\u001b[0m",
      "\u001b[0;31mAttributeError\u001b[0m: can't set attribute"
     ]
    }
   ],
   "source": [
    "# Python nos prohibe acceder al valor de la clase y modificarla\n",
    "norm0.sigma = 2"
   ]
  },
  {
   "cell_type": "markdown",
   "metadata": {},
   "source": [
    "## `ipywidgets`"
   ]
  },
  {
   "cell_type": "code",
   "execution_count": 90,
   "metadata": {},
   "outputs": [
    {
     "data": {
      "application/vnd.jupyter.widget-view+json": {
       "model_id": "72260df7a0e04a95af93e97874adb7d1",
       "version_major": 2,
       "version_minor": 0
      },
      "text/plain": [
       "interactive(children=(FloatSlider(value=0.0, description='mu', max=1.0, min=-1.0), FloatSlider(value=1.0, desc…"
      ]
     },
     "metadata": {},
     "output_type": "display_data"
    }
   ],
   "source": [
    "from ipywidgets import interact, FloatSlider\n",
    "import matplotlib.pyplot as plt\n",
    "\n",
    "@interact(mu=FloatSlider(min=-1, max=1, value=0),\n",
    "          variant=FloatSlider(min=0.1, max=2, value=1, step=0.1))\n",
    "def plot(mu, variant):\n",
    "    # Definiendo las distribuciones\n",
    "    norm = Normal(mu, variant)\n",
    "    norm_prec = Normal.from_precision(mu, variant)\n",
    "    # Definiendo parámetros de las figuras\n",
    "    fig, ax = plt.subplots(1, 2, figsize=(10, 3))\n",
    "    x = np.linspace(-3, 3, 200)\n",
    "    dists = [norm, norm_prec]\n",
    "    params = [r\"\\sigma\", r\"\\beta\"]\n",
    "    for axi, param, dist in zip(ax, params, dists):\n",
    "        axi.set_title(f\"Variant of ${param}$\")\n",
    "        axi.set_ylim(0, 0.8)\n",
    "        axi.plot(x, dist.pdf(x))"
   ]
  },
  {
   "cell_type": "markdown",
   "metadata": {},
   "source": [
    "<h2 style=\"color:crimson\">Ejercicios</h2>\n",
    "\n",
    "1. Define una función `puntea` para un decorador que tome una función e imprima `---------` antes y después de que la función imprima su resultado\n",
    "\n",
    "```python\n",
    ">>> @puntea\n",
    ">>> def saluda(nombre):\n",
    ">>>    print(f\"!Hola, {nombre}!\")\n",
    "\n",
    ">>> saluda(\"Gerardo\")\n",
    "---------\n",
    "!Hola, Gerardo!\n",
    "---------\n",
    "```\n",
    "\n",
    "---\n",
    "\n",
    "2. La esperanza de una variable aleatoria discreta se define de la siguiente manera:\n",
    "\n",
    "$$\n",
    "    \\mathbb{E}[x] = \\sum_i x_i p(x_i)\n",
    "$$\n",
    "\n",
    "---\n",
    "\n",
    "4. Considerando la clase `Human` añade el `classmethod` `from_birthday` que inicialice la clase considerando una fecha de nacimiento de tipo `datetime.datetime`.\n",
    "\n",
    "```python\n",
    "class Human:\n",
    "    def __init__(self, name, last_name, age):\n",
    "        self.name = name\n",
    "        self.last_name = last_name\n",
    "        self.age = age\n",
    "```\n",
    "\n",
    "---\n",
    "\n",
    "5. Modifica la clase `Human`: implementa el `staticmethod` `is_adult` que valide si una persona es mayor de edad, i.e., edad >= 18.\n",
    "\n",
    "---\n",
    "\n",
    "6. Modifica la clase `Human`: implementa `property` a cada una de los parámetros dentro del constructor a fin que se pueda acceder, pero no modificar `name`, `last_name` y `age`."
   ]
  },
  {
   "cell_type": "code",
   "execution_count": null,
   "metadata": {},
   "outputs": [],
   "source": [
    "def puntea(f):\n",
    "    def f_punteado(x):\n",
    "        print(\"---------\")\n",
    "        f(x)\n",
    "        print(\"---------\")\n",
    "    return f_punteado\n",
    "        \n",
    "\n",
    "@puntea\n",
    "def saluda(nombre):\n",
    "    print(f\"!Hola, {nombre}!\")\n",
    "\n",
    "saluda(\"Gerardo\")"
   ]
  },
  {
   "cell_type": "code",
   "execution_count": 192,
   "metadata": {},
   "outputs": [
    {
     "data": {
      "text/plain": [
       "0.4437248675165783"
      ]
     },
     "execution_count": 192,
     "metadata": {},
     "output_type": "execute_result"
    }
   ],
   "source": [
    "from scipy.special import factorial\n",
    "def exp_terms(pmf):\n",
    "    def weighted(x, *args, **kwargs):\n",
    "        return x * pmf(x, *args, **kwargs)\n",
    "    return weighted\n",
    "    \n",
    "def pois(lmbda):\n",
    "    def wrapper(f):\n",
    "        def functional(k):\n",
    "            return lmbda ** f(k) * np.exp(-lmbda) / factorial(f(k))\n",
    "        return functional\n",
    "    return wrapper\n",
    "\n",
    "@exp_terms\n",
    "@pois(lmbda=2)\n",
    "def f(x):\n",
    "    return x\n",
    "\n",
    "f(np.linspace(1, 200)).sum()"
   ]
  },
  {
   "cell_type": "markdown",
   "metadata": {},
   "source": [
    "## Referencias\n",
    "1. https://www.python.org/dev/peps/pep-0318/"
   ]
  }
 ],
 "metadata": {
  "kernelspec": {
   "display_name": "Python 3",
   "language": "python",
   "name": "python3"
  },
  "language_info": {
   "codemirror_mode": {
    "name": "ipython",
    "version": 3
   },
   "file_extension": ".py",
   "mimetype": "text/x-python",
   "name": "python",
   "nbconvert_exporter": "python",
   "pygments_lexer": "ipython3",
   "version": "3.6.8"
  },
  "widgets": {
   "application/vnd.jupyter.widget-state+json": {
    "state": {
     "0013306bb5ee4e5ba6006a4509b98ab9": {
      "model_module": "@jupyter-widgets/controls",
      "model_module_version": "1.4.0",
      "model_name": "VBoxModel",
      "state": {
       "_dom_classes": [
        "widget-interact"
       ],
       "children": [
        "IPY_MODEL_206476886e6a406689023ed5d961edd6",
        "IPY_MODEL_64637846befb4ea4aa3f207fef4efb8d",
        "IPY_MODEL_aa3dcafbe2f448eb8fe3e220da47efc8"
       ],
       "layout": "IPY_MODEL_bd9b1b3bbd174ef09800a430a1471120"
      }
     },
     "013f65a7831f4d16a0930323ee2db7c2": {
      "model_module": "@jupyter-widgets/base",
      "model_module_version": "1.1.0",
      "model_name": "LayoutModel",
      "state": {}
     },
     "014cdb9fec334a578df2079cbb1c8ebb": {
      "model_module": "@jupyter-widgets/base",
      "model_module_version": "1.1.0",
      "model_name": "LayoutModel",
      "state": {}
     },
     "03403d03ffd8414aa512834aef3a15ce": {
      "model_module": "@jupyter-widgets/base",
      "model_module_version": "1.1.0",
      "model_name": "LayoutModel",
      "state": {}
     },
     "056b5b3cf00d4384a8543d7c6aa7e37c": {
      "model_module": "@jupyter-widgets/base",
      "model_module_version": "1.1.0",
      "model_name": "LayoutModel",
      "state": {}
     },
     "05dc0ef053ed47e3b396657eb0887193": {
      "model_module": "@jupyter-widgets/base",
      "model_module_version": "1.1.0",
      "model_name": "LayoutModel",
      "state": {}
     },
     "068a5b65c08648d1bd4804d808f9972c": {
      "model_module": "@jupyter-widgets/controls",
      "model_module_version": "1.4.0",
      "model_name": "FloatSliderModel",
      "state": {
       "description": "variant",
       "layout": "IPY_MODEL_32bddb98e5e24b4e8b7b8cad4ca023c4",
       "max": 2,
       "min": 0.1,
       "step": 0.1,
       "style": "IPY_MODEL_ef8a7667d43248c0a0e916884ec14a79",
       "value": 1
      }
     },
     "09b20efeca8d4c91b8263e5c0e6ffa3d": {
      "model_module": "@jupyter-widgets/base",
      "model_module_version": "1.1.0",
      "model_name": "LayoutModel",
      "state": {}
     },
     "09c8403726084d70bca29f77c3658f63": {
      "model_module": "@jupyter-widgets/controls",
      "model_module_version": "1.4.0",
      "model_name": "FloatSliderModel",
      "state": {
       "description": "variant",
       "layout": "IPY_MODEL_280c6ae561fb41a2820090c04836b52b",
       "max": 2,
       "min": 0.1,
       "step": 0.1,
       "style": "IPY_MODEL_3e057f12a06744d4859deecde0fe8279",
       "value": 1
      }
     },
     "0c211e26fc264fd6b92acf6f7c8819c7": {
      "model_module": "@jupyter-widgets/controls",
      "model_module_version": "1.4.0",
      "model_name": "FloatSliderModel",
      "state": {
       "description": "mu",
       "layout": "IPY_MODEL_2c72e2d9a2f04c6abc255d0cdb54f04e",
       "max": 1,
       "min": -1,
       "step": 0.1,
       "style": "IPY_MODEL_79b12961c7b1461a9c7db7e9611f1cbe",
       "value": -0.4
      }
     },
     "0c293ac39ccc461b98438ef9d2dc3094": {
      "model_module": "@jupyter-widgets/base",
      "model_module_version": "1.1.0",
      "model_name": "LayoutModel",
      "state": {}
     },
     "0d9202d759e546f9a1f708c126423b67": {
      "model_module": "@jupyter-widgets/controls",
      "model_module_version": "1.4.0",
      "model_name": "SliderStyleModel",
      "state": {
       "description_width": ""
      }
     },
     "0e4fd600abd64cf0ab62d1916ec56770": {
      "model_module": "@jupyter-widgets/base",
      "model_module_version": "1.1.0",
      "model_name": "LayoutModel",
      "state": {}
     },
     "0e6646b796494207a9c0a7bcafc1283b": {
      "model_module": "@jupyter-widgets/base",
      "model_module_version": "1.1.0",
      "model_name": "LayoutModel",
      "state": {}
     },
     "0e6c61db8ae342c5b5783fade4b5709b": {
      "model_module": "@jupyter-widgets/controls",
      "model_module_version": "1.4.0",
      "model_name": "SliderStyleModel",
      "state": {
       "description_width": ""
      }
     },
     "0f2842c94d64476f9dd3672a6951bb57": {
      "model_module": "@jupyter-widgets/controls",
      "model_module_version": "1.4.0",
      "model_name": "FloatSliderModel",
      "state": {
       "description": "mu",
       "layout": "IPY_MODEL_9ad9b30cada34aabbfaf974965923012",
       "max": 1,
       "min": -1,
       "step": 0.1,
       "style": "IPY_MODEL_0d9202d759e546f9a1f708c126423b67"
      }
     },
     "0f2be4d7efbe4eb9bc8f8d75e74ed545": {
      "model_module": "@jupyter-widgets/base",
      "model_module_version": "1.1.0",
      "model_name": "LayoutModel",
      "state": {}
     },
     "115cb9b94a604e90a9b8e225ca1a0e01": {
      "model_module": "@jupyter-widgets/base",
      "model_module_version": "1.1.0",
      "model_name": "LayoutModel",
      "state": {}
     },
     "1306eb17a8ec4ac2b5b4931e3e294c58": {
      "model_module": "@jupyter-widgets/base",
      "model_module_version": "1.1.0",
      "model_name": "LayoutModel",
      "state": {}
     },
     "133d7292ca0f4b81b1b0a72968aa5353": {
      "model_module": "@jupyter-widgets/controls",
      "model_module_version": "1.4.0",
      "model_name": "FloatSliderModel",
      "state": {
       "description": "mu",
       "layout": "IPY_MODEL_be2e24e194a14d97ac1a76d0290685c7",
       "max": 1,
       "min": -1,
       "step": 0.1,
       "style": "IPY_MODEL_dcbe0c46b2fb4379b26d028292da490a"
      }
     },
     "135550499d5649e7a5aa35d1526f409d": {
      "model_module": "@jupyter-widgets/controls",
      "model_module_version": "1.4.0",
      "model_name": "SliderStyleModel",
      "state": {
       "description_width": ""
      }
     },
     "138f27818eb842df8699cae1af502c2d": {
      "model_module": "@jupyter-widgets/controls",
      "model_module_version": "1.4.0",
      "model_name": "FloatSliderModel",
      "state": {
       "description": "mu",
       "layout": "IPY_MODEL_8b3f0fc76eca4eefae082d9ded7fe33b",
       "max": 1,
       "min": -1,
       "step": 0.1,
       "style": "IPY_MODEL_ca0599cef852448d866109a27cdf276d"
      }
     },
     "15110bb6b45d48cbb2d0aefc639ef799": {
      "model_module": "@jupyter-widgets/controls",
      "model_module_version": "1.4.0",
      "model_name": "FloatSliderModel",
      "state": {
       "description": "mu",
       "layout": "IPY_MODEL_e52659afcc0346178c5f37e4658e68fb",
       "max": 1,
       "min": -1,
       "step": 0.1,
       "style": "IPY_MODEL_88f338176f3e48dcacad7e2a912b44d0"
      }
     },
     "155fd5cc85b5464084ebbc2913ab7a37": {
      "model_module": "@jupyter-widgets/controls",
      "model_module_version": "1.4.0",
      "model_name": "SliderStyleModel",
      "state": {
       "description_width": ""
      }
     },
     "16b8117e9a3d4208899aaf6849307ec5": {
      "model_module": "@jupyter-widgets/output",
      "model_module_version": "1.0.0",
      "model_name": "OutputModel",
      "state": {
       "layout": "IPY_MODEL_efd21a703b73404f9bc91d34d3947689",
       "outputs": [
        {
         "data": {
          "image/png": "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\n",
          "text/plain": "<Figure size 720x216 with 2 Axes>"
         },
         "metadata": {
          "needs_background": "light"
         },
         "output_type": "display_data"
        }
       ]
      }
     },
     "17b53a79865b415d97738d3ad1cd7dd0": {
      "model_module": "@jupyter-widgets/controls",
      "model_module_version": "1.4.0",
      "model_name": "SliderStyleModel",
      "state": {
       "description_width": ""
      }
     },
     "197f785ebf184906b6bc54903c97b3e8": {
      "model_module": "@jupyter-widgets/base",
      "model_module_version": "1.1.0",
      "model_name": "LayoutModel",
      "state": {}
     },
     "1a70366b967d43e2978df226664fd6bf": {
      "model_module": "@jupyter-widgets/controls",
      "model_module_version": "1.4.0",
      "model_name": "VBoxModel",
      "state": {
       "_dom_classes": [
        "widget-interact"
       ],
       "children": [
        "IPY_MODEL_15110bb6b45d48cbb2d0aefc639ef799",
        "IPY_MODEL_fd5fb3f7e8b744b8bc757231abc63a73",
        "IPY_MODEL_a08a94a5819747c5aa9795b35bbd4eee"
       ],
       "layout": "IPY_MODEL_f37c57914d054dde80d89536e6623cb2"
      }
     },
     "1c3f76ad3c534ebd8b85ded7ab98ddf5": {
      "model_module": "@jupyter-widgets/controls",
      "model_module_version": "1.4.0",
      "model_name": "FloatSliderModel",
      "state": {
       "description": "variant",
       "layout": "IPY_MODEL_197f785ebf184906b6bc54903c97b3e8",
       "max": 2,
       "min": 0.1,
       "step": 0.1,
       "style": "IPY_MODEL_adabb52111214f26b36537930ce923bb",
       "value": 1
      }
     },
     "1d773a7a0d2f421d8a755ec582bd5fde": {
      "model_module": "@jupyter-widgets/base",
      "model_module_version": "1.1.0",
      "model_name": "LayoutModel",
      "state": {}
     },
     "1e1859c845b0471fb18c77a023223f72": {
      "model_module": "@jupyter-widgets/base",
      "model_module_version": "1.1.0",
      "model_name": "LayoutModel",
      "state": {}
     },
     "206476886e6a406689023ed5d961edd6": {
      "model_module": "@jupyter-widgets/controls",
      "model_module_version": "1.4.0",
      "model_name": "FloatSliderModel",
      "state": {
       "description": "mu",
       "layout": "IPY_MODEL_ce0f8eba711c4c4fb19c295fb631d7d3",
       "max": 1,
       "min": -1,
       "step": 0.1,
       "style": "IPY_MODEL_3a98bb10610b4eb9bf3eddc408940102",
       "value": -0.1
      }
     },
     "20f93eed02e845c5b4ea618aa5ca8ea8": {
      "model_module": "@jupyter-widgets/controls",
      "model_module_version": "1.4.0",
      "model_name": "FloatSliderModel",
      "state": {
       "description": "mu",
       "layout": "IPY_MODEL_42f8e3ecb0514fb1896d60ce366ae552",
       "max": 1,
       "min": -1,
       "step": 0.1,
       "style": "IPY_MODEL_8fcb07b0e0c9484cb4c82da9a818b05a"
      }
     },
     "240c949798734856adefc0421062778d": {
      "model_module": "@jupyter-widgets/base",
      "model_module_version": "1.1.0",
      "model_name": "LayoutModel",
      "state": {}
     },
     "243c6064894e413ea8c530dc0b9e51cd": {
      "model_module": "@jupyter-widgets/controls",
      "model_module_version": "1.4.0",
      "model_name": "FloatSliderModel",
      "state": {
       "description": "mu",
       "layout": "IPY_MODEL_e0a3d918ce9643ffa7c980da951fd264",
       "max": 1,
       "min": -1,
       "step": 0.1,
       "style": "IPY_MODEL_63354f53e66d448a97e52d96b1bdc4d0"
      }
     },
     "280c6ae561fb41a2820090c04836b52b": {
      "model_module": "@jupyter-widgets/base",
      "model_module_version": "1.1.0",
      "model_name": "LayoutModel",
      "state": {}
     },
     "28d46d102ff34b42ac7ec31a47520ff1": {
      "model_module": "@jupyter-widgets/output",
      "model_module_version": "1.0.0",
      "model_name": "OutputModel",
      "state": {
       "layout": "IPY_MODEL_5dfd536bf2324e3db21ec87c4a98d217",
       "outputs": [
        {
         "data": {
          "image/png": "iVBORw0KGgoAAAANSUhEUgAAAlYAAADUCAYAAABeQm3lAAAABHNCSVQICAgIfAhkiAAAAAlwSFlzAAALEgAACxIB0t1+/AAAADl0RVh0U29mdHdhcmUAbWF0cGxvdGxpYiB2ZXJzaW9uIDMuMC4zLCBodHRwOi8vbWF0cGxvdGxpYi5vcmcvnQurowAAIABJREFUeJzt3Xd4VGX6xvHvk0aooST0FiDSe0QUsaLSFF1dBXtfV7H81FXXturquurq6iruiquuHbuigmABAVeE0DuEUBJqaIEA6e/vjxncGBMygcmcSXJ/rmsumZkz59wZM0+eec857zHnHCIiIiJy9CK8DiAiIiJSXaixEhEREQkSNVYiIiIiQaLGSkRERCRI1FiJiIiIBIkaKxEREZEgUWMlIiIiEiRqrERERESCRI1VDWVmy8zslDDI0dnMFpjZPjO7xes8IlWdPtsi3lJjVQWY2RQze6SUx0eZ2VYzi6roOp1z3Z1z04OQbb2ZDTmKVdwFTHfO1XfO/eNo81SEmY01sxQzyzWz/wT4miQzyzGztyo5ntQANf2zbWaJZjbZzHab2SYzu+ootld8vY3N7BMz229mG8zs4sMs297MJvkzbDWzF0p730v77JvZdP9j2f7bqhKvOWyNKe/1h9luLTN7xf+z7fM3sMMqst6y1u1/PLvErdDMni9vu4G8n4fLFkhNNrPRZrbC//92rZkNrsjzoaDGqmr4D3CZmVmJxy8D3nbOFQS6oiMp1JWsHbDMo21vBh4FXq3Aa8YBcysnjtRA/6Fmf7Y/BL4G4oHrgPuDtO1xQB7QDLgE+KeZdS9j2ReB7UALoA9wMnBjGess7bM/1jlXz3/rXOK5QGrM4V5f1najgHR/1jjgAeB9M2tfgfWW+TMVe109fO/hQeCDALcbyPtZVrbDvl9mdgbwBHAVUB84CUgL9PlQUWNVNXwKNAZ+7rzNrBEwEnjDf/8ef3e+z8yWm9l5xZZdb2Z3m9liYL+ZRRX/Nnq41xZ7/Z1mttjMsszsPTOLNbM3gbbA5/5vHneVFt7Muvq/pewx326Kc/yPfwecCrzgf/0xpbw22swe82fINzPnvy06qncUcM597Jz7FNgZyPJmNhrYA3x7tNsW8avJn+1eQBPn3DPOuUL/w5lH+D4WX29d4HzgAedctnNuFjARX7NamkTgfedcjnNuK/AV8Ism7Eg/+xWtMSWVtV3n3H7n3EPOufXOuSLn3BfAOqD/0a67FBfga5RmBrjdct/PsgTwfj0MPOKcm+3f/ibn3KYKPB8SaqyqAOfcQeB94PJiD18IrHTOHWow1uIrznH4frneMrMWxZYfA4wAGpbyLbi81x7a3lB8H5pewJXOucuAjcDZ/m8eT5bMbmbRwOfAVKApcDPwtpl1ds6dBszkf99eVpfy4z8KnO7P1xBfEfgEKPkH4gt/cS/t9kUp660QM2sAPALccbTrEjmkhn+2BwGzzCzCzPoDzwD/LGU7Ff1sHwMUltjmIsr+4/4cMNrM6phZK2AYvmbg0PbL++w/bmY7zOwHO7Jj20p9fUVqjpk1w/dzFx8hLDNXBevZFcAbzjkX4HYP+36Wl60sZhYJJAMJZpZqZhnm281YO5DnQ0mNVdXxOvDbYr8kl/sfA8A594FzbrO/S38PWAMMKPb6fzjn0v2F/BcCeO2h1292zu3CV0z7BJh7IFAP+KtzLs859x3wBb4/BodlZvWBW4DL/Nn3Ax8BjZ1zvxjedc6NdM41LOM2MsCsh/Nn4BXnXHoQ1iVSXI37bPv1AVKAaf7/HgA+LuVnqOhnux6QVeKxLHy7hkrzPb6may+Q4c/yabHnD/fZvxvoALQCxuMb4etYxnZKc7jXB1Rz/A3u28DrzrmVAeYKdN1t8e3Ke72U50rbLpT/fh7pe9YMiMY3gjYY3+9PX/63+7i850NGjVUV4R/OzgRGmVkH4FjgnUPPm9nlZrbw0Dc5oAe+4xYOKfMDFMBrAbYW+/cBfMUrEC2BdOdcUbHHNuD7UJXnJCDNObem2GONSmSpdGbWBxgC/D2U25WaoYZ+tsH3h28uvl2GnYBdwK9Gxo5ANtCgxGMNgH0lFzSzCGAKvoauLr73phG+43TK/ew7535yzu1zzuU6514HfgCGBxq0rNcHWnP8+d/EdzzZ2EByVbCeXQ7Mcs6tC2S75b2f5WUrx6EvDs8757Y453bgG+UcHuDzIRNuBzvK4b2B7xe9MzDVObcNwMzaAS/j22X2o3Ou0MwWAsUPiP3VMG4FXns4pa63mM1AGzOLKFaA2wKl7RooKQHYXSyr4dsF+FzJBc1sMsWOUylhpnNuWBnPBeIUoD2w0ReBekCkmXVzzvU7ivWKHFKjPtv+3TZdgQX+1641sx/w7VIsuWxFP9urgSgzSyr2paw3pR9I3xhoA7zgnMsFcs3sNXyHINxFxT/7jsDf39Icen252/XXw1fwjdQMd87lB7BeKvgzXQ78tfgD5Wy3vPezvGxl/wDO7TazDMr4vSzv+VDSiFXV8ga+bxrX8cuh2br4fpkyAcx3ynKPANd5NK8F2IZvWLcsPwH7gbvMdyD6KcDZwIQA1r0U6Gdmffy7SR73Z32v5ILOuWGu2JksJW6lNlXmO9A3FojEV1hirfQzq8YDHfF9w+4D/Av4EjgrgJ9BJBA17bPdGagDDDOzSP8oyjWUssupop9t/yEDHwOPmFldMxsEjMI3wlJy2R34Dr7+vb8eNMR3TNGh49vK/OybWUMzO+tQ3TCzS/CNsk85tP7D1ZhyXh9Izfknvub07OK7gQPIFVA9M7MT8I0+flDibSt1u4G8n+VlC6AmvwbcbGZNzXeSx234dj8H+nxoOOd0q0I3YDq+UZxaJR5/DN9Q+qHhz++Ba/3PrQeGlFj+58cO99rSXg88BLzl//cofAe57gHuLCNzd/86s4DlwHklfp5rD/Pz3ofvm/EWfKemxwfxvXwI3x+e4reH/M9NBu49zOve8vp3QbfqdatJn218UyAs9m9/H7AQ+E0Q38vG+I7r2e//GS4u9twvPtv4motD7/0OfI1E0zLWW/z9ScC3K3Of/z2aDZxRyvJl1ZhyX1/adv332/nXlYNv1+eh2yUVWW9p6y72+EvAmyUeK3O7gbyf5WU73Pvlfz4a33QOe/Dtwv4HEBvo86G6mT+MiIhISJjZU8Au59zjXmcRCTbtChQRkVDrC6zwOoRIZQiosTKzoWa2ynxzQ9xTyvNtzWya+aa3X2xmIT8KX0SkNKpfYak3sLLcpUSqoHJ3BfrP3lgNnIFvToq5wBjn3PJiy4zHd3bHP82sGzDJOde+0lKLiARA9UtEQi2QEasBQKpzLs05l4fvjI9RJZZx/G/ekDh8BxuLiHhN9UtEQiqQeaxa8csJ6DKA40os8xAw1cxuxneK79FcEV1EJFhUv0QkpAJprEqbuKvk/sMxwH+cc0+b2fHAm2bWw/1yRl7M7HrgeoC6dev279Kly5FkFpEqat68eTuccwkh3KTql4gERaD1K5DGKgPfTKqHtObXQ+XX4LuIJ865H/0TfMXjuyL2z5xz4/FNTkZycrJLSUkJYPMiUl2Y2YYQb1L1S0SCItD6FcgxVnOBJDNLNLMYYDQwscQyG/FdNgEz6wrE4p/tV0TEQ6pfIhJS5TZWzrkCfBdZnIJv3pH3nXPLzOwRMzvHv9gdwHVmtgh4F7jSaeZREfGY6peIhFpAF2F2zk0CJpV47MFi/14ODApuNBGRo6f6JSKhpJnXRURERIJEjZWIiIhIkKixEhEREQkSNVYiIiIiQaLGSkRERCRI1FiJiIiIBIkaKxEREZEgUWMlIiIiEiRqrERERESCRI2ViIiISJCosRIREREJEjVWIiIiIkESUGNlZkPNbJWZpZrZPaU8/3czW+i/rTazPcGPKiJScapfIhJKUeUtYGaRwDjgDCADmGtmE/1XhAfAOfd/xZa/GehbCVlFRCpE9UtEQi2QEasBQKpzLs05lwdMAEYdZvkxwLvBCCcicpRUv0QkpAJprFoB6cXuZ/gf+xUzawckAt+V8fz1ZpZiZimZmZkVzSoiUlGqXyISUoE0VlbKY66MZUcDHzrnCkt70jk33jmX7JxLTkhICDSjiMiRUv0SkZAKpLHKANoUu98a2FzGsqPRMLqIhA/VLxEJqUAaq7lAkpklmlkMvuIzseRCZtYZaAT8GNyIIiJHTPVLREKq3MbKOVcAjAWmACuA951zy8zsETM7p9iiY4AJzrmyhtlFREJK9UtEQq3c6RYAnHOTgEklHnuwxP2HghdLRCQ4VL9EJJQ087qIiIhIkKixEhEREQkSNVYiIiIiQaLGSkRERCRI1FiJiIiIBIkaKxEREZEgUWMlIiIiEiRqrERERESCRI2ViIiISJCosRIREREJEjVWIiIiIkESUGNlZkPNbJWZpZrZPWUsc6GZLTezZWb2TnBjiogcGdUvEQmlci/CbGaRwDjgDCADmGtmE51zy4stkwT8ERjknNttZk0rK7CISKBUv0Qk1AIZsRoApDrn0pxzecAEYFSJZa4DxjnndgM457YHN6aIyBFR/RKRkAqksWoFpBe7n+F/rLhjgGPM7Aczm21mQ0tbkZldb2YpZpaSmZl5ZIlFRAKn+iUiIRVIY2WlPOZK3I8CkoBTgDHAv82s4a9e5Nx451yycy45ISGhollFRCpK9UtEQiqQxioDaFPsfmtgcynLfOacy3fOrQNW4StUIiJeUv0SkZAKpLGaCySZWaKZxQCjgYkllvkUOBXAzOLxDa2nBTOoiMgRUP0SkZAqt7FyzhUAY4EpwArgfefcMjN7xMzO8S82BdhpZsuBacAfnHM7Kyu0iEggVL9EJNTMuZKHG4RGcnKyS0lJ8WTbIuINM5vnnEv2OsfRUv0SqXkCrV+aeV1EREQkSNRYiYiIiASJGisRERGRIFFjJSIiIhIkaqxEREREgkSNlYiIiEiQqLESERERCRI1ViIiIiJBosZKREREJEjUWImIiIgEiRorERERkSAJqLEys6FmtsrMUs3snlKev9LMMs1sof92bfCjiohUnOqXiIRSVHkLmFkkMA44A8gA5prZROfc8hKLvuecG1sJGUVEjojql4iEWiAjVgOAVOdcmnMuD5gAjKrcWCIiQaH6JSIhFUhj1QpIL3Y/w/9YSeeb2WIz+9DM2gQlnYjI0VH9EpGQCqSxslIecyXufw60d871Ar4BXi91RWbXm1mKmaVkZmZWLKmISMWpfolISAXSWGUAxb/BtQY2F1/AObfTOZfrv/sy0L+0FTnnxjvnkp1zyQkJCUeSV0SkIlS/RCSkAmms5gJJZpZoZjHAaGBi8QXMrEWxu+cAK4IXUUTkiKl+iUhIlXtWoHOuwMzGAlOASOBV59wyM3sESHHOTQRuMbNzgAJgF3BlJWYWEQmI6peIhJo5V/Jwg9BITk52KSkpnmxbRLxhZvOcc8le5zhaql81z8G8QrbtzaGgqIgGsdHE16tFRERph/BJdRVo/Sp3xEpERKQmSt2+j4/mb2Lqsq2szdz/i+fq14qiX7tGDOvRnFF9WlE7JtKjlBJu1FiJiIgUs2xzFo99uYL/rt1JZIQxqFM85/RuRetGtYmOimDPgTxWb9vHD6k7uefjJTw1ZRVXDWrPVYMSqVtLf1ZrOv0GiIiIAPtzC3j0y+VMmJtOw9rR3Du8C+f1bU1C/VqlLu+cY866Xfzr+7X8bepq3ktJ58nze3N8xyYhTi7hRI2ViIjUeGu27eP3b88nLTObawYlcvPpScTVjj7sa8yM4zo04bgOTZizbhd3fbiIMS/P5ncndeCuoV2I1DFYNZIaKxERqdG+XbGNse8soG6tSN665jhO6BRf4XUMSGzM5FtP4tEvl/PSjDTWZu7nH2P6UCdGf2ZrmkDmsRIREamWJi7azO/enEdSs3p8ecvgI2qqDqkdE8lj5/XkobO78d3KbVz00mz2HMgLYlqpCtRYiYhIjfRBSjq3TlhAv3aNePva42jWIDYo671yUCLjL0tm1dZ9XPHqHPbm5AdlvVI1qLESEZEa55vl27j7o8Wc2Cme168aQP3Ywx9PVVFDujXjxUv6sWzzXq56bS77cwuCun4JX2qsRESkRpm/cTdj351Pj1Zx/OvS/pU2B9WQbs14fkxfFmzczW3vLaSoyJsJuSW01FiJiEiNkbH7ANe+nkLzBrG8euWxlT7v1LCeLXhgZDe+Xr6Np6auqtRtSXjQ6QoiIlIj5OQX8vu35pNfUMSrVx5LfL3S56cKtitPaM+a7dn8c/pakprW4zf9Wodku+INjViJiEi155zjgU+XsmRTFn+/qA8dEuqFbNtmxsPndOe4xMbc+8kSVm/bF7JtS+gF1FiZ2VAzW2VmqWZ2z2GWu8DMnJlV+Yusikj1oPolAB/My+CDeRnccnoSQ7o1C/n2oyMjeH5MX+rViuKmt+dzIE8Hs1dX5TZWZhYJjAOGAd2AMWbWrZTl6gO3AD8FO6SIyJFQ/RKA9Tv289DEZQzs0JhbT0/yLEfTBrH8/aI+pGZm86fPlnmWQypXICNWA4BU51yacy4PmACMKmW5PwNPAjlBzCcicjRUv2q4/MIibn1vIdGRETxzYR/PLzMzOCmBm07pxAfzMvhq6RZPs0jlCKSxagWkF7uf4X/sZ2bWF2jjnPvicCsys+vNLMXMUjIzMyscVkSkglS/arjnv0tlUfoe/nJeT1o2rO11HABuHZJEj1YNuO+TpezIzvU6jgRZII1Vae39z5NxmFkE8HfgjvJW5Jwb75xLds4lJyQkBJ5SROTIqH7VYCu27OXFaamc17cVI3q18DrOzw6Nnu3LLeDej5fgnOa3qk4CaawygDbF7rcGNhe7Xx/oAUw3s/XAQGCiDgAVkTCg+lVDFRQWcfdHi4mrHc2DI391WJ3njmlWnzvPPIapy7cxcdHm8l8gVUYgjdVcIMnMEs0sBhgNTDz0pHMuyzkX75xr75xrD8wGznHOpVRKYhGRwKl+1VCv/bCexRlZPDyqO43qxngdp1TXnNiB3q3j+PMXy8k6oOsJVhflNlbOuQJgLDAFWAG875xbZmaPmNk5lR1QRORIqX7VTOt37Ofpr1cxpGszRvQMn12AJUVGGH/5TU92H8jnr1+t8DqOBElAM6875yYBk0o89mAZy55y9LFERIJD9atmcc7xx4+XEB0RwaPn9sDM27MAy9O9ZRzXnJjI+BlpnNe3NQMSG3sdSY6SZl4XEZFq4/PFW/gxbSf3DO9C87hYr+ME5LYhSbRqWJt7P1lCXkGR13HkKKmxEhGRaiEnv5C/TlpBtxYNGH1sW6/jBKxOTBSPntuD1O3ZvPT9Wq/jyFFSYyUiItXCyzPS2JyVwwMju3k+EWhFndqlKcN7Nmfc9FQ27TnodRw5CmqsRESkytu2N4cXp69laPfmHN+xiddxjsh9I7rhHPxlkg5kr8rUWImISJX35FerKCxy/HF4F6+jHLFWDWtzw8kd+XLxFman7fQ6jhwhNVYiIlKlLc7Yw0fzM7jqxPa0a1LX6zhH5YaTO9IyLpaHP19OYZFmZK+K1FiJiEiV5Zzjkc+XE18vhrGndvI6zlGrHRPJvSO6smLLXibM3eh1HDkCaqxERKTK+nLJFlI27OaOMztTPzba6zhBMaJnC45LbMzfpqzSjOxVkBorERGpknLyC3l80kq6NK/Phcltyn9BFWFm/Ons7mQdzOfv36z2Oo5UkBorERGpkl6ZtY5New7y4NlVb3qF8nRr2YAxA9ry5uwNrN62z+s4UgFqrEREpMrZvjeHcdNSObNbM07oGO91nEpxx5mdqRsTyaNfavqFqiSgxsrMhprZKjNLNbN7Snn+BjNbYmYLzWyWmXULflQRkYpT/aqenpqyivzCIu4d3tXrKJWmcd0Ybh1yDDNWZzJt1Xav40iAym2szCwSGAcMA7oBY0opPO8453o65/oATwLPBD2piEgFqX5VT0sysvhwfgZXDUqkfXzVnl6hPJcNbEdifF0e/WI5+YW6jmBVEMiI1QAg1TmX5pzLAyYAo4ov4JzbW+xuXUCTb4hIOFD9qmacc/z5i+U0rhPD2NOq/vQK5YmJiuC+4V1Zm7mft2dv8DqOBCCQxqoVkF7sfob/sV8ws5vMbC2+b3y3BCeeiMhRUf2qZiYv3cqc9bu4/cxjaFBNplcoz+ldm3Jip3ie/XYNew7keR1HyhFIY1XaqRa/+kbnnBvnnOsI3A3cX+qKzK43sxQzS8nMzKxYUhGRilP9qkZy8gv5y6QVdGlen4uq0fQK5TEz7h/Zlb0H83nu2zVex5FyBNJYZQDFf4NbA5sPs/wE4NzSnnDOjXfOJTvnkhMSEgJPKdVCUZH7xU0kBFS/qpFXf1hHxu6DPDCyG1GRNeuk9i7NGzB6QFve/HEDazOzvY4jhxEVwDJzgSQzSwQ2AaOBi4svYGZJzrlDbfQIQC11DVNY5EjLzGbl1n1s3HWADTv3s3HXAXbtzyPrYD57DuSTW/DLAy/rxkQSVzuauDoxJNSvRdvGtWnfpC7tmtSlW8sGtIyLxax6zU0jIaf6VU1s35fDuO9SGdK1GYM6Vc/pFcpz+xnH8PnCzfzlyxW8cuWxXseRMpTbWDnnCsxsLDAFiARedc4tM7NHgBTn3ERgrJkNAfKB3cAVlRlavJeTX8jc9bv4IXUnCzbuZummLPbnFf78vK9RqkOH+HrE1Y6mYZ1oasdEYv49M0XOkZ1b8HPTtW1vDgs37mZvTsHP64ivF0PPVnH0b9eIQZ3i6dW6YbWbBFAql+pX9fH0lNXkFRZx34jqO71CeeLr1WLsaZ14fPJKZq7JZHCSRk7DkTnnzS6Z5ORkl5KS4sm25chsyTrI5CVb+XblNuau301eQRHRkUb3lnH0ah1Hr9YN6daiAe2a1KFurUAGQ39tz4E80nbsZ9mmLBZlZLE4Yw+rt/mGvRvERjGoUzxndm/G6V2b1ZgDV6sTM5vnnEv2OsfRUv0KraWbsjj7hVlcMyiR+0fW7GnGcgsKOeOZGdSOjuTLW06scbtEvRRo/Tqyv35SY+zan8dnCzfxxeItzNuwG4CkpvW4fGA7TkyKZ0BiY+rEBO/XqGGdGPq1jaFf20ZcVizDD6k7mLVmB9+vzmTy0q3EREYwOCmec/q05KzuzYmNjgxaBhEJH4emV2hYO5qbT0/yOo7nakVFcu/wLtzw1nzeS0nnkuPaeR1JSlBjJb9SVOSYlbqD91LS+XrZNvIKi+jSvD53nHEMw3u1oGNCvZDmaVw3hrN7t+Ts3i0pKnIsSN/DpCVbmLxkC9+u3E6D2CjO7duKi45tQ/eWcSHNJiKVa8qyrfy0bhd/PrcHcbU1Sg1wVvfmHJfYmGemrubs3i01eh9m1FjJzw7mFfLR/AxenbWOtB37aVgnmksGtuWiY9vQpXkDr+MBEBFh9G/XiP7tGnHf8K78mLaT9+amM2FuOm/8uIEB7Rtz7eBEhnRtRoSOxxKp0nILCnls0gqOaVaPMcfWnOkVymNmPDCyG2e/MItx36Xyx2p8WZ+qSI2VkLkvlzd/XM+bszew+0A+vVrH8dzoPgzt0ZxaUeG7iy0iwhjUKZ5BneLZcyCPD+dl8NoP67n+zXkkxtfl6hMTuaBfa2rHhO/PICJle+2H9aTvOsib1wzQsUQl9GgVx2/7t+bVH9YxZkDban9pn6pEjVUNtn1fDv+ansZbP20gv7CI07s047rBiQxIbFzlpjloWCeGawd34MoT2jN56Vb+PTONBz5dyrNfr+aGkzty6cB2arBEqpDMfbm88F0qp3dpqrPfynDnmZ35YvEWHp+8gpcuq/LnhFQbaqxqoJ3ZuYyfkcbrP64nv9BxXt9W3HhKRzqE+NipyhAVGcHZvVsyslcL5q7fzT++XcNjk1YwfmYaN57SkTED2upAd5Eq4JmvV5GTX8i9NXh6hfI0bRDLTad24qkpq/hx7U6O79jE60hCYDOvSzWxP7eAZ6au4qQnpzF+ZhrDerTgm9tP5m+/7V0tmqrizIwBiY1569rjeO/6gXSIr8vDny/nlKem897cjRRq5neRsLVscxYT5qZz+fHtQ36yTFVzzYmJtGpYmz9/sVx1LUyosaoBCoscE+Zs5OSnpvOP71I5pXNTvv6/k/j7RX1IrAH75Y/r0IQJ1w/knWuPo0XDWO7+aAkj/jGTmWt0vTeRcOOc4+GJy2lUJ4ZbNb1CuWKjI7lnWBeWb9nLR/MyvI4jqLGq9maszmTEP2Zyz8dLaNu4Nh/feALjLulHp6b1vY4WUmbGCZ3i+fj3JzDu4n7szyvgslfmcOVrc1izbZ/X8UTE7/PFW5izfhd/OKszcXU0jUAgRvZqQf92jXhyyiqycwvKf4FUKjVW1VT6rgNc90YKl786h/15BYy7uB8f/f4E+rVt5HU0T5kZI3r5doHeO7wL8zbsZuhzM3nk8+Xsy8n3Op5IjXYgr4C/fLmCHq0acGGyplcI1KHpF3Zk5/LP6alex6nxdPB6NZNbUMjLM9J4YVoqhnHX0M5cc2JiWE+b4IVaUZFcf1JHLujfhr9NXcVr/13H54s3c/+IrpzTu2WVOytSpDp4cdpatu7N4YWL++q6oBXUp01DzuvbipdnrmP0sW1p07iO15FqLI1YVSMzVmcy9NmZ/G3qak7r0pRv7ziZG0/ppKbqMBrXjeEv5/Xk0xsH0bxBLLdOWMjFL/+k3YMiIbZh537Gz0jjvL6tSG7f2Os4VdJdQzsTYfDEVyu9jlKjBdRYmdlQM1tlZqlmdk8pz99uZsvNbLGZfWtmunhRCG3bm8ONb8/j8lfnAPD61QN48ZL+tGxY2+NkVUfvNg359KZBPHpuD5Zv2cuw52by+OQVHMwr9DqaHCXVr6rh0S9XEBVp3DOsi9dRqqwWcbW54eSOfLF4Cynrd3kdp8Yqt7Eys0hgHDAM6AaMMbOSlxdfACQ753oBHwJPBjuo/FpRkePdORsZ8sz3fLtiO3eeeQxf3TaYk4/RZHpHIjLCuHRgO76742TO69uKl75P46xnZzBrzQ6vo8kRUv2qGr5fncnXy7dx82lJNGsQ63WcKu36kzrQvEEsj3yxnCJNv+CJQEasBgCpzrmUTEqzAAAYr0lEQVQ051weMAEYVXwB59w059wB/93ZQOvgxpSS1u3Yz8X/ns0fP15Cj5ZxTLntJMaelqTdfkHQpF4tnvptb969bqCv2XrlJ+78YBF7DuR5HU0qTvUrzOUWFPLwxGW0b1KHq09s73WcKq9OTBR3D+vM4owsPtT0C54IpLFqBaQXu5/hf6ws1wCTS3vCzK43sxQzS8nM1BxCRyK/sIgXp6dy1rMzWLZ5L0+c35N3rjtO14mqBMd3bMLkWwdz4ykd+WTBJoY88z2fL9qMc/oWWIWofoW5f05fS9qO/Tw8qoe+GAbJqN6tGNC+MX+ZvIKd2blex6lxAmmsSjs1o9S/LGZ2KZAMPFXa88658c65ZOdcckKCdldV1JKMLEa98ANPfrWK07s05dvbT+aiY9vqDLZKFBsdyV1DuzBx7CBaxNXm5ncXcN0bKWzec9DraBIY1a8wtjYzmxenreWc3i11CEMQRUQYj53Xg/25BTw2aYXXcWqcQBqrDKD4hCKtgc0lFzKzIcB9wDnOObXIQXQwr5C/TFrBqHGz2JGdy78u7c8/L+1PUx2LEDLdW8bxyY0ncP+IrsxK3cEZz3zPGz+u1zEM4U/1K0w557jvkyXERkdw/0hdDzDYkprV53cndeTj+Zv4b6qOEw2lQBqruUCSmSWaWQwwGphYfAEz6wu8hK8obQ9+zJrrv6k7OOvZGYyfkcZFx7bl69tPZmiP5l7HqpGiIiO4dnAHpt52Mv3aNeLBz5Zx4Us/kro92+toUjbVrzD10fxNzE7bxT3DutK0vr4kVoaxp3WiXZM63PfpUnLydYZzqJTbWDnnCoCxwBRgBfC+c26ZmT1iZuf4F3sKqAd8YGYLzWxiGauTAGUdzOeejxZz8b9/IjLCmHD9QB7/TU/iausSD15r26QOb1w9gL/9tjdrtmcz/LmZvPDdGvILi7yOJiWofoWnXfvzeOzL5fRv14jRx2qG9coSGx3Jo+f2YN2O/bw4TTOyh4p5dSBucnKyS0lJ8WTb4e7r5du4/9Ml7MjO47rBHbhtSBKx0TqoMxxl7svloYnL+HLJFro0r8+TF/SiV+uGXscKW2Y2zzmX7HWOo6X6dXTGvjOfKcu28sXNg+ncvGZdt9QL//feQj5ftJlPbxpEj1ZxXsepsgKtX5p5PYzsyM5l7Dvzue6NFBrXrcWnNw7inmFd1FSFsYT6tRh3ST/GX9af3QfyOHfcDzz25XJNLCpShi8Xb+GLxVu49fQkNVUh8uDIbjSqG8OdHywir0Aj65VNjVUYcM7xyYIMhjzzPVOXbePOM49h4thB9GytbxZVxZndm/O1/yzNl2eu46xnZ+iAUZESdmTn8sBnS+nVOo4bTu7odZwao1HdGB4/rycrt+7j+e/WeB2n2lNj5bHNew5y9X/m8n/vLaJDfF0m3XoiY09LIjpS/2uqmgax0Tz+m568e91AIgwu/vdP3P3hYrIO5nsdTcRzzjke+HQp2TkFPP3b3kSpxoXUkG7NOL9fa16cvpbFGXu8jlOt6TfbI0VFjjdnb+DMv89gdtouHhzZjQ9uOIFOTTU0XtUd37EJX912Er87uQMfzveNRH61dIvXsUQ8NXHRZiYv3crtZx5DUjPVOS88eHY34uvFcMf7i3SWYCVSY+WBdTv2M/rl2Tzw6VL6tGnI1P87iatPTCQyQhN9Vhex0ZH8cVhXPrtpEAn1anHDW/P5/Vvz2L4vx+toIiGXvusA93+6lL5tG3Ld4A5ex6mx4mpH89fze7FmezZ/nbzS6zjVlhqrEMotKOT5b9dw1rMzWLFlL0+e34s3rxlAm8Z1vI4mlaRHqzg+GzuIP5zVmW9XbmfI09/z/tx0XRZHaoz8wiJumbAAHDx3UV99gfTYqZ2bctWg9vznv+uZsmyr13GqJTVWITI7bSfDn5vJ01+v5oyuzfjm9pO58Ng2uhxNDRAdGcFNp3Zi8q2D6dK8AXd9tJjLXpnDxp0Hyn+xSBX3t6mrWLBxD389vxdtm+hLZDi4Z1gXerRqwF0fLmaTLs8VdGqsKtmu/Xnc8f4iRo+fTV5hEa9ddSzjLulHM12OpsbpmFCPCdcP5NFze7AwfQ9nPvs9L05P1enPUm1NX7Wdl75P4+Lj2jKiVwuv44hfrahIXhjTj8Iixy3vLqBAkxsHlRqrSuKc4/256Zz29HQ+W7iJG0/pyNTbTubUzk29jiYeiogwLh3Yjq9vP4mTkhJ48qtVDH1uBjPXZHodTSSotmblcMf7i+jcrD4PjuzmdRwpoX18XR47rwfzNuzmb1NXex2nWonyOkB1tGxzFg9PXM6c9bs4tn0jHjuvJ8foLBgppkVcbcZfnsy0Vdt5aOIyLntlDsN7Nuf+Ed1o2bC21/FEjkpOfiHXv5lCTn4hL1zcV5Mch6lRfVoxO20X//p+Ld1bNuDs3i29jlQtqLEKol3783h66irenbORhnVieOL8nvy2fxsidLCmlOHUzk05/rYmvDwjjRempTJtZSa3nJ7ENScmEhOlAWWpepxz3P3RYpZsymL8ZcmaWiHMPXxOd1K37+MPHy6ifZO6mpg6CAKq3GY21MxWmVmqmd1TyvMnmdl8MyswswuCHzO8FRQW8Z8f1nHKU9OYMDedK05oz7Q7TuGiY9uqqZJyxUZHcvPpSXxz+8mcmBTPE1+tZNhzM5i2crvOHgwC1a/Q+uf3a/ls4WbuPLMzZ3Rr5nUcKUdMVAT/vLQ/jevEcP2bKZoSJgjKbazMLBIYBwwDugFjzKzkDvONwJXAO8EOGO5mrdnBiH/M4qHPl9OrdUMm3zqYP53dnbg60V5HkyqmTeM6vHx5Mq9deSxFDq76z1wue2UOyzfv9TpalaX6FVrfLN/GU1NWMbJXC248RZesqSri69Xi5SuS2XMgnxvenKfJQ49SICNWA4BU51yacy4PmACMKr6Ac269c24xUGNOLVi6KYvLXvmJS1/5if15Bbx0WX/evGaAjqWSo3Zql6ZMue0k/nR2N5ZuzmLE8zO568NFbNurb5JHQPUrROZv3M3N7y6gR8s4nrqgt6aSqWK6t4zj6Qt7M3/jHp0peJQCaaxaAenF7mf4H6swM7vezFLMLCUzs2qeBZW+6wC3TVjAyOdnsWRTFveP6Mo3t5/MWd2bq5BI0MRERXDVoES+v/NUrj0xkU8WbOKUp6bz969Xsy9H1x6sANWvEEjdvo+r/zOXpg1q8eqVx1I7RgerV0XDe7bgobO7MXX5Nu75eAlFRToU4UgEcvB6ad3CEb3bzrnxwHiA5OTkKvV/bGd2LuOmreWt2RuIiIAbT+nI707uSFxt7fKTyhNXJ5r7RnTjsoHteeKrlTz37Rpe/3E9vzupI1ec0I46MTr/pByqX5UsfdcBLntlDlEREbx59XEk1K/ldSQ5ClcOSmTPwXye/WYNcbWjuX9EVw0aVFAgVTkDaFPsfmtgc+XECT+Z+3J5eWYab/64gdyCQi5MbsNtQ46heZwm+JTQadukDuMu6cfvMvbwzNereeKrlbwyK43fn9KJS45rq9PZy1aj61dlS991gNHjZ3Mgr5B3rxuomdWriVtPT2LPgXxembWOerWiuG1IkpqrCgiksZoLJJlZIrAJGA1cXKmpwsD2vTm8NCONt3/aQF5BEaP6tOKmUzvRqWk9r6NJDdardUP+c9UA5m3YxdNTV/PnL5YzfsZabjylExcmt9EumF+rkfUrFDbuPMCYl2eTnVvA29ceR7eWDbyOJEFiZjw4shvZuQU89+0a8gqLuOuszmquAlRuY+WcKzCzscAUIBJ41Tm3zMweAVKccxPN7FjgE6ARcLaZPeyc616pyStJ+q4DvDJrHe/M2UhhkeO8vr6GKjG+rtfRRH7Wv11j3rluID+u3ckzX6/iTxOX8dy3a7ji+PZcfnw7GtWN8TpiWKhp9StUVmzZy+WvziGvoIi3rjmOHq0091F1ExFhPHl+L990DNPXcjCvkAdHdtMUQgEwr+bJSU5OdikpKZ5suzTzNuzmlVlpfLV0KxFmnN+vNTee2pF2TdRQSXhzzjF3/W5e+n4t367cTu3oSC46tg3XDk6kdaPw2jVjZvOcc8le5zha4Va/QmnOul1c8/pc6sZE8YbOhK72nHM89uUK/j1rHcN7NueZC/vU2EMPAq1fNfrI14LCIiYv3cors9axMH0PDWKjuO6kDlxxfHtdVkSqDDNjQGJjBiQ2ZvW2fbz0fRpvzd7Am7M3MLRHcy4b2I7jEhtrGF+O2ntzN3L/p0tp07gOb1w9IOwadwk+M+O+EV1pHhfLY5NWsDVrNuMvTya+nk5SKEuNHLHaknWQ9+dm8N7cjWzOyqF9kzpcfWIi5/drTd1aNbrXlGpi856DvPbDOt5PySDrYD5JTetxyXFt+U3/1jSI9e5MVo1YVU35hUU8Pmklr/6wjsFJ8bwwpp8mQa6BJi/Zwm3vLaRRnRhevLQf/do28jpSSAVav2pMY1VQWMS0VZlMmLORaau2U+TgxE7xXHFCe07v0lT7jaVayskv5PNFm3nrp40sSt9D7ehIzu3bkgv6t6Ff24YhH8VSY1X1pO86wM3vLmBh+h6uGtSe+4Z3JSpS17GsqZZtzuKGt+axNSuH+4Z35YoT2teY0XA1Vvj2DS9I38PEhZv5YvEWdmTnklC/Fhcmt+ai5LY6NVhqlCUZWbw1ewOfLdpETn4R7ZrUYVSfVpzXt1XITs5QY1V1OOf4dOEm/vTZMpyDJy7oxfCeLbyOJWFgz4E8bn9/Ed+t3M7JxyTw1AW9aNqg+k9BVKMbq9Xb9vHZwk1MXLSZ9F0HiYmK4PQuTTm3bytO69KUaH3bkhpsX04+U5Zt45MFGfx37U6cg95tGnJun5YM7dGcFnGVd3yhGquqYUvWQe7/ZCnfrtxO/3aN+PuFffRFVH7BOcdbszfw2KQV1IqK5A9ndWbMgLZEVuO9PzWqsSooLGLeht18u3I736zYRlrmfiIMBnWKZ1SfVpzZvZmnx5WIhKutWTlMXLSJTxZsZsUW38Wee7aK48xuzTijezM6N6sf1GF+NVbhLbegkH/PXMe4aakUOccfzurClSe0r9Z/LOXorM3M5r5PljA7bRe9Wsfx51E96N2modexKkW1b6x27c/jh9QdfLtiG9NWZZJ1MJ/oSGNghyac0a0Zw3q00KUVRCogdfs+pi7fxtfLt7Fg4x4A2jauw+ldmzI4KZ4BiU2od5Qnd6ixCk/5hUV8Mn8Tz09bQ/qug5zZrRn3j+imUSoJiHOOiYs28+iXK9iRncuo3i25+fQkOiZUrwm1q11jlXUgn5/W7eTHtJ38uHYnK7fuA6Bx3RhO7dyUIV2bcmJSPPU1MiVy1LbvzeGbFdv5evlWfli7k7yCIqIijD5tGnJCp3hO7BRPnzYNiYmq2G51NVbhJbegkE8XbOKFaamk7zpIr9Zx/OGszgxOSvA6mlRB+3LyeWFaKm/813cJuHN6t2TsaZ3o1LR6zHVWbRqrtZnZ3DphAcs278U5qBUVQXL7RpzQMZ7jOzahd+uGGqYWqUQ5+YXM27CbH1J38EPqDpZsyqLIQWx0BH3bNOKNawYEfNyiGqvwkL7rAO/M2cj7c9PZuT+PXq3juG1IEqd2blpjzvCSyrMjO5eXZ6Txxo8bOJhfyAkdm3DpwHac0a1ZlT7GudpMENqsQSz1a0Vz6+lJHN+hCX3aNqRWVM2c9VXEC7HRkQzqFM+gTvGAb/T4x7Sd/LRuJ5n7cqt0oaxJdmbnMnX5NiYt2cKs1B1EmHF6l6ZcOrAdg5Pi1VBJ0MTXq8Ufh3fl+pM6MGFuOu/8tJEb355PQv1ajOzVguE9W9C/baNqO81R2I9YiUj1oRGr0CkscizbnMV/1+7k+1WZ/LRuJ0UO2vun2Rg9oE2lngEqckhhkWPG6kzenbOR6aszySsoIqF+LYZ0bcagTk04vkMTmlSBmdyDOmJlZkOB5/BdxPTfzrm/lni+FvAG0B/YCVzknFtf0dAiIsFWU+rXjuxclmzKYklGFosz9jB3/W6yDuYDcEyzetx0aieG9WhB1xbBPdNTpDyREcapXZpyapemZOcW8N3K7UxesoXPF23m3TkbAejSvD792jWiV6s4eraO45hm9avsaHi5jZWZRQLjgDOADGCumU10zi0vttg1wG7nXCczGw08AVxUGYFFRAJVnepXXkERmdm5bM3KYdveHNbv3M+6zP2k7dhPWmY2uw/4migz6JhQj7O6N2NQJ9+xqE3rV//JG6VqqFcrinN6t+Sc3i0pKCxi8aYsflzrOynti0WbeecnX6MVFWG0bVyHDgl1SYyvS4eEerRsWJvmDWJp3iCWBrWjwvYLQiAjVgOAVOdcGoCZTQBGAcUL0yjgIf+/PwReMDNzXu1nFBHx8bx+bd+Xw/7cQnILCsnNLyK3oIjcgkJy8ot+8diBvAL25hSw92A+WQfz//ffnHx27c9jR3ber9bdtH4tEuPrMrRHCzom1KVHqzi6t2ygs6OlSoiKjKBf20b0a9uIm07thHOODTsPsChjD6u37SMtcz9pmfuZsWYHeQVFv3htbHQECfVr0ahODHG1o3++NawTTb1a0dSOjiA2OpLaMZHUiookNjqC2tGRxPpvUZFGTGQE8fVqUTsmuMdtB9JYtQLSi93PAI4raxnnXIGZZQFNgB3BCCkicoQ8r1/XvZ7CooysgJevHxtFXO1oGsT6/lB0iK9Hv7bRNGsQS/M437f1Zg1iadO4thooqVbMjPbxdWlf4hJbhUWOzXsOsnVvzs8jttv25rB9Xy5ZB/PZcyCfTbsPssf/ZaSwKPDvRP++PJkh3ZoF9ecIpLEqbaytZOpAlsHMrgeu99/NNrNVAWz/kHjCs1FTrooL12zhmgvCN1tFc7WrrCBlUP06vHDNBeGbLVxzQfhmC9dcnPFEhbIFVL8CaawygDbF7rcGNpexTIaZRQFxwK6SK3LOjQfGBxKsJDNLCceziZSr4sI1W7jmgvDNFq65ilH9OoxwzQXhmy1cc0H4ZgvXXFA52QI55H4ukGRmiWYWA4wGJpZYZiJwhf/fFwDf6fgqEQkDql8iElLljlj5jzkYC0zBd7ryq865ZWb2CJDinJsIvAK8aWap+L7pja7M0CIigVD9EpFQC2geK+fcJGBSicceLPbvHOC3wY32K0c0BB8CylVx4ZotXHNB+GYL11w/U/06rHDNBeGbLVxzQfhmC9dcUAnZPJt5XURERKS6qZrTmoqIiIiEoSrTWJnZn81ssZktNLOpZtbS60yHmNlTZrbSn+8TM2vodSYAM/utmS0zsyIz8/yMDDMbamarzCzVzO7xOs8hZvaqmW03s6VeZynOzNqY2TQzW+H//3ir15kOMbNYM5tjZov82R72OlO4C9caFq71C1TDAqUaVjGVXb+qzK5AM2vgnNvr//ctQDfn3A0exwLAzM7EdyZRgZk9AeCcu9vjWJhZV6AIeAm40znn2VVj/ZcWWU2xS4sAY0pcWsQTZnYSkA284Zzr4XWeQ8ysBdDCOTffzOoD84Bzw+Q9M6Cucy7bzKKBWcCtzrnZHkcLW+Faw8K1foFqWKBUwyqcq1LrV5UZsTpUkPzqUsoEfl5xzk11zhX4787GN1eO55xzK5xzFZnEsDL9fGkR51wecOjSIp5zzs2glHmLvOac2+Kcm+//9z5gBb5Zwj3nfLL9d6P9t7D5TIajcK1h4Vq/QDUsUKphFVPZ9avKNFYAZvaYmaUDlwAPlre8R64GJnsdIgyVdmkRzz9gVYWZtQf6Aj95m+R/zCzSzBYC24GvnXNhky1cVYEapvpVNtWwoxBuNawy61dYNVZm9o2ZLS3lNgrAOXefc64N8DYwNpyy+Ze5Dyjw5wubXGEioMuGyK+ZWT3gI+C2EqMennLOFTrn+uAb4RhgZmGzC8Ir4VrDwrV+BZotTKiGHaFwrGGVWb8CmscqVJxzQwJc9B3gS+BPlRjnF8rLZmZXACOB00M5a3MF3jOvBXJpESnBv///I+Bt59zHXucpjXNuj5lNB4YCYXXwbKiFaw0L1/oFqmHVXbjXsMqoX2E1YnU4ZpZU7O45wEqvspRkZkOBu4FznHMHvM4TpgK5tIgU4z/A8hVghXPuGa/zFGdmCYfOHjOz2sAQwugzGY7CtYapfgVMNayCwrWGVXb9qkpnBX4EdMZ3hsgG4Abn3CZvU/mY71IYtYCd/odmh8nZPucBzwMJwB5goXPuLA/zDAee5X+XFnnMqyzFmdm7wCn4rsC+DfiTc+4VT0MBZnYiMBNYgu/3HuBe/0zinjKzXsDr+P5fRgDvO+ce8TZVeAvXGhau9QtUwwKlGlYxlV2/qkxjJSIiIhLuqsyuQBEREZFwp8ZKREREJEjUWImIiIgEiRorERERkSBRYyUiIiISJGqsRERERIJEjZWIiIhIkKixEhEREQmS/wcfmq58qIsaAwAAAABJRU5ErkJggg==\n",
          "text/plain": "<Figure size 720x216 with 2 Axes>"
         },
         "metadata": {
          "needs_background": "light"
         },
         "output_type": "display_data"
        }
       ]
      }
     },
     "294fa06990c3486f969f10da6b2d119a": {
      "model_module": "@jupyter-widgets/base",
      "model_module_version": "1.1.0",
      "model_name": "LayoutModel",
      "state": {}
     },
     "2c1dad75356f40479fb2663efd6b55c5": {
      "model_module": "@jupyter-widgets/controls",
      "model_module_version": "1.4.0",
      "model_name": "SliderStyleModel",
      "state": {
       "description_width": ""
      }
     },
     "2c72e2d9a2f04c6abc255d0cdb54f04e": {
      "model_module": "@jupyter-widgets/base",
      "model_module_version": "1.1.0",
      "model_name": "LayoutModel",
      "state": {}
     },
     "2fd1af5dfbc84948b4bda1bd2d65e062": {
      "model_module": "@jupyter-widgets/base",
      "model_module_version": "1.1.0",
      "model_name": "LayoutModel",
      "state": {}
     },
     "3126bb580fb04655806ce9034e586a92": {
      "model_module": "@jupyter-widgets/controls",
      "model_module_version": "1.4.0",
      "model_name": "VBoxModel",
      "state": {
       "_dom_classes": [
        "widget-interact"
       ],
       "children": [
        "IPY_MODEL_5d3afadd19ef47f3af91ee2733a746c3",
        "IPY_MODEL_d065de5ac7314415ac3f2dbbc5996f4c",
        "IPY_MODEL_16b8117e9a3d4208899aaf6849307ec5"
       ],
       "layout": "IPY_MODEL_d34fe636f9944677b5be5bc300316a11"
      }
     },
     "317bb61f1f2b4999b2df8e0bf11786cd": {
      "model_module": "@jupyter-widgets/output",
      "model_module_version": "1.0.0",
      "model_name": "OutputModel",
      "state": {
       "layout": "IPY_MODEL_b135a8f5b0904e68b41903e542a9f683",
       "outputs": [
        {
         "data": {
          "image/png": "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\n",
          "text/plain": "<Figure size 720x216 with 2 Axes>"
         },
         "metadata": {
          "needs_background": "light"
         },
         "output_type": "display_data"
        }
       ]
      }
     },
     "319f4a2e6cc943c1b3ed8719fe78fb96": {
      "model_module": "@jupyter-widgets/controls",
      "model_module_version": "1.4.0",
      "model_name": "SliderStyleModel",
      "state": {
       "description_width": ""
      }
     },
     "31c8dd2fe01d4348a15eec786700e966": {
      "model_module": "@jupyter-widgets/base",
      "model_module_version": "1.1.0",
      "model_name": "LayoutModel",
      "state": {}
     },
     "31d6c3fcdb63406ba0fe2a3581449174": {
      "model_module": "@jupyter-widgets/base",
      "model_module_version": "1.1.0",
      "model_name": "LayoutModel",
      "state": {}
     },
     "31e9c0cb15ac4f2ba472d85e3b3fbf8c": {
      "model_module": "@jupyter-widgets/base",
      "model_module_version": "1.1.0",
      "model_name": "LayoutModel",
      "state": {}
     },
     "32bddb98e5e24b4e8b7b8cad4ca023c4": {
      "model_module": "@jupyter-widgets/base",
      "model_module_version": "1.1.0",
      "model_name": "LayoutModel",
      "state": {}
     },
     "3446bbc6c82b4922967c96acbfadd756": {
      "model_module": "@jupyter-widgets/controls",
      "model_module_version": "1.4.0",
      "model_name": "SliderStyleModel",
      "state": {
       "description_width": ""
      }
     },
     "36a70b1929fb4cc2b42563df32a7bebc": {
      "model_module": "@jupyter-widgets/output",
      "model_module_version": "1.0.0",
      "model_name": "OutputModel",
      "state": {
       "layout": "IPY_MODEL_240c949798734856adefc0421062778d",
       "outputs": [
        {
         "ename": "UnboundLocalError",
         "evalue": "local variable 'dist' referenced before assignment",
         "output_type": "error",
         "traceback": [
          "\u001b[0;31m---------------------------------------------------------------------------\u001b[0m",
          "\u001b[0;31mUnboundLocalError\u001b[0m                         Traceback (most recent call last)",
          "\u001b[0;32m~/anaconda/lib/python3.6/site-packages/ipywidgets/widgets/interaction.py\u001b[0m in \u001b[0;36mupdate\u001b[0;34m(self, *args)\u001b[0m\n\u001b[1;32m    249\u001b[0m                     \u001b[0mvalue\u001b[0m \u001b[0;34m=\u001b[0m \u001b[0mwidget\u001b[0m\u001b[0;34m.\u001b[0m\u001b[0mget_interact_value\u001b[0m\u001b[0;34m(\u001b[0m\u001b[0;34m)\u001b[0m\u001b[0;34m\u001b[0m\u001b[0;34m\u001b[0m\u001b[0m\n\u001b[1;32m    250\u001b[0m                     \u001b[0mself\u001b[0m\u001b[0;34m.\u001b[0m\u001b[0mkwargs\u001b[0m\u001b[0;34m[\u001b[0m\u001b[0mwidget\u001b[0m\u001b[0;34m.\u001b[0m\u001b[0m_kwarg\u001b[0m\u001b[0;34m]\u001b[0m \u001b[0;34m=\u001b[0m \u001b[0mvalue\u001b[0m\u001b[0;34m\u001b[0m\u001b[0;34m\u001b[0m\u001b[0m\n\u001b[0;32m--> 251\u001b[0;31m                 \u001b[0mself\u001b[0m\u001b[0;34m.\u001b[0m\u001b[0mresult\u001b[0m \u001b[0;34m=\u001b[0m \u001b[0mself\u001b[0m\u001b[0;34m.\u001b[0m\u001b[0mf\u001b[0m\u001b[0;34m(\u001b[0m\u001b[0;34m**\u001b[0m\u001b[0mself\u001b[0m\u001b[0;34m.\u001b[0m\u001b[0mkwargs\u001b[0m\u001b[0;34m)\u001b[0m\u001b[0;34m\u001b[0m\u001b[0;34m\u001b[0m\u001b[0m\n\u001b[0m\u001b[1;32m    252\u001b[0m                 \u001b[0mshow_inline_matplotlib_plots\u001b[0m\u001b[0;34m(\u001b[0m\u001b[0;34m)\u001b[0m\u001b[0;34m\u001b[0m\u001b[0;34m\u001b[0m\u001b[0m\n\u001b[1;32m    253\u001b[0m                 \u001b[0;32mif\u001b[0m \u001b[0mself\u001b[0m\u001b[0;34m.\u001b[0m\u001b[0mauto_display\u001b[0m \u001b[0;32mand\u001b[0m \u001b[0mself\u001b[0m\u001b[0;34m.\u001b[0m\u001b[0mresult\u001b[0m \u001b[0;32mis\u001b[0m \u001b[0;32mnot\u001b[0m \u001b[0;32mNone\u001b[0m\u001b[0;34m:\u001b[0m\u001b[0;34m\u001b[0m\u001b[0;34m\u001b[0m\u001b[0m\n",
          "\u001b[0;32m<ipython-input-66-c6e5666b3650>\u001b[0m in \u001b[0;36mplot\u001b[0;34m(mu, variant)\u001b[0m\n\u001b[1;32m     11\u001b[0m     \u001b[0mdists\u001b[0m \u001b[0;34m=\u001b[0m \u001b[0;34m[\u001b[0m\u001b[0mnorm\u001b[0m\u001b[0;34m,\u001b[0m \u001b[0mnorm_prec\u001b[0m\u001b[0;34m]\u001b[0m\u001b[0;34m\u001b[0m\u001b[0;34m\u001b[0m\u001b[0m\n\u001b[1;32m     12\u001b[0m     \u001b[0mparams\u001b[0m \u001b[0;34m=\u001b[0m \u001b[0;34m[\u001b[0m\u001b[0;34mr\"\\sigma\"\u001b[0m\u001b[0;34m,\u001b[0m \u001b[0;34mr\"\\beta\"\u001b[0m\u001b[0;34m]\u001b[0m\u001b[0;34m\u001b[0m\u001b[0;34m\u001b[0m\u001b[0m\n\u001b[0;32m---> 13\u001b[0;31m     \u001b[0;32mfor\u001b[0m \u001b[0maxi\u001b[0m\u001b[0;34m,\u001b[0m \u001b[0mparam\u001b[0m\u001b[0;34m,\u001b[0m \u001b[0mdist\u001b[0m \u001b[0;32min\u001b[0m \u001b[0mzip\u001b[0m\u001b[0;34m(\u001b[0m\u001b[0max\u001b[0m\u001b[0;34m,\u001b[0m \u001b[0mparams\u001b[0m\u001b[0;34m,\u001b[0m \u001b[0mdist\u001b[0m\u001b[0;34m)\u001b[0m\u001b[0;34m:\u001b[0m\u001b[0;34m\u001b[0m\u001b[0;34m\u001b[0m\u001b[0m\n\u001b[0m\u001b[1;32m     14\u001b[0m         \u001b[0maxi\u001b[0m\u001b[0;34m.\u001b[0m\u001b[0mset_title\u001b[0m\u001b[0;34m(\u001b[0m\u001b[0;34mf\"Variant of ${param}$\"\u001b[0m\u001b[0;34m)\u001b[0m\u001b[0;34m\u001b[0m\u001b[0;34m\u001b[0m\u001b[0m\n\u001b[1;32m     15\u001b[0m         \u001b[0maxi\u001b[0m\u001b[0;34m.\u001b[0m\u001b[0mset_ylim\u001b[0m\u001b[0;34m(\u001b[0m\u001b[0;36m0\u001b[0m\u001b[0;34m,\u001b[0m \u001b[0;36m0.8\u001b[0m\u001b[0;34m)\u001b[0m\u001b[0;34m\u001b[0m\u001b[0;34m\u001b[0m\u001b[0m\n",
          "\u001b[0;31mUnboundLocalError\u001b[0m: local variable 'dist' referenced before assignment"
         ]
        }
       ]
      }
     },
     "372c99399f3d48eb8a8785b5f548eab3": {
      "model_module": "@jupyter-widgets/base",
      "model_module_version": "1.1.0",
      "model_name": "LayoutModel",
      "state": {}
     },
     "3732ccb34c7a44beab1e145c71fe78d8": {
      "model_module": "@jupyter-widgets/output",
      "model_module_version": "1.0.0",
      "model_name": "OutputModel",
      "state": {
       "layout": "IPY_MODEL_e50926e2c3a542a08cacb300643da9df",
       "outputs": [
        {
         "data": {
          "image/png": "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\n",
          "text/plain": "<Figure size 720x216 with 2 Axes>"
         },
         "metadata": {
          "needs_background": "light"
         },
         "output_type": "display_data"
        }
       ]
      }
     },
     "37570f1463cd41b4b88acd57ec7d5324": {
      "model_module": "@jupyter-widgets/output",
      "model_module_version": "1.0.0",
      "model_name": "OutputModel",
      "state": {
       "layout": "IPY_MODEL_0e4fd600abd64cf0ab62d1916ec56770",
       "outputs": [
        {
         "data": {
          "image/png": "iVBORw0KGgoAAAANSUhEUgAAAlYAAADUCAYAAABeQm3lAAAABHNCSVQICAgIfAhkiAAAAAlwSFlzAAALEgAACxIB0t1+/AAAADl0RVh0U29mdHdhcmUAbWF0cGxvdGxpYiB2ZXJzaW9uIDMuMC4zLCBodHRwOi8vbWF0cGxvdGxpYi5vcmcvnQurowAAIABJREFUeJzt3Xd41eX5x/H3nT0hJCQhQAKEDPaQsBxsFBzg3rtKcWKtraPVVqu11WqriNtq9afiVlSQDUUFIewRMklICGSSEBJC1vP7I6FNMcAJOcn3jPt1XbnKOfmecz7FcOc+z3mGGGNQSimllFJt52F1AKWUUkopV6GNlVJKKaWUnWhjpZRSSillJ9pYKaWUUkrZiTZWSimllFJ2oo2VUkoppZSdaGOllFJKKWUn2lgppZRSStmJNlbqtInIThGZ4AA5EkVks4hUiMi9VudRSjk+rV+qvWhj5SZEZLGIPNHC/TNF5ICIeLX2OY0xA40xq+yQLVtEprThKX4LrDLGBBtjXmxrHqWUY3H3+iUifURkkYgcFJF9InJLG15PtTNtrNzHO8ANIiLH3X8D8L4xps7WJzqdItbOegE7rQ6hlGo37+De9etTYCnQFbgd+H17h1KnTxsr9/ElEAqcc+wOEekCXAi823T7IRHJbBqS3iUilzS7NltEHhSRbUCliHg1f6d2ssc2e/wDIrJNRMpF5CMR8ROR94AY4GsROSwiv20pvIj0F5FVIlLWNIQ/o+n+FcBE4KWmxye08FhvEXmqKUOtiJimr61t+htVSnUUd65fQ4AwY8zzxpj6pruLTvPvUXUEY4x+uckX8AbwZrPbvwS2NLt9BdCdxob7KqASiGr6XjawBYgG/JvdN+VUj2127fqma0KBFGD28c9zgtzeQAbwCOADTAIqgMSm768CbjvJ4/8KrGvKHggsAz4HYq3+b6Jf+qVftn25cf26A/i/pmwjgN3ATVb/99CvE3/piJV7+RdwhYj4N92+sek+AIwxnxhj8o0xDcaYj4B0YFSzx79ojMk1xhw5/olteOyxx+cbY0qBr4FhNuYeAwQBfzHG1BhjVgDfANec6oEiEgzcC9zQlL0S+AwINcZk2fj6SinruV39ajIMSAZWNv1vFY1vDJWD0sbKjRhjvqdxCHmmiMQCI4EPjn1fRG4UkS1Nw9VlwCAaP9M/JvdEz23DYwEONPtzFY3FxhbdgVxjTEOz+3KAHjY8dhyQZYxJb3Zfl+OyKKUcnJvWL2hsrDbQ+JFhHFAKPGPjY5UFHG0Sn2p/79L4Ti8RWGKMKQAQkV40DrVPBtYaY+pFZAvQfLKoaekJbXzsybT4vM3kA9Ei4tGsOMUAaTY8dzhwsFlWAS4BXrAxm1LKcbhV/RIRT6A/sLnpsZki8gMQYWM2ZQEdsXI/7wJTaFxZ8q9m9wfSWCCKAJqW8w6y8Tnb8liAAiD2JN//icY5D79tmog+AbgImG/Dc+8AzhCRYU0fITzdlPWjVuRTSjkGd6tfiUAAMF1EPEVkGPAL/vf/u3Iw2li5GWNMNvAjjcVkQbP7dwHPAWtpLBSDgR9sfM7TfmyTp4HfNw3DP9DC89cAM4DpQDHwMnCjMWa3DdmSgaeAhUAW0A043xhT24p8SikH4G71CxgOHMtXRuO2E/caY9a1Ip/qYGLMqUYxlVJKKdXRRORZoNQY87TVWZTtdMRKKaWUckzDadzaQTkRmxorEZkmIqkikiEiD7Xw/ZtFpKhpVcUWEbnN/lGVUqr1tH4pJzaUxn2rlBM55UeBTasS0oCpQB6Nyz6vafpc+tg1NwNJxpi72y+qUkq1jtYvpVRHs2XEahSQYYzJapqENx+Y2b6xlFLKLrR+KaU6lC2NVQ/+d2O1PFre2OyypnOUPhWRaLukU0qpttH6pZTqULZsENrSJmnHf374NfChMeaoiMymcY+NST97IpFZwCyAwMDAEf369WtlXKWUM9u4cWOxMSa8A19S65dSyi5srV+2NFZ5NB5ceUxPGneS/Q9jTEmzm2/QeOjtzxhjXgdeB0hKSjLJyck2vLxSylWISE4Hv6TWL6WUXdhav2z5KHADEC8ifUTEB7iaZhuzNb1YVLObM9DloUopx6D1SynVoU45YmWMqRORu4HFgCfwT2PMThF5Akg2xiwA7hWRGUAdjQdE3tyOmZVSyiZav5RSHc2yndd1KF0p9yMiG40xSVbnaCutX0q5H1vrl+68rpRSSillJ9pYKaWUUkrZiTZWSimllFJ2oo2VUkoppZSdaGOllFJKKWUn2lgppZRSStmJNlZKKaWUUnaijZVSSimllJ1oY6WUUkopZSfaWCmllFJK2Yk2VkoppZRSdqKNlVJKKaWUnWhjpZRSSillJ9pYKaWUUkrZiTZWSimllFJ2oo2VUkoppZSdaGOllFJKKWUn2lgppZRSStmJNlZKKaWUUnaijZVSSimllJ1oY6WUUkopZSfaWCmllFJK2Yk2VkoppZRSdqKNlVJKKaWUndjUWInINBFJFZEMEXnoJNddLiJGRJLsF1EppU6f1i+lVEc6ZWMlIp7APGA6MAC4RkQGtHBdMHAv8JO9Qyql1OnQ+qWU6mi2jFiNAjKMMVnGmBpgPjCzhev+BDwDVNsxn3IhxhgqqmupPFqHMcbqOMo9aP1SdlNdW09FdS31DVq/1Il52XBNDyC32e08YHTzC0RkOBBtjPlGRB440ROJyCxgFkBMTEzr0yqnYoxhc24ZC7bksy6rhKyiSmrqGwAI8PEksVswZ/YNY8bQHiR2C7Y4rXJRWr/UaSs4VM3XW/NZnlLIzvxyDlXXAeDpIcSEBnBGTBfOHRjJ5H4ReHnqlGXVyJbGSlq47z/tuoh4AH8Hbj7VExljXgdeB0hKStKW30UZY1i4/QDPLU0lq6gSHy8PxsaGMT4xnLBAHxoMHCivZse+cl5dncW8lZmMTwhn9vi+jO0bZnV85Vq0fqlWyyw6zLPfpbJk1wEaDPSP6sRFQ7vTPcQfH08Pyo7UkF5wmOW7C/hsUx7Rof7celYfrhkVg5+3p9XxlcVsaazygOhmt3sC+c1uBwODgFUiAtANWCAiM4wxyfYKqpzD7gOHePjz7WzeW0a/bsE8e/kQpg3qRrCfd4vXH6ys4YP1e3n7h2yueWMdlwzvwWMXDqBLoE8HJ1cuSuuXstmRmnr++t1u3luXg7+3J3dM6MulZ/Skb3hQi9fX1TewfHchb/w7i8e/3sV763J45rIhJPUO7eDkypHIqea6iIgXkAZMBvYBG4BrjTE7T3D9KuCBUxWlpKQkk5ysdctVGGOYvyGXPy7YSbCfF789rx+XjeiJp0dLAwY/V11bz8srM3h5VSYhAd7846rhnB3ftZ1Tq44mIhuNMR226k7rl7JVekEFd76/iYyiw1w3Oob7piTQNcjX5sevTivikc+3k19+hFnjYvntef1srn/KOdhav075obAxpg64G1gMpAAfG2N2isgTIjKj7VGVs6urb+C3n27j4c+3M6pPKIvmjOPKkdGtKip+3p7cf24iX99zNqGBPtz09nr+b11OO6ZW7kDrl7LF4p0HmPHSDxysquHdW0fx5MWDW9VUAYxPCGfJr8ZxzagYXludxax3kzl8tK6dEitHdsoRq/ai7/hcQ3VtPXd/sJllKQXcOymO+6Yk4NHGd2kV1bXMmb+FFbsL+eX4WB6a1o+mj2mUk+voEav2ovXLdXySnMuDn21jSM8QXr9hBBGd/Nr8nO+ty+GPC3YSHxHE/902utVNmnJMdhuxUupEqmvrueXtDSxLKeCJmQO5/9zENjdVAMF+3rxxYxLXj2l85/fX71J1ewallN29uzab33y6jbPiuvL+baPt0lQB3DCmF2/fPJLskkquf/MnSitr7PK8yjloY6VOS119A3d/sJl1e0r4+1VDuXFsb7s+v6eH8KeZg7hudAyvrs7k70vT7Pr8Sin39tWWfTz21U6mDojkzZuSCPS1ZS2X7cYlhPPmjSPZU9zYXJVX1dr1+ZXj0sZKtZoxht99sYNlKQU8PmMglwzv2S6vI9LYXF2VFM2LKzL4cP3ednkdpZR7WZNexAOfbGV0n1DmXjMcX6/22SLh7PiuvH5jEumFFdzx/kZqm/bxU65NGyvVaq+szuSj5FzumRRn95Gq43l4CE9dMohxCeE8+uUOfswsbtfXU0q5tozCCma/t5G+4UG8fmNSu+87NT4hnKcvHcKPmSU89tVOndbgBrSxUq3y77Qi/rY4lQuHRHH/1IQOeU0vTw9eunY4fboGcsf/bSKnpLJDXlcp5VoqqmuZ9d5G/Lw9efuWkXT2b3l/PXu7fERP7pjQlw/X7+WdH7M75DWVdbSxUjbLLa3i3vmbiY8I5pnLh3ToSr1Oft68ddNIjDHc9cEmjtbVd9hrK6WcnzGGBz7ZSk5JFS9dewZRnf079PV/c24iU/pH8ueFKWzJLevQ11YdSxsrZZPa+gbu/nAz9Q2GV28YQYCPfSd62iImLIBnrxjKjn2HeHrh7g5/faWU8/rnD9ks3lnAw9P7WXJ0loeH8NwVQ4kI9uPuDzZRfkQns7sqbayUTeauyGBrbhl/uXQIfboGWpbjvIHduOWs3rzzYzaLdx6wLIdSynnsPnCIv363myn9I/jF2X0sy9E5wJu51w7nQHk1D322TedbuShtrNQpbcwp5aUV6Vx6Rg8uGBJldRwent6fQT068fDn2yk+fNTqOEopB1ZdW89987fQyc+Lv1zWsVMYWnJGTBceOC+RRTsO8OWWfZZmUe1DGyt1UlU1dfzqo6306OLP4zMGWh0HAB8vD56/chiHq+t49Msd+q5PKXVCf1+axu4DFTx7+VCH2QH99nNiSerVhT98tZOCQ9VWx1F2po2VOqkXlqWzt7SKv10+lGC/jllBY4uEyGB+NTWBRTsO8M22/VbHUUo5oB37ynnz+z1cMyqaif0irI7zH54ewrNXDKWmvoGHP9+ubw5djDZW6oR25v+3KI2O7fjJnqdy+zl9GBYdwmNf7eCgHhmhlGqmvsHw8OfbCQ304aHp/a2O8zN9ugby4LR+rNhdyFdb8q2Oo+xIGyvVomNFqUuADw9Nc7yiBI37W/3lssEcqq7jmcW6SlAp9V/v/JjN9n3l/OGiAR22X1Vr3TS2N0OjQ3jy2xRdJehCtLFSLfrXj9lsy2sqSgGOWZQA+nXrxK1n9Wb+hlw27T1odRyllAPYV3aE55akMqlfBBcMtn7BzYl4eAhPzhxEaeVRPQ/VhWhjpX4mv6koTUgM50IHWAV4KnOmJBAR7MujX+6gvkHnKijlzowxPPblDoyBJ2YOtHwV4KkM7tmZG8b04t212ezYV251HGUH2lipn3lqYQr1xvCnmYMcvigBBPl68diFA9mZf4j/W5djdRyllIVW7C5k+e5Cfn1uAj27BFgdxyb3n5tIaKAvv/tyBw365tDpaWOl/seG7FK+3bafO8bHER3qHEUJ4PzB3Tgnvit/W5xKYYUuX1bKHdXUNfDUtyn0DQ/kpjN7Wx3HZp39vfndBf3YmlvG/A25VsdRbaSNlfqPhgbDE1/vIqqzH7PGxVodp1VEhMdnDKS6rp7nFutcBaXc0XvrcsgqruT3FwzA29O5fr1dPKwHo/uE8rclqRyq1onszsy5fvJUu/psUx7b95Xz4LR++Pt4Wh2n1WLDg7hxbG8+3phLyv5DVsdRSnWg0soaXliWxriEcCYkhlsdp9VEhEcvHEBpZQ0vr8y0Oo5qA22sFACVR+t4ZnEqw6JDmDG0u9VxTts9k+Lo5OfN04t0+wWl3Mnfl6ZRWVPP7y/o7xRzQ1syqEdnLh3eg3/+sIe8g1VWx1GnSRsrBcArqzIpqjjKYxcNwMPDOYsSQEiAD/dMiuPfaUWsTiuyOo5SqgOkHqjg/Z9yuG50DAmRwVbHaZMHzktEgL8tTrU6ijpN2lgpDpRX88aaLGYM7c4ZMV2sjtNmN4ztRUxoAH/+NkW3X1DKDfz1u90E+Xpx35QEq6O0WfcQf247pw9fbslnW16Z1XHUadDGSvHiinQajOE35yVaHcUufL08eXBaP1ILKvh0o66wUcqVJWeXsmJ3IbMn9CU00MfqOHYxe3xfwgJ9ePLbFD1H0AnZ1FiJyDQRSRWRDBF5qIXvzxaR7SKyRUS+F5EB9o+q2kN2cSUfb8jlmlExTrW9wqmcP7gbZ8SE8NySNI7U1FsdR1lI65frMsbwzHephAf7crMTba9wKsF+3tw3NYH1exqbRuVcTtlYiYgnMA+YDgwArmmh8HxgjBlsjBkGPAM8b/ekql38fVkaXp7C3RPjrI5iVyLCg9P6UVhxVDcNdWNav1zb6rQi1meXcs+kOAJ8vKyOY1dXj4wmJjSA55ak6aahTsaWEatRQIYxJssYUwPMB2Y2v8AY03xteyCgPwVOIGX/IRZszeeWs/oQ0cnP6jh2Nzo2jHPiu/LK6kwOH62zOo6yhtYvF9XQYHh2cSrRof5cPTLG6jh25+3pwX1T4tm1/xDf7TxgdRzVCrY0Vj2A5hNV8pru+x8icpeIZNL4ju9e+8RT7em5JakE+Xoxe1xfq6O0m1+fm0hpZQ1vf7/H6ijKGlq/XNSiHQfYmX+IX01JwMfLNacLzxzWg7iIIJ5fmqYLcZyILT+NLa29/9l/YWPMPGNMX+BB4PctPpHILBFJFpHkoiJdCm+ljTmlLEspZPb4vnQO8LY6TrsZFh3ClP6RvL4mi/Iq3c3YDWn9ckF19Q08tzSVhMggZg77WZ/sMjw9hPunJpBReJivtuyzOo6ykS2NVR4Q3ex2TyD/JNfPBy5u6RvGmNeNMUnGmKTwcOfbGddVHJvw2TXIl1vO6m11nHZ3/9QEKqrreGNNltVRVMfT+uWCPtuUR1ZRJb8+NxFPJ953zxbTBnZjQFQn/rEsndr6BqvjKBvY0lhtAOJFpI+I+ABXAwuaXyAi8c1uXgCk2y+isrc16cX8tMc1J3y2ZED3Tlw4JIp//rCH4sNHrY6jOpbWLxdTXVvPC8vSGRYdwrkDIq2O0+48PIQHzktgb2kVnyTnWR1H2eCUjZUxpg64G1gMpAAfG2N2isgTIjKj6bK7RWSniGwB7gduarfEqk2MMTy/NI0eIf5cM8r1JnyeyH1TEqiurefVVXoGlzvR+uV6Pk7OJb+8mt+cl+i0R9e01sTECIbHhDB3RTrVtbp9jKOzabjCGLMQWHjcfY81+/McO+dS7WRNejFbcsv48yWDXXbCZ0viIoK4ZHhP3luXw23nxNKts+utglQt0/rlOo7W1fPKqkxG9u7CmX3DrI7TYUSEB85N5Lo3f+LD9Xu55aw+VkdSJ+E+v1kVxhheWJ5O985+XDbCdSd8nsh9U+KpbzC8vCrD6ihKqdPw6cY89pdXc+/keLcZrTrmrLiujI0NY97KTB21cnDaWLmRHzNL2JhzkDsm9MXXy9PqOB0uOjSAy0f0ZP6GXAoOVVsdRynVCjV1Dby8MpPhMSGcHdfV6jiWuG9KPMWHj/Lh+r1WR1EnoY2VG3lheTrdOvlx5cjoU1/sou6cEEd9g+G11bpCUCln8vmmPPaVHWGOG45WHTM6NozRfUJ5dbWOWjkybazcxLqsEtbvKWX2+Fi3HK06JiYsgEuG9+D9n3IorNBRK6WcQW19A/NWZTC0Z2fGJ7j3VhdzJsdTcOgonyTrAfOOShsrN/HCsnTCg3252o1WAp7IXRPjqK1v4M01uhu7Us7gi837yC094pZzq443tm8YSb268PKqTI7W6aiVI9LGyg2s31PK2qwSZo/vi5+3+45WHdOnayAzhnbnvbU5lOi+Vko5tLr6BuatzGBQj05M6hdhdRzLiQj3TI5nf3k1n23U3dgdkTZWbmDuinS6BvlwrY5W/cfdk+KorqvnTT1DUCmHtmBrPjklVdw7SUerjhkX35Wh0SHMW5mhu7E7IG2sXNzGnIOsSS9m1rhY/H10tOqYuIhgLhgcxbs/ZnOwssbqOEqpFtQ3GF5akUH/qE5MdYNd1m0lIsyZHMe+siN8sUlHrRyNNlYu7sXl6YQG+nD9mF5WR3E490yKp7Kmnrd/0FErpRzRN9vyySquZM7kOB2tOs7ExAgG9ejEvFUZ1OmolUPRxsqFbcktY3VaEbefE+sWZwK2VmK3YKYP6sbbP2RTfqTW6jhKqWbqGwxzV2SQGBnMuQO6WR3H4YgI906KJ6ekigVbT3auuOpo2li5sBeXpxMS4M0NY3W06kTunhRHxdE63vkh2+ooSqlmFm7fT0bhYe6ZHIeHh45WtWTqgEj6R3XipRUZ1DcYq+OoJtpYuajteeWs2F3I7efEEuSro1UnMrB7Z6b0j+St77OoqNZRK6UcQUODYe6KdOIjgjh/UJTVcRyWiHDPpDiyiiv5ZpuOWjkKbaxc1Isr0unk58WNOlp1SvdOjuNQdR3vrs2xOopSCli88wBpBYe5e5KOVp3KtIHdiI8IYu6KDBp01MohaGPlgnbml7N0VwG/ODuWYD9vq+M4vCE9Q5iYGM4ba7I4fLTO6jhKubWGhsbD4mPDA7lwSHer4zg8D4/Gfa0yCg+zaMcBq+MotLFySXOXZxDs58XNZ/W2OorTuGdyPGVVtbyno1ZKWWppSgG7D1Rwz6Q4PHW0yiYXDI4iNjyQuSvSddTKAWhj5WJ2HzjEdzsPcMuZvensr6NVtjojpgvnxHflzTVZVNXoqJVSVjDG8OLydHqHBXCRjlbZzNOjca7V7gMVLNlVYHUct6eNlYuZuyKDIF8vbj27j9VRnM6cyfGUVNbwwU97rY6ilFtasbuQnfmHuGtiHF6e+uupNS4a0p3eYQG8uDwdY3TUykr6k+tC0gsqWLh9Pzed2YuQAB+r4zidpN6hnNk3jFdXZ1Fdq4ebKtWRjo1WRYf6c/HwHlbHcTpenh7cNTGOXfsPsTyl0Oo4bk0bKxcyd0UG/t6e3HZ2rNVRnNacyfEUHz6qo1ZKdbBVaUVszSvnrglxeOto1Wm5eHgPYkIDeEFHrSylP70uIqPwMF9vy+fGsb3pEqijVadrdGwYo/uE8urqTB21UqqDGGN4YVk6PUL8ufSMnlbHcVrenh7cNbEv2/eVsyq1yOo4bksbKxfx8soM/Lw8ue0cnVvVVnMmx1NYcZSPk3OtjqKUW/g+o5gtuWXcObEvPl76a6ktLhnekx4h/jpqZSH9CXYB2cWVfLllH9ePiaFrkK/VcZze2L5hJPXqwiurMjlap6NWSrWnY6NVUZ39uHyEjla1lY+XB3dO7MuW3DLWpBdbHcctaWPlAuatzMDb04NZ4/paHcUliAhzpsSzv7yaTzfmWR1HKZe2NquE5JyD3DGhL75enlbHcQmXj+hJ985+OmplEW2snNzekio+37yP60b3IjxYR6vs5ey4rgyPCeHllZnU1DVYHUcpl/XCsnQign25Mina6iguw9fLkzsm9GVjzkF+zCyxOo7bsamxEpFpIpIqIhki8lAL379fRHaJyDYRWS4iekBdB3l5VQaeHsIvx+tKQHsSEe6dHM++siN8vklHrZyZ1i/HtS6rhJ/2lDJ7fF/8vHW0yp6uSIomspMvLyxPtzqK2zllYyUinsA8YDowALhGRAYcd9lmIMkYMwT4FHjG3kHVz+UdrOLTjXlcMzKayE5+VsdxORMSwhnSszPzVmVQW6+jVs5I65djm7sina5Bvlw7OsbqKC7Hz9uT2eP7sn5PKeuydNSqI9kyYjUKyDDGZBljaoD5wMzmFxhjVhpjqppurgN0BmIHeGVVJh4izJ6gc6vag4gwZ3I8uaVH+HLzPqvjqNOj9ctBJWeX8kNGCbPHx+poVTu5ZlQM4cG+vKijVh3KlsaqB9B83Xle030n8gtgUVtCqVPLLzvCx8m5XDmyJ1Gd/a2O47Im9YtgYPdOzFuZQZ2OWjkjrV8O6sUVGYQF+uhoVTvy8/bkl+Ni+TGzhA3ZpVbHcRu2NFYtHS/e4jIDEbkeSAKePcH3Z4lIsogkFxXp5mVt8cqqTADumBBncRLXdmyuVXZJFV9tybc6jmo9rV8OaNPeg/w7rYjbx8US4ONldRyXdt3oXnQN8uGFZTpq1VFsaazygObLNXoCP/sNIyJTgN8BM4wxR1t6ImPM68aYJGNMUnh4+OnkVTTOrZq/YS9XJEXTI0RHq9rb1P6RDOzeiReWp+tcK+ej9csBPb8kjbBAH24Yo+sE2pu/T+Ncq+8zinWuVQexpbHaAMSLSB8R8QGuBhY0v0BEhgOv0ViU9PTHdvbi8nREhHsm6WhVR/DwEH59bgJ7S6t0Xyvno/XLwazNLOH7jGLumNCXQF8dreoI14/pRUSwL88vSdN9rTrAKRsrY0wdcDewGEgBPjbG7BSRJ0RkRtNlzwJBwCciskVEFpzg6VQbZRUd5rNN+7h+dC+dW9WBJiZGMDwmhBeXp+sZgk5E65djMcbw3JJUIjv5cr2OVnUYP29P7pkUx/rsUv6tu7G3O5veLhhjFgILj7vvsWZ/nmLnXOoEXliejo+nB3foSsAOJSI8cG4i1735Ex+u38stZ+mZjM5C65fjWJ1WRHLOQZ68eJCuBOxgV46M5tXVWTy3JJVx8V0RaWn6obIH3XndiaQeqGDB1nxuPqu37rJugTP7hjEmNpR5KzOpqqmzOo5STqVxtCqNnl38dZd1C/h6eTJncjzb8spZuqvA6jguTRsrJ/L80lSCfLz45TjdZd0Kx0atig8f5d21OVbHUcqpLN5ZwPZ95cyZHI+Pl/7qscKlZ/SgT9dAnl+aRkODzrVqL/rT7SS255WzeGcBt50TS0iAj9Vx3FZS71AmJIbz6upMDlXXWh1HKadQ32B4fmkqseGBXDL8ZNuIqfbk5enBfVPi2X2ggm+277c6jsvSxspJ/G1JKiEB3tx6dm+ro7i9X09NpKyqln9+v8fqKEo5hW+25ZNWcJhfTUnAy1N/7VjpoiHdSYwM5h9L03TT43aiP+FOYP2eUlanFTF7fF+C/bytjuP2BvfszHkDI3lzzR5KK2usjqOUQ6utb+DvS9Po1y2YCwZHWR3H7Xl4CL+amkBWcSWfb9KjutqDNlYOzhjDnxemENnJl5vG9rY6jmrywLmJVNWn1GFzAAAZmElEQVTUMXeF7mas1Ml8uH4v2SVV/Oa8RDw8dCWaIzhvYCTDokN4fmkaR2p0+xh708bKwS3acYAtuWX8emoi/j66PNlRxEcGc9XIaP5vXQ45JZVWx1HKIVVU1/LCsnTGxIYyqV+E1XFUExHh4en9OHComn/+oFMa7E0bKwdWU9fAM9/tJiEyiMtG9LQ6jjrOfVMS8PLw4NnFqVZHUcohvfHvLEoqa3h4en/dN8nBjI4NY0r/SF5ZlUnJ4RZPcVKnSRsrB3ZsCP3h6f3x1CF0hxPZyY/bz+nDN9v2syW3zOo4SjmUgkPVvLFmDxcN7c7Q6BCr46gWPDT92JSGDKujuBRtrBxURXUtLyxvHEKfkKgHvjqqWeP7Ehbow9MLU/QMLqWa+ceyNOoaGvjNuYlWR1EnEBfx3ykN2cU6pcFetLFyUK+tzqJUh9AdXpCvF3OmxPPTnlKWp+j5vUoBpBdU8NGGXK4f04uYsACr46iTuG9KAt6eOqXBnrSxckC5pVW8sSaLGTqE7hSuGRVDbNdA/rwwhZo63RdGuTdjDE98s4tAXy/umRRvdRx1CpGd/Lh9XCzfbt/P+j2lVsdxCdpYOaA/L0xBBB6a3s/qKMoG3p4ePHrhALKKK3nnR11ho9zbspRC1qQX86spCYQG6ikRzmD2+FiiOvvxxwU7qdejbtpMGysH82NmMYt2HODOCXF0D/G3Oo6y0cR+EUxMDOfF5RkUVlRbHUcpSxytq+fJb3cRHxHEDWN7WR1H2SjAx4uHz+/Prv2H+GhDrtVxnJ42Vg6krr6BxxfsomcXf2bpQctO59ELB3C0rp5nv9O5Cso9vfX9HnJKqnjsogF469E1TuWiIVGM6h3K35akUl6l56C2hf7kO5AP1u8ltaCC353fHz9v3QzU2cSGB3HLWX34ZGMeW3X7BeVmCg5V89KKDKYOiOSceF3J7GxEhMcuGsDBqhr+sTzN6jhOTRsrB3Gwsobnl6YxNjaMaYO6WR1HnaZ7JsXRNciXP369kwadq6DcyF8X7aau3vD7C/pbHUWdpkE9OnP1yBjeXZtDekGF1XGcljZWDuLpRSkcrq7jjzMG6vYKTizYz5uHpvdj894yPkrWuQrKPfyYWcznm/dx+7g+9AoLtDqOaoMHzk0gyNeL332xQ98cniZtrBzAuqwSPk7O47ZzYknsFmx1HNVGl53RgzGxoTy9MEUnsiuXV11bz++/2EGvsADdXsEFhAX58sj5/VifXconG/XN4enQxspiR+vqeeSL7USH+jNnshYlVyAiPHXJYKprG3jymxSr4yjVrl5elUlWcSVPXjxI54a6iCuTohnVJ5Q/L9xNsZ4j2GraWFnslVWZZBVV8qeZg/D30aLkKvqGB3HnxL4s2JrPqlTdkV25pozCw7yyKoOLh3XXCesuRET48yWDqKqp48lvdlkdx+loY2WhzKLDvLwyk4uGdmdCYoTVcZSd3TGhL7HhgTz61Q6O1NRbHUcpu2poMDzyxXYCfLz4/YUDrI6j7CwuIpg7JsTx5ZZ81qQXWR3HqWhjZZH6BsPDn23Hz9uDRy/UVTSuyNfLkz9fMpjc0iM8t0T3tlKu5cMNe1m/p5RHzu9H1yBfq+OodnDnhL7Edg3kkS+2U3m0zuo4TkMbK4v88/s9rM8u5dELBxAR7Gd1HNVOxsSGcd3oGN76YQ8/ZZVYHUcpu8gpqeSpb1M4Ky6MK0ZEWx1HtRM/b0/+evkQ8g4e4amFOl/UVjY1ViIyTURSRSRDRB5q4fvjRGSTiNSJyOX2j+la0gsqeHZJKlP6R3L5iJ5Wx1Ht7JHz+xPdJYAHPt2q7/osoPXLvuobDL/5ZBueIjx7+VA8PHR7GFc2sncot58Tywc/7WV1mn4kaItTNlYi4gnMA6YDA4BrROT4D9T3AjcDH9g7oKuprW/g/o+3EuTrxdOXDtY9q9xAoK8Xz105VN/1WUDrl/0dG23/w4yBep6pm7h/agLxEUH89tOtetyNDWwZsRoFZBhjsowxNcB8YGbzC4wx2caYbUBDO2R0KfNWZrB9XzlPXTyI8GCdl+Aumr/r01WCHUrrlx2lNY22Tx0QyWVn9LA6juogft6ePH/lMEoO1/CHBTusjuPwbGmsegDNdwnLa7qv1URklogki0hyUZH7DSlu2nuQl1Y0Lk2ePjjK6jiqg90/NYGEyCB+++k23Rum42j9spPq2np+9dEWHW13U4N7dubuSY2rBBdszbc6jkOzpbFq6V/Pae1zb4x53RiTZIxJCg93rz1PyqpquOeDzXTr7MfjMwZZHUdZwM/bk39cNZyyI7X86qMtelxEx9D6ZSdPfZvCzvxDPHPZEF0F6KbumhjHiF5dePizbWQVHbY6jsOypbHKA5ov++gJaLvaCsYYHvhkK4UV1cy79gw6B3hbHUlZZED3TvzxooGsSS/m5VUZVsdxB1q/7ODrrfm8ty6HWeNimTIg0uo4yiLenh7MvWY4Pl4e3PXBZqprdX++ltjSWG0A4kWkj4j4AFcDC9o3lmt5c80elqUU8sj5/RkaHWJ1HGWxa0ZFM3NYd55fmsbaTN2CoZ1p/WqjPcWVPPz5ds6ICeE35yVaHUdZrHuIP89fOYyU/Yd4/Gvdlb0lp2ysjDF1wN3AYiAF+NgYs1NEnhCRGQAiMlJE8oArgNdEZGd7hnYmG3MO8tfvdjNtYDduPrO31XGUAzh2lmDvsEDunb+Zogqdb9VetH61TXVtPXe9vwkvT2HutWfg7albHyqY2C+C2eP78uH6vXy5eZ/VcRyOGGPNPI+kpCSTnJxsyWt3lPyyI8yc9wP+3p58fc/ZdPbXjwDVf+0+cIiL5/3AwO6d+eD20fh6uf5ZkSKy0RiTZHWOtnKH+mWMYc78LSzYms9bNyUxub9+BKj+q66+gWvf+Ilt+8r4+JdjGdLT9T+NsbV+6duPdlJVU8dt/0rmSE09b96UpE2V+pl+3Trx3BXD2JhzkIc/245Vb3KUaslLKzJYsDWf35yXqE2V+hkvTw/mXXcGYYG+3P5uMgfKq62O5DC0sWoHDQ2G++ZvYfeBQ8y9djgJkcFWR1IO6oIhUdw/NYHPN+/jldWZVsdRCoBvt+3nuaVpXDK8B3dO6Gt1HOWgwoN9efOmJA5X13H7u8l62HwTbazawbNLUlmyq4DfXTCAiYkRVsdRDu6eSXHMGNqdZ75L5bsdB6yOo9zctrwyfv3JFkb06qL7ValT6h/ViReuHs6O/HLu/1i3kQFtrOzuXz9m88qqTK4ZFcOtZ/W2Oo5yAiLCM5cPYVh0CPd9tFkPa1aWySo6zK3vbCAs0JfXbhiBn7frz/tTbTdlQCSPTO/Poh0HeOKbXW4/rUEbKzv6dGMef1iwk6kDInli5kB9p6ds5uftyVs3JdEjxJ9f/CuZbXllVkdSbibvYBXXv/kTxsC/bh2lm4CqVrntnD784uw+vPNjNs8vTbM6jqW0sbKTRdv389tPt3J2XFfmXjNclyWrVgsL8uX928bQJdCbG/+5nrSCCqsjKTdRWFHN9W/+RMXROt79xSjiIoKsjqScjIjw+wv6c/XIaOauyOA1N54zqr/97WBlaiH3zt/MsOgQXr9Rh8/V6evW2Y/3fzEGH08Prn/zJz02QrW70soabnxrPQWHjvLOLSMZ2L2z1ZGUkzq2R9+FQ6J4etFu3luXY3UkS2hj1UbfbMtn1rvJJEQG8/Ytowjw8bI6knJyMWEBvH/baOoaDFe+tpad+eVWR1Iuan/5Ea549Uf2FFfyxo1JjOgVanUk5eQ8PYTnrxzGlP4RPPrlDl51w5Erbaza4MP1e7nnw8aRqg9uH6N7VSm7iY8M5uNfjsXH04OrX1/HhuxSqyMpF7OnuJLLX1lLwaGj/OvWUZwd39XqSMpF+Hh58PJ1I7hwSBR/WbSbvyza7VYT2rWxOg3GGF5dncnDn29nfEI47946WpsqZXdxEUF8cseZhAf5csNbP7EytdDqSMpF7Mwv54pXf+RIbT3zZ41hTGyY1ZGUi/Hx8uCFq4dz3egYXl2dySNf7KDeTbZi0MaqlY7W1fPgZ9v4y6LdXDgkitdvSMLfR+dUqfbRI8Sfj2ePpW94EL94ZwNvrslyq3d+yv4Wbd/PFa+uxdvTg49/OZZBPXROlWofnh7CkxcP4s4JjecK3vz2esqraq2O1e60sWqFgkPVXPXaOj5OzuPeSXG8ePVwfLz0r1C1r65Bvnz0y7FMHRDJk9+m8OtPtlJdqzscq9ZpaDA8tySVO97fRGK3YL686yxd/afanYjw22n9+Mulg1mXVcKMed+7/Ipn7QpstCG7lIvmNv5AvHLdGdx/biIeHrpPleoYQb5evHLdCH41JYHPN+3jytfWkltaZXUs5STKqmqY9V4yc1dkcGVST+bPGkNkJz+rYyk3cvWoGObPGkNVTT2XzPuBhdv3Wx2p3WhjdQo1dQ08u3g3V722Fn8fTz6/80ymD46yOpZyQx4ewpwp8bx+wwiyiiqZ/sIaPtuYpx8NqpNak17Eef/4N6tSi3h8xkD+etkQfL10+oLqeCN6hfL13WcTFxnMne9v4oFPtlJR7XofDWpjdRIZhRVc+soPzFuZyeUjevLtvefQr1snq2MpN3fuwG4smnMO/aOC+fUnW7nz/U0crKyxOpZyMNW19fxxwU5ueGs9wX7efHnXWdx0Zm89EUJZqltnPz6dPZZ7JsXx+aY8pr+whvV7XGvVs2661IIjNfW8siqDV/+dRZCvF69eP4Jpg7pZHUup/4gODWD+rLG8/u8snl+ayvo9pTw4rR+Xj+ipH1ErVuwu4PGvd5FTUsXNZ/bmoen9dONi5TC8PT349bmJTEiM4P6Pt3DV62u5emQMvzkvkdBAH6vjtZlY9TFCUlKSSU5OtuS1T8QYw3c7DvDktynsKzvCxcO688gF/YkI1rkIynHtyj/Eo1/tYGPOQYZGh/DEjIEMjQ6xOlaLRGSjMSbJ6hxt5Yj1CyC7uJInvtnFit2F9A0P5E8zB3FmnO5PpRxX5dE6nl+axjs/ZhPk68UD5yZw7eheeDrgG0Rb65c2VjQ2VD9klPCPZWkk5xykX7dgHp8xkNG6t4tyEsYYvti8jz8v3E1J5VHOHxzFfZPjiY8Mtjra/9DGqn3sLz/Cyysz+WhDLt6ewn1TErjpzN66alk5jbSCCv7w1U7WZpUQHxHEvZPjuWBwlEONwGtjZQNjDN9nFPPi8nQ2ZB8kqrMfd02M4+qR0XjpIcrKCVVU1/Lq6kze+SGbqtp6LhzSnbsnxpHYzTEaLG2s7Gtf2RFeW53J/PW5GAxXJEVz3+R4InTFn3JCxhgW7TjA35emkV54mITIIO6ZFM/0Qd0c4neyNlYnUVFdy+eb9vHeuhwyCg/TrZMfd03sy5Ujo3W1jHIJpZU1vLkmi3d+zKaqpp7RfUK56czeTB0QibeFBUobq7Y7NsL+r7XZLE8pwEOEK5KiuWtiX3p2CbAkk1L2VN9g+Hb7fl5cnk5G4WGiOvtx3egYrhoZQ3iwr2W5tLE6Tl19Az9mlrBgaz6Ltu+nsqaeIT07c+PY3lw4JEondiqXdLCyho+Sc3lvbQ77yo4Q2cmXmcN6MGNodwZ279ThK8S0sTp9e4orWbAln6+27COruJLQQB+uHhnNdWN60SPEv0OzKNUR6hsMy1IKeG9tDt9nFOPtKUzpH8nMYd2ZkBjR4b+3tbECqmrqWJtZwsrUQr7bcYDiwzUE+3px3qBuXD+mF8McdIKvUvZW32BYubuQD9fvZXVaEXUNhtiugUwf3I0JiREMjw7pkKF2baxsZ4xhZ/4hVqcV8d2OA2zfV44IjOwdytUjozl/sL4hVO4jo/Aw7/+Uw9db8//zu3zqgEgm9otgXHw4nQPa/7xet2ysqmvr2ZpbRnLOQdZllfDTnlJq6hrw9/ZkYr9wZgy1pstVypGUVdWwaMcBFmzJZ312KfUNhmA/L86O68rI3qGc0asLA6I6tcvEZ22sTswYQ2bRYZKzD7I+u5Q16cUUVRwFYGjPzlw0tDsXDIkiqrOOTin3VVffwNqsEhZsyWfJrgLKj9TiITA8pgtjY8M4o1cIw6O70KUdtm2wa2MlItOAFwBP4E1jzF+O+74v8C4wAigBrjLGZJ/sOdtamA5W1rD7QAW7Dxxi9/4KUg4cImX/IWrrG///JEQGMS4+nAmJEYzs00XnTinVgvIjtfyQUcyq1EK+Ty8mv7waAF8vD4b07MyQniEkRAYRHxlMXEQQnfza9q7QisbKEevX0bp6MgsrG+vXgQpS9h9ix75yDjYdUBsa6MNZcV2ZkBDOuIRwS+eVKOWo6uob2JpXxurUIlalFbEz/xD1DY09QGx4IMOju9CvWzDxkUEkRAYT1dmvTdMf7NZYiYgnkAZMBfKADcA1xphdza65ExhijJktIlcDlxhjrjrZ89pamMqqavhuxwH2llaxt7SK3INHyC2torTZTtOhgT70jwpmcI8QRvbuwoheXQgJcP5NxpTqaPvLj7App4xNew+yMecgKfsPcbSu4T/fj+rsR6+wAHp2CSC6SwDRof5cMryHzcWqoxsrq+sXwLJdBaQWVJDbVMP2llaRX3aEpvqPj5cHiZHBDIjqxIheXUjq3YU+XQN1h3SlWqmqpo6tueVs2nuQzXsPsiW3jOLD/+0Vgny96NM1kOhQf6K7BNAzNICJieE2L/qwtX7ZsvP6KCDDGJPV9MTzgZnArmbXzAT+2PTnT4GXRESMHT5nLD9Sy0Ofb8fLQ+jZxZ/o0ACmDepG77AA+nXrRL+oYMKDfLUIKWUHUZ39uWCIPxcMaTwPs77BkHewivSCw6QVVpBRcJi9pVWsSS+i4NBRQgN9uPSMnhanPilL6xfAy6sy2LS3jK5BvsSE+pPUqwsxw3sQHxlM/6hO9A4LcIil5Eo5uwAfL8b2DWNs3//uQVlaWUN6QQVphYdJL6ggu6SK3fsrWLarkJr6Bt6+ZaTdV9Pa0lj1AHKb3c4DRp/oGmNMnYiUA2FAcVsD9uwSwPcPTqRbJz8tPkp1ME8PoVdYIL3CApkyIPJ/vlddW0+J459RaGn9Anj5uhF08vciwEdPEFOqo4UG+jA6NuxnG343NBiKDh9t8/SGltjyL72loaDj38nZcg0iMguY1XTzsIik2vD6x3TFToXOzjRX6zlqNkfNBY6brbW5erVXkBPQ+nVyjpoLHDebo+YCx83mqLmgddlsql+2NFZ5QHSz2z2B/BNckyciXkBn4GfHVRtjXgdetyXY8UQk2RFXE2mu1nPUbI6aCxw3m6Pmakbr10k4ai5w3GyOmgscN5uj5oL2yWbLZ2sbgHgR6SMiPsDVwILjrlkA3NT058uBFfaan6CUUm2g9Usp1aFOOWLVNOfgbmAxjcuV/2mM2SkiTwDJxpgFwFvAeyKSQeM7vavbM7RSStlC65dSqqPZNJvSGLMQWHjcfY81+3M1cIV9o/3MaQ3BdwDN1XqOms1Rc4HjZnPUXP+h9eukHDUXOG42R80FjpvNUXNBO2SzbOd1pZRSSilXo/sXKKWUUkrZidM0ViLyJxHZJiJbRGSJiHS3OtMxIvKsiOxuyveFiDjE6c4icoWI7BSRBhGxfEWGiEwTkVQRyRCRh6zOc4yI/FNECkVkh9VZmhORaBFZKSIpTf8d51id6RgR8ROR9SKytSnb41ZncnSOWsMctX6B1jBbaQ1rnfauX07zUaCIdDLGHGr6873AAGPMbItjASAi59K4kqhORP4KYIx50OJYiEh/oAF4DXjAGGPfU2Nbl+WUR4tYRUTGAYeBd40xg6zOc4yIRAFRxphNIhIMbAQudpC/MwECjTGHRcQb+B6YY4xZZ3E0h+WoNcxR6xdoDbOV1rBW52rX+uU0I1bHClKTQFrYwM8qxpglxpi6ppvraNwrx3LGmBRjTGs2MWxP/zlaxBhTAxw7WsRyxph/08K+RVYzxuw3xmxq+nMFkELjLuGWM40ON930bvpymH+TjshRa5ij1i/QGmYrrWGt0971y2kaKwAReUpEcoHrgMdOdb1FbgUWWR3CAbV0tIjl/8CchYj0BoYDP1mb5L9ExFNEtgCFwFJjjMNkc1ROUMO0fp2Y1rA2cLQa1p71y6EaKxFZJiI7WviaCWCM+Z0xJhp4H7jbkbI1XfM7oK4pn8PkchA2HRuifk5EgoDPgPuOG/WwlDGm3hgzjMYRjlEi4jAfQVjFUWuYo9YvW7M5CK1hp8kRa1h71i+HOhXUGDPFxks/AL4F/tCOcf7HqbKJyE3AhcDkjty1uRV/Z1az5WgRdZymz/8/A943xnxudZ6WGGPKRGQVMA1wqMmzHc1Ra5ij1i/QGubqHL2GtUf9cqgRq5MRkfhmN2cAu63KcjwRmQY8CMwwxlRZncdB2XK0iGqmaYLlW0CKMeZ5q/M0JyLhx1aPiYg/MAUH+jfpiBy1hmn9spnWsFZy1BrW3vXLmVYFfgYk0rhCJAeYbYzZZ22qRtJ4FIYvUNJ01zoHWe1zCTAXCAfKgC3GmPMszHM+8A/+e7TIU1ZlaU5EPgQm0HjKeQHwB2PMW5aGAkTkbGANsJ3Gn3uAR5p2EreUiAwB/kXjf0sP4GNjzBPWpnJsjlrDHLV+gdYwW2kNa532rl9O01gppZRSSjk6p/koUCmllFLK0WljpZRSSillJ9pYKaWUUkrZiTZWSimllFJ2oo2VUkoppZSdaGOllFJKKWUn2lgppZRSStmJNlZKKaWUUnby/yq0hhx9RNuDAAAAAElFTkSuQmCC\n",
          "text/plain": "<Figure size 720x216 with 2 Axes>"
         },
         "metadata": {
          "needs_background": "light"
         },
         "output_type": "display_data"
        }
       ]
      }
     },
     "39b796ee068445df8dca63791231c5bd": {
      "model_module": "@jupyter-widgets/base",
      "model_module_version": "1.1.0",
      "model_name": "LayoutModel",
      "state": {}
     },
     "3a98bb10610b4eb9bf3eddc408940102": {
      "model_module": "@jupyter-widgets/controls",
      "model_module_version": "1.4.0",
      "model_name": "SliderStyleModel",
      "state": {
       "description_width": ""
      }
     },
     "3bb7ca073edf442a9e708f5683535456": {
      "model_module": "@jupyter-widgets/controls",
      "model_module_version": "1.4.0",
      "model_name": "SliderStyleModel",
      "state": {
       "description_width": ""
      }
     },
     "3cf4a0b151854d52b103aca32526dbf6": {
      "model_module": "@jupyter-widgets/controls",
      "model_module_version": "1.4.0",
      "model_name": "SliderStyleModel",
      "state": {
       "description_width": ""
      }
     },
     "3e057f12a06744d4859deecde0fe8279": {
      "model_module": "@jupyter-widgets/controls",
      "model_module_version": "1.4.0",
      "model_name": "SliderStyleModel",
      "state": {
       "description_width": ""
      }
     },
     "3e08799df1a94781bc62920bc26580f6": {
      "model_module": "@jupyter-widgets/controls",
      "model_module_version": "1.4.0",
      "model_name": "SliderStyleModel",
      "state": {
       "description_width": ""
      }
     },
     "3ea4d17a75514b6fbb4602dedeabba5b": {
      "model_module": "@jupyter-widgets/controls",
      "model_module_version": "1.4.0",
      "model_name": "SliderStyleModel",
      "state": {
       "description_width": ""
      }
     },
     "3f15212cee62451898098b8f7d84eb7b": {
      "model_module": "@jupyter-widgets/controls",
      "model_module_version": "1.4.0",
      "model_name": "VBoxModel",
      "state": {
       "_dom_classes": [
        "widget-interact"
       ],
       "children": [
        "IPY_MODEL_8b57df19507347b0afdea2814c0db019",
        "IPY_MODEL_6969fec6c3e54efcadd51128f7d9154d",
        "IPY_MODEL_c2d1807c5cf34a6b80b2615384401957"
       ],
       "layout": "IPY_MODEL_b9a44efd3eb64564953f5cca837b1545"
      }
     },
     "3f71f887da604e0faec0ef33129fd4a0": {
      "model_module": "@jupyter-widgets/base",
      "model_module_version": "1.1.0",
      "model_name": "LayoutModel",
      "state": {}
     },
     "40d6171e628d4cb9b100d368550f45b5": {
      "model_module": "@jupyter-widgets/base",
      "model_module_version": "1.1.0",
      "model_name": "LayoutModel",
      "state": {}
     },
     "42f66a9e3aa44c42aa0de47381798dff": {
      "model_module": "@jupyter-widgets/output",
      "model_module_version": "1.0.0",
      "model_name": "OutputModel",
      "state": {
       "layout": "IPY_MODEL_46b346c6b95d427dbb289255a3b72f7d",
       "outputs": [
        {
         "data": {
          "image/png": "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\n",
          "text/plain": "<Figure size 720x216 with 2 Axes>"
         },
         "metadata": {
          "needs_background": "light"
         },
         "output_type": "display_data"
        }
       ]
      }
     },
     "42f8e3ecb0514fb1896d60ce366ae552": {
      "model_module": "@jupyter-widgets/base",
      "model_module_version": "1.1.0",
      "model_name": "LayoutModel",
      "state": {}
     },
     "46b346c6b95d427dbb289255a3b72f7d": {
      "model_module": "@jupyter-widgets/base",
      "model_module_version": "1.1.0",
      "model_name": "LayoutModel",
      "state": {}
     },
     "46da6fa75d65497a89bbf4b554502791": {
      "model_module": "@jupyter-widgets/controls",
      "model_module_version": "1.4.0",
      "model_name": "SliderStyleModel",
      "state": {
       "description_width": ""
      }
     },
     "4899f7574e214cfb9a1bf09a32e5924d": {
      "model_module": "@jupyter-widgets/controls",
      "model_module_version": "1.4.0",
      "model_name": "SliderStyleModel",
      "state": {
       "description_width": ""
      }
     },
     "49053f95e50345648f47d3fe404c9bcc": {
      "model_module": "@jupyter-widgets/base",
      "model_module_version": "1.1.0",
      "model_name": "LayoutModel",
      "state": {}
     },
     "492ff141b8874f7fa39b88a9b0dabbac": {
      "model_module": "@jupyter-widgets/base",
      "model_module_version": "1.1.0",
      "model_name": "LayoutModel",
      "state": {}
     },
     "4ad6b659ceaa4062934f41be140f73bf": {
      "model_module": "@jupyter-widgets/controls",
      "model_module_version": "1.4.0",
      "model_name": "VBoxModel",
      "state": {
       "_dom_classes": [
        "widget-interact"
       ],
       "children": [
        "IPY_MODEL_138f27818eb842df8699cae1af502c2d",
        "IPY_MODEL_f11598dfd6d84afa82380d0bfb6ca5a3",
        "IPY_MODEL_42f66a9e3aa44c42aa0de47381798dff"
       ],
       "layout": "IPY_MODEL_372c99399f3d48eb8a8785b5f548eab3"
      }
     },
     "4c02bfb7b20342c581298fa042f192ad": {
      "model_module": "@jupyter-widgets/controls",
      "model_module_version": "1.4.0",
      "model_name": "SliderStyleModel",
      "state": {
       "description_width": ""
      }
     },
     "4c475885270d4c379eb4a272f5aab30f": {
      "model_module": "@jupyter-widgets/controls",
      "model_module_version": "1.4.0",
      "model_name": "FloatSliderModel",
      "state": {
       "description": "variant",
       "layout": "IPY_MODEL_fbbc722de0124a2a8599e570bfd21176",
       "max": 2,
       "min": 0.1,
       "step": 0.1,
       "style": "IPY_MODEL_c241d6d3d03f4696b122402a832e6bf6",
       "value": 1.2
      }
     },
     "4d9e84a1950b48cfbe6bafd578a465ba": {
      "model_module": "@jupyter-widgets/base",
      "model_module_version": "1.1.0",
      "model_name": "LayoutModel",
      "state": {}
     },
     "4e21af99d0da4f0f90db8605851f0e62": {
      "model_module": "@jupyter-widgets/base",
      "model_module_version": "1.1.0",
      "model_name": "LayoutModel",
      "state": {}
     },
     "4e2e7abbfeaf4ac69f5fd1fbf9127d29": {
      "model_module": "@jupyter-widgets/base",
      "model_module_version": "1.1.0",
      "model_name": "LayoutModel",
      "state": {}
     },
     "52a663d8163d4cbf9a3e1cba11063f7f": {
      "model_module": "@jupyter-widgets/base",
      "model_module_version": "1.1.0",
      "model_name": "LayoutModel",
      "state": {}
     },
     "52ebcc022ff44e24818cb61749f93114": {
      "model_module": "@jupyter-widgets/controls",
      "model_module_version": "1.4.0",
      "model_name": "SliderStyleModel",
      "state": {
       "description_width": ""
      }
     },
     "5422bac966814ef68757e1977b56a620": {
      "model_module": "@jupyter-widgets/base",
      "model_module_version": "1.1.0",
      "model_name": "LayoutModel",
      "state": {}
     },
     "56135d84e088412dbcd1ce8bbd2c22b1": {
      "model_module": "@jupyter-widgets/output",
      "model_module_version": "1.0.0",
      "model_name": "OutputModel",
      "state": {
       "layout": "IPY_MODEL_d441a781fa164f39b2e8782d8289f30d",
       "outputs": [
        {
         "data": {
          "image/png": "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\n",
          "text/plain": "<Figure size 720x216 with 2 Axes>"
         },
         "metadata": {
          "needs_background": "light"
         },
         "output_type": "display_data"
        }
       ]
      }
     },
     "56a992b25b7c478eb10114083cea78aa": {
      "model_module": "@jupyter-widgets/controls",
      "model_module_version": "1.4.0",
      "model_name": "FloatSliderModel",
      "state": {
       "description": "variant",
       "layout": "IPY_MODEL_cce1f8951bda4712963e101f9d53119d",
       "max": 2,
       "min": 0.1,
       "step": 0.1,
       "style": "IPY_MODEL_0e6c61db8ae342c5b5783fade4b5709b",
       "value": 1
      }
     },
     "5b7ac9e6ce754f2e8b45ac41e2561381": {
      "model_module": "@jupyter-widgets/base",
      "model_module_version": "1.1.0",
      "model_name": "LayoutModel",
      "state": {}
     },
     "5d3afadd19ef47f3af91ee2733a746c3": {
      "model_module": "@jupyter-widgets/controls",
      "model_module_version": "1.4.0",
      "model_name": "FloatSliderModel",
      "state": {
       "description": "mu",
       "layout": "IPY_MODEL_96cc33078fab4f09b20a433ba5b92a34",
       "max": 1,
       "min": -1,
       "step": 0.1,
       "style": "IPY_MODEL_a7313a58e83540839ad6bbc8508e7c29"
      }
     },
     "5dfd536bf2324e3db21ec87c4a98d217": {
      "model_module": "@jupyter-widgets/base",
      "model_module_version": "1.1.0",
      "model_name": "LayoutModel",
      "state": {}
     },
     "5e998e4413604b9d9eae10da17d5e7e5": {
      "model_module": "@jupyter-widgets/controls",
      "model_module_version": "1.4.0",
      "model_name": "VBoxModel",
      "state": {
       "_dom_classes": [
        "widget-interact"
       ],
       "layout": "IPY_MODEL_05dc0ef053ed47e3b396657eb0887193"
      }
     },
     "5fe586c5e9ee48779dc8dd444fdf68fa": {
      "model_module": "@jupyter-widgets/controls",
      "model_module_version": "1.4.0",
      "model_name": "VBoxModel",
      "state": {
       "_dom_classes": [
        "widget-interact"
       ],
       "children": [
        "IPY_MODEL_c88761186f8645598fa00d0c410d7f9b",
        "IPY_MODEL_9c9780f3a7714c8a85961d09f95f8967",
        "IPY_MODEL_3732ccb34c7a44beab1e145c71fe78d8"
       ],
       "layout": "IPY_MODEL_2fd1af5dfbc84948b4bda1bd2d65e062"
      }
     },
     "602916fc6bc04ec5b33eec8dc50fa013": {
      "model_module": "@jupyter-widgets/controls",
      "model_module_version": "1.4.0",
      "model_name": "SliderStyleModel",
      "state": {
       "description_width": ""
      }
     },
     "628a3fd28a224ef09459c7baa05ce56d": {
      "model_module": "@jupyter-widgets/base",
      "model_module_version": "1.1.0",
      "model_name": "LayoutModel",
      "state": {}
     },
     "63354f53e66d448a97e52d96b1bdc4d0": {
      "model_module": "@jupyter-widgets/controls",
      "model_module_version": "1.4.0",
      "model_name": "SliderStyleModel",
      "state": {
       "description_width": ""
      }
     },
     "63bdf7e1cc87448c9fe829be4ba9e0d0": {
      "model_module": "@jupyter-widgets/controls",
      "model_module_version": "1.4.0",
      "model_name": "FloatSliderModel",
      "state": {
       "description": "variant",
       "layout": "IPY_MODEL_69fa3c83faab438eade5fea3914f5f5b",
       "max": 2,
       "min": 0.1,
       "step": 0.1,
       "style": "IPY_MODEL_c2f2618d05494d46b7c3e9fe9f8720a8",
       "value": 0.5
      }
     },
     "63c250827de443b39bb6a1effb0c2f2b": {
      "model_module": "@jupyter-widgets/output",
      "model_module_version": "1.0.0",
      "model_name": "OutputModel",
      "state": {
       "layout": "IPY_MODEL_115cb9b94a604e90a9b8e225ca1a0e01",
       "outputs": [
        {
         "data": {
          "image/png": "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\n",
          "text/plain": "<Figure size 720x216 with 2 Axes>"
         },
         "metadata": {
          "needs_background": "light"
         },
         "output_type": "display_data"
        }
       ]
      }
     },
     "64637846befb4ea4aa3f207fef4efb8d": {
      "model_module": "@jupyter-widgets/controls",
      "model_module_version": "1.4.0",
      "model_name": "FloatSliderModel",
      "state": {
       "description": "sigma",
       "layout": "IPY_MODEL_6be87aafaed7435e90d931494a482e27",
       "max": 2,
       "min": 0.1,
       "step": 0.1,
       "style": "IPY_MODEL_df3343e7c21a469f8a47d470c025fcb6",
       "value": 0.8
      }
     },
     "65f3bb72d3df4e698bb95be81d3e0508": {
      "model_module": "@jupyter-widgets/base",
      "model_module_version": "1.1.0",
      "model_name": "LayoutModel",
      "state": {}
     },
     "671171134fb6441cac6711c1e3022df2": {
      "model_module": "@jupyter-widgets/output",
      "model_module_version": "1.0.0",
      "model_name": "OutputModel",
      "state": {
       "layout": "IPY_MODEL_0c293ac39ccc461b98438ef9d2dc3094",
       "outputs": [
        {
         "data": {
          "image/png": "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\n",
          "text/plain": "<Figure size 720x216 with 2 Axes>"
         },
         "metadata": {
          "needs_background": "light"
         },
         "output_type": "display_data"
        }
       ]
      }
     },
     "68664476bdca427d80d7393db5057ac6": {
      "model_module": "@jupyter-widgets/base",
      "model_module_version": "1.1.0",
      "model_name": "LayoutModel",
      "state": {}
     },
     "68ff9f2793b8475db6d9e8ef7b357014": {
      "model_module": "@jupyter-widgets/controls",
      "model_module_version": "1.4.0",
      "model_name": "FloatSliderModel",
      "state": {
       "description": "mu",
       "layout": "IPY_MODEL_03403d03ffd8414aa512834aef3a15ce",
       "max": 1,
       "min": -1,
       "step": 0.1,
       "style": "IPY_MODEL_4899f7574e214cfb9a1bf09a32e5924d"
      }
     },
     "6947cb55bb7a4099bee178b391bb1693": {
      "model_module": "@jupyter-widgets/base",
      "model_module_version": "1.1.0",
      "model_name": "LayoutModel",
      "state": {}
     },
     "694ea4e4616a407e9604a349004e407f": {
      "model_module": "@jupyter-widgets/controls",
      "model_module_version": "1.4.0",
      "model_name": "SliderStyleModel",
      "state": {
       "description_width": ""
      }
     },
     "6969fec6c3e54efcadd51128f7d9154d": {
      "model_module": "@jupyter-widgets/controls",
      "model_module_version": "1.4.0",
      "model_name": "FloatSliderModel",
      "state": {
       "description": "sigma",
       "layout": "IPY_MODEL_1e1859c845b0471fb18c77a023223f72",
       "max": 2,
       "min": 0.01,
       "step": 0.1,
       "style": "IPY_MODEL_f80f99d9695546d1bb5f2d11d9ffc48a",
       "value": 1
      }
     },
     "69fa3c83faab438eade5fea3914f5f5b": {
      "model_module": "@jupyter-widgets/base",
      "model_module_version": "1.1.0",
      "model_name": "LayoutModel",
      "state": {}
     },
     "6be87aafaed7435e90d931494a482e27": {
      "model_module": "@jupyter-widgets/base",
      "model_module_version": "1.1.0",
      "model_name": "LayoutModel",
      "state": {}
     },
     "6cad7b9164d94126bc9b19363e213688": {
      "model_module": "@jupyter-widgets/base",
      "model_module_version": "1.1.0",
      "model_name": "LayoutModel",
      "state": {}
     },
     "6f67ef0ab0ee473b935c0bad1dd922e2": {
      "model_module": "@jupyter-widgets/base",
      "model_module_version": "1.1.0",
      "model_name": "LayoutModel",
      "state": {}
     },
     "7121c6a6811d421486593ae31e7a3d7d": {
      "model_module": "@jupyter-widgets/base",
      "model_module_version": "1.1.0",
      "model_name": "LayoutModel",
      "state": {}
     },
     "72260df7a0e04a95af93e97874adb7d1": {
      "model_module": "@jupyter-widgets/controls",
      "model_module_version": "1.4.0",
      "model_name": "VBoxModel",
      "state": {
       "_dom_classes": [
        "widget-interact"
       ],
       "children": [
        "IPY_MODEL_243c6064894e413ea8c530dc0b9e51cd",
        "IPY_MODEL_8be358ca7cc84876b6db5f7a51c5f648",
        "IPY_MODEL_56135d84e088412dbcd1ce8bbd2c22b1"
       ],
       "layout": "IPY_MODEL_0e6646b796494207a9c0a7bcafc1283b"
      }
     },
     "722b07a014004dcda632ba789e4e10a1": {
      "model_module": "@jupyter-widgets/output",
      "model_module_version": "1.0.0",
      "model_name": "OutputModel",
      "state": {
       "layout": "IPY_MODEL_7121c6a6811d421486593ae31e7a3d7d",
       "outputs": [
        {
         "data": {
          "image/png": "iVBORw0KGgoAAAANSUhEUgAAAlYAAADUCAYAAABeQm3lAAAABHNCSVQICAgIfAhkiAAAAAlwSFlzAAALEgAACxIB0t1+/AAAADl0RVh0U29mdHdhcmUAbWF0cGxvdGxpYiB2ZXJzaW9uIDMuMC4zLCBodHRwOi8vbWF0cGxvdGxpYi5vcmcvnQurowAAIABJREFUeJzt3Xl8VOXd///XJ5ONLBCysiUkQFgVAQMI4oIL4lJtba1QW7XaWtta2/vuZlu/tre9e9ve/traxS5oW22t4lZb6lLA4o5AQBFNCBBCIGFJQkIgIWS/fn/M4B1jgAlMcibJ+/l4zCM5M2fOvAXz4ZPrXOc65pxDRERERE5dhNcBRERERPoLNVYiIiIiIaLGSkRERCRE1FiJiIiIhIgaKxEREZEQUWMlIiIiEiJqrERERERCRI2ViIiISIiosZKTZmYFZnZ+GOSYYGZvm1mdmd3udR4RCX+qX9JT1FgNEGa23Mzu7uL5q8xsn5lFdveYzrkpzrmXQ5Ct1MwuOoVDfAt42TmX6Jz75anmEZHwMtDrl5nlmNkLZnbAzHab2WdP4fOkh6mxGjgeAj5jZtbp+c8Af3XOtQZ7oJMpYj1sNFDgdQgR6TEPMbDr11PASiAV+DxwZ0+HkpOnxmrg+DuQDJxz9AkzGwpcAfw5sH2HmW0PDEkXmtnHOuxbambfNrNNwGEzi+z4m9rx3tvh/d8ws01mdtDMHjezWDP7C5AF/NPM6s3sW12FN7NJZvaymdUGhvCvDDy/CpgP/Drw/vFdvDfKzH4UyNBiZi7weOeU/kRFpLcM5Po1FUhxzv3MOdcWeLrqJP8cpTc45/QYIA/gAeDBDttfADZ22L4GGIG/4b4WOAwMD7xWCmwEMoFBHZ676ETv7bDvusA+ycBm4NbOxzlG7iigGPguEA1cANQBEwKvvwx87jjv/wmwJpA9HngR+Bswxuu/Ez300CO4xwCuX18EHglkOxMoAm7w+u9Dj2M/NGI1sDwMXGNmgwLb1weeA8A596Rzbo9zrt059ziwDZjV4f2/dM6VOeeOdD5wEO89+v49zrka4J/AtCBznwUkAD92zjU751YBzwKLT/RGM0sEbgc+E8h+GHgaSHbOlQT5+SLivQFXvwKmAeuBlwJfG/D/YihhSo3VAOKcex3/EPJVZjYGmAk8evR1M7vezDYGhqtrgdPwn9M/quxYxw7ivQD7OnzfgL/YBGMEUOaca+/w3E5gZBDvPRcocc5t6/Dc0E5ZRCTMDdD6Bf7GKh//KcNxQA3wv0G+VzwQbpP4pOf9Gf9vehOAFc65CgAzG41/qP1C4E3nXJuZbQQ6ThZ1XR0wyPceT5fH7WAPkGlmER2KUxawNYhjpwEHOmQ14GPAL4LMJiLhY0DVLzPzAZOAtwPv3W5mbwDpQWYTD2jEauD5M3AR/itLHu7wfDz+AlEFELic97Qgj3kq7wWoAMYc5/W1+Oc8fCswEf184CPA0iCO/R4ww8ymBU4h3BPI+ng38olIeBho9WsCEAdcamY+M5sG3MwH/9slzKixGmCcc6XAavzFZFmH5wuBnwJv4i8UpwNvBHnMk35vwD3AnYFh+G90cfxm4ErgUmA/8BvgeudcURDZ1gM/Ap4HSoBhwGXOuZZu5BORMDDQ6hcwHTiarxb/shO3O+fWdCOf9DJz7kSjmCIiItLbzOxeoMY5d4/XWSR4GrESEREJT9PxL+0gfUhQjZWZLTSzLWZWbGZ3dPF6lpm9ZP77HW0ys8tCH1VEpPtUv6QPOwP/ulXSh5zwVGDgqoStwMVAOf7LPhcHzksf3WcJ/qsWfmtmk4HnnXPZPZZaRCQIql8i0tuCGbGaBRQ750oCk/CWAld12scBgwPfD8F/eamIiNdUv0SkVwWzjtVIPriwWjkwu9M+PwBWmNlX8F+tcSp3+hYRCRXVLxHpVcE0Vl0tktb5/OFi4CHn3E/NbA7wFzM7rdNKs5jZLcAtAPHx8WdOnDjxZDKLSB+1YcOG/c65tF78SNUvEQmJYOtXMI1VOf4bVx41ig8Pld8MLARwzr1pZrH4bwdQ2XEn59wSYAlAXl6eW79+fRAfLyL9hZnt7OWPVP0SkZAItn4FM8cqH8g1sxwziwYW0WFhtoBd+G8HgJlNAmIJrGIrIuIh1S8R6VUnbKycc63AbcBy/OtpPOGcKzCzu83sysBuXwc+b2bvAI8BNzqtPCoiHlP9EpHeFtRNmJ1zz+O/JUjH5+7q8H0hcHZoo4mInDrVLxHpTVp5XURERCRE1FiJiIiIhIgaKxEREZEQUWMlIiIiEiJqrERERERCRI2ViIiISIiosRIREREJETVWIiIiIiGixkpEREQkRNRYiYiIiISIGisRERGREFFjJSIiIhIiQTVWZrbQzLaYWbGZ3dHF6z83s42Bx1Yzqw19VBGR7lP9EpHeFHmiHczMB9wPXAyUA/lmtixwR3gAnHP/0WH/rwDTeyCriEi3qH6JSG8LZsRqFlDsnCtxzjUDS4GrjrP/YuCxUIQTETlFql8i0quCaaxGAmUdtssDz32ImY0GcoBVx3j9FjNbb2brq6qquptVRKS7VL9EpFcF01hZF8+5Y+y7CHjKOdfW1YvOuSXOuTznXF5aWlqwGUVETpbql4j0qmAaq3Igs8P2KGDPMfZdhIbRRSR8qH6JSK8KprHKB3LNLMfMovEXn2WddzKzCcBQ4M3QRhQROWmqXyLSq07YWDnnWoHbgOXAZuAJ51yBmd1tZld22HUxsNQ5d6xhdhGRXqX6JSK97YTLLQA4554Hnu/03F2dtn8QulgiIqGh+iUivUkrr4uIiIiEiBorERERkRBRYyUiIiISImqsREREREJEjZWIiIhIiKixEhEREQkRNVYiIiIiIaLGSkRERCRE1FiJiIiIhIgaKxEREZEQUWMlIiIiEiJBNVZmttDMtphZsZndcYx9PmlmhWZWYGaPhjamiMjJUf0Skd50wpswm5kPuB+4GCgH8s1smXOusMM+ucB3gLOdcwfMLL2nAouIBEv1S0R6WzAjVrOAYudciXOuGVgKXNVpn88D9zvnDgA45ypDG1NE5KSofolIrwqmsRoJlHXYLg8819F4YLyZvWFma8xsYVcHMrNbzGy9ma2vqqo6ucQiIsFT/RKRXhVMY2VdPOc6bUcCucD5wGLgQTNL+tCbnFvinMtzzuWlpaV1N6uISHepfolIrwqmsSoHMjtsjwL2dLHPP5xzLc65HcAW/IVKRMRLql8i0quCaazygVwzyzGzaGARsKzTPn8H5gOYWSr+ofWSUAYVETkJql8i0qtO2Fg551qB24DlwGbgCedcgZndbWZXBnZbDlSbWSHwEvBN51x1T4UWEQmG6peI9DZzrvN0g96Rl5fn1q9f78lni4g3zGyDcy7P6xynSvVLZOAJtn5p5XURERGREDnhAqEiIiJ9WUlVPY/nl/Hatv2UH2ggyhfB2PQE5k9I55N5o0hJiPE6ovQjaqxERKRfqmts4Z4Xili6bhe+CGNWTjJ52SNpaWunYM8hfvKvIn69ahtfvSiXm+eNwRfR1eocIt2jxkpERPqd4sp6bn44n7KaBm6cm8OX5o8ltdPI1NaKOn7yQhH/83wRr23bz68/NYMhg6I8Siz9heZYiYhIv/Le7oN8/LerOdzUyuNfmMNdH5n8oaYKYHxGIg/ekMc9V5/OmpJqFi1ZQ3V9kweJpT9RYyUiIv1GcWU9n/7DWhJiInnmS2czMzv5uPubGYtnZfGHG2ayY389N/4pn/qm1l5KK/2RGisREekXDhxu5qaH8omMMB77/FlkJscF/d5zx6fxm+tmULj3EF9/YiNeLUUkfZ8aKxER6fOcc3z76U3sO9jIA9fnkZUSfFN11AUTM7hj4USWF1TwpzdKQx9SBgQ1ViIi0uc9um4XKwor+NbCCUzPGnrSx/ncOTlcNCmDe17YzNu7DoQwoQwUaqxERKRPK66s44fPFnJObio3nZ1zSscyM356zRmkJ8bytcc30tjSFqKUMlCosRIRkT7LOccdT7/LoCgfP73mDCJCsBbVkLgo7v3EVHZWN3D/S8UhSCkDSVCNlZktNLMtZlZsZnd08fqNZlZlZhsDj8+FPqqISPepfvVvz7y9m/U7D/CdSyeRPjg2ZMedOy6Vj00fye9e2U5xZV3Ijiv93wkbKzPzAfcDlwKTgcVmNrmLXR93zk0LPB4McU4RkW5T/erfDjW28D/PFzEtM4lPnDkq5Mf/3uWTGBTl43vPvKerBCVowYxYzQKKnXMlzrlmYClwVc/GEhEJCdWvfuwXL26j+nATd181JSSnADtLTYjh25dOZO2OGv713r6QH1/6p2Aaq5FAWYft8sBznX3czDaZ2VNmlhmSdCIip0b1q58qq2ng4dWlLJqZydRRST32OdfmZTIuPYF7V2yhta29xz5H+o9gGquufg3oPCb6TyDbOTcVeBF4uMsDmd1iZuvNbH1VVVX3koqIdJ/qVz9134vb8EUYX7tofI9+TqQvgm9eMoGSqsM8taG8Rz9L+odgGqtyoONvcKOAPR13cM5VO+eO3mDpAeDMrg7knFvinMtzzuWlpaWdTF4Rke5Q/eqHiivreObtcq6fM5qMEE5YP5YFkzOYnpXEfS9u0/ILckLBNFb5QK6Z5ZhZNLAIWNZxBzMb3mHzSmBz6CKKiJw01a9+6OcrtzEoyscXzx/XK59nZnx74UT2HWrkkTU7e+Uzpe86YWPlnGsFbgOW4y84TzjnCszsbjO7MrDb7WZWYGbvALcDN/ZUYBGRYKl+9T+b9x7iuXf3cvO8HJLjo3vtc88ak8KcMSksebVEo1ZyXJHB7OScex54vtNzd3X4/jvAd0IbTUTk1Kl+9S+/e2U7CTGR3DxvTK9/9m0XjOO6B9fy9FvlXDd7dK9/vvQNWnldRET6hF3VDfzznT1cNzuLIXFRvf75c8emMC0zid+9sl1XCMoxqbESEZE+4YHXSoiMiOCmead2P8CTZWZ8ef44ymqO8M9Ne078BhmQ1FiJiEjYq6pr4on1ZVw9Y2SvXAl4LBdOTGfisER+93KJVmOXLqmxEhGRsPfnN0tpbmvnlnN7f25VRxERxk3zcthSUceb26s9zSLhSY2ViIiEtcaWNh5du4sLJ2YwJi3B6zhcecYIUuKj+eMbpV5HkTCkxkpERMLas5v2Un24mc+ene11FABio3x8anYW/y6qYGf1Ya/jSJhRYyUiImHLOcfDq0vJTU9g7tgUr+O879NnjcZnxsOrtWCofJAaKxERCVtv7arl3d0HuWFuNmZd3frRGxmDY7l86nCeWF9GXWOL13EkjKixEhGRsPXQ6lISYyP52PSRXkf5kM+enUN9U6tuziwfoMZKRETCUsWhRl54dy/X5mUSHxPUjUJ61bTMJKZnJfHw6lLa27X0gvipsRIRkbD01zU7aXOO6+dkex3lmD57dg6l1Q28srXK6ygSJtRYiYhI2GlubefRdbu4YEI6WSlxXsc5poVThpGaEM2j63Z5HUXCRFCNlZktNLMtZlZsZnccZ79PmJkzs7zQRRQROXmqX33TysIK9tc38+k54X2z4+jICD5xZiariirZd7DR6zgSBk7YWJmZD7gfuBSYDCw2s8ld7JcI3A6sDXVIEZGTofrVdy3N38XIpEGcm5vmdZQTWjwrk7Z2xxPry7yOImEgmBGrWUCxc67EOdcMLAWu6mK/HwL/C6hlF5FwofrVB5XVNPDatv1ckzcKX0T4LLFwLKNT4pk3LpWl63bRpknsA14wjdVIoGMbXh547n1mNh3IdM49e7wDmdktZrbezNZXVWmin4j0ONWvPujx/DIiDD6Zl+l1lKB9anYWew428qomsQ94wTRWXf268H5LbmYRwM+Br5/oQM65Jc65POdcXlpa+A/vikifp/rVx7S2tfPkhjLOn5DOiKRBXscJ2sWTM0hNiOGvazWJfaALprEqBzr+2jAK2NNhOxE4DXjZzEqBs4BlmgAqImFA9auPeWlLFRWHmlg0s++MVgFE+SK4Jm8Uq4oq2HvwiNdxxEPBNFb5QK6Z5ZhZNLAIWHb0RefcQedcqnMu2zmXDawBrnTOre+RxCIiwVP96mOWrttFemIMF0xM9zpKty2emUW7gyfytRL7QHbCxso51wrcBiwHNgNPOOcKzOxuM7uypwOKiJws1a++Ze/BI7y0pZJr8kYR6et7yyxmpcRxTm4qj+drEvtAFtQ9ApxzzwPPd3rurmPse/6pxxIRCQ3Vr77jifxy2h1cm5fldZSTdt3sLG595C1e2VrJBRMzvI4jHuh7vxKIiEi/c3QdqHnjUsN6pfUTuXBSBmmJMTyqSewDlhorERHx3Gvbqthde4RFs/rWpPXOonwRfDJvFKuKKjWJfYBSYyUiIp5buq6M5PhoLp7c90+fXZvnn8T+5HpNYh+I1FiJiIinquqaeHFzBR+fMZKYSJ/XcU5ZVkoc88al8nh+Ge2axD7gqLESERFPPbWhnNZ2x6JZfXfSemeLZmWyu/YIrxXv9zqK9DI1ViIi4hnnHI/n72JWTjJj0xK8jhMyF0/OIDk+mqXrNIl9oFFjJSIinnmzpJrS6gYW9/FJ653FRPr4+IyRrCysoKquyes40ovUWImIiGceW1fG4NhILj1tuNdRQu7amVm0tjuefkuT2AcSNVYiIuKJmsPNLH9vH1fPGEVsVN+ftN7ZuPQEZmUn83h+Gc5pEvtAocZKREQ88be3ymlua+/za1cdz6JZmezYf5g1JTVeR5FeosZKRER6nXOOpfllTMtMYuKwwV7H6TGXnT6cwbGRLM3XJPaBIqjGyswWmtkWMys2szu6eP1WM3vXzDaa2etmNjn0UUVEuk/1Kzxt2HmA4sr6fjdpvbPYKB8fmz6SF97bR21Ds9dxpBecsLEyMx9wP3ApMBlY3EXhedQ5d7pzbhrwv8DPQp5URKSbVL/C16Nrd5EQE8lHzhjhdZQet2hWFs2t7fztrd1eR5FeEMyI1Syg2DlX4pxrBpYCV3XcwTl3qMNmPKBZeiISDlS/wlBtQzPPvruXj04fQVx0pNdxetyk4YM5IzOJpfm7NIl9AAimsRoJlHXYLg889wFm9mUz247/N77bQxNPROSUqH6FoWfe3k1zazufmjXa6yi9ZvHMTLZW1PPWrlqvo0gPC6axsi6e+1DL7Zy73zk3Fvg2cGeXBzK7xczWm9n6qqqq7iUVEek+1a8w45zj0bW7OCMzickj+u+k9c4+csYI4qN9Wol9AAimsSoHOs4uHAXsOc7+S4GPdvWCc26Jcy7POZeXlpYWfEoRkZOj+hVmNuw8wLbKej7VzyetdxYfE8mV00bw7Ka91DW2eB1HelAwjVU+kGtmOWYWDSwClnXcwcxyO2xeDmwLXUQRkZOm+hVmBtKk9c4WzcziSEsb/9h4vN5e+roTNlbOuVbgNmA5sBl4wjlXYGZ3m9mVgd1uM7MCM9sI/CdwQ48lFhEJkupXeBlok9Y7mzpqCJOGD9aaVv1cUP9nO+eeB57v9NxdHb7/aohziYiEhOpX+BiIk9Y7MjMWz8rkrn8U8N7ug5w2cojXkaQHaOV1ERHpcQN10npnV00bSWxUBI9pEnu/pcZKRER63ECdtN7ZkEFRXHb6cP6xcQ/1Ta1ex5EeoMZKRER63ECetN7Zp88aTX1TK8+8rZXY+yM1ViIi0qP21zfx7Ka9XD1j5ICctN7Z9MwkTh85hD+vLtVK7P2QGisREelRS9ftormtnevnZHsdJSyYGdfPGc22ynrWlNR4HUdCTI2ViIj0mJa2dh5Zs4tzclMZl57gdZyw8ZEzRjA0Loo/v1nqdRQJMTVWIiLSY1YUVLDvUCM3aLTqA2KjfFw7M4sVhRXsqT3idRwJITVWIiLSYx5eXUpm8iDmT0z3OkrYuW52Fu2BZSik/1BjJSIiPaJwzyHWldZw/VnZ+CK6uh/2wJaZHMeFEzN4bN0umlrbvI4jIaLGSkREesTDq0sZFOXjk3kDe+2q47lh7miqDzfz7Dt7vY4iIaLGSkREQu7A4Wb+vnE3H50+kiFxUV7HCVvzxqWSm57AA6+VaOmFfkKNlYiIhNxf1uykqbWdz56d7XWUsGZmfP6cMRTtq+P14v1ex5EQCKqxMrOFZrbFzIrN7I4uXv9PMys0s01m9m8zG5h32BSRsKP61fsaW9p4aHUpF0xMZ3xGotdxwt5V00eQnhjDkldLvI4iIXDCxsrMfMD9wKXAZGCxmU3utNvbQJ5zbirwFPC/oQ4qItJdql/eeHJDOTWHm7n1vLFeR+kTYiJ93Hh2Nq9t20/BnoNex5FTFMy9BWYBxc65EgAzWwpcBRQe3cE591KH/dcAnw5lSOk5Ta1t7K9vprahmbrGVg4daeFQYyt1jS3UN7bS3NZOS5ujpa098HC0tzt8PiMqwvBFRBDlMyJ9Rkykj8TYSBJjowJfI0mMiSI5IZq0hBiiI3XmWXqd6lcva21r54FXS5ielcTM7KFex+kzrps9mvtXFfPAqyXct2i613HkFATTWI0EyjpslwOzj7P/zcALXb1gZrcAtwBkZWUFGVFOVnu7o7KuiZ3Vh9lZ08Cu6gb2Hmyksq6RykNNVNY1cqCh5bjHMIMoXwTRvqMNVAQRBm3tjtZ2R2ug6Tq6fTxJcVGkJ8aQlhhDemIso4YOIjM5jqzAY9jgWCJ0SbaElupXL/tXwT521TTw3csmYaaf52ANGRTFtTOzePjNUr61cCIjkgZ5HUlOUjCNVVc/GV3+C2pmnwbygPO6et05twRYApCXl6fLH0Kkta2d0uoGtlbUUbSvjq376theVc+umgaaWtvf3y/CIGNwLOmDY8lKiWNmzlDSE2NJT4whKS6awbGRDB4UxeDYKAYPiiQhJpJIX/CjTM2t7dQ3+Ue76hpbA48Wqg83U1Xnb+T8X5tYt6OGf2w8QsdeLNoXwajkQYxLS2B8RiK5Gf6vY9LiiYn0hfKPTAYO1a9e5Jzjd69sZ0xqPAsmZ3gdp8+5aV42D79Zyh9f38GdV3Q+Yy19RTCNVTnQcRGSUcCezjuZ2UXA94DznHNNoYknnTW2tFGw5yAbyw5SsPsgWyrq2FZZT3OggYowyE6JZ2x6AudPSCMrJZ6s5DhGJ8cxcuggorrRKHVXdGQEyZHRJMdHB7V/S1s7e2qPsKum4f1H6f7DbKus599FlbQFui5fhJGTGs/UkUM4fdQQpo4awuThQxgUrWZLTkj1qxet3l7Ne7sP8eOrT9fo80kYNTSOK6YO57F1u/jy/HEMDbKWSngJprHKB3LNLAfYDSwCPtVxBzObDvweWOicqwx5ygGqrd1RXFnPO2W1bCyv5Z2yWor21b3fcGQMjmHCsMGcPS6VCRmJTBiWyLj0BGKj+kbDEeWLYHRKPKNT4j/0WlNrGyVVh9laUce2ino27z3Ea8X7+dvbuwF/A5mbnsjpo4ZwRqZ/Lsf49EQVc+lM9asX/eblYtISY/jYjJFeR+mzvjx/HMve2cMfXt/BNy6Z4HUcOQknbKycc61mdhuwHPABf3TOFZjZ3cB659wy4F4gAXgycE59l3Puyh7M3S+1tLXz3u6DrNtRw9odNeSX1lDX2ApAYmwk0zKT+OJ5YzkjM4kzRg0hfXCsx4l7Tkykj0nDBzNp+OAPPF9xqJFN5Qd5t7yWTbsP8lJRJU9tKAdgcGwkednJzMxOZmb2UE4fNUSnEAc41a/es7akmjeKq7nz8kn6uTsF4zMSuey04Ty0upTPnZNDUpxGrfoa82ql17y8PLd+/XpPPjtctLa18075QVYX72ddaQ0bdh6godl/v6gxafHMzkkmb3Qy07KSyEmJ12hMF5xzlNUcIb/U34iuK62hpOow4D81OT0ziXnjUjk7N5WpI4d0a86YhJ6ZbXDO5Xmd41Spfn3YoiVvsr3qMK99a36fGTUPV0X7DrHwvte4/YJx/OcCjVqFi2DrVzCnAiWEdlU38Oq2Kl7bVsXq7dXvj0hNHJbINWeOYlZOyvuTyuXEzIyslDiyUuL4+JmjAKiubyK/9AD5pTWsKanmpyu38tOVW0mMjWTOmBTOyU3l7HGp5KTG66olkRB4c3s1a0pquOuKyWqqQmDisMFcetow/vRGKTfPG6NbAvUxaqx6WF1jC28UV/N6cRWvbdvPzuoGAEYmDeLy04dzTm4ac8emaJJiCKUkxLDwtGEsPG0Y4G+03iyp5vVt+3lt235WFFYA/r+DeeNSmT8xjXm5aSTE6MdBpLucc/z8xa2kJ8bwqdlahiJUbr8wl38V7ON3r27n2wsneh1HukH/kvSAykONrNxcwYqCClZv309LmyM+2secsSncdHYO83JTGaPRkl6TkhDDFVNHcMXUETjn2FXTwOvF+3mjeD/Pv7eXx9eXEeUzZuUkM39COhdMTGdMWoLXsUX6hJe3VLFuRw3/deUUjVaF0KThg7nqjBH86Y0d3Dg3m4x+PKe2v1FjFSLbq+pZUVDBisJ9vL2rFoCs5DhunJvNhZMymJE1VCuPhwEze/9KxOtmj6a1rZ0NOw+wqqiSVUWV/Pdzm/nv5zaTnRLHBRMzuGBiOrNykvV3J9KFtnbHPS/4f14Wz9JoVah9fcEEnnt3L/e9uI17rj7d6zgSJDVWJ6m93fFOeS0rCitYUbCP7YEJ06ePHMLXLx7PginDGJ+RoFGpMBfpi2D2mBRmj0nhO5dNoqymgZe2VPLvzZU8snYnf3xjB/HRPs6fkM6CKRnMn5jO4FjNdxABeHpDOVsr6vnNdTP0y0cPyEyO47rZo/nLmp187pwcxmokvU9QY9UNza3tvFlSzYqCfawsrKCyrglfhHHWmGSun5PNxZMzdBuCPi4zOY7r52Rz/ZxsGppbWV1czb+LKlhZWMlz7+4lymecNSaFS6YM4+LJGRqelwHrSHMbP125hWmZSVwamM8ooXfbBeN4cn0Z9zy/mQdvmOl1HAmCGqsTqGts4eUtVaworODlokrqmlqJi/Zx3vg0FkzJ4IIJGbpio5+Ki47koskZXDQ5gx991PF22QFWFFSwvGAfd/79Pe78+3tMy0zikinDWDAlQ79NyoDyu1e2U3GoiV8tnqGR+R6UmhDDVy6tnmJjAAARdklEQVTM5ccvFPHylkrOn5DudSQ5Aa1j1YWKQ42sLKxgZeH/TT5PiY/m4skZLJiSwdyxqZqkOYA559hWWc+Kgn2sKKxgU/lBAMalJ7BgcgYLpgxj6sghWnesC1rHqn/YWX2Yi3/+KpdMGcavFk/3Ok6/19TaxsL7XsMM/vXVc3Xa1SNax6qbiivrWVG4jxUFFWws808+H50Sx2fPzmHB5AymZw3Fp38oBf8E+PEZiYzPSOS2C3LZU3uElYX+Cxd+/2oJv3l5O8MGx3Lx5AwumTKM2WOSe/QejSK97b/+WUhUhPG9yyZ5HWVAiIn0cdcVk/nsQ/k8tHoHt5w71utIchwDtrFqb3dsLK99/0q+o6t1Tx01hG8s8E8+z03X5HM5sRFJg7hhbjY3zM2mtqGZVUWVLC/Yx1MbyvnLmp0MGRTFhRPTWTBlGOeOTyUuesD+2Ek/8GJhBauKKvnuZRMZNkRzDHvL/In+pWDue3Ebl50+nFFD47yOJMcwoE4FNrW28eb2alYETvNV1TURGeGfjLxgSgYXTdLkcwmdI81tvLatiuUFFfy7qILahhZioyI4JzeNS6YM46JJ6QPuPmA6Fdi3HWps4ZKfv0pCTCTPf/UcjcT2srKaBi6571VmZifz0Gdn6hf/XhbSU4FmthD4Bf6bmD7onPtxp9fPBe4DpgKLnHNPdT9yzzh0dPJ5wT5e3lJFfWDy+fkT0lgweRjzJ6Rr8rn0iEHRPhZMGcaCKcNobWtn3Y4algfmZa0srMAXYczOSX5/8vvwIWrqe0Jfrl/h5n+e20zFoUZ+88W5aqo8kJkcx7cumcAP/lnIM2/v5uoZo7yOJF04YWNlZj7gfuBioBzIN7NlzrnCDrvtAm4EvtETIbvr6OTzFYUVvBmYfJ6aEM0VU4dr8rl4ItIXwdxxqcwdl8oPrpzCu7sPsrxgH8sLKvj+sgK+v6yAqaOGcMmUYVwyJYNx6YleR+4X+mL9Clevbq1iaX4ZXzhvDNOzhnodZ8C6fk42z27ay93PFjJvXCrpWvIl7AQzYjULKHbOlQCY2VLgKuD9wuScKw281t4DGU/IOcfWinpWFu5j5eZK3tHkcwljZsbUUUlMHZXENy+ZyPaq+vebrHuXb+He5VsYkxYfaLJ0heEpCvv61RfUNjRzx9ObGJsWz39cNN7rOANaRITxk09M5fJfvsbXn3yHhz87S/UhzATTWI0EyjpslwOzT+bDzOwW4BaArKxTu/1BS1s7+TtqWLm5ghc3V1BWcwSAMzKTNPlc+pSxaQl86fxxfOn8cew72MjKQn+T9cCrJfxWVxieqrCsX32Jc45vPbWJqvomnrp1rkb7w8DYtATuumIK333mXR58vURXCYaZYBqrrjqTk5rx7pxbAiwB/+TP7r7/UGMLr2yp4sXNFbxUVMmhxlaiIyOYNy6VL50/jgsnpmtYVPq0YUNi+cycbD4zJ5uDDS38u8i/IOmTG8o+cIXh/InpnDs+jSGDND/wBMKmfvVVD68uZUVhBXdePokzMpO8jiMBi2dl8urWKu5dvoWzxqQwdZT+bsJFMI1VOZDZYXsUsKdn4nxYbUMz/9i4hxc3V7CmpJqWNkdyfLT/qqrJGZyTq8vXpX8aEhfF1TNGcfWMUR+6wvBvb+/GF2GcOXooFwQuw9YIbZc8rV993cayWv7n+SIunJjOzfNyvI4jHZgZP/746Vz2i1pu/csGln1lHqkJMV7HEoJrrPKBXDPLAXYDi4BP9WiqDg4eaeH7ywoYmxbPTfNyuHiS5kvJwNPxCsO2dsfGsgOsKqpkVVEVP36hiB+/UMTIpEHvN1lzxqbolI2fp/WrL9tTe4TP/3k9GUNi+P+uOUNNexhKiotmyfV5fPy3q/nSI2/xyOdma1X2MBDUOlZmdhn+y5F9wB+dcz8ys7uB9c65ZWY2E3gGGAo0Avucc1OOd8zurAOzq7qBrBQthibSlb0Hj/BSURWriip5o3g/R1raiI2KYO7YVM4bn8a83FTGpMaHxT+MXqxj5XX96osamlv5xG/fpKymgb99aS65GbpKNZz9Y+Nuvrp0I4tmZnLP1aeHxc96fxRs/RpQC4SK9HeNLW2s3VHDS0WVrCqqZFdNAwAjhsQyLzeVeblpnD02hRSPThlogdDw19zazq2PbODlLZX84caZzNdNf/uEe5cXcf9L27n9gnH854IJXsfpl3SvQJEBKDbKx3nj0zhvfBo/uHIKO6sP89q2/by+bT//em8fT6wvB2DKiMHMy03lnHFp5GUP1WlDAaCt3fEfj29kVVElP/rYaWqq+pBvLJjA/rpmfrmqmKS4aG7SnDjPqLES6cdGp8QzOiWeT581mrZ2x6byWl7ftp/Xi/fzx9d38PtXSoj2RTAtM4lZOcnMyknmzNFDiY9RaRhoWtva+dbTm3ju3b3cefkkrps92utI0g1mxo8+dhq1R5q5+9lCfBHGDXOzvY41IOlUoMgAdbiplXU7anizpJq1O2p4b/dB2todvgjjtJFDmJ2TzKzsZGZmJ4fstk86FRieGlvauP2xt1lRWMHXLx7PVy7M9TqSnKSm1jZue/RtVhZW8M1LJvDl+eO8jtRv6FSgiBxXfEwk8wNrYoG/0dqw8wDrdtSwbkcND71RypJXSzCDCRmJnDl6KNOzhjIjK4mcMJkML6eutqGZL/xlA2t31PCDj0zmxrN1Cqkvi4n08ZvrZvDNJ9/h3uVbqKpr4s7LJxGphYV7jRorEQH8jda549M4d3wa4B/F2FhWy7odNeSX1rBs4x7+unYXAElxUUzPTGJG1lC+eP5YFe0+qnDPIW59ZAN7Dx7hF4umcdW0kV5HkhCI8kXws09OIzUhhgdf38G2yjp+vXgGQ+OjvY42IKixEpEuxUb5OGtMCmeNSQGgvd1RXFXPWzsP8PauWt7adYAt++p02qgPcs7x5Ppy7lr2HkMGRfH4F+YwQzdW7lciIow7r5jMhGGJfO+Z97jiV6/zs0+ewezAz7P0HDVWIhKUiAhjfEYi4zMSWTTLf6+8xpY2j1NJd1UcauSOpzfx0pYq5oxJ4ZeLp5OWqBW7+6tr8jLJzUjka0vfZtEDa7jl3DF87cLxDIrWlcA9RY2ViJw0LdPQdzS1tvHQG6X8alUxre3tfP8jk7lhTjYRuotFvzctM4nnbj+H/35uM79/pYRn39nL/7tiMpdMydBcyR6gxkpEpB9raWvn72/v5tcvFbOzuoELJqbz/66YTE5qvNfRpBfFx0Ryz9Wnc9W0EXz/HwXc+sgGZmYP5WsXjWfu2BQ1WCGkxkpEpB+qOdzM0xvKeWh1KbtrjzB5+GAevmkW5wUuTpCB6awxKTx3+zweyy/j/lXFXPfgWqZlJnHj3GwuPX0YMZEahT5VaqxERPqJ+qZWXiqq5F8F+1hZUEFzWzt5o4fyw49OYf6EdI1KCACRvgg+c9ZoPpk3iifyy/jTG6V87fGN/Nc/o1h42jAuP30EZ41J1tW+JymoxsrMFgK/wH8T0wedcz/u9HoM8GfgTKAauNY5VxraqCIi3def61dzazsFew6yvvQAq7fv543iaprb2klNiGbxrEwWz85i4rDBXseUMBUT6eMzc7K5bvZo3ti+nyfWl/OPjXt4bF0ZyfHRzBuXyuwxyczOSWFsmtauC9YJGysz8wH3AxcD5UC+mS1zzhV22O1m4IBzbpyZLQJ+AlzbE4FFRILVX+pXY0sb+w42Un7gCNsq69haUcfWinoK9hyksaUdgJzUeK6fM5pLThvGjKyh+DQpXYIUEWGck5vGOblpNLa08fKWKv713l5Wb69m2Tt7ABgaF8Wk4YOZMCyRScMGMzoljpFDBzFscKxGtjoJZsRqFlDsnCsBMLOlwFVAx8J0FfCDwPdPAb82M3Ne3S9HRMTP8/p1qLGFI81tNLW009TaRlNrx6/tNLW0c7iplYNHWt5/HAp8raxrYk/tEaoPN3/gmElxUYzPSGTxrCxmZSdzZvZQ0hNjQxFXBrjYKB8LTxvGwtOG4ZyjtLqBtSXVvL2rlqKKOpauK+NIh2VWIgyGDY5leNIghsZFkxQXRdKgKJLiohgSF83g2EhiIn3ERkUQG+ULPCKIifQRHRmBz4yICPCZ4YswIiLs/75//yt9arQsmMZqJFDWYbscmH2sfZxzrWZ2EEgB9ocipIjISfK8fn3mwbW8U34w6P0TYyIZPCiKIYOiSEuM4bSRgxk+ZBAjkgYxIimWcekJpCXE9Kl/aKRvMjNyUuPJSY1/f+26tnZHWU0Du2oa2F17hN0HjrC79gh7D/q/Fu45SO2RFhqaQ7vGnRlEdPh/3jo879/u8PNgH9ynq/2Obt9/3QzmT0gPadZgGquufno7/yYXzD6Y2S3ALYHNejPbEsTnH5VKeDZqytV94ZotXHNB+Gbrbq7RPRXkGFS/ji9cc0H4ZgvXXBC+2cI1Fxf8sFvZgqpfwTRW5UBmh+1RwJ5j7FNuZpHAEKCm84Gcc0uAJcEE68zM1gdzV+neplzdF67ZwjUXhG+2cM3VgerXcYRrLgjfbOGaC8I3W7jmgp7JFsyMs3wg18xyzCwaWAQs67TPMuCGwPefAFZpfpWIhAHVLxHpVSccsQrMObgNWI7/cuU/OucKzOxuYL1zbhnwB+AvZlaM/ze9RT0ZWkQkGKpfItLbglrHyjn3PPB8p+fu6vB9I3BNaKN9yEkNwfcC5eq+cM0WrrkgfLOFa673qX4dV7jmgvDNFq65IHyzhWsu6IFsphFvERERkdDQql4iIiIiIdJnGisz+6GZbTKzjWa2wsxGeJ3pKDO718yKAvmeMbMkrzMBmNk1ZlZgZu1m5vkVGWa20My2mFmxmd3hdZ6jzOyPZlZpZu95naUjM8s0s5fMbHPg7/GrXmc6ysxizWydmb0TyPZfXmcKd+Faw8K1foFqWLBUw7qnp+tXnzkVaGaDnXOHAt/fDkx2zt3qcSwAzGwB/iuJWs3sJwDOuW97HAszmwS0A78HvuGcW+9hFh+wlQ63FgEWd7q1iCfM7FygHvizc+40r/McZWbDgeHOubfMLBHYAHw0TP7MDIh3ztWbWRTwOvBV59waj6OFrXCtYeFav0A1LFiqYd3O1aP1q8+MWB0tSAHxdLGAn1eccyucc62BzTX418rxnHNus3OuO4sY9qT3by3inGsGjt5axHPOuVfpYt0irznn9jrn3gp8Xwdsxr9KuOecX31gMyrwCJufyXAUrjUsXOsXqIYFSzWse3q6fvWZxgrAzH5kZmXAdcBdJ9rfIzcBL3gdIgx1dWsRz3/A+gozywamA2u9TfJ/zMxnZhuBSmClcy5ssoWrPlDDVL+OTTXsFIRbDevJ+hVWjZWZvWhm73XxuArAOfc951wm8FfgtnDKFtjne0BrIF/Y5AoTQd02RD7MzBKAp4GvdRr18JRzrs05Nw3/CMcsMwubUxBeCdcaFq71K9hsYUI17CSFYw3ryfoV1DpWvcU5d1GQuz4KPAd8vwfjfMCJspnZDcAVwIW9uWpzN/7MvBbMrUWkk8D5/6eBvzrn/uZ1nq4452rN7GVgIRBWk2d7W7jWsHCtX6Aa1t+Few3rifoVViNWx2NmuR02rwSKvMrSmZktBL4NXOmca/A6T5gK5tYi0kFgguUfgM3OuZ95nacjM0s7evWYmQ0CLiKMfibDUbjWMNWvoKmGdVO41rCerl996arAp4EJ+K8Q2Qnc6pzb7W0qP/PfCiMGqA48tSZMrvb5GPArIA2oBTY65y7xMM9lwH38361FfuRVlo7M7DHgfPx3YK8Avu+c+4OnoQAzmwe8BryL//97gO8GVhL3lJlNBR7G/3cZATzhnLvb21ThLVxrWLjWL1ANC5ZqWPf0dP3qM42ViIiISLjrM6cCRURERMKdGisRERGREFFjJSIiIhIiaqxEREREQkSNlYiIiEiIqLESERERCRE1ViIiIiIhosZKREREJET+f1GLMCCTG0fWAAAAAElFTkSuQmCC\n",
          "text/plain": "<Figure size 720x216 with 2 Axes>"
         },
         "metadata": {
          "needs_background": "light"
         },
         "output_type": "display_data"
        }
       ]
      }
     },
     "738995f62fbe484cbbdf64271378418f": {
      "model_module": "@jupyter-widgets/base",
      "model_module_version": "1.1.0",
      "model_name": "LayoutModel",
      "state": {}
     },
     "73ee2337f82b43ab8190a7874ea1f319": {
      "model_module": "@jupyter-widgets/controls",
      "model_module_version": "1.4.0",
      "model_name": "VBoxModel",
      "state": {
       "_dom_classes": [
        "widget-interact"
       ],
       "children": [
        "IPY_MODEL_68ff9f2793b8475db6d9e8ef7b357014",
        "IPY_MODEL_84e8ee428c5a41b3b6853f2552e70486",
        "IPY_MODEL_77885c70d9434fe0b157b0f4b56d3f97"
       ],
       "layout": "IPY_MODEL_4e21af99d0da4f0f90db8605851f0e62"
      }
     },
     "7673dfdd844f46919f5ee7719df5d6ae": {
      "model_module": "@jupyter-widgets/output",
      "model_module_version": "1.0.0",
      "model_name": "OutputModel",
      "state": {
       "layout": "IPY_MODEL_f5dd4e7a083642518ee31946b29c9157",
       "outputs": [
        {
         "name": "stderr",
         "output_type": "stream",
         "text": "/Users/gerardoduran/anaconda/lib/python3.6/site-packages/ipykernel_launcher.py:16: UserWarning: Attempting to set identical bottom==top results\nin singular transformations; automatically expanding.\nbottom=0, top=0.0\n  app.launch_new_instance()\n"
        },
        {
         "data": {
          "image/png": "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\n",
          "text/plain": "<Figure size 720x216 with 2 Axes>"
         },
         "metadata": {
          "needs_background": "light"
         },
         "output_type": "display_data"
        }
       ]
      }
     },
     "77885c70d9434fe0b157b0f4b56d3f97": {
      "model_module": "@jupyter-widgets/output",
      "model_module_version": "1.0.0",
      "model_name": "OutputModel",
      "state": {
       "layout": "IPY_MODEL_49053f95e50345648f47d3fe404c9bcc",
       "outputs": [
        {
         "data": {
          "image/png": "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\n",
          "text/plain": "<Figure size 720x216 with 2 Axes>"
         },
         "metadata": {
          "needs_background": "light"
         },
         "output_type": "display_data"
        }
       ]
      }
     },
     "779ac138fc5349c29639c0b089ed5bc3": {
      "model_module": "@jupyter-widgets/controls",
      "model_module_version": "1.4.0",
      "model_name": "FloatSliderModel",
      "state": {
       "description": "variant",
       "layout": "IPY_MODEL_c50841599d654ea989c3486226fed5b7",
       "max": 2,
       "min": 0.1,
       "step": 0.1,
       "style": "IPY_MODEL_46da6fa75d65497a89bbf4b554502791",
       "value": 1.3
      }
     },
     "7818aa258cd34b8dacafbfd22d596560": {
      "model_module": "@jupyter-widgets/controls",
      "model_module_version": "1.4.0",
      "model_name": "SliderStyleModel",
      "state": {
       "description_width": ""
      }
     },
     "7921a26326ad474bad646931272ce57d": {
      "model_module": "@jupyter-widgets/controls",
      "model_module_version": "1.4.0",
      "model_name": "VBoxModel",
      "state": {
       "_dom_classes": [
        "widget-interact"
       ],
       "children": [
        "IPY_MODEL_88cfe5646a464e75a2cecda9126dba7d",
        "IPY_MODEL_e49dcecae2ec4c55a398093f4ad1d18c",
        "IPY_MODEL_e94c8d77e43a4ac0af5bfbeeed03fa73"
       ],
       "layout": "IPY_MODEL_1d773a7a0d2f421d8a755ec582bd5fde"
      }
     },
     "79b12961c7b1461a9c7db7e9611f1cbe": {
      "model_module": "@jupyter-widgets/controls",
      "model_module_version": "1.4.0",
      "model_name": "SliderStyleModel",
      "state": {
       "description_width": ""
      }
     },
     "7f89e6aa09c94a409f60219411339c6e": {
      "model_module": "@jupyter-widgets/controls",
      "model_module_version": "1.4.0",
      "model_name": "VBoxModel",
      "state": {
       "_dom_classes": [
        "widget-interact"
       ],
       "children": [
        "IPY_MODEL_dd03015813664d0686d02fc195cbd5b8",
        "IPY_MODEL_ba367a979dd7477c96ad31150ff12101",
        "IPY_MODEL_28d46d102ff34b42ac7ec31a47520ff1"
       ],
       "layout": "IPY_MODEL_c77bdc209e564febab795b065c81b08a"
      }
     },
     "80444b2cbb7141588a3f4f2f7888309c": {
      "model_module": "@jupyter-widgets/controls",
      "model_module_version": "1.4.0",
      "model_name": "SliderStyleModel",
      "state": {
       "description_width": ""
      }
     },
     "80512d1154354befbbde8b50b6aa1bda": {
      "model_module": "@jupyter-widgets/base",
      "model_module_version": "1.1.0",
      "model_name": "LayoutModel",
      "state": {}
     },
     "81990de743924edfb7b2fe2857a4a5ca": {
      "model_module": "@jupyter-widgets/base",
      "model_module_version": "1.1.0",
      "model_name": "LayoutModel",
      "state": {}
     },
     "81c5a27c807a4f0ebe4ddac7e4b9aa0b": {
      "model_module": "@jupyter-widgets/base",
      "model_module_version": "1.1.0",
      "model_name": "LayoutModel",
      "state": {}
     },
     "824b2e3264dd44b485de8a31e06643d6": {
      "model_module": "@jupyter-widgets/controls",
      "model_module_version": "1.4.0",
      "model_name": "VBoxModel",
      "state": {
       "_dom_classes": [
        "widget-interact"
       ],
       "children": [
        "IPY_MODEL_ead4ead34d2f4d03bbb9541f73efdf21",
        "IPY_MODEL_068a5b65c08648d1bd4804d808f9972c",
        "IPY_MODEL_a7d53a6025c4499282a659c7adea69d3"
       ],
       "layout": "IPY_MODEL_cced653f88464a89acaf06a72e2e607e"
      }
     },
     "83d802131bcc4f9697d82ae131dbf702": {
      "model_module": "@jupyter-widgets/output",
      "model_module_version": "1.0.0",
      "model_name": "OutputModel",
      "state": {
       "layout": "IPY_MODEL_014cdb9fec334a578df2079cbb1c8ebb",
       "outputs": [
        {
         "data": {
          "image/png": "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\n",
          "text/plain": "<Figure size 720x216 with 2 Axes>"
         },
         "metadata": {
          "needs_background": "light"
         },
         "output_type": "display_data"
        }
       ]
      }
     },
     "8494230588d1498e8acb571bec86559b": {
      "model_module": "@jupyter-widgets/controls",
      "model_module_version": "1.4.0",
      "model_name": "SliderStyleModel",
      "state": {
       "description_width": ""
      }
     },
     "849738bd299f4718a48d3d7d8b89a653": {
      "model_module": "@jupyter-widgets/controls",
      "model_module_version": "1.4.0",
      "model_name": "FloatSliderModel",
      "state": {
       "description": "variant",
       "layout": "IPY_MODEL_c9444b75d7594f8bba65f07fe3e252cb",
       "max": 2,
       "min": 0.1,
       "step": 0.1,
       "style": "IPY_MODEL_f9db91f728ff4d258251f91c914885d8",
       "value": 1.3
      }
     },
     "84e8ee428c5a41b3b6853f2552e70486": {
      "model_module": "@jupyter-widgets/controls",
      "model_module_version": "1.4.0",
      "model_name": "FloatSliderModel",
      "state": {
       "description": "variant",
       "layout": "IPY_MODEL_c7a96c6ecadf4072997ccbaae2febdd4",
       "max": 2,
       "min": 0.1,
       "step": 0.1,
       "style": "IPY_MODEL_3e08799df1a94781bc62920bc26580f6",
       "value": 1.1
      }
     },
     "859fe3fffd19458ab406bdc351478b64": {
      "model_module": "@jupyter-widgets/output",
      "model_module_version": "1.0.0",
      "model_name": "OutputModel",
      "state": {
       "layout": "IPY_MODEL_52a663d8163d4cbf9a3e1cba11063f7f",
       "outputs": [
        {
         "data": {
          "image/png": "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\n",
          "text/plain": "<Figure size 720x216 with 2 Axes>"
         },
         "metadata": {
          "needs_background": "light"
         },
         "output_type": "display_data"
        }
       ]
      }
     },
     "884190054bdf4407938f479d27e98855": {
      "model_module": "@jupyter-widgets/base",
      "model_module_version": "1.1.0",
      "model_name": "LayoutModel",
      "state": {}
     },
     "88cfe5646a464e75a2cecda9126dba7d": {
      "model_module": "@jupyter-widgets/controls",
      "model_module_version": "1.4.0",
      "model_name": "FloatSliderModel",
      "state": {
       "description": "mu",
       "layout": "IPY_MODEL_e00abfc3514c4f2bbca71d1dc3569fd3",
       "max": 1,
       "min": -1,
       "step": 0.1,
       "style": "IPY_MODEL_3bb7ca073edf442a9e708f5683535456"
      }
     },
     "88f338176f3e48dcacad7e2a912b44d0": {
      "model_module": "@jupyter-widgets/controls",
      "model_module_version": "1.4.0",
      "model_name": "SliderStyleModel",
      "state": {
       "description_width": ""
      }
     },
     "898e8d99b0884f89b774f3c9e2e3ad49": {
      "model_module": "@jupyter-widgets/output",
      "model_module_version": "1.0.0",
      "model_name": "OutputModel",
      "state": {
       "layout": "IPY_MODEL_4e2e7abbfeaf4ac69f5fd1fbf9127d29",
       "outputs": [
        {
         "data": {
          "image/png": "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\n",
          "text/plain": "<Figure size 720x216 with 2 Axes>"
         },
         "metadata": {
          "needs_background": "light"
         },
         "output_type": "display_data"
        }
       ]
      }
     },
     "89ec9294104b439bbf2de6a13aa0c189": {
      "model_module": "@jupyter-widgets/controls",
      "model_module_version": "1.4.0",
      "model_name": "FloatSliderModel",
      "state": {
       "description": "variant",
       "layout": "IPY_MODEL_738995f62fbe484cbbdf64271378418f",
       "max": 2,
       "min": 0.1,
       "step": 0.1,
       "style": "IPY_MODEL_2c1dad75356f40479fb2663efd6b55c5",
       "value": 1
      }
     },
     "89eddf97f06d4bdea5125379766e7897": {
      "model_module": "@jupyter-widgets/controls",
      "model_module_version": "1.4.0",
      "model_name": "SliderStyleModel",
      "state": {
       "description_width": ""
      }
     },
     "8af5fd3a6d4140d3ad14fe7c6fe28d67": {
      "model_module": "@jupyter-widgets/controls",
      "model_module_version": "1.4.0",
      "model_name": "VBoxModel",
      "state": {
       "_dom_classes": [
        "widget-interact"
       ],
       "children": [
        "IPY_MODEL_0c211e26fc264fd6b92acf6f7c8819c7",
        "IPY_MODEL_fd0ecf2ad0f242028fa45100de580001",
        "IPY_MODEL_722b07a014004dcda632ba789e4e10a1"
       ],
       "layout": "IPY_MODEL_40d6171e628d4cb9b100d368550f45b5"
      }
     },
     "8b3f0fc76eca4eefae082d9ded7fe33b": {
      "model_module": "@jupyter-widgets/base",
      "model_module_version": "1.1.0",
      "model_name": "LayoutModel",
      "state": {}
     },
     "8b57df19507347b0afdea2814c0db019": {
      "model_module": "@jupyter-widgets/controls",
      "model_module_version": "1.4.0",
      "model_name": "FloatSliderModel",
      "state": {
       "description": "mu",
       "layout": "IPY_MODEL_294fa06990c3486f969f10da6b2d119a",
       "max": 1,
       "min": -1,
       "step": 0.1,
       "style": "IPY_MODEL_694ea4e4616a407e9604a349004e407f"
      }
     },
     "8be358ca7cc84876b6db5f7a51c5f648": {
      "model_module": "@jupyter-widgets/controls",
      "model_module_version": "1.4.0",
      "model_name": "FloatSliderModel",
      "state": {
       "description": "variant",
       "layout": "IPY_MODEL_31c8dd2fe01d4348a15eec786700e966",
       "max": 2,
       "min": 0.1,
       "step": 0.1,
       "style": "IPY_MODEL_135550499d5649e7a5aa35d1526f409d",
       "value": 1
      }
     },
     "8fcb07b0e0c9484cb4c82da9a818b05a": {
      "model_module": "@jupyter-widgets/controls",
      "model_module_version": "1.4.0",
      "model_name": "SliderStyleModel",
      "state": {
       "description_width": ""
      }
     },
     "90df56ff88e047b6be14cbc1955940b2": {
      "model_module": "@jupyter-widgets/controls",
      "model_module_version": "1.4.0",
      "model_name": "FloatSliderModel",
      "state": {
       "description": "mu",
       "layout": "IPY_MODEL_a7604351b8374d33a5de9b0a06951f05",
       "max": 1,
       "min": -1,
       "step": 0.1,
       "style": "IPY_MODEL_7818aa258cd34b8dacafbfd22d596560"
      }
     },
     "938d80511dc84fd29c10b3a5a9465750": {
      "model_module": "@jupyter-widgets/base",
      "model_module_version": "1.1.0",
      "model_name": "LayoutModel",
      "state": {}
     },
     "9514f71210464e72b9c693c4222442fb": {
      "model_module": "@jupyter-widgets/base",
      "model_module_version": "1.1.0",
      "model_name": "LayoutModel",
      "state": {}
     },
     "952ee91b61e2491dbba9b31eea75b5d6": {
      "model_module": "@jupyter-widgets/controls",
      "model_module_version": "1.4.0",
      "model_name": "FloatSliderModel",
      "state": {
       "description": "mu",
       "layout": "IPY_MODEL_3f71f887da604e0faec0ef33129fd4a0",
       "max": 1,
       "min": -1,
       "step": 0.1,
       "style": "IPY_MODEL_52ebcc022ff44e24818cb61749f93114",
       "value": -0.1
      }
     },
     "95cd6343804648eaa2dbc786500e8f6f": {
      "model_module": "@jupyter-widgets/base",
      "model_module_version": "1.1.0",
      "model_name": "LayoutModel",
      "state": {}
     },
     "9659d5906e9046149b0e221a3269a257": {
      "model_module": "@jupyter-widgets/base",
      "model_module_version": "1.1.0",
      "model_name": "LayoutModel",
      "state": {}
     },
     "96ae9ae20121482a859840919de6b764": {
      "model_module": "@jupyter-widgets/controls",
      "model_module_version": "1.4.0",
      "model_name": "SliderStyleModel",
      "state": {
       "description_width": ""
      }
     },
     "96cc33078fab4f09b20a433ba5b92a34": {
      "model_module": "@jupyter-widgets/base",
      "model_module_version": "1.1.0",
      "model_name": "LayoutModel",
      "state": {}
     },
     "973c8a7ada5b451d8ce552c32fe2c5c4": {
      "model_module": "@jupyter-widgets/controls",
      "model_module_version": "1.4.0",
      "model_name": "VBoxModel",
      "state": {
       "_dom_classes": [
        "widget-interact"
       ],
       "children": [
        "IPY_MODEL_c7a62d9992894020bf95c64955c20056",
        "IPY_MODEL_b4a31a4548e7457b990ade412af34cdd",
        "IPY_MODEL_ab31530756034f40a3e7d8d134fda2d0"
       ],
       "layout": "IPY_MODEL_013f65a7831f4d16a0930323ee2db7c2"
      }
     },
     "98543bfc7ad54b62ba5b4fa13ceb88af": {
      "model_module": "@jupyter-widgets/controls",
      "model_module_version": "1.4.0",
      "model_name": "FloatSliderModel",
      "state": {
       "description": "mu",
       "layout": "IPY_MODEL_b7b165b463a447439f7abaff4366095f",
       "max": 1,
       "min": -1,
       "step": 0.1,
       "style": "IPY_MODEL_155fd5cc85b5464084ebbc2913ab7a37"
      }
     },
     "9ad9b30cada34aabbfaf974965923012": {
      "model_module": "@jupyter-widgets/base",
      "model_module_version": "1.1.0",
      "model_name": "LayoutModel",
      "state": {}
     },
     "9b445d82eb754cf6a828e9e86833ef19": {
      "model_module": "@jupyter-widgets/controls",
      "model_module_version": "1.4.0",
      "model_name": "FloatSliderModel",
      "state": {
       "description": "mu",
       "layout": "IPY_MODEL_09b20efeca8d4c91b8263e5c0e6ffa3d",
       "max": 1,
       "min": -1,
       "step": 0.1,
       "style": "IPY_MODEL_96ae9ae20121482a859840919de6b764"
      }
     },
     "9c9780f3a7714c8a85961d09f95f8967": {
      "model_module": "@jupyter-widgets/controls",
      "model_module_version": "1.4.0",
      "model_name": "FloatSliderModel",
      "state": {
       "description": "variant",
       "layout": "IPY_MODEL_81990de743924edfb7b2fe2857a4a5ca",
       "max": 2,
       "min": 0.1,
       "step": 0.1,
       "style": "IPY_MODEL_8494230588d1498e8acb571bec86559b",
       "value": 1
      }
     },
     "9edf691388844a6e880a2cc01e3204fe": {
      "model_module": "@jupyter-widgets/base",
      "model_module_version": "1.1.0",
      "model_name": "LayoutModel",
      "state": {}
     },
     "a08a94a5819747c5aa9795b35bbd4eee": {
      "model_module": "@jupyter-widgets/output",
      "model_module_version": "1.0.0",
      "model_name": "OutputModel",
      "state": {
       "layout": "IPY_MODEL_95cd6343804648eaa2dbc786500e8f6f",
       "outputs": [
        {
         "data": {
          "image/png": "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\n",
          "text/plain": "<Figure size 720x216 with 2 Axes>"
         },
         "metadata": {
          "needs_background": "light"
         },
         "output_type": "display_data"
        }
       ]
      }
     },
     "a4a5abbc384243aba8dceb079ff47f9f": {
      "model_module": "@jupyter-widgets/base",
      "model_module_version": "1.1.0",
      "model_name": "LayoutModel",
      "state": {}
     },
     "a633b3ceb41240acb3b5a18dee9ebdaa": {
      "model_module": "@jupyter-widgets/base",
      "model_module_version": "1.1.0",
      "model_name": "LayoutModel",
      "state": {}
     },
     "a7313a58e83540839ad6bbc8508e7c29": {
      "model_module": "@jupyter-widgets/controls",
      "model_module_version": "1.4.0",
      "model_name": "SliderStyleModel",
      "state": {
       "description_width": ""
      }
     },
     "a7604351b8374d33a5de9b0a06951f05": {
      "model_module": "@jupyter-widgets/base",
      "model_module_version": "1.1.0",
      "model_name": "LayoutModel",
      "state": {}
     },
     "a7d53a6025c4499282a659c7adea69d3": {
      "model_module": "@jupyter-widgets/output",
      "model_module_version": "1.0.0",
      "model_name": "OutputModel",
      "state": {
       "layout": "IPY_MODEL_938d80511dc84fd29c10b3a5a9465750",
       "outputs": [
        {
         "data": {
          "image/png": "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\n",
          "text/plain": "<Figure size 720x216 with 2 Axes>"
         },
         "metadata": {
          "needs_background": "light"
         },
         "output_type": "display_data"
        }
       ]
      }
     },
     "aa3dcafbe2f448eb8fe3e220da47efc8": {
      "model_module": "@jupyter-widgets/output",
      "model_module_version": "1.0.0",
      "model_name": "OutputModel",
      "state": {
       "layout": "IPY_MODEL_f1afb8206f36446ca630ba3d82550b78",
       "outputs": [
        {
         "data": {
          "image/png": "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\n",
          "text/plain": "<Figure size 432x288 with 1 Axes>"
         },
         "metadata": {
          "needs_background": "light"
         },
         "output_type": "display_data"
        }
       ]
      }
     },
     "ab31530756034f40a3e7d8d134fda2d0": {
      "model_module": "@jupyter-widgets/output",
      "model_module_version": "1.0.0",
      "model_name": "OutputModel",
      "state": {
       "layout": "IPY_MODEL_f4faa13e0d49405b97455906757d1608",
       "outputs": [
        {
         "data": {
          "image/png": "iVBORw0KGgoAAAANSUhEUgAAAlYAAADFCAYAAACWyLzbAAAABHNCSVQICAgIfAhkiAAAAAlwSFlzAAALEgAACxIB0t1+/AAAADl0RVh0U29mdHdhcmUAbWF0cGxvdGxpYiB2ZXJzaW9uIDMuMC4zLCBodHRwOi8vbWF0cGxvdGxpYi5vcmcvnQurowAAIABJREFUeJzt3Xd41FX69/H3SSeFBEghkF7ondCrioKK2BUUBbGuuuruT3dddx91dXct23TVtaAIKjYsKypilw4hdEIJaaTQUkhCepnz/BFwIwsyIZOc78zcr+vyujLJMPMRkjv3nDnf+yitNUIIIYQQou08TAcQQgghhHAV0lgJIYQQQjiINFZCCCGEEA4ijZUQQgghhINIYyWEEEII4SDSWAkhhBBCOIg0VkIIIYQQDiKNlRBCCCGEg0hjJYQQQgjhIF6mnjg0NFTHxcWZenohhAGbNm0q1lqHmc7RVlK/hHA/9tYvY41VXFwcaWlppp5eCGGAUmq/6QyOIPVLCPdjb/2StwKFEEIIIRxEGishhBBCCAexq7FSSk1TSu1VSmUqpR78mftdpZTSSqkUx0UUQoizJ/VLCNGRzthYKaU8gReAC4F+wCylVL9T3C8IuAfY4OiQQghxNqR+CSE6mj2b10cCmVrrbACl1LvApcCuk+73OPA0cL9DEwqnd+RYLeuySth98BgllXV4eigiOvsxKCqY0QndCPA1dg2FcH1Sv0Sb1Dfa2Jhbypa8oxSW1dLYZCPE35vk8CDGJHYjuqu/6YjCYuz5jdYTyG9xuwAY1fIOSqmhQLTW+jOl1GkLk1LqNuA2gJiYmNanFU5lXVYJL6/MYmVGETYN3p6KbgG+NGlNcWUdWoOftwfTB/XgjkmJJIUHmo4sXI/UL3FWDpXXMn9VNh9sKqC8pgGAbgE++Hh5UFpVT12jDYBhMSHcOiGBqf274+GhTEYWFmFPY3Wq7xT94xeV8gD+Ccw90wNprV8BXgFISUnRZ7i7cFKHK2r5/cc7+Gb3EUIDfbnrnCSm9u9On+5BeHk2v/tc29DE5ryjfLb9IB9tLuDjLYXcOCaW307rg5+3p+H/A+FCpH6JVmmyaV5Zmc2/vt1HfZONiwZGctmQHoyI70pnP28AtNZkFVXy7e4jvJOaxy8Wb2ZoTAhPXzmI5Iggw/8HwjR7GqsCILrF7SjgQIvbQcAA4AelFEB3YKlSaobWWga9uJmVGUX86r2tVNc38eCFfZg7Nu6UjZKftydjE0MZmxjK/53fi398ncHra3JZl1XCC9cPIzFMVq+EQ0j9EnYrOlbHfe9tYU1mCRf0i+APF/cjptv/vtWnlCIpPIik8CBumZDAh5sLeOqLPcx4fg2PXdqfq1OiT/Howl3Yc1XgRiBZKRWvlPIBZgJLT3xRa12utQ7VWsdpreOA9YAUJTf08oos5ryeSrdAHz795TjumJRo1+pTt0Bf/nz5QBbeNILDFbVc8txqfth7pAMSCzcg9UvYZdeBCi761yrSco/y1JUDefmG4adsqk7m6aG4JiWaL+6dwJDoEB74YDu//3gHNpssarqrMzZWWutG4G7gS2A38L7WOl0p9ZhSakZ7BxTWp7Xmn19n8MQXe7hoYCSf3DWepPDWL4dP7h3OsnsnEB8awK1vpPFV+qF2SCvcidQvYY9t+WXMmr8ebw/Ff+4ax7UjYji+gmm38M5+vHXLKG6flMDiDXncv2QbjU22dkosrExpbaarTklJ0XIkhGv465d7eOH7LK4eHsWTVw7Cs40bOMtrGpizIJWdheU8N2soFw6MdFBSYZpSapPW2unnREn9ch1b8o5yw2updAnw5u1bRjvkKr/nv9vH377K4OJBkfxr5tA210RhDfbWL5m8LtrkrfX7eeH7LGaNjOYpBzRVAMGdvHnz5pEMjg7h3ve2sml/qQOSCiHET+WVVHPLojS6Bfrw/u1jHDY64e5zk/ndhX34fPtB/rJst0MeUzgPaazEWVuRUcQjS9M5t084f7psoEMvNQ7y8+bVG1PoEezHbW9sIq+k2mGPLYQQ5TUNzFu0kUab5vW5I4gM7uTQx799UiJzx8bx2uoc3lzvEmePCztJYyXOSnZRJXcv3kyviCD+Nat9lrq7BPjw2twRNNo0Ny/aSHV9o8OfQwjhfmw2zS/f2cL+kipevmE4Ce10FfL/m96Pc/uE8+jSdNZmFbfLcwjrkcZKtFpdYxO/fGcLnp6K1+akENiOk9MTwwJ54bphZBZV8ujS9HZ7HiGE+3h5ZTYrM4p4dEZ/Rid0a7fn8fRQ/GvWUGK7+XPfu1spqaxrt+cS1iGNlWi1p77YS/qBCv561WB6hDh2+fxUxieHcufkRN5PK2DptgNn/gNCCHEaW/KO8vev9nLxwEiuG9n+E/QDfb14btZQyqobeOCD7Zi6YEx0HGmsRKt8v+cIC9bkMHdsHOf3i+iw571vSi+GxYTw0Ec7yC+V/VZCiNY7VtvAL9/ZQkRnP/5yxcBWj1Q4W/17BPPQRX34bs8RFq7N7ZDnFOZIYyXsVlHbwO8+2kHviCAevLBPhz63t6cHz84cCsBDH++QV31CiFZ7evleCstqeHbmEII7eXfoc88ZG8e5fcJ5avkeuRjHxUljJez21Bd7OHKslqeuGmTkPL/orv78dlpvVu0r5sPNhR3+/EII55WaU8qb6/czd2wcKXFdO/z5lVL8+fIBeHl48LuP5S1BVyaNlbDL+uwSFm/I46Zx8QyJDjGW4/pRsYyI68Ljn+2i6JhsBBVCnFltQxMPfridniGduP+C3sZyRAZ34sEL+7Ams4QlaQXGcoj2JY2VOKP6RhsPfbyD6K6d+L8LehnN4uGheOKKQdTUN/H4Z7uMZhFCOIcXf8giu7iKJ64YSEA7XsVsj+tGxjAyvit/+nyXXCXooqSxEme0aG0u2UVV/HFGf/x9zBYlgKTwQO6YlMDSbQfYmCtT2YUQp1dwtJqXVmQxfVAkE3uFmY6Dh4fiz5cNoKq+ib9/nWE6jmgH0liJn1V0rI5/fbuPc3qHcW6fjrsK8EzumJxIZLAfjy5Np0lOkRdCnMZflu1GKXjoor6mo/woOSKIG8fE8k5qHukHyk3HEQ4mjZX4WX/9cg+1jU38v+n9TEf5CX8fL353UV/SD1Twflq+6ThCCAtam1XMsh2HuHNyUofM3GuN+6b0oou/D39cuks2srsYaazEae0sLOf9tAJuGhffbkc+tMUlgyIZGdeVv325l2O1DabjCCEsxGbTPP7ZbqK6dOK2iQmm4/yP4E7ePDC1N6m5pSzbcch0HOFA0liJ03pq+R5C/L25+9wk01FOSSnF7y/uS0lVPfNX5ZiOI4SwkE+2FbL7YAW/mdbHyHgYe1yTEk2viED+9tVeGppspuMIB5HGSpzSmsxiVu0r5u5zkujs17GD9FpjcHQIFw+M5NVV2TJ+QQgBNJ9n+vevMujfozPTB0aajnNanh6K30ztQ05xFe9tlC0NrkIaK/E/tNY8tXwPPUM6MXt0rOk4Z3T/1N7UNdp47rt9pqMIISxg8fo8Co7W8OCFffDw6Jhja87WeX3DGRHXhWe/3Ud1faPpOMIBpLES/+OLnYfYXlDOr87vZdkl9JbiQwOYOSKatzfkyVERQri5yrpGnv8+k3FJ3ZiQbH68wpkopXjwwj4UHatjwWrZ0uAKpLESP2GzaZ75JoOk8EAuH9rTdBy73XteMp4eiue/l1UrIdzZG+tyKa2q54GpHXueaVsMj+3KeX3Cmb8qRy7EcQHSWImfWJ5+iIzDlfzy3CQ8Lb6E3lJ4Zz9mjYzho82F5JfKqpUQ7qiqrpH5K7OZ3DvM6NFbZ+PeKcmU1zTwxrr9pqOINpLGSvzIZtP869t9JIQFMH1QD9NxWu2OSYl4KMW/f8g0HUUIYcBb6/dztLqBe85LNh2l1QZFhXBO7zBeXZVNVZ3stXJm0liJH3216zB7Dh1zutWqE7oH+zFzZDRL0gooOCqrVkK4k+r6Rl5Zmc2E5FCGxXQxHees3HNeMkerZdXK2UljJYDmKwH/9e0+4kMDuMQJV6tO+MXkE6tWWaajCCE60OL1eZRU1XPfFOdbrTphaEwXJvYKY/6qbLlC0IlJYyUA+HrXYXYdrOCuc5Lw8nTeb4vI4E5cnRLFkrR8CstqTMcRQnSAmvomXl6ZxbikbgyP7Wo6Tpvce14ypVX1vLVeVq2clfP+BhUOo7Xmue8yie3mz2VDnHe16oQ7z2meFP+SrFoJ4RbeTs2juLKee8/rZTpKmw2P7cKE5FBeWZlNTX2T6TjiLEhjJVibVcKOwnJ+MSnRqVerTugZ0okrh0Xxflo+xZUyjV0IV9bQZOO1VdmMjO/KyHjnXq064ZfnJlNcWc8HmwtMRxFnwfl/i4o2e3llNqGBvlzmRHOrzuTWiQnUN9l4Y22u6ShCiHb0+faDHCiv5XYLHrR8tkbEdWFoTAjzV2bTZNOm44hWksbKze0+WMHKjCJuGhfnFFPW7ZUYFsj5fSNYtG6/XLoshIvSWvPyymySwgM5p3e46TgOo5Ti9okJ5JVWs3znIdNxRCvZ1VgppaYppfYqpTKVUg+e4ut3KKV2KKW2KqVWK6X6OT6qaA/zV2bj7+PJ7FHWPxOwtW6flEh5TQPvp8nhpu5M6pfrWp1ZzO6DFdw2IcHyZwK21vn9uhMfGsBLK7LQWlatnMkZGyullCfwAnAh0A+YdYrC87bWeqDWegjwNPAPhycVDnegrIal2w5w7Yhogv29TcdxuOGxXRgR14VXV+XQ0GQzHUcYIPXLtb2yMpvwIF8uHer8F92czNNDceuEBHYUlrMuu8R0HNEK9qxYjQQytdbZWut64F3g0pZ30FpXtLgZAEh77QQWrs1FA/PGxZuO0m5un5hIYVkNy3YcNB1FmCH1y0XtOlDBqn3FzB0Xh6+X62xjaOmKYT0JDfTh5RXZpqOIVrCnseoJtHwvpeD4535CKXWXUiqL5ld895zqgZRStyml0pRSaUVFRWeTVzhIRW0Db2/I46KBkUR39Tcdp92c2yecxLAAXlqRLcvp7knql4uav6p5G8P1I11vG8MJft6e3DQunhUZRew+WHHmPyAswZ7G6lRvXP/Pbyit9Qta60Tgt8AfTvVAWutXtNYpWuuUsLCw1iUVDvXOhjwq6xpd6kqaU/HwUNw+MZHdBytYnVlsOo7oeFK/XNCBsho+3XaAmSNiXHIbQ0uzR8Xi7+PJ/JWyauUs7GmsCoDoFrejgAM/c/93gcvaEkq0r/pGG6+vyWVsYjcG9Aw2HafdzRjSg9BAH15fk2s6iuh4Ur9c0ILVOc3bGMbHmY7S7oL9vbl6eBSfbj/AkWO1puMIO9jTWG0EkpVS8UopH2AmsLTlHZRSLQ9nuhjY57iIwtE+3XaAQxW13Obiq1Un+Hl7cv2oWL7bc4Sc4irTcUTHkvrlYipqG3gnNY/pgyKJ6uK62xhamjsunoYmzeL1eaajCDucsbHSWjcCdwNfAruB97XW6Uqpx5RSM47f7W6lVLpSaivwa2BOuyUWbaK1ZsGaHHpFBDKpl/u8nXH96Bi8PRUL1+SYjiI6kNQv1/P+xnyq6pu4dYJ7vDAEiA8N4Nw+4SzesJ/aBjnmxuq87LmT1noZsOykzz3c4uN7HZxLtJO0/UdJP1DBXy4fiFKuNffl54QH+XHJ4B4s2VTAry/oTXAn196XIf5L6pfraLJp3li3nxFxXdxiG0NL88bFM/u1DXy67QBXp0Sf+Q8IY2TyuptZuDaX4E7eXOaCc1/OZN64eKrrm1giA0OFcEo/7D1CXmk1c8e67oiY0xmX1I1eEYG8viZXrnC2OGms3MjB8hqW7zzEtSOi8fexa7HSpQzoGczI+K68viaXRhkYKoTTWbg2l+6d/bigf4TpKB1OKcW8cfHsOljBhpxS03HEz5DGyo28tX4/WmtuGO26c1/OZN64eArLavhm92HTUYQQrZB55Bir9hVzw5hYvD3d81fXZUN70sXfmwWrZa+olbnnd6cbqm1o4p3UfKb0jXDpgaBncn6/CKK6dGLB6lzTUYQQrbBo7X58vDyYOcJ99xf5eXty3agYvt59mLySatNxxGlIY+UmPt12gNKqeuaOjTMdxShPD8XcsXGk5pays7DcdBwhhB3Kaxr4cHMBMwb3oFugr+k4Rt0wOg5PpVi0Ltd0FHEa0li5Aa01C9fm0isikDGJ3UzHMe6aEdEE+HjKcroQTmJJWj7V9U1u/8IQoHuwHxcPiuS9jfkcq20wHUecgjRWbuDEiIW5Y+PdasTC6XT28+aq4VF8tv0gRcfqTMcRQvwMdx6xcDo3jYunsq6RjzYXmo4iTkEaKzewcG0unf283HLEwunMGRtHfZONd1JlkrEQVnZixMIcWa360ZDoEIZEh7BobS42m4xesBpprFzciRELM0fGuOWIhdNJCGuePP/W+v3UN8roBSGs6sSIhan9u5uOYik3jYsju7iKlfuKTEcRJ5HGysXJiIXTmzsujiPH6vhi50HTUYQQpyAjFk7vwgGRhAX5snBtruko4iTynerCToxYOM/NRyyczqTkMOJDA6QwCWFRMmLh9Hy8PJg9KpYf9haRXVRpOo5oQRorF3ZixMJNsjfhlDw8FHPGxLIlr4xt+WWm4wghWpARC2d23ajmw+XfWLffdBTRgjRWLkpGLNjnyuFRBPh4skhWrYSwFBmxcGZhQb5MH9SDDzYVyOgFC5HGykVtOj5iYc7YOBmx8DOC/Ly5OiWaT7cf4MixWtNxhBD8d8RCSqyMWDiTuWPjqKxr5MNNBaajiOOksXJRrx8fsXD50J6mo1jejWNiaWjSvLMh33QUIQT/HbEwd1yc6SiWNzg6hKExISxat19GL1iENFYuSEYstE5CWCCTe4fx1gYZvSCEFciIhdaZOzaOnOIqVsjoBUuQxsoFLV6fh01GLLTK3LFxFMnoBSGMOzFiYfboGBmxYKcLB0QSHuQre0UtQr5rXUxtQxNvp+ZxXh8ZsdAaE2X0ghCW8OOIhZExpqM4DR8vD66X0QuWIY2Vi/lxxILsTWiVlqMXtsroBSGMqKhtHrFwyaAehMqIhVaR0QvWIY2VCzkxYiE5PJCxMmKh1a4cHkWgr5cspwthyJK0AhmxcJbCgny5ZFAPlqTly+gFw6SxciEyYqFtgvy8uWp4FJ/J6AUhOpzNpnljXS7DY7swMEpGLJyNOWPjqKpv4gMZvWCUNFYuZOHaXIL8vLhimIxYOFtzxsbR0KR5e0Oe6ShCuJUfMo6wv6RaVqvaYHB0CMNiQli0NldGLxgkjZWLOFReyxc7D3FtSrSMWGiD+NAAJvcOY/GGPBm9IEQHen1NLhGdfZk2QEYstMWcsXHkllTL6AWDpLFyEYs37MemNTeOiTMdxenJ6AUhOlbmkcrmEQujYmXEQhudGL2wcE2u6ShuS76DXUBtQxNvb8jjvD7hxHSTEQttNTE5jITQAF6XwiREh3hjXS4+nh7MGiUjFtrKx8uD2aNjWZFRRJaMXjBCGisX8Pn2g5RU1TN3bLzpKC7Bw0MxZ2wcW/PL2JJ31HQcIVxaRW0DH24qYPrgSBmx4CCzRsbg4+nBG3KFsxHSWDm5EyMWksIDGZckIxYcRUYvCNExPkgroEpGLDhUWJAv0wdH8sGmAhm9YIA0Vk5uc14ZOwrLZcSCgwX6enHV8Cg+33FQRi8I0U5OjFgYFhPCoKgQ03FcylwZvWCMNFZO7scRC0NlxIKjyegFIdrXiowickuqmSOrVQ43KEpGL5hiV2OllJqmlNqrlMpUSj14iq//Wim1Sym1XSn1rVJKTv/tAIcravlix0GuSYkmwFdGLDhafGgA5/QO4631MnrBmUn9sq6Fa3MJD/LlwgGRpqO4pLnj4ptHL2TI6IWOdMbGSinlCbwAXAj0A2YppfqddLctQIrWehDwAfC0o4OK/7V4/X6atObGMfJ7oL3MHRdPcWUdy3bI6AVnJPXLurKKKlmRUcT1o2Lx8ZI3T9rDhQO6E9HZl9dlr2iHsue7eSSQqbXO1lrXA+8Cl7a8g9b6e6119fGb64Eox8YUJ6trbOLt1DzO7R1ObLcA03Fc1oSkUBLCAqQwOS+pXxb15rr9eHsqrpMRC+3G29OD2aNiWSmjFzqUPY1VTyC/xe2C4587nZuBL071BaXUbUqpNKVUWlGRLE22xefbD1JcWS97E9qZh4dizpg4tsnoBWcl9cuCjtU2sCQtn+mDehAWJCMW2tOsUTJ6oaPZ01id6lKzU+6EU0rNBlKAv57q61rrV7TWKVrrlLCwMPtTip/QWrNgTQ6JYQGMTwo1HcflyegFpyb1y4LelxELHSY08L+jFypk9EKHsKexKgCiW9yOAg6cfCel1BTg98AMrXWdY+KJU1mfXcrOwgpuHp+Ah4eMWGhvgb5eXJ1yfPRChYxecDJSvyymscnGgtU5jIjrwuBoGbHQEW4aG988eiFNRi90BHsaq41AslIqXinlA8wElra8g1JqKPAyzUXpiONjipZeXZVNtwAfrhgmIxY6ypwxcTTaNItl9IKzkfplMcvTD1FYVsMtExJMR3EbA6OCGR7bhUXrZPRCRzhjY6W1bgTuBr4EdgPva63TlVKPKaVmHL/bX4FAYIlSaqtSaulpHk60UVZRJd/uOcLs0bH4eXuajuM24kIDOKd3OIs35FHX2GQ6jrCT1C9r0Vozf1UOcd38mdI3wnQctzJ3bBz7S6r5IUNeO7Q3u4Yfaa2XActO+tzDLT6e4uBc4jReW52Dj5cHN8iIhQ43Z2wccxaksmzHQS4fKheOOQupX9axaf9RtuWX8dil/fGUbQwdatqJ0Qtrcjm3jzS17UmGhziRkso6PtxUwBVDe8phpQacGL3w2uoctJbldCFaa/6qbII7eXPVcHlh0tFOjF5Yta+YjMPHTMdxadJYOZG31udR12jjlgnxpqO4JQ8Pxa0TEthZWMG6rBLTcYRwKrnFVXy16zCzR8fg7yMnRZgwe3Qsnbw9eWVltukoLk0aKydR29DEm+tzOad3GEnhQabjuK3Lj68WviSFSYhWWbAmB28PD+aMiTMdxW11CfDh2hHRfLK1kIPlNabjuCxprJzEf7YUUlxZz61yJY1Rft6ezBsfx8qMItIPlJuOI4RTKKuuZ0laATOG9CC8s5/pOG7t5vHx2DQsWJ1jOorLksbKCWiteXV1Dn0jOzMmsZvpOG7v+lGxBPjIcroQ9lq8IY+ahiZuHi/bGEyL7urP9EGRvL0hj/IaGRjaHqSxcgLf7z1C5pFKbp0Qj1JyJY1pwZ28uW5UDJ9tP0h+afWZ/4AQbqy2oYlFa3OZkBxK38jOpuMI4LaJCVTVN7F4w37TUVySNFZO4N/fZ9EzpBOXDO5hOoo4bt74eDxU8/gLIcTpfbi5gCPH6rhjUqLpKOK4/j2CmdgrjAWrc6ltkLl8jiaNlcWl5pSStv8ot06Ix9tT/rmsIjK4E5cO6cm7G/Morao3HUcIS2pssvHyimwGRwUzVrYxWModExMorqzj4y2FpqO4HPlNbXEvfJ9JtwAfrh0RYzqKOMntExOobbDx5jpZThfiVD7fcZC80mruPCdJtjFYzJjEbgyKCmb+ymya5Jgbh5LGysJ2FpazIqOIeePj6eQjx9dYTXJEEFP6hrNoXS419bKcLkRLNpvm399nkRweyPlyfI3lKKW4fWIi2cVVfL3rkOk4LkUaKwt78Ycsgny9mD1ajq+xqtsnJVJaVc+7G+VwZiFa+m7PEfYePsYvJifiIcfXWNK0Ad2J7ebPv3/IktMkHEgaK4vKLqpk2c6DzB4TS3Anb9NxxGmMiOvKqPiuvLQiSzaBCnGc1pp//5ApF91YnKeH4s7JiWwvKOeHjCLTcVyGNFYW9dKKLHw8PZg3Tua+WN295yVzuKKOJWn5pqMIYQnrs0vZnFfGHZMS5KIbi7t8aBQ9Qzrx7Df7ZNXKQeQ73oLySqr5cHMhs0bGEBYkhy1b3ZjEboyI68K/f8iirlFWrYR45psMwoJ8uTol2nQUcQY+Xh7cdU4SW/PLWLWv2HQclyCNlQU9990+vDwUv5gsc1+cgVKKe85L5mB5LR9sKjAdRwij1mYVsyGnlDsnJ+LnLRfdOIMrh/ekR7Afz34rq1aOII2VxeQWV/HRlkKuGxVDhJyp5TTGJ4UyNCaEf3+fRX2jzXQcIYzQWvPM1/uI6OzLrJEyIsZZ+Hp58ovJiWzaf5S1WSWm4zg9aaws5rnvMvH2lNUqZ6OU4t7zkiksq+GjzbJqJdzT2qwSUnNLueucJFmtcjLXjIime+fmVSvRNtJYWUh2USUfbylg9qhYwoNktcrZTOoVxuCoYJ77LlP2Wgm3o7XmH19nEBnsx7UjZG+Vs/H18uSOSQmk5pSyJlP2WrWFNFYW8tx3mfh4eXC7nKnllJRS/N8FvSksq+GdDTLXSriXVfuK2bT/KHeek4Svl6xWOaOZI2PoEezH01/ulb1WbSCNlUVkHqnkk62F3DgmTq4EdGITkkMZndCV57/PpKqu0XQcITrEidWqHsF+XJMSZTqOOEt+3p7cN6UX2/LL+DL9sOk4TksaK4t4evke/H28uH1igukoog2UUvxmWh+KK+tZsDrHdBwhOsSX6YfYml/GvVOSZbXKyV0xrCeJYQH87au9cobgWZLGygLSckv5atdh7piUQLdAWa1ydsNiunBBvwheWZnN0ap603GEaFcNTTaeWr6X5PBArhwmq1XOzsvTgwem9ibzSKVciHOWpLEyTGvNX5btJjzIl3njZcq6q7h/am8q6xt5cUWW6ShCtKt3N+aTU1zFb6f1wUumrLuEqf27MzgqmGe+2SdHdZ0F+Skw7Mv0w2zOK+NX5/fC38fLdBzhIL0igrhiaBQL1+ZysLzGdBwh2kVlXSPPfpPByLiunNc33HQc4SAntjQUltXw1vr9puM4HWmsDGposvH08j0khQdy9XBZQnc1vzo/GYCnl+81nESI9jF/ZTbFlfX87qI+KKVMxxEONC4plAnJoTz3XaZsaWglaawMem9jPtmyhO6yorr4c+uEeD7eUsjmvKOm4wjhUEeO1TJ/VTYXDezO0JgupuOIdvAawtKTAAAWv0lEQVSHi/txrLaBZ77JMB3Fqchvc0PKqxv4x9fNS+hTZAndZd05OYnwIF8e+3QXNrnCRriQvy7fS0OTjQem9jEdRbST3t2DuH5ULG9tyCPj8DHTcZyGNFaG/OPrvZRV1/PIjH6yhO7CAny9+M20PmzNL+OTbYWm4wjhEJvzjrJkUwHzxscTHxpgOo5oR786vxcBPp48/tkuGRpqJ7saK6XUNKXUXqVUplLqwVN8faJSarNSqlEpdZXjY7qWXQcqeHP9fmaPjqV/j2DTcUQ7u2JoTwZHBfPkF3tkaKgBUr8cq8mmeeSTdCI6+/LLc5NNxxHtrGuAD/dN6cWqfcV8t+eI6ThO4YyNlVLKE3gBuBDoB8xSSvU76W55wFzgbUcHdDVaax5dmk6Ivw+/Pr+X6TiiA3h4KB6+pB+HK+p4ScYvdCipX473flo+OwrLeeiivgT6ypXM7uCGMbEkhgXwp893yzmodrBnxWokkKm1ztZa1wPvApe2vIPWOldrvR2wtUNGl7J02wFSc0t5YGpvQvx9TMcRHWR4bFcuG9KDl1dkk3mk0nQcdyL1y4HKqut5evkeRsZ3ZcbgHqbjiA7i7enBw5f0J6e4ipdXZJuOY3n2NFY9gfwWtwuOf67VlFK3KaXSlFJpRUVFZ/MQTu1YbQN//nw3g6KCuSZFTn93N7+/uB9+3h489PEO2cjecaR+OdDfvtpLeU0Df5zRX/aGuplJvcKYPiiS57/LJKtIXhz+HHsaq1P99JzVbwWt9Sta6xStdUpYWNjZPIRTe2r5Hooq63js0gF4ekhRcjdhQb78/uK+pOaUsmRT/pn/gHAEqV8OkpZbyuINedw4Jo6+kZ1NxxEGPHzJ8ReHH+2Qjew/w57GqgBoubwSBRxonziua312CW+tz2PeuHiGRIeYjiMMuSYlmlHxXfnz57spOlZnOo47kPrlALUNTfzmg+30DOnEA1N7m44jDAkP8uOhi/qyIaeUJWlyjuDp2NNYbQSSlVLxSikfYCawtH1juZaa+iZ+++F2Yrr6c/8FUpTcmVKKv1wxkNoGG499tst0HHcg9csBnvlmH9nFVTxxxUACZMO6W7smJZqR8V3587LdFFfKi8NTOWNjpbVuBO4GvgR2A+9rrdOVUo8ppWYAKKVGKKUKgKuBl5VS6e0Z2tn84+u97C+p5skrB9LJx9N0HGFYYlggd52TxKfbDvD1rsOm47g0qV9tt6OgnPmrsrkmJYoJye73Fqj4KQ8PxV8uH0hNfRMPf7JT3hI8BbteemitlwHLTvrcwy0+3kjzErs4ydb8Ml5bncOskTGMTQw1HUdYxC8mJ/Jl+iEe/HA7Q6InEhbkazqSy5L6dfYammw88ME2ugX48PuLT55SIdxVUngg952fzNPL9/LxlkKuGCY/Pi3J5PV2VFXXyK/f20pEZz9+d5Ec+yD+y8fLg2dmDuFYXSMPfrhdXvUJS/rn1xnsOXSMP102gOBO3qbjCAu5fWIiI+O68sgn6eSXVpuOYynSWLWjR5emk1NSxT+uGUJnPylK4qd6RQTx4LQ+fLvnCG+n5pmOI8RPrMks5sUVWcwaGc0F/bubjiMsxtND8fdrBqOB/3t/G00yQuZH0li1k0+2FrJkUwF3n5PEmMRupuMIi5o7No4JyaH86bPdZMtsGGERJZV13PfeVhLDAnl4en/TcYRFRXf1548z+pOaW8rLK+VUiROksWoHeSXV/OHjnQyP7cK958lZWuL0PDwUf71qMD5eHtzz7hZqG+S4CGGW1pr7l2yjvKaB52YNlQtuxM+6YlhPLhrYnX9+ncGm/UdNx7EEaawcrL7Rxj3vbgEFz84cgpen/BWLn9c92I+/Xz2YnYUV/L//yFU2wqwFa3L5fm8Rf7i4rwwCFWeklOKJywfRPdiPOxdvkvl8SGPlcI99ls7W/DKeunIQUV38TccRTmJKvwjuOTeJJZsKZL+VMGZDdglPLNvN+f0iuGF0rOk4wkkE+3vz8uwUymsauOvtzTQ0ufexm9JYOdC7qXm8tT6P2yclcNHASNNxhJO5d0ovJvUK49Gl6WzOkyV10bEOlNVw5+LNxHTz5+/XDJazAEWr9OvRmSeuGEhqTilPfrHHdByjpLFykE37S3n4k3QmJIfym6kyWkG0nqeH4tmZQ5qX1N/azJGKWtORhJuoqW/i9jc3Uddo45UbUuQqZnFWLh8axdyxcby2Oof/bCk0HccYaawcIKe4ilsWpdEjxI/nZg2VA5bFWQvx9+Gl2cOpqG1g7usbOVbbYDqScHFNNs09725h54Fynrl2CEnhgaYjCSf20EV9GRnfld98sJ21WcWm4xghjVUblVbVc9PrqQAsvGkkIf4+hhMJZ9e/RzD/vn4Yew8f4xdvbaa+0b33K4j2o7Xm8c928fWuwzwyvR9T+kWYjiScnI+XB/NvSCG2mz+3v7GJ3QcrTEfqcNJYtUFlXSPzFm7kYHktr84ZQVxogOlIwkVM7h3Ok1cMZHVmMb/5YBs2Gb4n2sGLK7JYuDaXW8bHM3dcvOk4wkUE+3uzaN5IAny9mPt6KoVlNaYjdShprM5STX0TNy/cyI7Ccp6bNZThsV1MRxIu5uqUaB6Y2pv/bD3An5ftljEMwqEWrc3l6eV7mTG4Bw9d1Nd0HOFieoR0YuG8EVTXNzFnQSolle4zhkEaq7NQ29DEHW9tIjW3lH9cM1iOexDt5s7JiT9uBn3yiz3SXAmHeG9jHo8sTef8fhH8/ZrBeMi+UNEO+nTvzPwbUyg4Ws118ze4TXMljVUrVdc3cvOijazIKOKJywdy6ZCepiMJF6aU4pFL+nHD6FheXpnNE9JciTZ6Y10uv/1wBxN7hfH8dUPxliHGoh2NTujGa3NGsL+0iuvmb6DYDZor+YlqhYraBm58LZV1WSX87erBzBwZYzqScANKKR67tD83jonllZXZPPTxDhrdfACfODsvrcji4U/SmdI3glduGI6vlxxXI9rfuKTQH5urq19aR35ptelI7UoaKzsVltVw1Ytr2ZpfxnOzhnHV8CjTkYQbUUrxxxn9ufucJN5JzefOxZvlXEFhtyab5tGl6Tz5xR4uGdyDF2cPw89bmirRccYlhbL4llGUVtVzxYtr2XXAda8WlMbKDjsKyrnshTUcLK9l0byRXDxIpqqLjqeU4v6pvXn0kn58vfswV7+0zu2uthGtV1XXyO1vbvrx6r9nrh0ib/8JI4bHdmXJHWPwVIqrXlrLFzsOmo7ULuSn6wyWpOVz1Utr8fH04MNfjGVcUqjpSMLNzR0Xz/wbUsgprmLGc6tZn11iOpKwqOyiSi7/9xq+23OYP87ozx+m95MBxsKoXhFBfHL3OHpFBPGLxZv525d7aXKxcTLSWJ1GTX0Tv/toBw98sJ3hsV1+/EYQwgqm9IvgP3eNI9jfm9mvbuC11Tky60r8xLIdB5nx/BqKK+t5Y94o5oyNMx1JCAAiOvvx3u2juTYlmue/z+SWRRtd6opBaaxOYUveUS7+1yreSc3jjkmJvDFvJKGBvqZjCfETSeGB/OeucUzuHc7jn+3ihgUbOCBvDbq98poGfvXeVu5cvJnE8EA+/eV4xifLSruwFl8vT568ciCPXzaA1ZnFTH1mJV/vOmw6lkNIY9VCfaONv325lytfXEtdo423bxnFgxf2wUv2IwiL6uznzfwbh/OXyweyJa+Mqf9cyQebCmQkg5tamVHE1H+uZOm2A9w3JZkP7hhDz5BOpmMJcUpKKW4YHcvSu8cTFuTHrW+k8cCSbVQ4+RmpXqYDWMX3e47w+Ge7yC6u4urhUfy/S/rJCe/CKSiluG5UDOOTQrl/yTbuX7KNDzcV8PAl/egb2dl0PNEBCo5W88QXe/h8+0GSwgN55cbhDIoKMR1LCLv0jezMJ3eN49lvM3jxhyx+yCjiN1N7c+WwKKccXqtMvbJNSUnRaWlpRp67pcwjlfzp8138sLeIhLAAHp7ej8m9w03HEuKsNNk0b6fm8fev9lJR08CskTH8+vxedLPIW9lKqU1a6xTTOdrKKvWrur6Rl1Zk8/KKLJSCOyYlcsekRBmlIJzW9oIyHlmazpa8MgZFBfPIJf0YHtvVdCzA/vrlto1VxuFjvPB9Jp9uO0CAjxf3TknmxjFx+HjJ237C+ZVV1/PMN/t4c/1+fL08uGF0LDdPiCc8yM9oLmmsHONYbQNvrt/Pa6tyKKmq55LBPXjwwj7ytp9wCTab5pNthTz5xR4OV9QxqVcYvzw3iZQ4sw2WNFanoLVm0/6jvLoqh+Xph/D38eSG0bHcOjFBNqcLl5R55BjPfdf8AsLb04OZI6K5cWwciWGBRvJIY9U2h8preTs1j4VrcqiobWRSrzDuOS/JMq/ohXCkqrpGFq7N5bXVOZRW1TM6oSu3TUxgUq9wI2NDpLFqoay6no82F/JOah77jlQS5OfFTWPjuGlcPF0CfDokgxAm5RRX8dIPWXy4uYBGm2ZUfFeuGxXD1P7dO/RtI2msWq/JplmZUcTbqXl8t+cITTbNBf0iuPvcJNlHJdxCdX0j76Tm88rKLA5X1NEj2I9rR8RwzYgoIoM7bpXW7Rursup6vko/zLKdB1mTWUxDk2ZIdAjXjYxh+uBI/H1k375wP0XH6liyKZ93U/PJK60myNeL8/qGc9HASCb2Cmv3JksaK/s0NtnYkFPKsh0H+TL9EMWV9YQG+nB1SjQzR0QT2y2g3Z5bCKtqaLLxza7DvJ2ax6p9xSgFI2K7cuHA7kwb0L3dmyy3a6wammxsLyhj1b5i1mQWszmvjCabJqpLJy4eGMmMIT3o3yPYYc8nhDOz2TRrsor5dNsBvtp1mLLqBvx9PBkV35XxyWGMTwqlV0QgSjl2uV0aq9PLK6lmdWZz/VqTVUxZdQOdvD05t2840wdGcl7fCNkDKsRxeSXVfLSlgOU7D7Hn0DEA+vfozPjkUMYnhTIirqvDXyi6dGNls2n2l1azvaCMbfnlbC8oY+eBcmobbCgFg3oGMz45lGn9IxnQs7PDfzkI4Uoammyszy7hq/TDrMksJru4CoAQf28G9gxmcFQIg6KCGRwdQniQb5t+nqSxana0qp7theVszy9jW0FzDTtyrHnydGSwH+OSQpnSN4JJvcLo5CNX+Anxc7KKKlm+8xArM4rYnHeUhiaNt6eiT/fOzbUrKoRB0cEkhQW2aS6lQxsrpdQ04FnAE3hVa/3kSV/3Bd4AhgMlwLVa69yfe0x7C1N5TQPf7TlMdlEV2UVVZBVVkltSRW2DDQA/bw8G9AhmUFQII+K6MCaxGyH+sm9KiLNVWFbDmsxituQdZWt+ORmHj/14lleQnxcJYYEkhgaQEBZAQlgg0/p3t3vWjInGymT9guahnbsPVjTXsOJKsouqKKmq//HrCWEBDIkKYUhMCOOSQkkIDZAXg0Kcper6RlJzStmQU8r2gjK2F5RzrLYRAG9PRUxXfxLCAkkICyAxNJCJvcLoHmzf1dL21q8zbjRSSnkCLwDnAwXARqXUUq31rhZ3uxk4qrVOUkrNBJ4CrrUr6RkcrarnV+9tw0Px41/I+KRQkiMCGdgzhF4RbetAhRA/1TOkE9ekRHNNSjTQfG7mroPl7CgoJ+v4i5u1WSV8tKWQLv7eXDQw0nDi0zNdvwD++U0GW/LKCA30ISE0kPP7RZAQFsCAHsEMiAqWQcRCOJC/jxeTe4f/OI/SZtPklFSxvaCMjMOVZBc1v7j5Ye8RGpo0r88dYXdjZS97dnCPBDK11tkASql3gUuBloXpUuDR4x9/ADyvlFLaAe8zRnf155tfTySma4DsLxDCgE4+ngyP7fo/l/RX1TVyqKLWUCq7Ga1fAM9eO5TgTt4E+0sDJURH8/BQJIYF/s+ImcYmGwVHawgLcvyoJXs6lZ5AfovbBcc/d8r7aK0bgXKg28kPpJS6TSmVppRKKyoqsiugp4ciKTxImiohLCbA18vYPKxWMFq/AGK6+UtTJYTFeHl6EBcaQICv4ycE2NOtnOrN/pNfydlzH7TWr2itU7TWKWFhYfbkE0KItpD6JYToUPY0VgVAdIvbUcCB091HKeUFBAOljggohBBtIPVLCNGh7GmsNgLJSql4pZQPMBNYetJ9lgJzjn98FfCdo/YnCCFEG0j9EkJ0qDO+uai1blRK3Q18SfPlygu01ulKqceANK31UuA14E2lVCbNr/RmtmdoIYSwh9QvIURHs2vXltZ6GbDspM893OLjWuBqx0YTQoi2k/olhOhIxiavK6WKgP2t+COhQHE7xWkLydV6Vs1m1Vxg3WytzRWrtXb6nd9SvzqEVbNZNRdYN5tVc0HrstlVv4w1Vq2llEqz4lEYkqv1rJrNqrnAutmsmstqrPr3ZNVcYN1sVs0F1s1m1VzQPtlkOJQQQgghhINIYyWEEEII4SDO1Fi9YjrAaUiu1rNqNqvmAutms2ouq7Hq35NVc4F1s1k1F1g3m1VzQTtkc5o9VkIIIYQQVudMK1ZCCCGEEJYmjZUQQgghhIM4TWOllHpcKbVdKbVVKfWVUqqH6UwnKKX+qpTaczzfx0qpENOZAJRSVyul0pVSNqWU8UtdlVLTlFJ7lVKZSqkHTec5QSm1QCl1RCm103SWlpRS0Uqp75VSu4//O95rOtMJSik/pVSqUmrb8Wx/NJ3J6qxaw6xav0BqmL2khrVOe9cvp9ljpZTqrLWuOP7xPUA/rfUdhmMBoJS6gObzxRqVUk8BaK1/azgWSqm+gA14Gbhfa51mMIsnkAGcT/OhtxuBWVrrXaYynaCUmghUAm9orQeYznOCUioSiNRab1ZKBQGbgMss8nemgACtdaVSyhtYDdyrtV5vOJplWbWGWbV+gdQwe0kNa3Wudq1fTrNidaIgHRcAWKYj1Fp/pbVuPH5zPRBlMs8JWuvdWuu9pnMcNxLI1Fpna63rgXeBSw1nAkBrvZLmM+IsRWt9UGu9+fjHx4DdQE+zqZrpZpXHb3of/88yP5NWZNUaZtX6BVLD7CU1rHXau345TWMFoJT6s1IqH7geePhM9zdkHvCF6RAW1BPIb3G7AAv8gDkLpVQcMBTYYDbJfymlPJVSW4EjwNdaa8tksyonqGFSv05PalgbWK2GtWf9slRjpZT6Rim18xT/XQqgtf691joaWAzcbaVsx+/ze6DxeD7L5LIIdYrPWeIVu9UppQKBD4H7Tlr1MEpr3aS1HkLzCsdIpZRl3oIwxao1zKr1y95sFiE17CxZsYa1Z/3yctQDOYLWeoqdd30b+Bx4pB3j/MSZsiml5gDTgfN0B25ca8XfmWkFQHSL21HAAUNZnMbx9/8/BBZrrT8ynedUtNZlSqkfgGmApTbPdjSr1jCr1i+QGubqrF7D2qN+WWrF6ucopZJb3JwB7DGV5WRKqWnAb4EZWutq03ksaiOQrJSKV0r5ADOBpYYzWdrxDZavAbu11v8wnaclpVTYiavHlFKdgClY6GfSiqxaw6R+2U1qWCtZtYa1d/1ypqsCPwR603yFyH7gDq11odlUzZRSmYAvUHL8U+stcrXP5cBzQBhQBmzVWk81mOci4BnAE1igtf6zqSwtKaXeASYDocBh4BGt9WtGQwFKqfHAKmAHzd/3AA9prZeZS9VMKTUIWETzv6UH8L7W+jGzqazNqjXMqvULpIbZS2pY67R3/XKaxkoIIYQQwuqc5q1AIYQQQgirk8ZKCCGEEMJBpLESQgghhHAQaayEEEIIIRxEGishhBBCCAeRxkoIIYQQwkGksRJCCCGEcJD/D4xp+W/8Qf/QAAAAAElFTkSuQmCC\n",
          "text/plain": "<Figure size 720x216 with 2 Axes>"
         },
         "metadata": {
          "needs_background": "light"
         },
         "output_type": "display_data"
        }
       ]
      }
     },
     "adabb52111214f26b36537930ce923bb": {
      "model_module": "@jupyter-widgets/controls",
      "model_module_version": "1.4.0",
      "model_name": "SliderStyleModel",
      "state": {
       "description_width": ""
      }
     },
     "adebc7a835c0440799cd0d13170a9ab4": {
      "model_module": "@jupyter-widgets/base",
      "model_module_version": "1.1.0",
      "model_name": "LayoutModel",
      "state": {}
     },
     "b135a8f5b0904e68b41903e542a9f683": {
      "model_module": "@jupyter-widgets/base",
      "model_module_version": "1.1.0",
      "model_name": "LayoutModel",
      "state": {}
     },
     "b28e37f04e354e4591f552e9a8f11db6": {
      "model_module": "@jupyter-widgets/controls",
      "model_module_version": "1.4.0",
      "model_name": "VBoxModel",
      "state": {
       "_dom_classes": [
        "widget-interact"
       ],
       "children": [
        "IPY_MODEL_98543bfc7ad54b62ba5b4fa13ceb88af",
        "IPY_MODEL_849738bd299f4718a48d3d7d8b89a653",
        "IPY_MODEL_859fe3fffd19458ab406bdc351478b64"
       ],
       "layout": "IPY_MODEL_ff13f10ead914c04b766763ac5723c8e"
      }
     },
     "b3dc2a00753545abb6e64ee14e3b9d95": {
      "model_module": "@jupyter-widgets/controls",
      "model_module_version": "1.4.0",
      "model_name": "VBoxModel",
      "state": {
       "_dom_classes": [
        "widget-interact"
       ],
       "children": [
        "IPY_MODEL_ed1b12b96f5b4bc99eaa890a991f27c0",
        "IPY_MODEL_c9d1930950654eb2a4ea722cc797121b",
        "IPY_MODEL_7673dfdd844f46919f5ee7719df5d6ae"
       ],
       "layout": "IPY_MODEL_31d6c3fcdb63406ba0fe2a3581449174"
      }
     },
     "b4a31a4548e7457b990ade412af34cdd": {
      "model_module": "@jupyter-widgets/controls",
      "model_module_version": "1.4.0",
      "model_name": "FloatSliderModel",
      "state": {
       "description": "variant",
       "layout": "IPY_MODEL_c92fe1bba51648acb077364a4d4baf47",
       "max": 2,
       "min": 0.1,
       "step": 0.1,
       "style": "IPY_MODEL_319f4a2e6cc943c1b3ed8719fe78fb96",
       "value": 1
      }
     },
     "b4fa2258cec44e999b43cdf939d15b4e": {
      "model_module": "@jupyter-widgets/output",
      "model_module_version": "1.0.0",
      "model_name": "OutputModel",
      "state": {
       "layout": "IPY_MODEL_31e9c0cb15ac4f2ba472d85e3b3fbf8c",
       "outputs": [
        {
         "data": {
          "image/png": "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\n",
          "text/plain": "<Figure size 432x288 with 2 Axes>"
         },
         "metadata": {
          "needs_background": "light"
         },
         "output_type": "display_data"
        }
       ]
      }
     },
     "b5fa5ada4c664634b044ea5ed67b1663": {
      "model_module": "@jupyter-widgets/controls",
      "model_module_version": "1.4.0",
      "model_name": "VBoxModel",
      "state": {
       "_dom_classes": [
        "widget-interact"
       ],
       "children": [
        "IPY_MODEL_0f2842c94d64476f9dd3672a6951bb57",
        "IPY_MODEL_779ac138fc5349c29639c0b089ed5bc3",
        "IPY_MODEL_317bb61f1f2b4999b2df8e0bf11786cd"
       ],
       "layout": "IPY_MODEL_884190054bdf4407938f479d27e98855"
      }
     },
     "b7b165b463a447439f7abaff4366095f": {
      "model_module": "@jupyter-widgets/base",
      "model_module_version": "1.1.0",
      "model_name": "LayoutModel",
      "state": {}
     },
     "b88e14f65af74d4aada3bff096f07510": {
      "model_module": "@jupyter-widgets/controls",
      "model_module_version": "1.4.0",
      "model_name": "SliderStyleModel",
      "state": {
       "description_width": ""
      }
     },
     "b95aa2c02a3b46a9b5d0778a642ea857": {
      "model_module": "@jupyter-widgets/controls",
      "model_module_version": "1.4.0",
      "model_name": "FloatSliderModel",
      "state": {
       "description": "mu",
       "layout": "IPY_MODEL_1306eb17a8ec4ac2b5b4931e3e294c58",
       "max": 1,
       "min": -1,
       "step": 0.1,
       "style": "IPY_MODEL_b88e14f65af74d4aada3bff096f07510"
      }
     },
     "b9a44efd3eb64564953f5cca837b1545": {
      "model_module": "@jupyter-widgets/base",
      "model_module_version": "1.1.0",
      "model_name": "LayoutModel",
      "state": {}
     },
     "ba367a979dd7477c96ad31150ff12101": {
      "model_module": "@jupyter-widgets/controls",
      "model_module_version": "1.4.0",
      "model_name": "FloatSliderModel",
      "state": {
       "description": "variant",
       "layout": "IPY_MODEL_6f67ef0ab0ee473b935c0bad1dd922e2",
       "max": 2,
       "min": 0.1,
       "step": 0.1,
       "style": "IPY_MODEL_e30fa054cbdb4b31b867ffe40f69db08",
       "value": 1.4
      }
     },
     "bd9b1b3bbd174ef09800a430a1471120": {
      "model_module": "@jupyter-widgets/base",
      "model_module_version": "1.1.0",
      "model_name": "LayoutModel",
      "state": {}
     },
     "bdef0179ed64486abf95c0fffde42d09": {
      "model_module": "@jupyter-widgets/base",
      "model_module_version": "1.1.0",
      "model_name": "LayoutModel",
      "state": {}
     },
     "be2e24e194a14d97ac1a76d0290685c7": {
      "model_module": "@jupyter-widgets/base",
      "model_module_version": "1.1.0",
      "model_name": "LayoutModel",
      "state": {}
     },
     "be3af6d398c646ab8ecfbce449cf7e80": {
      "model_module": "@jupyter-widgets/base",
      "model_module_version": "1.1.0",
      "model_name": "LayoutModel",
      "state": {}
     },
     "bf1098e9c29d49ce9cf8adbea588eaf2": {
      "model_module": "@jupyter-widgets/controls",
      "model_module_version": "1.4.0",
      "model_name": "SliderStyleModel",
      "state": {
       "description_width": ""
      }
     },
     "c0f8a953d5e5477e85890f076963e744": {
      "model_module": "@jupyter-widgets/controls",
      "model_module_version": "1.4.0",
      "model_name": "VBoxModel",
      "state": {
       "_dom_classes": [
        "widget-interact"
       ],
       "layout": "IPY_MODEL_628a3fd28a224ef09459c7baa05ce56d"
      }
     },
     "c241d6d3d03f4696b122402a832e6bf6": {
      "model_module": "@jupyter-widgets/controls",
      "model_module_version": "1.4.0",
      "model_name": "SliderStyleModel",
      "state": {
       "description_width": ""
      }
     },
     "c2d1807c5cf34a6b80b2615384401957": {
      "model_module": "@jupyter-widgets/output",
      "model_module_version": "1.0.0",
      "model_name": "OutputModel",
      "state": {
       "layout": "IPY_MODEL_80512d1154354befbbde8b50b6aa1bda",
       "outputs": [
        {
         "data": {
          "image/png": "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\n",
          "text/plain": "<Figure size 432x288 with 1 Axes>"
         },
         "metadata": {
          "needs_background": "light"
         },
         "output_type": "display_data"
        }
       ]
      }
     },
     "c2f2618d05494d46b7c3e9fe9f8720a8": {
      "model_module": "@jupyter-widgets/controls",
      "model_module_version": "1.4.0",
      "model_name": "SliderStyleModel",
      "state": {
       "description_width": ""
      }
     },
     "c30bca72632f4534871f353430ebaf7c": {
      "model_module": "@jupyter-widgets/base",
      "model_module_version": "1.1.0",
      "model_name": "LayoutModel",
      "state": {}
     },
     "c50841599d654ea989c3486226fed5b7": {
      "model_module": "@jupyter-widgets/base",
      "model_module_version": "1.1.0",
      "model_name": "LayoutModel",
      "state": {}
     },
     "c77bdc209e564febab795b065c81b08a": {
      "model_module": "@jupyter-widgets/base",
      "model_module_version": "1.1.0",
      "model_name": "LayoutModel",
      "state": {}
     },
     "c7a62d9992894020bf95c64955c20056": {
      "model_module": "@jupyter-widgets/controls",
      "model_module_version": "1.4.0",
      "model_name": "FloatSliderModel",
      "state": {
       "description": "mu",
       "layout": "IPY_MODEL_81c5a27c807a4f0ebe4ddac7e4b9aa0b",
       "max": 1,
       "min": -1,
       "step": 0.1,
       "style": "IPY_MODEL_17b53a79865b415d97738d3ad1cd7dd0"
      }
     },
     "c7a96c6ecadf4072997ccbaae2febdd4": {
      "model_module": "@jupyter-widgets/base",
      "model_module_version": "1.1.0",
      "model_name": "LayoutModel",
      "state": {}
     },
     "c88761186f8645598fa00d0c410d7f9b": {
      "model_module": "@jupyter-widgets/controls",
      "model_module_version": "1.4.0",
      "model_name": "FloatSliderModel",
      "state": {
       "description": "mu",
       "layout": "IPY_MODEL_feb03cc7fb764490b7c7e7cb2782f2e2",
       "max": 1,
       "min": -1,
       "step": 0.1,
       "style": "IPY_MODEL_89eddf97f06d4bdea5125379766e7897"
      }
     },
     "c92fe1bba51648acb077364a4d4baf47": {
      "model_module": "@jupyter-widgets/base",
      "model_module_version": "1.1.0",
      "model_name": "LayoutModel",
      "state": {}
     },
     "c9444b75d7594f8bba65f07fe3e252cb": {
      "model_module": "@jupyter-widgets/base",
      "model_module_version": "1.1.0",
      "model_name": "LayoutModel",
      "state": {}
     },
     "c9d1930950654eb2a4ea722cc797121b": {
      "model_module": "@jupyter-widgets/controls",
      "model_module_version": "1.4.0",
      "model_name": "FloatSliderModel",
      "state": {
       "description": "variant",
       "layout": "IPY_MODEL_9edf691388844a6e880a2cc01e3204fe",
       "max": 2,
       "min": 0.1,
       "step": 0.1,
       "style": "IPY_MODEL_cc62cafcde53487fab264d7bf2bc56fd",
       "value": 1
      }
     },
     "ca0599cef852448d866109a27cdf276d": {
      "model_module": "@jupyter-widgets/controls",
      "model_module_version": "1.4.0",
      "model_name": "SliderStyleModel",
      "state": {
       "description_width": ""
      }
     },
     "cb8883a2c8be433e838d29bcf4b32e41": {
      "model_module": "@jupyter-widgets/controls",
      "model_module_version": "1.4.0",
      "model_name": "VBoxModel",
      "state": {
       "_dom_classes": [
        "widget-interact"
       ],
       "children": [
        "IPY_MODEL_cea690ddb25b498bb18283a056322bc1",
        "IPY_MODEL_63bdf7e1cc87448c9fe829be4ba9e0d0",
        "IPY_MODEL_d8df556ff39542b4a9d29d49798bc545"
       ],
       "layout": "IPY_MODEL_a633b3ceb41240acb3b5a18dee9ebdaa"
      }
     },
     "cc62cafcde53487fab264d7bf2bc56fd": {
      "model_module": "@jupyter-widgets/controls",
      "model_module_version": "1.4.0",
      "model_name": "SliderStyleModel",
      "state": {
       "description_width": ""
      }
     },
     "cce1f8951bda4712963e101f9d53119d": {
      "model_module": "@jupyter-widgets/base",
      "model_module_version": "1.1.0",
      "model_name": "LayoutModel",
      "state": {}
     },
     "cced653f88464a89acaf06a72e2e607e": {
      "model_module": "@jupyter-widgets/base",
      "model_module_version": "1.1.0",
      "model_name": "LayoutModel",
      "state": {}
     },
     "cd6405527e164761acf2fcb565feeb46": {
      "model_module": "@jupyter-widgets/controls",
      "model_module_version": "1.4.0",
      "model_name": "VBoxModel",
      "state": {
       "_dom_classes": [
        "widget-interact"
       ],
       "children": [
        "IPY_MODEL_90df56ff88e047b6be14cbc1955940b2",
        "IPY_MODEL_f7fc0eff8d3c43819c1f595a5b4341f3",
        "IPY_MODEL_37570f1463cd41b4b88acd57ec7d5324"
       ],
       "layout": "IPY_MODEL_fc0f55ae1602435fa12e5206b8d0116c"
      }
     },
     "ce0f8eba711c4c4fb19c295fb631d7d3": {
      "model_module": "@jupyter-widgets/base",
      "model_module_version": "1.1.0",
      "model_name": "LayoutModel",
      "state": {}
     },
     "cea690ddb25b498bb18283a056322bc1": {
      "model_module": "@jupyter-widgets/controls",
      "model_module_version": "1.4.0",
      "model_name": "FloatSliderModel",
      "state": {
       "description": "mu",
       "layout": "IPY_MODEL_5422bac966814ef68757e1977b56a620",
       "max": 1,
       "min": -1,
       "step": 0.1,
       "style": "IPY_MODEL_e83bb4c7a18644168b5def9eef6461a9",
       "value": -0.1
      }
     },
     "d01467860a93450b8ab1b081db41d73b": {
      "model_module": "@jupyter-widgets/controls",
      "model_module_version": "1.4.0",
      "model_name": "VBoxModel",
      "state": {
       "_dom_classes": [
        "widget-interact"
       ],
       "children": [
        "IPY_MODEL_9b445d82eb754cf6a828e9e86833ef19",
        "IPY_MODEL_d935697a68eb484c937557382efe3174",
        "IPY_MODEL_898e8d99b0884f89b774f3c9e2e3ad49"
       ],
       "layout": "IPY_MODEL_65f3bb72d3df4e698bb95be81d3e0508"
      }
     },
     "d065de5ac7314415ac3f2dbbc5996f4c": {
      "model_module": "@jupyter-widgets/controls",
      "model_module_version": "1.4.0",
      "model_name": "FloatSliderModel",
      "state": {
       "description": "variant",
       "layout": "IPY_MODEL_c30bca72632f4534871f353430ebaf7c",
       "max": 2,
       "min": 0.1,
       "step": 0.1,
       "style": "IPY_MODEL_3446bbc6c82b4922967c96acbfadd756",
       "value": 1.4
      }
     },
     "d34fe636f9944677b5be5bc300316a11": {
      "model_module": "@jupyter-widgets/base",
      "model_module_version": "1.1.0",
      "model_name": "LayoutModel",
      "state": {}
     },
     "d441a781fa164f39b2e8782d8289f30d": {
      "model_module": "@jupyter-widgets/base",
      "model_module_version": "1.1.0",
      "model_name": "LayoutModel",
      "state": {}
     },
     "d7f1e577b66a4fa7ad558d62e56c92a0": {
      "model_module": "@jupyter-widgets/controls",
      "model_module_version": "1.4.0",
      "model_name": "VBoxModel",
      "state": {
       "_dom_classes": [
        "widget-interact"
       ],
       "children": [
        "IPY_MODEL_b95aa2c02a3b46a9b5d0778a642ea857",
        "IPY_MODEL_89ec9294104b439bbf2de6a13aa0c189",
        "IPY_MODEL_671171134fb6441cac6711c1e3022df2"
       ],
       "layout": "IPY_MODEL_056b5b3cf00d4384a8543d7c6aa7e37c"
      }
     },
     "d8308bdb8b6a4b589d448fd54fcaef08": {
      "model_module": "@jupyter-widgets/controls",
      "model_module_version": "1.4.0",
      "model_name": "VBoxModel",
      "state": {
       "_dom_classes": [
        "widget-interact"
       ],
       "children": [
        "IPY_MODEL_e17ba7f44daa4aa9b40bf8135c9e1d58",
        "IPY_MODEL_09c8403726084d70bca29f77c3658f63",
        "IPY_MODEL_63c250827de443b39bb6a1effb0c2f2b"
       ],
       "layout": "IPY_MODEL_39b796ee068445df8dca63791231c5bd"
      }
     },
     "d8df556ff39542b4a9d29d49798bc545": {
      "model_module": "@jupyter-widgets/output",
      "model_module_version": "1.0.0",
      "model_name": "OutputModel",
      "state": {
       "layout": "IPY_MODEL_6cad7b9164d94126bc9b19363e213688",
       "outputs": [
        {
         "data": {
          "image/png": "iVBORw0KGgoAAAANSUhEUgAAAlYAAADUCAYAAABeQm3lAAAABHNCSVQICAgIfAhkiAAAAAlwSFlzAAALEgAACxIB0t1+/AAAADl0RVh0U29mdHdhcmUAbWF0cGxvdGxpYiB2ZXJzaW9uIDMuMC4zLCBodHRwOi8vbWF0cGxvdGxpYi5vcmcvnQurowAAIABJREFUeJzt3Xl8lOW5//HPlR1CEpaELSSsYd+JgKiAioor1WqrrVsXPba1trW2xy7HX2vb01ZPtZvVal26uFSsbbGiWBcWEYSAbGEnbElYAiSBANnv3x+ZYEyDTGAyzzOZ7/v1ysvMzDMzX4FcueZ+7ue+zTmHiIiIiJy5GK8DiIiIiLQXaqxEREREQkSNlYiIiEiIqLESERERCRE1ViIiIiIhosZKREREJETUWImIiIiEiBorERERkRBRYyWnzczyzWy6D3IMMbMPzOyImd3ldR4R8T/VL2kraqyihJnNM7P7W7h/lpntNbO41r6mc26Ec25+CLLtMLMZZ/AS3wbmO+dSnHO/PtM8IuIv0V6/zKy/mb1mZqVmVmRmnzuD95M2psYqejwD3GRm1uz+m4BnnXO1wb7Q6RSxNtYXyPc6hIi0mWeI7vr1EvBvIB24Dfh+W4eS06fGKnr8A+gKnNd4h5l1Aa4A/hS4fa+ZbQsMSa83s6ubHLvDzP7bzNYAR80srukntY97bpPn32Nma8ys3Mz+amZJZvZnIBt4xcwqzOzbLYU3s2FmNt/MygJD+FcF7n8bOB/4beD5g1t4bryZ/SSQocbMXOBr9Rn9iYpIuERz/RoNdHPOPeScqwvcXXKaf44SDs45fUXJF/AE8Icmt/8LWNXk9nVAbxoa7k8DR4Fegcd2AKuALKBDk/tmnOq5TY5dFjimK7ABuKP565wkdzywFfgukABcABwBhgQenw988WOe/3NgaSB7MvAm8DIwwOu/E33pS1/BfUVx/foS8JdAtgnARuAWr/8+9HXyL41YRZc/AteZWYfA7ZsD9wHgnJvtnCt2ztU75/4KbAEmNnn+r51zu51zx5u/cBDPbXx+sXPuEPAKMDbI3JOBTsDPnHPVzrm3gX8BN5zqiWaWAtwF3BTIfhT4G9DVOVcQ5PuLiPeirn4FjAXygHcC/z1GwwdD8Sk1VlHEOfcuDUPIs8xsAHAW8Fzj42Z2s5mtCgxXlwEjaTin32j3yV47iOcC7G3y/TEaik0wegO7nXP1Te7bCWQG8dypQIFzbkuT+7o0yyIiPhel9QsaGqvlNJwyHAQcAh4I8rniAb9N4pO29ycaPukNAd5wzu0DMLO+NAy1Xwgscc7VmdkqoOlkUdfSCwb53I/T4us2UQxkmVlMk+KUDWwO4rUzgNImWQ24GvhVkNlExD+iqn6ZWSwwDPgg8NxtZrYY6B5kNvGARqyiz5+AGTRcWfLHJvcn01AgSgACl/OODPI1z+S5APuAAR/z+Ps0zHn4dmAi+nTgSuCFIF57HTDezMYGTiH8NJD1r63IJyL+EG31awjQEbjUzGLNbCzwBT76/y4+o8YqyjjndgDv0VBM5jS5fz3wC2AJDYViFLA4yNc87ecG/BT4fmAY/p4WXr8auAq4FDgA/A642Tm3MYhsecBPgLlAAdATuMw5V9OKfCLiA9FWv4BxQGO+MhqWnbjLObe0FfkkzMy5U41iioiISLiZ2YPAIefcT73OIsHTiJWIiIg/jaNhaQeJIEE1VmY208w2mdlWM7u3hcezzewda9jvaI2ZXRb6qCIiraf6JRFsDA3rVkkEOeWpwMBVCZuBi4BCGi77vCFwXrrxmMdpuGrhUTMbDsx1zvVrs9QiIkFQ/RKRcAtmxGoisNU5VxCYhPcCMKvZMQ5IDXyfRsPlpSIiXlP9EpGwCmYdq0w+urBaITCp2TE/AN4ws6/ScLXGmez0LSISKqpfIhJWwTRWLS2S1vz84Q3AM865X5jZ2cCfzWxks5VmMbPbgdsBkpOTJwwdOvR0MksEOHi0muKyj+4ckZGSSM/UJI8SiR+sWLHigHMuI4xvqfolIiERbP0KprEqpGHjykZ9+M+h8i8AMwGcc0vMLImG7QD2Nz3IOfc48DhAbm6uy8vLC+LtJdK8tKKQe2av5qZh3fnpNaNJjI/hR6+sZ/aKQr4wcyhfmj7Q64jiETPbGea3VP0SkZAItn4FM8dqOZBjZv3NLAG4niYLswXsomE7AMxsGJBEYBVbiS7bSir4n3+sY/KArjx24wQyUhJJTYrn558czRWje/HAvI2s2l3mdUyJHqpfIhJWp2ysnHO1wJ3APBrW03jROZdvZveb2VWBw74J3GZmq4HngVudVh6NSj95dQNxscavrh9HXOyH/7xiYoyfXjOKjE6J3PfPddTV65+HtD3VLxEJt6A2YXbOzaVhS5Cm993X5Pv1wDmhjSaRZsm2g7y9cT//PXMoPVqYS5WSFM/3Lh/G115Yxb/WFDNrbLCbu4ucPtUvEQknrbwuIfPIO1vpnpLI587pd9Jjrhzdm4EZyTw6fxsaFBARkfZGjZWExOZ9R3h36wFumdKPpPjYkx4XE2PcMW0gG/ceYcFmTWMREZH2RY2VhMTTi3eQGBfDZyZmn/LYWWMzSe+UwPPLdoUhmYiISPiosZIzVllTx79WF3P56F50SU445fEJcTFcM74Pb23YT8mRqjAkFBERCQ81VnLG/r1+H0eqarl2fJ+gn/Op3Cxq6x1//6CwDZOJiIiElxorOWMvryykd1oSkwd0C/o5g7p3YkxWZ15ZvacNk4mIiISXGis5I+XHa1i05QBXjulNTExLu4ec3OWjerK2qJxdB4+1UToREZHwUmMlZ+TtjfuorXdcMrJnq5976cheAMxdp1ErERFpH9RYyRmZt24fPVITGdunc6ufm9W1I2P6pPH6ur1tkExERCT81FjJaausqWPB5hIuHt6z1acBG10wtAerC8s4UKGrA0VEJPKpsZLT9v72QxyvqeOCYd1P+zUuHNYd52D+Ji0WKiIikU+NlZy2+Zv2kxgXw9mtuBqwuRG9U+meksjbG/eFMJmIiIg3gmqszGymmW0ys61mdm8Ljz9sZqsCX5vNrCz0UcVvFmwqYfKAbh+7hc2pmBnTh2SwaMsB6uq1d6CEnuqXiITTKRsrM4sFHgEuBYYDN5jZ8KbHOOe+4Zwb65wbC/wGeLktwop/7D50jIIDR5k2OOOMX+ucQekcqaxlffHhECQT+ZDql4iEWzAjVhOBrc65AudcNfACMOtjjr8BeD4U4cS/lmw7CMB5Oeln/FqNpxLf23bgjF9LpBnVLxEJq2Aaq0xgd5PbhYH7/oOZ9QX6A2+f5PHbzSzPzPJKSjRZOZItLThIt+QEBnXvdMav1T01iYEZybwXaNZEQkj1S0TCKpjGqqXr6E82GeZ64CXnXF1LDzrnHnfO5TrncjMyzvwUknjDOcf72w8xeUA3zE5vmYXmpgxMZ/mOQ9TU1Yfk9UQCVL9EJKyCaawKgawmt/sAxSc59no0jN7uFZYep6jsOJMGdA3Za04Z2I1j1XWsKdS8YQkp1S8RCatgGqvlQI6Z9TezBBqKz5zmB5nZEKALsCS0EcVvlhQ0nLJrzabLpzIp8FpLdDpQQkv1S0TC6pSNlXOuFrgTmAdsAF50zuWb2f1mdlWTQ28AXnDO6Zr5dm5pwUG6JieQE4L5VY26JicwrFeq5llJSKl+iUi4xQVzkHNuLjC32X33Nbv9g9DFEj97v+AQkwd0Ddn8qkZTBnbjL0t3UllTd0ZrY4k0pfolIuGkldelVXYfOkZR2fGQngZsNHlAN6pq61lTWB7y1xYREQkHNVbSKksD86sm9Q99YzU+uzMAK3eVhvy1RUREwkGNlbRK3o5SOneMD+n8qkbdOiXSPz2ZFTvVWImISGRSYyWt8sHuUsZldSYmJrTzqxqNy+7MB7tK0RxiERGJRGqsJGiHK2vYsr+Ccdld2uw9JvTtwoGKanYdOtZm7yEiItJW1FhJ0FbvLsO5hlGltjI+0LRpnpWIiEQiNVYStA92lWEGY7LarrEa3COFTolxmmclIiIRSY2VBG3lrlJyunciNSm+zd4jNsYYm9WZlTu1tY2IiEQeNVYSFOccH+wqY1xW282vajQ+uzMb9x6moqq2zd9LREQklNRYSVC2HzhK+fEaxvdtu9OAjcb37UK9gzW7NWolIiKRRY2VBGXlroYmpy2vCGzU+B6aZyUiIpEmqMbKzGaa2SYz22pm957kmE+Z2Xozyzez50IbU7z2wa5SUhLjGJQR+oVBm0vrEM+A9GTWFGlrGzlzql8iEk6n3ITZzGKBR4CLgEJguZnNcc6tb3JMDvAd4BznXKmZdW+rwOKND3aVMaYNFwZtblSfNN4vOBSW95L2S/VLRMItmBGricBW51yBc64aeAGY1eyY24BHnHOlAM65/aGNKV6qrKlj874jjO6TFrb3HN2nM3sPV7L/cGXY3lPaJdUvEQmrYBqrTGB3k9uFgfuaGgwMNrPFZrbUzGa29EJmdruZ5ZlZXklJyekllrDbtPcItfWOUZnhbKwa3mutTgfKmVH9EpGwCqaxauncT/ON3OKAHGA6cAPwBzP7j8vHnHOPO+dynXO5GRkZrc0qHmlsbkaGsbEa3iuVGIM1hWqs5IyofolIWAXTWBUCWU1u9wGKWzjmn865GufcdmATDYVK2oF1ReWkdYinT5cOYXvP5MQ4BnXvpBErOVOqXyISVsE0VsuBHDPrb2YJwPXAnGbH/AM4H8DM0mkYWi8IZVDxztqickZlpmEWnonrjUZldmZNYRnONR9gEAma6peIhNUpGyvnXC1wJzAP2AC86JzLN7P7zeyqwGHzgINmth54B/iWc+5gW4WW8KmqbZi4Hs7TgI3GZKVxoKKaPeWawC6nR/VLRMLtlMstADjn5gJzm913X5PvHXB34Evakc17K6ipC+/E9UaN77mmsJzencN3GlLaF9UvEQknrbwuH6txjpMXjdWwXqnExRhri7S1jYiIRAY1VvKx1haVk5oUR1bX8I8YJcXHMrhHiq4MFBGRiKHGSj7WuqJyRnowcb3R6D5prC0q1wR2ERGJCGqs5KSqa+vZtPeIJ6cBG43qk0bZsRoKS497lkFERCRYaqzkpDbvO0J1Xb0nVwQ2GtOnYZ3G1YWaZyUiIv6nxkpOap2HE9cbDe6RQkJsDGs1z0pERCKAGis5qbVF5aQkxpHdtaNnGRLiYhjWSxPYRUQkMqixkpNaV1TOiMxUYmK8mbjeaFSfNNYVlVNfrwnsIiLib2qspEU1dfVs8HjieqNRmWkcqapl56FjXkcRERH5WGqspEVb9lVQXevtxPVGjRm0IbOIiPidGitpkR8mrjfK6d4wgT1fjZWIiPhcUI2Vmc00s01mttXM7m3h8VvNrMTMVgW+vhj6qBJOa4vK6ZQYR79uyV5HISEuhqG9UjRiJadF9UtEwumUmzCbWSzwCHARUAgsN7M5zrn1zQ79q3PuzjbIKB5YW1TO8N7eT1xvNDIzjX+tLsY559kq8BJ5VL9EJNyCGbGaCGx1zhU456qBF4BZbRtLvFRbV8+GPYd9cRqw0cjeaRyurGX3Ia3ALq2i+iUiYRVMY5UJ7G5yuzBwX3OfNLM1ZvaSmWWFJJ14YmtJBVW19b5qrEZpArucHtUvEQmrYBqrls67NF9Q6BWgn3NuNPAm8McWX8jsdjPLM7O8kpKS1iWVsGlc5XxkZqrHST40uGcn4mONdcVqrKRVVL9EJKyCaawKgaaf4PoAxU0PcM4ddM5VBW4+AUxo6YWcc48753Kdc7kZGRmnk1fCYF1ROR0TYumf3snrKCckxsUyuEfKiasVRYKk+iUiYRVMY7UcyDGz/maWAFwPzGl6gJn1anLzKmBD6CJKuK0tKmdE71RifTJxvdGozDTWFpXjnFZgl6CpfolIWJ2ysXLO1QJ3AvNoKDgvOufyzex+M7sqcNhdZpZvZquBu4Bb2yqwtK3aunrW7znsi4VBmxuRmUbZsRqKyjSBXYKj+iUi4XbK5RYAnHNzgbnN7ruvyfffAb4T2mjihYIDR6ms8dfE9UaNmdYVldOni3cbQ0tkUf0SkXDSyuvyER9OXPdfYzW0ZwqxMaYrA0VExLfUWMlHrC0qp0N8LAMz/DNxvVFSfCw53Tuxruiw11FERERapMZKPmJdYMV1v01cbzQqM411msAuIiI+pcZKTqird+QX+2vF9eZGZqZx8Gg1e8orvY4iIiLyH9RYyQkFJRUcr6nz5fyqRiObTGAXERHxGzVWckLjquZ+WnG9ueG9UokxNVYiIuJPaqzkhLWFh0mKj2GQDyeuN+qQEMug7p10ZaCIiPiSGis5YV1ROcN6pRIX6+9/FiMz01hXrCsDRUTEf/z9G1TCpr7ekV9c7uuJ641G9k6j5EgV+w5rAruIiPiLGisBGlZcP1rt74nrjUb1acjYuJipiIiIX6ixEgDyGyeu9/Z/YzW8VypmH062FxER8Qs1VgI0jP4kxMWQ08O/E9cbJSfGMSA9WVcGioiI7wTVWJnZTDPbZGZbzezejznuWjNzZpYbuogSDmsDE9fjfT5xvdGozDRdGShBUf0SkXA65W9RM4sFHgEuBYYDN5jZ8BaOSwHuAt4PdUhpW/UnVlz37/pVzY3MTGPf4Sr2H9EEdjk51S8RCbdghicmAludcwXOuWrgBWBWC8f9CHgA0G+6CFNw4CgVVbWMzuzsdZSgNU6yz9eGzPLxVL9EJKyCaawygd1NbhcG7jvBzMYBWc65f33cC5nZ7WaWZ2Z5JSUlrQ4rbWNNYRkAo7P8P3G90YjeDaNrOh0op6D6JSJhFUxjZS3c5048aBYDPAx881Qv5Jx73DmX65zLzcjICD6ltKk1heV0iI/19YrrzaUkxdNfE9jl1FS/RCSsgmmsCoGsJrf7AMVNbqcAI4H5ZrYDmAzM0QTQyLG6sIyRmf5fcb25kZlpaqzkVFS/RCSsgvlNuhzIMbP+ZpYAXA/MaXzQOVfunEt3zvVzzvUDlgJXOefy2iSxhFRNXT3riw8zuk/kzK9qNCozleLySg5WVHkdRfxL9UtEwuqUjZVzrha4E5gHbABedM7lm9n9ZnZVWweUtrV53xGqausZ3Sdy5lc1alzMVPsGysmofolIuMUFc5Bzbi4wt9l9953k2OlnHkvCZU1gW5gxEThiNSJwZeC6onKmDdacF2mZ6peIhFNkTaqRkFtTWEZah3j6duvodZRWS+sQT3bXjppnJSIivqHGKsqt3l3O6D5pmLV08ZT/jcpMOzHqJiIi4jU1VlGssqaOTfuOROT8qkaj+6RRVHZcE9hFRMQX1FhFsfziw9TVu4i8IrDRmKyG7Kt2l3mcRERERI1VVFvbuOJ6BI9YjcpMI8ZgtRorERHxATVWUWxNYTkZKYn0TE3yOsppS06MY3CPFD5QYyUiIj6gxiqKrS4sY0wET1xvNC67M6t3l+GcO/XBIiIibUiNVZQ6UllDwYGjET2/qtGYPp05XFnL9gNHvY4iIiJRTo1VlFpbVI5zkT2/qtHYbE1gFxERf1BjFaVW725Y+6k9jFjldE+hY0KsJrCLiIjn1FhFqRU7SxmQnkzX5ASvo5yx2BhjVGaaRqxERMRzQTVWZjbTzDaZ2VYzu7eFx+8ws7VmtsrM3jWz4aGPKqHinOODXaWMy+7idZSQGZvdmfV7DlNVW+d1FPEZ1S8RCadTNlZmFgs8AlwKDAduaKHwPOecG+WcGws8ADwU8qQSMrsOHePg0Wom9G0/jdW4rM7U1Dnyiw97HUV8RPVLRMItmBGricBW51yBc64aeAGY1fQA51zT32bJgK5797EVO0sBGN838udXNRofGH1bGfh/EwlQ/RKRsAqmscoEdje5XRi47yPM7Ctmto2GT3x3hSaetIWVu0pJSYwjp3uK11FCpntqElldO5C3Q42VfITql4iEVTCNVUurR/7HJzrn3CPOuYHAfwPfb/GFzG43szwzyyspKWldUgmZFTvLGJvdmdiYyF4YtLncvl3J21mqhUKlKdUvEQmrYBqrQiCrye0+QPHHHP8C8ImWHnDOPe6cy3XO5WZkZASfUkKmoqqWTXsPnzh11p5M6NuFAxVV7Dx4zOso4h+qXyISVnFBHLMcyDGz/kARcD3wmaYHmFmOc25L4OblwBbEl1bvLqPewfh2NHG9UW6/hv+nvJ2l9EtP9jiN+ITql5xSfb3jQEUVhWXHKT9ew+HjNRyurKW6tp4YgxgzYmOM1A7xdOkYT5eOCfRITSK9U0LEbwkmoXfKxso5V2tmdwLzgFjgKedcvpndD+Q55+YAd5rZDKAGKAVuacvQcvpW7izFDMZmtZ+J640Gd08hJSmOFTsPce2EPl7HER9Q/ZLm9pZXsraonPzicvKLD7NtfwWFZceprq1v9WslJ8TSt1sy/dOTGZGZypg+nRmZmUZah/g2SC6RIpgRK5xzc4G5ze67r8n3XwtxLmkjeTtLyeneqV3+4MfEGBP6dtEEdvkI1a/oduhoNYu2lLC04CDvbTt4YqqAGfRPT2ZIzxRmDO9BVpcOZHbpQJeOCaQkxZPaIY7E2Fgcjrp6R2294/DxGkqP1VB6rJo9ZcfZcfAYOw8eZW1ROa+u3XPiPQf36MS5gzI4N6cbk/p3IzkxqF+10k7obzuK1NbVs2JnKZ8Y19vrKG0mt28X5m8qoexYNZ07Rv6q8iLSeoWlx3gjfx/z8veyfMch6h2kJMUxqX83bprcl3HZnRnaM7XVDU+P1KSTPlZ2rJo1heWsKSxjacEh/vL+Tp5avJ2E2BjOzUnn0pE9uWh4D9WlKKDGKorkFx+moqqWSf27eR2lzUzo2xVoWFLigqE9PE4jIuFypLKG19bu5aWVhSzbfgiAIT1SuPP8QVw4rAcjM9Pa9Erozh0TmDo4g6mDM7jzAqisqSNvRynvbNrP6+v28vbG/cTFGNMGZ3BdbhYXDO1OQpx2lWuP1FhFkfe3HwRg0oCuHidpO2OzOhMXYyzbrsZKJBrkF5fzzOIdvLKmmMqaevqnJ3PPxYO5YnRvTy9iSYqP5dycdM7NSef7lw9jTWE5c9fu4e8fFPHWxv10S07gmvGZ3DS5H9ndOnqWU0JPjVUUeb/gEAPSk+mecvLh7EjXISGW0X3SWFpw0OsoItJGauvqeXPDPp5avINl2w/RIT6Wq8dlcl1uFuOyOvvuSj0zY0xWZ8ZkdeZblwxh0ZYDvJi3m6cX7+DJd7dz0fAefOHcAZzVr4vvskvrqbGKEnX1jmU7DnHF6F5eR2lzZw/sxmMLCqioqqWTJo2KtBuVNXXMztvNYwsKKCo7Tp8uHfjeZcP4VG4WaR0j44KcuNgYzh/anfOHdmdveSV/WrKD55btYl7+PkZlpnHb1AFcPqpXu1vAOZroBG+U2LDnMEcq2/f8qkZnD0inrt6xPDDPQkQiW2VNHU8v3s60B9/hf/6ZT4/URB67cQILvnU+t00dEDFNVXM905L49syhLLn3Qn5y9UiOVtdy1/MfcMkvFzJndTF19dpFIhLp43yUaDw11p7nVzWa0LcLCbExLCk4yPlDu3sdR0ROU1VtHX9ZuotH52/jQEUVk/p35eFPjeXsgd3a1SmzDgmxfHZSX244K5u56/bwqze3cNfzH/Drt7Zw14U5GsGKMGqsosT72w+R3bUjvdI6eB2lzXVIiGVsdmfe23bA6ygichrq6x3/WFXEL97YTFHZcc4Z1I1HLhjHpAHte8Q9Jsa4YnRvLhvZ6yMN1qPzt/Hdy4ZyXo62UooEaqyiQH29Y/mOQ1w0LHqukjt7QDd+/fYWyo/VROxpApFo45xj4ZYD/Oy1jWzYc5iRmak8cO1ozhmU7nW0sGraYL2yppgH523ipieXcV5OOt+5dBjDe6d6HVE+huZYRYH84sOUHavh7IHt+9NeU1MGdsO5D5eYEBF/21ZSwa1PL+eWp5ZRUVXDr64fy5yvnBt1TVVTMTHGrLGZvPXNaSeWbLj8N4u4Z/Zq9h+u9DqenIRGrKLAwi0lAFE1jDw2uzOJcTG8t+0gF4/o6XUcETmJI5U1/ObtrTz17nY6xMfy/cuHcdPZfUmMi/U6mm8kxsXyxfMGcN2ELB6Zv5WnF2/n9XV7+dqFOdx6Tj/iYzVG4idqrKLAws0lDO+VSkZKotdRwiYxLpaz+nVlyTaNWIn4UX294+UPivjZaxs5eLSKT03I4lszh5DeKXrqVGuldYznu5cN44aJ2fzwlXx+MncDLyzfxQ+uGhFVH5z9Lqg218xmmtkmM9tqZve28PjdZrbezNaY2Vtm1jf0UeV0VFTVsmJnKVMHR98P3bk56Wzad4Q95ce9jiIeUv3yn3VF5Vzz6HvcM3s1WV078I8vn8PPrx2tpipI/dOTefrWs/jDzbnU1DluenIZd/x5BYWlx7yOJgTRWJlZLPAIcCkwHLjBzIY3O+wDINc5Nxp4CXgg1EHl9CzZdpDaesfUwdE3T+H8IQ1LLSzYVOJxEvGK6pe/HKuu5SevrmfWI4spLD3GL64bw9/umMKYrM5eR4s4ZsaM4T144xtTuefiwczfvJ+LHlrI4wu3UVtX73W8qBbMiNVEYKtzrsA5Vw28AMxqeoBz7h3nXGOrvBToE9qYcroWbSmhQ3wsE/p28TpK2A3u0YleaUm8s2m/11HEO6pfPvH2xn1c9NBCnli0nU/lZvHW3dP55IQ+xGh9pjOSFB/LnRfk8NY3p3POoHT+d+5GrvztYlbtLvM6WtQKprHKBHY3uV0YuO9kvgC81tIDZna7meWZWV5JiUYRwmHh5hLOHtgtKieCmhnTh3Rn8daDVNfqE1yUUv3y2P7DlXzl2ZV8/pk8OibEMvuOs/npNaO0DEqIZXbuwBM3T+CxG8dz6GgVV/9uMT+Yk8+Ryhqvo0WdYBqrlj5OtLjOvpndCOQCD7b0uHPucedcrnMuNyMj+ub8hNuug8fYcfAYU3Oi7zRgo/OHZFBRVUveTm1vE6VUvzxSX+/4y9KdXPjQAv69YR/3XDyYV+86j7P6tf/dH7xiZswc2Yt/3z2Nmyf35Y9LdnDRQwt5fd1er6NFlWAaq0Igq8ntPkBx84PMbAbwPeAq51xVaOJLD3vzAAAVvklEQVTJmZi/ueEUWDROXG80ZVA68bGmeVbRS/XLA5v2HuHax97j+/9Yx6jMNOZ9fSp3XpBDQpyWBQiH1KR4fjhrJC9/aQqdO8Zzx19WcNuf8igu04U84RDMv/LlQI6Z9TezBOB6YE7TA8xsHPB7GoqSJrT4xLz8vQzMSGZARievo3imU2IcE/t31Tyr6KX6FUaVNXU88PpGLv/1IrYfOMovrhvDs1+cRP/0ZK+jRaVx2V145avn8p1Lh7JoSwkXPbSApxdv1+bObeyUjZVzrha4E5gHbABedM7lm9n9ZnZV4LAHgU7AbDNbZWZzTvJyEiZlx6pZWnCIS7Q4JtMHd2fzvgpdihyFVL/CZ/HWA1zyy4X8bv62wGrhDZPT29NmyZEoPjaG/5o2kH9/Yxq5/bryw1fWc82j77Fhz2Gvo7VbQS0Q6pybC8xtdt99Tb6fEeJccobe2rCfunqnVceBGcN78JO5G3h93V6+eN4Ar+NImKl+ta3So9X8+NUN/G1lIf26deS5L05iShRvQ+NXWV078sznzmLO6mLuf2U9V/7mXW6bOoCvXZhDUnz0XdzUlnTCu52al7+XnqlJjM5M8zqK5/qnJzOsVyqvaQKnSMg45/jnqiJmPLSAf64q4svTB/L616eqqfIxsw/3HrxmfCaPzt/GJb9cyLtbDngdrV1RY9UOHa+uY+GWEi4e0UNrxARcPqonK3aWahV2kRAoLD3G555ZztdeWEWfLh145avn8u2ZQzXyESE6d0zggWvH8NxtkzDgxiff5+4XV3HoaLXX0doFNVbt0MItJVTW1Gt+VROXjeoFwGtrNWolcrrq6h1/WFTARQ8tZNn2Q9x3xXBe/vI5DOuV6nU0OQ1TBqbz+tencuf5g5izqpgLfzGfl1cW4pwmt58JNVbt0Ovr9pLWIZ6J/bVeTKMBGZ0Y2jOFuWv3eB1FJCKtLz7M1b9bzI9f3cDkAV154xtT+fy5/YnVqHhES4qP5Z5LhvDqXefRLz2Zu19czU1PLmPnwaNeR4tYaqzamaNVtczL38vMET2Jj9Vfb1OXjepF3s5S9pZXeh1FJGJU1tTxs9c2cuVv36W47Di/uWEcT916Fn26dPQ6moTQkJ4p/O2OKfxo1ghW7S7j4ocX8uj8bdRo38FW02/edmZe/l6OVdfxyQna7qy5xtOBGrUSCc7CzSVc8suFPLZgG58cn8mbd0/jyjG9tYRCOxUTY9x0dj/evHsa0wZn8PPXN3Llb97VvoOtpMaqnXl5ZRFZXTtwVr/o23T5VAZ178SI3qm8tKLQ6ygivran/DhffnYFNz+1jBgznrttEg9cO4bOHRO8jiZh0DMticdvzuWxGydQeqyaq3+3mB++kk9FVa3X0SKCGqt2pLjsOIu3HeCacVqU72Q+fVYW6/ccZl1RuddRRHynpq6exxdu48JfLOCtDfv55kWDef3r5zFloJZQiEYzR/bk33dP48ZJfXnmvR1c9NAC5q7do8ntp6DGqh35x6oinINrxmd6HcW3Zo3JJCEuhr8u3+11FBFfWbb9EJf/ehH/O3cjZw/oxpt3T+OrF+aQGKclFKJZalI8P/rESF6642zSOsTz5WdXcuOT77Nl3xGvo/mWGqt2wjnHyyuLyO3bhb7dtC/XyaR1jOfSkT35x6oiKmvqvI4j4rn9hyu5+8VVfOr3SzhaVccTN+fy5K1nkdVVk9PlQxP6duVfXz2X+2eNYG1hOZf+ahE/+td6DlfWeB3Nd9RYtRNLCg6ydX8F1+Vq0vqpfPqsLI5U1vLaOk1il+hVWVPHI+9s5fz/m88rq4v5yvkDefPuaVw0vIfX0cSn4mJjuPnsfrxzz3Suy+3DU4u3c8H/LeClFYXUa2PnE4JqrMxsppltMrOtZnZvC49PNbOVZlZrZteGPqacylPv7qBrcgKzxuo04KlM7t+N7K4deX6ZTgdGA9Wvj3LO8eqaPcx4aAEPztvElEHp/Psb0/jWJUPpkKDTfnJq3Tol8tNrRvPPr5xDny4duGf2aj752Hus2FnqdTRfOGVjZWaxwCPApcBw4AYzG97ssF3ArcBzoQ4op7bz4FHe2riPz07K1pYSQYiJMW6a3Jdl2w+xWpcRt2uqXx+1trCcT/9+KV95biWdEuN49ouTeOLmXPqla/qAtN7oPp15+UtTePDa0RSWHueTj77Hl59dwY4D0b24aDAjVhOBrc65AudcNfACMKvpAc65Hc65NYBWEvPAM+/tIC7GuHFyX6+jRIzrJ2aRkhTH7xdu8zqKtC3VL2DHgaN89fkPuPK377KtpIL/vXoUr951Hudow2Q5QzExxnW5Wcy/Zzpfn5HD/E0lzHhoAT+Ykx+1ew/GBXFMJtD0nEkhMOl03szMbgduB8jOzj6dl5BmjlTWMDuvkCtG96ZHapLXcSJGSlI8N07uy2MLtrHjwFF9Ym+/orp+7Ttcya/e2sKLy3cTHxvDV84fyH9NG0hqUrzX0aSdSU6M4+szBvOZidk8/OYW/rRkB39bUcgd0wdy65R+JCcG0260D8GMWLW0INJpzVJzzj3unMt1zuVmZGSczktIM398bwcVVbV8/pz+XkeJOJ87px/xMTE8sajA6yjSdqKyfpUfq+Fnr21k2oPvMDtvN5+ZlM2Cb0/nW5cMVVMlbap7ahI/vWYU874+lYn9u/LgvE2c98A7PL5wG8ero+NK7GBayEIgq8ntPkBx28SR1ig9Ws3vFxQwY1gPRvVJ8zpOxOmeksQnJ2Qye0Uhd12YoxG/9imq6tfBiiqefHc7f16yk4rqWj4xNpNvzBhMdjctnSDhldMjhSdvPYuVu0p5+N+b+d+5G3l84XbumDaAGyf3bdfzgYMZsVoO5JhZfzNLAK4H5rRtLAnGYwu2UVFdy7cuGeJ1lIj1pWmDwMH/zdvkdRRpG1FRv/YdruRH/1rPuT9/h0cXbGPqkAxe+9p5PPzpsWqqxFPjs7vw5y9M4qU7zmZIz078+NUNTH3gHf6wqKDdbpFzyhEr51ytmd0JzANigaecc/lmdj+Q55ybY2ZnAX8HugBXmtkPnXMj2jR5lNtbXskz7+3g6rGZDOmZ4nWciJXdrSO3ntOPJxYVcMuUfozM1Mhfe9Le69fuQ8f4/cJtvLi8kDrnmDW2N1+ePohB3Tt5HU3kI3L7deXZL05macFBfvnmZn786gZ+/dYWbpzcl1vP6Uf3lPZzxsC82vMnNzfX5eXlefLe7cG3Zq/mH6uKePub07VC8hkqP17D9AffYWjPVJ67bZL2WWxDZrbCOZfrdY4z5WX9cs6xtOAQTy/ezpsb9hEbuCrrjqkDNTolEeODXaU8vrCA1/P3Eh8Tw9XjMrlt6gBffygItn5FzzT9duTdLQeYvaKQ/5o2QE1VCKR1iOcbFw3mvn/mMy9/LzNH9vI6ksh/qKypY86qYp5avJ2Ne4/QpWM8X5o+kJsm96NnWvv5tC/RYVx2Fx69cQI7DhzlD+8WMDuvkL/m7Wba4Aw+OymbC4Z2Jy42MjeH0YhVhDlWXcvFDy8kPjaG1752XrueABhOtXX1XPXbxew/UsnrX59KeqdEryO1Sxqxar2t+48wO6+Q2SsKOXS0miE9Uvj8uf2YNTZTP//SbhysqOIvS3fx/LJd7D1cSa+0JK4/K5vrJ2b55sIijVi1Uw/O20Rh6XH+evtkFdUQiouN4eFPj+XK377LvX9byxM3T9ApQfFMRVUtr64p5q/Ld7NyVxmxMcYFQ7vzuSn9OHtgN/3blHanW6dEvjYjh6+cP5C3Nu7nL0t38vCbm/n121u4aFgPrp3Qh6mDM0iI8/8olhqrCPL6uj08vXgHN03uy6QB3byO0+4M6ZnCty8Zwo9f3cBfl+/m+omRsQiktA81dfUs2XaQOauLeXXNHo7X1DEwI5nvXjaUT4zLbFeTe0VOJi42hktG9OSSET3ZceAozy/bxewVhbyev5cuHeO5fHQvrh6XyfjsLr79gKHGKkJs3HuYu19czdisznzv8mFex2m3Pn9Of97ZtJ/7/pnPgIxOTOzf1etI0o7V1tWztOAQr64t5vV1eyk9VkNyQixXjenNp87KYnx2Z9/+8hBpa/3Sk/nOZcO455IhLNpSwt8/KGZ2XiF/WbqL7K4duWpMby4Z0ZORmam++jnRHKsIcKCiiqt/t5iqmnpe+eq5vjnf3F6VHavmmkff42BFNX/70hRfX6USaTTHCo5W1bJ46wHe2bSfefn7OHS0muSEWGYM78Flo3oxbXCGTvOLnMSRyhrm5e/jn6uKWLz1APUOeqUlcdHwHlw0vAeT+ndrs9OFwdYvNVY+t7e8ks/+YSlFZcd5/rbJjMvu4nWkqLD70DGu/t1iEuNief62ybqMPUSisbFyzrGtpIJ3NpYwf/N+lm0/RE2do1NiHBcM7c5lo3oxfYiaKZHWOlhRxdsb9/PG+n0s2lJCZU09KYlxTB2cwbk56Zw7KD2kV86rsWoHdh86xo1Pvs+BI1U8/bmJOi0VZmsLy7npqfeJizGevnWitg0KgWhsrK599D3ydpYCMKRHCtOHZjB9cHcm9O0SERNxRSLB8eo63t16gDfy97Jgcwn7j1QBkNW1A+cOSmfKwHQmD+hGRsrpX/GtxirCvbVhH9+cvZq6escfPz+R8Rqp8sTW/RXc8tQySo9V8/NPjubKMb29jhTRorGx+vOSHcTGxDBtSAaZnTu0bTAROTFK/O6WAyzedpCl2w5yJLB9TnbXjkzo24XxfbswIbsLQ3qmEBsT3PwsNVYR6nBlDQ+9sZln3tvB8F6pPPLZ8fRPT/Y6VlTbf7iS2/+8glW7y7hidC9+NGskXZITvI4VkaKxsRIRb9XW1bO2qJy8HaWs2FnKil2llARGtH77mXFcMTq4D8xaxyrCVNbUMXtFIQ//ezOlx6q55ey+fOeyYZp34QPdU5N46Y6zeWzBNn711hYWbi7h9qkDuPWc/nRK1I+QiIifxcXGMC67C+Oyu3AbDSNahaXHWbmrlLPbYOmioH4rmNlM4Fc0bGL6B+fcz5o9ngj8CZgAHAQ+7ZzbEdqo7dO2kgpeXlnIC8t2c/BoNZP6d+V/rhiuzYB9Ji42hjsvyOGi4T15cN4m/u+NzTyxaDtXj8vkU7lZDOuV4qvLfeVDql8i0pSZkdW1Y5ttCXfKxsrMYoFHgIuAQmC5mc1xzq1vctgXgFLn3CAzux74OfDptggcyZxz7CmvZNXuMlbsLGX+pv1sKzlKjMGMYT24ZUo/pmhVZV8b0jOFP9ySy6rdZTyxqIDn3t/FM+/tIKtrB6bmZDCxf1dG9E6lf3qnoM/bS9tR/RKRcAtmxGoisNU5VwBgZi8As4CmhWkW8IPA9y8BvzUzc15N4AqCc47GdK7pfSe+b3zsw+No8pjDUV1bT1VtPVU19VTW1lFVU8/xmjpKj1VTerSaQ4H/7imvZPuBo2w/cJRj1XUAJMTFMLFfV24+ux8Xj+hBrzRNao0kY7M688hnxlN2rJp/rdnD/E0l/P2DIp59fxcASfEx5HRPIbNzB3qmJdErLYkuyQmkJsXRKTGelKQ4OiXFkRAbQ3xsDHGxRnxMDPFxRlxMDPGxpgY7NNpl/RIR/wqmscoEdje5XQhMOtkxzrlaMysHugEHzjTgjgNHuezXi1psdE5UvUCj0/D+Hz7WWBddk/vDrUN8LN1TE+mfnsxZ/boyICOZ0X06M7xXqi61bgc6d0zgxsl9uXFyX2rq6tm6v4L1xYdZv+cwm/cdYVtJBYu3HjhxRcrpMgODE82Wnbgv0HzZh/c13LQTz2lLqR3iWfKdC9v4Xc6Ip/VLRKJPMI1VS7W5eZsSzDGY2e3A7YGbFWa2KYj3b5SOPwvdKXNtBBaGJ0tTfv3zAv9m82su8G+2dPtuq3L1bbMkLVP9+nh+zQX+zebXXODfbH7NBa3LFlT9CqaxKgSymtzuAxSf5JhCM4sD0oBDzV/IOfc48HgwwZozszw/XqatXK3n12x+zQX+zebXXE2ofn0Mv+YC/2bzay7wbza/5oK2yRbMuajlQI6Z9TezBOB6YE6zY+YAtwS+vxZ4W/MTRMQHVL9EJKxOOWIVmHNwJzCPhsuVn3LO5ZvZ/UCec24O8CTwZzPbSsMnvevbMrSISDBUv0Qk3IJax8o5NxeY2+y++5p8XwlcF9po/+G0huDDQLlaz6/Z/JoL/JvNr7lOUP36WH7NBf7N5tdc4N9sfs0FbZDNsy1tRERERNobXe8vIiIiEiIR01iZ2Y/MbI2ZrTKzN8wsuF0Tw8DMHjSzjYF8fzezzl5nAjCz68ws38zqzczzKzLMbKaZbTKzrWZ2r9d5GpnZU2a238zWeZ2lKTPLMrN3zGxD4O/xa15namRmSWa2zMxWB7L90OtMfufXGubX+gWqYcFSDWudtq5fEXMq0MxSnXOHA9/fBQx3zt3hcSwAzOxiGq4kqjWznwM45/7b41iY2TCgHvg9cI9zLs/DLLHAZppsLQLc0GxrEU+Y2VSgAviTc26k13kamVkvoJdzbqWZpQArgE/45M/MgGTnXIWZxQPvAl9zzi31OJpv+bWG+bV+gWpYsFTDWp2rTetXxIxYNRakgGRaWMDPK865N5xzjUtrL6VhrRzPOec2OOdas4hhWzqxtYhzrhpo3FrEc865hbSwbpHXnHN7nHMrA98fATbQsEq451yDisDN+MCXb34m/civNcyv9QtUw4KlGtY6bV2/IqaxAjCzn5jZbuCzwH2nOt4jnwde8zqED7W0tYjnP2CRwsz6AeOA971N8iEzizWzVcB+4N/OOd9k86sIqGGqXyenGnYG/FbD2rJ++aqxMrM3zWxdC1+zAJxz33POZQHPAnf6KVvgmO8BtYF8vsnlE0FtGyL/ycw6AX8Dvt5s1MNTzrk659xYGkY4JpqZb05BeMWvNcyv9SvYbD6hGnaa/FjD2rJ+BbWOVbg452YEeehzwKvA/2vDOB9xqmxmdgtwBXBhOFdtbsWfmdeC2VpEmgmc//8b8Kxz7mWv87TEOVdmZvOBmYCvJs+Gm19rmF/rF6iGtXd+r2FtUb98NWL1ccwsp8nNq2jY29gXzGwm8N/AVc65Y17n8algthaRJgITLJ8ENjjnHvI6T1NmltF49ZiZdQBm4KOfST/yaw1T/Qqaalgr+bWGtXX9iqSrAv8GDKHhCpGdwB3OuSJvUzWwhq0wEoGDgbuW+uRqn6uB3wAZQBmwyjl3iYd5LgN+yYdbi/zEqyxNmdnzwHQadjnfB/w/59yTnoYCzOxcYBGwloZ/9wDfDawk7ikzGw38kYa/yxjgRefc/d6m8je/1jC/1i9QDQuWaljrtHX9ipjGSkRERMTvIuZUoIiIiIjfqbESERERCRE1ViIiIiIhosZKREREJETUWImIiIiEiBorERERkRBRYyUiIiISImqsRERERELk/wM+kuoL+NmWRQAAAABJRU5ErkJggg==\n",
          "text/plain": "<Figure size 720x216 with 2 Axes>"
         },
         "metadata": {
          "needs_background": "light"
         },
         "output_type": "display_data"
        }
       ]
      }
     },
     "d935697a68eb484c937557382efe3174": {
      "model_module": "@jupyter-widgets/controls",
      "model_module_version": "1.4.0",
      "model_name": "FloatSliderModel",
      "state": {
       "description": "variant",
       "layout": "IPY_MODEL_9659d5906e9046149b0e221a3269a257",
       "max": 2,
       "min": 0.1,
       "step": 0.1,
       "style": "IPY_MODEL_3ea4d17a75514b6fbb4602dedeabba5b",
       "value": 1
      }
     },
     "dcbe0c46b2fb4379b26d028292da490a": {
      "model_module": "@jupyter-widgets/controls",
      "model_module_version": "1.4.0",
      "model_name": "SliderStyleModel",
      "state": {
       "description_width": ""
      }
     },
     "dd03015813664d0686d02fc195cbd5b8": {
      "model_module": "@jupyter-widgets/controls",
      "model_module_version": "1.4.0",
      "model_name": "FloatSliderModel",
      "state": {
       "description": "mu",
       "layout": "IPY_MODEL_adebc7a835c0440799cd0d13170a9ab4",
       "max": 1,
       "min": -1,
       "step": 0.1,
       "style": "IPY_MODEL_e03c3015b21d4cc49fa3773cc5272413"
      }
     },
     "df3343e7c21a469f8a47d470c025fcb6": {
      "model_module": "@jupyter-widgets/controls",
      "model_module_version": "1.4.0",
      "model_name": "SliderStyleModel",
      "state": {
       "description_width": ""
      }
     },
     "e00abfc3514c4f2bbca71d1dc3569fd3": {
      "model_module": "@jupyter-widgets/base",
      "model_module_version": "1.1.0",
      "model_name": "LayoutModel",
      "state": {}
     },
     "e03c3015b21d4cc49fa3773cc5272413": {
      "model_module": "@jupyter-widgets/controls",
      "model_module_version": "1.4.0",
      "model_name": "SliderStyleModel",
      "state": {
       "description_width": ""
      }
     },
     "e0a3d918ce9643ffa7c980da951fd264": {
      "model_module": "@jupyter-widgets/base",
      "model_module_version": "1.1.0",
      "model_name": "LayoutModel",
      "state": {}
     },
     "e11947ba66e541fb807f949adcfbb5da": {
      "model_module": "@jupyter-widgets/controls",
      "model_module_version": "1.4.0",
      "model_name": "VBoxModel",
      "state": {
       "_dom_classes": [
        "widget-interact"
       ],
       "children": [
        "IPY_MODEL_133d7292ca0f4b81b1b0a72968aa5353",
        "IPY_MODEL_1c3f76ad3c534ebd8b85ded7ab98ddf5",
        "IPY_MODEL_b4fa2258cec44e999b43cdf939d15b4e"
       ],
       "layout": "IPY_MODEL_6947cb55bb7a4099bee178b391bb1693"
      }
     },
     "e17ba7f44daa4aa9b40bf8135c9e1d58": {
      "model_module": "@jupyter-widgets/controls",
      "model_module_version": "1.4.0",
      "model_name": "FloatSliderModel",
      "state": {
       "description": "mu",
       "layout": "IPY_MODEL_a4a5abbc384243aba8dceb079ff47f9f",
       "max": 1,
       "min": -1,
       "step": 0.1,
       "style": "IPY_MODEL_efd4842cbdc84830bb2bc7d92653944c"
      }
     },
     "e30fa054cbdb4b31b867ffe40f69db08": {
      "model_module": "@jupyter-widgets/controls",
      "model_module_version": "1.4.0",
      "model_name": "SliderStyleModel",
      "state": {
       "description_width": ""
      }
     },
     "e49dcecae2ec4c55a398093f4ad1d18c": {
      "model_module": "@jupyter-widgets/controls",
      "model_module_version": "1.4.0",
      "model_name": "FloatSliderModel",
      "state": {
       "description": "variant",
       "layout": "IPY_MODEL_bdef0179ed64486abf95c0fffde42d09",
       "max": 2,
       "min": 0.1,
       "step": 0.1,
       "style": "IPY_MODEL_4c02bfb7b20342c581298fa042f192ad",
       "value": 2
      }
     },
     "e50926e2c3a542a08cacb300643da9df": {
      "model_module": "@jupyter-widgets/base",
      "model_module_version": "1.1.0",
      "model_name": "LayoutModel",
      "state": {}
     },
     "e52659afcc0346178c5f37e4658e68fb": {
      "model_module": "@jupyter-widgets/base",
      "model_module_version": "1.1.0",
      "model_name": "LayoutModel",
      "state": {}
     },
     "e83bb4c7a18644168b5def9eef6461a9": {
      "model_module": "@jupyter-widgets/controls",
      "model_module_version": "1.4.0",
      "model_name": "SliderStyleModel",
      "state": {
       "description_width": ""
      }
     },
     "e94c8d77e43a4ac0af5bfbeeed03fa73": {
      "model_module": "@jupyter-widgets/output",
      "model_module_version": "1.0.0",
      "model_name": "OutputModel",
      "state": {
       "layout": "IPY_MODEL_f86259047e5a46fea7c4eea77b6e5c97",
       "outputs": [
        {
         "data": {
          "image/png": "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\n",
          "text/plain": "<Figure size 720x216 with 2 Axes>"
         },
         "metadata": {
          "needs_background": "light"
         },
         "output_type": "display_data"
        }
       ]
      }
     },
     "ea2c7202a34649e8ad1ea7cb5e6278f6": {
      "model_module": "@jupyter-widgets/controls",
      "model_module_version": "1.4.0",
      "model_name": "VBoxModel",
      "state": {
       "_dom_classes": [
        "widget-interact"
       ],
       "children": [
        "IPY_MODEL_952ee91b61e2491dbba9b31eea75b5d6",
        "IPY_MODEL_4c475885270d4c379eb4a272f5aab30f",
        "IPY_MODEL_83d802131bcc4f9697d82ae131dbf702"
       ],
       "layout": "IPY_MODEL_492ff141b8874f7fa39b88a9b0dabbac"
      }
     },
     "ead4ead34d2f4d03bbb9541f73efdf21": {
      "model_module": "@jupyter-widgets/controls",
      "model_module_version": "1.4.0",
      "model_name": "FloatSliderModel",
      "state": {
       "description": "mu",
       "layout": "IPY_MODEL_f22b2884f2eb4ebcaf3e58fb5db515fb",
       "max": 1,
       "min": -1,
       "step": 0.1,
       "style": "IPY_MODEL_eadba57b81b74a6a93ff5d0c691beb4e"
      }
     },
     "eadba57b81b74a6a93ff5d0c691beb4e": {
      "model_module": "@jupyter-widgets/controls",
      "model_module_version": "1.4.0",
      "model_name": "SliderStyleModel",
      "state": {
       "description_width": ""
      }
     },
     "ed1b12b96f5b4bc99eaa890a991f27c0": {
      "model_module": "@jupyter-widgets/controls",
      "model_module_version": "1.4.0",
      "model_name": "FloatSliderModel",
      "state": {
       "description": "mu",
       "layout": "IPY_MODEL_4d9e84a1950b48cfbe6bafd578a465ba",
       "max": 1,
       "min": -1,
       "step": 0.1,
       "style": "IPY_MODEL_80444b2cbb7141588a3f4f2f7888309c"
      }
     },
     "ef8a7667d43248c0a0e916884ec14a79": {
      "model_module": "@jupyter-widgets/controls",
      "model_module_version": "1.4.0",
      "model_name": "SliderStyleModel",
      "state": {
       "description_width": ""
      }
     },
     "efd21a703b73404f9bc91d34d3947689": {
      "model_module": "@jupyter-widgets/base",
      "model_module_version": "1.1.0",
      "model_name": "LayoutModel",
      "state": {}
     },
     "efd4842cbdc84830bb2bc7d92653944c": {
      "model_module": "@jupyter-widgets/controls",
      "model_module_version": "1.4.0",
      "model_name": "SliderStyleModel",
      "state": {
       "description_width": ""
      }
     },
     "f11598dfd6d84afa82380d0bfb6ca5a3": {
      "model_module": "@jupyter-widgets/controls",
      "model_module_version": "1.4.0",
      "model_name": "FloatSliderModel",
      "state": {
       "description": "variant",
       "layout": "IPY_MODEL_68664476bdca427d80d7393db5057ac6",
       "max": 2,
       "min": 0.1,
       "step": 0.1,
       "style": "IPY_MODEL_bf1098e9c29d49ce9cf8adbea588eaf2",
       "value": 1
      }
     },
     "f1afb8206f36446ca630ba3d82550b78": {
      "model_module": "@jupyter-widgets/base",
      "model_module_version": "1.1.0",
      "model_name": "LayoutModel",
      "state": {}
     },
     "f22b2884f2eb4ebcaf3e58fb5db515fb": {
      "model_module": "@jupyter-widgets/base",
      "model_module_version": "1.1.0",
      "model_name": "LayoutModel",
      "state": {}
     },
     "f3127e7bb483432a985ef56a58db2e5a": {
      "model_module": "@jupyter-widgets/controls",
      "model_module_version": "1.4.0",
      "model_name": "VBoxModel",
      "state": {
       "_dom_classes": [
        "widget-interact"
       ],
       "children": [
        "IPY_MODEL_20f93eed02e845c5b4ea618aa5ca8ea8",
        "IPY_MODEL_56a992b25b7c478eb10114083cea78aa",
        "IPY_MODEL_36a70b1929fb4cc2b42563df32a7bebc"
       ],
       "layout": "IPY_MODEL_0f2be4d7efbe4eb9bc8f8d75e74ed545"
      }
     },
     "f37c57914d054dde80d89536e6623cb2": {
      "model_module": "@jupyter-widgets/base",
      "model_module_version": "1.1.0",
      "model_name": "LayoutModel",
      "state": {}
     },
     "f3e5ebbd323a4ac2a1f1aeab5627fe43": {
      "model_module": "@jupyter-widgets/controls",
      "model_module_version": "1.4.0",
      "model_name": "SliderStyleModel",
      "state": {
       "description_width": ""
      }
     },
     "f4faa13e0d49405b97455906757d1608": {
      "model_module": "@jupyter-widgets/base",
      "model_module_version": "1.1.0",
      "model_name": "LayoutModel",
      "state": {}
     },
     "f5dd4e7a083642518ee31946b29c9157": {
      "model_module": "@jupyter-widgets/base",
      "model_module_version": "1.1.0",
      "model_name": "LayoutModel",
      "state": {}
     },
     "f7fc0eff8d3c43819c1f595a5b4341f3": {
      "model_module": "@jupyter-widgets/controls",
      "model_module_version": "1.4.0",
      "model_name": "FloatSliderModel",
      "state": {
       "description": "variant",
       "layout": "IPY_MODEL_9514f71210464e72b9c693c4222442fb",
       "max": 2,
       "min": 0.1,
       "step": 0.1,
       "style": "IPY_MODEL_f3e5ebbd323a4ac2a1f1aeab5627fe43",
       "value": 1
      }
     },
     "f80f99d9695546d1bb5f2d11d9ffc48a": {
      "model_module": "@jupyter-widgets/controls",
      "model_module_version": "1.4.0",
      "model_name": "SliderStyleModel",
      "state": {
       "description_width": ""
      }
     },
     "f86259047e5a46fea7c4eea77b6e5c97": {
      "model_module": "@jupyter-widgets/base",
      "model_module_version": "1.1.0",
      "model_name": "LayoutModel",
      "state": {}
     },
     "f9db91f728ff4d258251f91c914885d8": {
      "model_module": "@jupyter-widgets/controls",
      "model_module_version": "1.4.0",
      "model_name": "SliderStyleModel",
      "state": {
       "description_width": ""
      }
     },
     "fbbc722de0124a2a8599e570bfd21176": {
      "model_module": "@jupyter-widgets/base",
      "model_module_version": "1.1.0",
      "model_name": "LayoutModel",
      "state": {}
     },
     "fc0f55ae1602435fa12e5206b8d0116c": {
      "model_module": "@jupyter-widgets/base",
      "model_module_version": "1.1.0",
      "model_name": "LayoutModel",
      "state": {}
     },
     "fd0ecf2ad0f242028fa45100de580001": {
      "model_module": "@jupyter-widgets/controls",
      "model_module_version": "1.4.0",
      "model_name": "FloatSliderModel",
      "state": {
       "description": "variant",
       "layout": "IPY_MODEL_5b7ac9e6ce754f2e8b45ac41e2561381",
       "max": 2,
       "min": 0.1,
       "step": 0.1,
       "style": "IPY_MODEL_3cf4a0b151854d52b103aca32526dbf6",
       "value": 2
      }
     },
     "fd5fb3f7e8b744b8bc757231abc63a73": {
      "model_module": "@jupyter-widgets/controls",
      "model_module_version": "1.4.0",
      "model_name": "FloatSliderModel",
      "state": {
       "description": "variant",
       "layout": "IPY_MODEL_be3af6d398c646ab8ecfbce449cf7e80",
       "max": 2,
       "min": 0.1,
       "step": 0.1,
       "style": "IPY_MODEL_602916fc6bc04ec5b33eec8dc50fa013",
       "value": 1
      }
     },
     "feb03cc7fb764490b7c7e7cb2782f2e2": {
      "model_module": "@jupyter-widgets/base",
      "model_module_version": "1.1.0",
      "model_name": "LayoutModel",
      "state": {}
     },
     "ff13f10ead914c04b766763ac5723c8e": {
      "model_module": "@jupyter-widgets/base",
      "model_module_version": "1.1.0",
      "model_name": "LayoutModel",
      "state": {}
     }
    },
    "version_major": 2,
    "version_minor": 0
   }
  }
 },
 "nbformat": 4,
 "nbformat_minor": 2
}
