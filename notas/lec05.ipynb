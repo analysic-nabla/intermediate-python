{
 "cells": [
  {
   "cell_type": "markdown",
   "metadata": {},
   "source": [
    "![logo](../files/misc/logo.png)\n",
    "<h1 style=\"color:#872325\">Programación Funcional en Python</h1>\n",
    "\n",
    "Python nos permite trabajar con dos clases de _paradigmas_ de computación: programación orientada a objetos (OOP) y programación funcional. En esta sesión veremos la manera de trabajar de trabajar con el paradigma de la programación funcional.\n",
    "\n",
    "En la ciencia de la computación, la **programación funcional** (o *functional programming*), es un paradigma de computación que considera que los elementos sean tratados como funciones matemáticas \n",
    "\n",
    "$$\n",
    "    f: \\Omega_1 \\rightarrow \\Omega_2\n",
    "$$\n",
    "\n",
    "\n",
    "Bajo este paradigma cada elemento definido es único e inmutable."
   ]
  },
  {
   "cell_type": "markdown",
   "metadata": {},
   "source": [
    "### Un primer ejemplo: OOP v.s. FP\n",
    "* Bajo el paradigma OOP operamos objetos mutables\n",
    "* Bajo el paradigma FP operamos respecto a funciones y asignamos inputs."
   ]
  },
  {
   "cell_type": "code",
   "execution_count": 1,
   "metadata": {},
   "outputs": [],
   "source": [
    "# Una lista como un objeto (paradigma oop)\n",
    "list_1 = [1, 2, 3]\n",
    "# el método _append_ modifica la lista original y no regresa ningún resultado\n",
    "list_1.append(4)"
   ]
  },
  {
   "cell_type": "code",
   "execution_count": 2,
   "metadata": {},
   "outputs": [
    {
     "data": {
      "text/plain": [
       "[1, 2, 3, 4]"
      ]
     },
     "execution_count": 2,
     "metadata": {},
     "output_type": "execute_result"
    }
   ],
   "source": [
    "# Una lista como un input (paradigma fp)\n",
    "def add_element(elements, new_element):\n",
    "    return elements + [new_element]\n",
    "list_2 = [1, 2, 3]\n",
    "# 'add_element' produce un output y no modifica \n",
    "add_element(list_2, 4)"
   ]
  },
  {
   "cell_type": "markdown",
   "metadata": {},
   "source": [
    "## funciones `lambda`\n",
    "Una función `lambda` es una función anónima la cuál nos permite definir y tratar funciones como si fuesen elementos. Esto nos permite definir funciones *on the fly* y tratarlas como inputs a otras funciones.\n",
    "\n",
    "Podemos pensar una función lambda como una función compuesta\n",
    "$$\n",
    "    \\lambda(f(p_1, p_2, \\ldots, p_n))\n",
    "$$\n",
    "\n",
    "Una función sigue la siguiente sintaxis:\n",
    "```python\n",
    "lambda p1, p2, ..., pn: f(p1, p2, ..., pn)\n",
    "```"
   ]
  },
  {
   "cell_type": "code",
   "execution_count": 3,
   "metadata": {},
   "outputs": [
    {
     "data": {
      "text/plain": [
       "<function __main__.<lambda>(x, y)>"
      ]
     },
     "execution_count": 3,
     "metadata": {},
     "output_type": "execute_result"
    }
   ],
   "source": [
    "# Las funciones lambda son \"anónimas\" en el sentido de no tener un nombre asignado\n",
    "times1 = lambda x, y: x * y\n",
    "times1"
   ]
  },
  {
   "cell_type": "code",
   "execution_count": 4,
   "metadata": {},
   "outputs": [
    {
     "data": {
      "text/plain": [
       "<function __main__.times2(x, y)>"
      ]
     },
     "execution_count": 4,
     "metadata": {},
     "output_type": "execute_result"
    }
   ],
   "source": [
    "def times2(x, y): return x * y\n",
    "times2"
   ]
  },
  {
   "cell_type": "markdown",
   "metadata": {},
   "source": [
    "Las funciones `lambda` pueden ser tratadas como cualquier otro elemento. No es necesario declarales una variable para poder ocuparlas"
   ]
  },
  {
   "cell_type": "code",
   "execution_count": 5,
   "metadata": {},
   "outputs": [
    {
     "data": {
      "text/plain": [
       "11"
      ]
     },
     "execution_count": 5,
     "metadata": {},
     "output_type": "execute_result"
    }
   ],
   "source": [
    "(lambda x, y: 2 * x + y)(5, 1)"
   ]
  },
  {
   "cell_type": "code",
   "execution_count": 6,
   "metadata": {},
   "outputs": [
    {
     "data": {
      "text/plain": [
       "18"
      ]
     },
     "execution_count": 6,
     "metadata": {},
     "output_type": "execute_result"
    }
   ],
   "source": [
    "# Las funciones lambda nos permiten pasar funciones por parámetros sin haberlos definido previamente\n",
    "# fºg(x) == f(g(x))\n",
    "def f(g, x):\n",
    "    return 2 * g(x)\n",
    "\n",
    "f(lambda x: x ** 2, 3)"
   ]
  },
  {
   "cell_type": "markdown",
   "metadata": {},
   "source": [
    "## `map` &  `filter`"
   ]
  },
  {
   "cell_type": "markdown",
   "metadata": {},
   "source": [
    "### `map`\n",
    "La función `map` aplica una función `f` a un iterable `X` de $n$ elementos entrada a entrada.\n",
    "```python\n",
    "map(f, X) = [f(x1), f(x2), ..., f(xn)]\n",
    "```\n",
    "\n",
    "map siempre regresa un iterable, por lo que es necesario, para ver su valor, pasarlo a una lista"
   ]
  },
  {
   "cell_type": "markdown",
   "metadata": {},
   "source": [
    "<h2 style=\"color:teal\">Ejemplo</h2>\n",
    "Crea una lista de 10 elementos con los valores del 1 al 10 al cuadrado"
   ]
  },
  {
   "cell_type": "code",
   "execution_count": 7,
   "metadata": {},
   "outputs": [
    {
     "data": {
      "text/plain": [
       "[1, 4, 9, 16, 25, 36, 49, 64, 81, 100]"
      ]
     },
     "execution_count": 7,
     "metadata": {},
     "output_type": "execute_result"
    }
   ],
   "source": [
    "# versión oop\n",
    "elementos = []\n",
    "for x in range(1, 11):\n",
    "    elementos.append(x ** 2)\n",
    "elementos"
   ]
  },
  {
   "cell_type": "code",
   "execution_count": 8,
   "metadata": {},
   "outputs": [
    {
     "data": {
      "text/plain": [
       "[1, 4, 9, 16, 25, 36, 49, 64, 81, 100]"
      ]
     },
     "execution_count": 8,
     "metadata": {},
     "output_type": "execute_result"
    }
   ],
   "source": [
    "# versión fp\n",
    "elementos = map(lambda x: x ** 2, range(1, 11))\n",
    "list(elementos)"
   ]
  },
  {
   "cell_type": "code",
   "execution_count": 9,
   "metadata": {},
   "outputs": [
    {
     "data": {
      "text/plain": [
       "<map at 0x112623898>"
      ]
     },
     "execution_count": 9,
     "metadata": {},
     "output_type": "execute_result"
    }
   ],
   "source": [
    "map(lambda x, y: y + x ** 2, range(1, 11), range(10, 21))"
   ]
  },
  {
   "cell_type": "markdown",
   "metadata": {},
   "source": [
    "Con `map` podemos iterar cualquier elementos que querramos"
   ]
  },
  {
   "cell_type": "code",
   "execution_count": 10,
   "metadata": {},
   "outputs": [
    {
     "data": {
      "text/plain": [
       "[4, 0, 4, 1.0]"
      ]
     },
     "execution_count": 10,
     "metadata": {},
     "output_type": "execute_result"
    }
   ],
   "source": [
    "funcs = [lambda x: x + x, lambda x: x - x, lambda x: x * x, lambda x: x / x]\n",
    "list(map(lambda f: f(2), funcs))"
   ]
  },
  {
   "cell_type": "markdown",
   "metadata": {},
   "source": [
    "<h2 style=\"color:teal\">Ejemplo</h2>\n",
    "\n",
    "Usando map, crea una lista de 4 listas: la `i`-ésima lista deberá contener los valores de la operación `funcs[i]` aplicado a todos los valores `1` a `10`"
   ]
  },
  {
   "cell_type": "code",
   "execution_count": 11,
   "metadata": {},
   "outputs": [
    {
     "data": {
      "text/plain": [
       "[[2, 4, 6, 8, 10, 12, 14, 16, 18, 20],\n",
       " [0, 0, 0, 0, 0, 0, 0, 0, 0, 0],\n",
       " [1, 4, 9, 16, 25, 36, 49, 64, 81, 100],\n",
       " [1.0, 1.0, 1.0, 1.0, 1.0, 1.0, 1.0, 1.0, 1.0, 1.0]]"
      ]
     },
     "execution_count": 11,
     "metadata": {},
     "output_type": "execute_result"
    }
   ],
   "source": [
    "list(map(lambda f: list(map(lambda x: f(x), range(1, 11))), funcs))"
   ]
  },
  {
   "cell_type": "markdown",
   "metadata": {},
   "source": [
    "### `filter`\n",
    "La función `filter` un filtro `X` considerando `f`. `filter` regresa un iterable de los elementos de `X` que son verdaderos bajo `f`"
   ]
  },
  {
   "cell_type": "code",
   "execution_count": 12,
   "metadata": {},
   "outputs": [
    {
     "data": {
      "text/plain": [
       "[1, 5, 3, 11]"
      ]
     },
     "execution_count": 12,
     "metadata": {},
     "output_type": "execute_result"
    }
   ],
   "source": [
    "elementos = [1, 5, 2, 0, 4, 3, 8, 11]\n",
    "nuevos_elementos = []\n",
    "for x in elementos:\n",
    "    if x % 2 != 0:\n",
    "        nuevos_elementos.append(x)\n",
    "nuevos_elementos"
   ]
  },
  {
   "cell_type": "code",
   "execution_count": 13,
   "metadata": {},
   "outputs": [
    {
     "data": {
      "text/plain": [
       "[1, 5, 3, 11]"
      ]
     },
     "execution_count": 13,
     "metadata": {},
     "output_type": "execute_result"
    }
   ],
   "source": [
    "list(filter(lambda x: x % 2 != 0, elementos))"
   ]
  },
  {
   "cell_type": "markdown",
   "metadata": {},
   "source": [
    "<h2 style=\"color:crimson\">Ejercicio</h2>\n",
    "\n",
    "1. Considerando la lista `materias` y usando `map`, convierte cada elemento de materias a un string en minúscula.\n",
    "\n",
    "```python\n",
    "materias = [\"CALCULO\", \"FINANZAS\", \"OPTIMIZACION\",\n",
    "            \"GEOMETRIA\", \"PROGRAMACION\", \"ESTADISTICA\"]\n",
    "```\n",
    "2. Considerando la lista `materias` y usando `filter`, consigue todos los elementos de la lista que contengan más de 10 caracteres.\n",
    "3. Junta el primer y segundo ejercicio: consigue todos los elementos dentro de las lista `materias` que contengan más de 10 caracteres y convierte cada elemento de este subconjunto en minúscula.\n",
    "4. Usando `map` y `filter`, escribe una expresión que obtenga todos números los del 1 al 11 al cuadrado que sean impares"
   ]
  },
  {
   "cell_type": "markdown",
   "metadata": {},
   "source": [
    "## List Comprehensions\n",
    "### Una alternativa a `map` & `filter`\n",
    "Una alternativa a usar `map` o `filter` *list comprehensions*. La idea detrás de un *list comprehension* es describir un nuevo elemento como si fuera un conjunto:\n",
    "\n",
    "$$\n",
    "    A = \\{f(c) \\ | \\ c \\in C\\}\n",
    "$$\n",
    "\n",
    "\n",
    "<div align=\"center\">\n",
    "    \n",
    "```python\n",
    "A = [f(c) for c in C]\n",
    "\n",
    "```\n",
    "\n",
    "</div>\n",
    "\n",
    "Usar un *list comprehension*:\n",
    "1. Nos ahorra la necesidad de pasar de un generador a una lista\n",
    "2. Hace de ciertos códigos más legibles en menos líneas"
   ]
  },
  {
   "cell_type": "markdown",
   "metadata": {},
   "source": [
    "### List Comprehension como `map`"
   ]
  },
  {
   "cell_type": "code",
   "execution_count": 15,
   "metadata": {},
   "outputs": [
    {
     "data": {
      "text/plain": [
       "[1, 4, 9, 16, 25, 36, 49, 64, 81, 100]"
      ]
     },
     "execution_count": 15,
     "metadata": {},
     "output_type": "execute_result"
    }
   ],
   "source": [
    "# lista de todos los elementos de 1 al 11 al cuadrado\n",
    "# list(map(lambda x: x ** 2, range(1, 11))) \n",
    "[x ** 2 for x in range(1, 11)]"
   ]
  },
  {
   "cell_type": "markdown",
   "metadata": {},
   "source": [
    "### List Comprehension como `filter`"
   ]
  },
  {
   "cell_type": "code",
   "execution_count": 16,
   "metadata": {},
   "outputs": [
    {
     "data": {
      "text/plain": [
       "[1, 3, 5, 7, 9]"
      ]
     },
     "execution_count": 16,
     "metadata": {},
     "output_type": "execute_result"
    }
   ],
   "source": [
    "# lista de todos los elementos de 1 al 11 que sean impares\n",
    "# list(filter(lambda x: x % 2 == 1, range(1, 11))) \n",
    "[x for x in range(1, 11) if x % 2 == 1]"
   ]
  },
  {
   "cell_type": "markdown",
   "metadata": {},
   "source": [
    "<h2 style=\"color:teal\">Ejemplo</h2>\n",
    "\n",
    "Usando list comprehensions, escribe una expresión que obtenga todos los del 1 al 11 al cuadrado que sean impares"
   ]
  },
  {
   "cell_type": "code",
   "execution_count": 17,
   "metadata": {},
   "outputs": [
    {
     "data": {
      "text/plain": [
       "[1, 9, 25, 49, 81]"
      ]
     },
     "execution_count": 17,
     "metadata": {},
     "output_type": "execute_result"
    }
   ],
   "source": [
    "[x ** 2 for x in range(1, 11) if x % 2 == 1]"
   ]
  },
  {
   "cell_type": "markdown",
   "metadata": {},
   "source": [
    "## Set, Dict comprehension\n",
    "Al igual que con una lista, podemos crear un arreglo de `dict`s y `set`s de manera funcional\n",
    "\n",
    "**dict comprehension**\n",
    "```python\n",
    "{k: f(k) for k in C}\n",
    "```\n",
    "\n",
    "**set comprehension**\n",
    "```python\n",
    "{f(k) for k in C}\n",
    "```"
   ]
  },
  {
   "cell_type": "markdown",
   "metadata": {},
   "source": [
    "<h2 style=\"color:teal\">Ejemplo</h2>\n",
    "\n",
    "Considerando las listas `companies`, `ticks`\n",
    "1. crea un *dict comphrension* cuya llave sea el nombre de la compañía y su valor la longitud de su nombre\n",
    "2. Crea un *set comprehension* que contenga la longitudes de los elementos en `ticks`\n",
    "3. Crea un dict comprehension cuya llave sea al tick de la compañía y su valor el nombre de la compañía"
   ]
  },
  {
   "cell_type": "code",
   "execution_count": 18,
   "metadata": {},
   "outputs": [],
   "source": [
    "companies = ['Nokia', 'Caterpillar', 'Citigroup', 'Union Pacific',\n",
    "             'Jp Morgan Chase', 'Morgan Stanley', 'Praxair',\n",
    "             'Lloyds Tsb', 'Wells Fargo', 'Ford Motor', 'Pfizer',\n",
    "             'Companhia Vale Do Rio Doce', 'Gen Electric', 'Barrick Gold',\n",
    "             'Bhp Billiton Sp', 'Philips Electronics']\n",
    "ticks = ['NOK', 'CAT', 'C', 'UNP', 'JPM', 'MS', 'PX', 'LYG', 'WFC', 'F', 'PFE', 'VALE', 'GE', 'ABX', 'BBL', 'PHG']"
   ]
  },
  {
   "cell_type": "code",
   "execution_count": 19,
   "metadata": {},
   "outputs": [
    {
     "data": {
      "text/plain": [
       "{'Nokia': 5,\n",
       " 'Caterpillar': 11,\n",
       " 'Citigroup': 9,\n",
       " 'Union Pacific': 13,\n",
       " 'Jp Morgan Chase': 15,\n",
       " 'Morgan Stanley': 14,\n",
       " 'Praxair': 7,\n",
       " 'Lloyds Tsb': 10,\n",
       " 'Wells Fargo': 11,\n",
       " 'Ford Motor': 10,\n",
       " 'Pfizer': 6,\n",
       " 'Companhia Vale Do Rio Doce': 26,\n",
       " 'Gen Electric': 12,\n",
       " 'Barrick Gold': 12,\n",
       " 'Bhp Billiton Sp': 15,\n",
       " 'Philips Electronics': 19}"
      ]
     },
     "execution_count": 19,
     "metadata": {},
     "output_type": "execute_result"
    }
   ],
   "source": [
    "# 1\n",
    "{c: len(c) for c in companies}"
   ]
  },
  {
   "cell_type": "code",
   "execution_count": 20,
   "metadata": {},
   "outputs": [
    {
     "data": {
      "text/plain": [
       "{1, 2, 3, 4}"
      ]
     },
     "execution_count": 20,
     "metadata": {},
     "output_type": "execute_result"
    }
   ],
   "source": [
    "# 2\n",
    "{len(t) for t in ticks}"
   ]
  },
  {
   "cell_type": "code",
   "execution_count": 21,
   "metadata": {},
   "outputs": [
    {
     "data": {
      "text/plain": [
       "{'NOK': 'Nokia',\n",
       " 'CAT': 'Caterpillar',\n",
       " 'C': 'Citigroup',\n",
       " 'UNP': 'Union Pacific',\n",
       " 'JPM': 'Jp Morgan Chase',\n",
       " 'MS': 'Morgan Stanley',\n",
       " 'PX': 'Praxair',\n",
       " 'LYG': 'Lloyds Tsb',\n",
       " 'WFC': 'Wells Fargo',\n",
       " 'F': 'Ford Motor',\n",
       " 'PFE': 'Pfizer',\n",
       " 'VALE': 'Companhia Vale Do Rio Doce',\n",
       " 'GE': 'Gen Electric',\n",
       " 'ABX': 'Barrick Gold',\n",
       " 'BBL': 'Bhp Billiton Sp',\n",
       " 'PHG': 'Philips Electronics'}"
      ]
     },
     "execution_count": 21,
     "metadata": {},
     "output_type": "execute_result"
    }
   ],
   "source": [
    "# 3\n",
    "{t: c for t, c in zip(ticks, companies)}"
   ]
  },
  {
   "cell_type": "markdown",
   "metadata": {},
   "source": [
    "<h2 style=\"color:crimson\">Ejercicio</h2>\n",
    "\n",
    "1. Usando un _list comprehension_, encuentra la suma de todos los múltiplos de 3 o 5 por debajo de 1000\n",
    "---\n",
    "2. define la función **lambda** `conjunto_potencia_unidades` que tome un número `n ` y un número entero `lim`. La función deberá regresar un diccionario con llaves los valores `0` al `n` y valores una lista con los valores únicos de unidades para cada número $\\{k^i\\}_{i=1}^{\\texttt{lim}}$\n",
    "```python\n",
    ">>> conjunto_potencia_unidades(10, 20)\n",
    "{0: [0],\n",
    " 1: [1],\n",
    " 2: [2, 4, 6, 8],\n",
    " 3: [1, 3, 7, 9],\n",
    " 4: [4, 6],\n",
    " 5: [5],\n",
    " 6: [6],\n",
    " 7: [1, 3, 7, 9],\n",
    " 8: [2, 4, 6, 8],\n",
    " 9: [9, 1],\n",
    " 10: [0]}\n",
    "```\n",
    "---\n",
    "3. Usando un list comprehension, define la función `solo_impares` que tome una lista de enteros y regrese la lista con solo los números impares\n",
    "\n",
    "```python\n",
    ">>> solo_impares([1, 5, 2, 8, 9, 10])\n",
    "[1, 5, 9]\n",
    "```\n",
    "----\n",
    "4. Usando un list comphrension, define la función `fizzbuzz` que le pida al usuario un número entero $n$. El programa debe regresar una lista del 1 al $n$ con las siguientes reglas:\n",
    "\n",
    "    * `Fizz` si el número es divisible entre $3$;\n",
    "    * `Buzz` si el número es divisible entre $5$;\n",
    "    * `FizzBuzz` si el número es divisible entre $3$ y $5$;\n",
    "    * El número si no es divisible entre $3$ o $5$.\n",
    "\n",
    "Por ejemplo, si `n=16`, `fizzbuzz(16)` regresa\n",
    "\n",
    "```\n",
    "[1, 2, 'Fizz', 4, 'Buzz', 'Fizz', 7, 8, 'Fizz', 'Buzz', 11, 'Fizz', 13, 14, 'FizzBuzz', 16]\n",
    "```\n",
    "----\n",
    "5. Crea un list comprehension que arroje el siguiente resultado:\n",
    "```\n",
    "[[1, 2, 3, 4, 5, 6, 7, 8, 9, 10],\n",
    " [2, 4, 6, 8, 10, 12, 14, 16, 18, 20],\n",
    " [3, 6, 9, 12, 15, 18, 21, 24, 27, 30],\n",
    " [4, 8, 12, 16, 20, 24, 28, 32, 36, 40],\n",
    " [5, 10, 15, 20, 25, 30, 35, 40, 45, 50],\n",
    " [6, 12, 18, 24, 30, 36, 42, 48, 54, 60],\n",
    " [7, 14, 21, 28, 35, 42, 49, 56, 63, 70],\n",
    " [8, 16, 24, 32, 40, 48, 56, 64, 72, 80],\n",
    " [9, 18, 27, 36, 45, 54, 63, 72, 81, 90],\n",
    " [10, 20, 30, 40, 50, 60, 70, 80, 90, 100]]\n",
    "```\n",
    "----\n",
    "6. Dada la lista `numbers`, crea un diccionario dónde la llave sea la entrada de cada lista y el valor la longitud de cada entrada\n",
    "```python\n",
    "numbers = [\"one\", \"two\", \"three\", \"four\", \"five\", \"six\"]\n",
    "```\n",
    "----\n",
    "7. Dada la lista `nums`, suma a cada entrada un 1 y regresa cada valor como un string\n",
    "```python\n",
    "nums = [\"1\", \"3\", \"5\", \"7\", \"11\", \"13\"]\n",
    "```"
   ]
  },
  {
   "cell_type": "markdown",
   "metadata": {},
   "source": [
    "----\n",
    "## Cuantificadores `all` `any`\n",
    "### El cálculo de predicados\n",
    "\n",
    "Al trabajar con arreglos de elementos, en ocasiones es deseable saber si **alguno** o **todos** los elementos cumplen con cierta característica.\n",
    "\n",
    "#### Any\n",
    "Para saber si al menos un elemento de un iterable es `True` ocupamos la función  `any`\n",
    "\n",
    "```python\n",
    "any(X) == x[0] or x[1] or ... or x[n-1]\n",
    "```\n",
    "\n",
    "`X` no es necesariamente un arreglo de booleanos. Considerando alguna función (predicado)  `f`, podemos evaluar si algún elemento cumple el predicado `f` de la siguiente manera\n",
    "\n",
    "<div align=\"center\">\n",
    "    \n",
    "```python\n",
    "any([f(x) for x in X]) == (f(x[0]) or f(x[1]) or ... or f(x[n]))\n",
    "```\n",
    "</div>\n",
    "\n",
    "Lo cual es equivalente al cálculo de predicados como:\n",
    "$$\n",
    "    \\exists x \\in X. f(x) = f(x_0) \\vee f(x_1) \\vee \\ldots \\vee f(x_n)\n",
    "$$\n",
    "\n",
    "#### All\n",
    "Para saber si todos los elementos de un iterable es `True` ocupamos la función  `all`\n",
    "\n",
    "```python\n",
    "all(X) == x[0] all x[1] all ... or x[n-1]\n",
    "```\n",
    "\n",
    "Al igual que `any`, `X` no es necesariamente un arreglo de booleanos. Considerando alguna función (predicado)  `f`, podemos evaluar si todos los elementos cumplen el predicado `f` de la siguiente manera\n",
    "\n",
    "<div align=\"center\">\n",
    "    \n",
    "```python\n",
    "all([f(x) for x in X]) == (f(x[0]) and f(x[1]) and ... and f(x[n]))\n",
    "```\n",
    "</div>\n",
    "\n",
    "Lo cual es equivalente al cálculo de predicados como:\n",
    "$$\n",
    "    \\forall x \\in X. f(x) = f(x_0) \\wedge f(x_1) \\wedge \\ldots \\wedge f(x_n)\n",
    "$$\n"
   ]
  },
  {
   "cell_type": "code",
   "execution_count": 24,
   "metadata": {},
   "outputs": [
    {
     "data": {
      "text/plain": [
       "True"
      ]
     },
     "execution_count": 24,
     "metadata": {},
     "output_type": "execute_result"
    }
   ],
   "source": [
    "any([False, True, True])"
   ]
  },
  {
   "cell_type": "code",
   "execution_count": 25,
   "metadata": {},
   "outputs": [
    {
     "data": {
      "text/plain": [
       "False"
      ]
     },
     "execution_count": 25,
     "metadata": {},
     "output_type": "execute_result"
    }
   ],
   "source": [
    "all([False, True, True])"
   ]
  },
  {
   "cell_type": "markdown",
   "metadata": {},
   "source": [
    "<h2 style=\"color:teal\">Ejemplo</h2>\n",
    "\n",
    "Considerando `U = [1, 3, 3, 10]`, escribe una fbf en python (y evalúa) los siguientes enunciados:\n",
    "1. Todos los elementos de `U` son impares\n",
    "2. Todos los elementos de `U` menores a 10 son impares\n",
    "3. Existe un número mayor a 10 impar\n",
    "\n",
    "Considerando `A = [0, 2, 4, 6]` y `B = [0, 1, 2, 3]`, escribe un fbf y evalua:\n",
    "1. Cada elemento en `A` es el doble de algún elemento en `B`\n",
    "\n",
    "\n",
    "Considerando `U =[36, 33, 43, 75, 21, 92, 16, 34, 31, 35, 80, 45, 47, 10, 52, 45, 21, 58, 30, 42]` evalúa las siguientes fbfs\n",
    "1. $ \\forall x \\in U. \\text{par}(x) \\rightarrow \\neg \\text{impar}(x)$\n",
    "2. $\\exists x \\in U. \\text{par}(x) \\wedge \\text{impar}(x)$\n",
    "\n",
    "\n",
    "Considerando `U = (1999, 2000, ..., 3000) × (\"Jan\", \"Feb\", ..., \"Dec\")` y `X <= U`, `X = [(2010, \"Jan\"), (2010, \"Feb\"), (2011, \"Feb\"), (2015, \"Dec\"), (2018, \"Feb\"), (2018, \"Aug\")]`, escribe una expresión para el siguiente enunciado\n",
    "1. \"Todos los años son mayores o iguales a 2010 y menores o iguales a 2018, siempre y cuando los meses de abril a diciembre no estén presentes dentro del año 2018\"."
   ]
  },
  {
   "cell_type": "code",
   "execution_count": 26,
   "metadata": {},
   "outputs": [
    {
     "data": {
      "text/plain": [
       "False"
      ]
     },
     "execution_count": 26,
     "metadata": {},
     "output_type": "execute_result"
    }
   ],
   "source": [
    "# 1\n",
    "U = [1, 3, 3, 10]\n",
    "# predicado\n",
    "def F(x): return True if x % 2 != 0 else False\n",
    "# fbf\n",
    "all([F(x) for x in U])"
   ]
  },
  {
   "cell_type": "code",
   "execution_count": 27,
   "metadata": {},
   "outputs": [
    {
     "data": {
      "text/plain": [
       "True"
      ]
     },
     "execution_count": 27,
     "metadata": {},
     "output_type": "execute_result"
    }
   ],
   "source": [
    "# 2\n",
    "U = [1, 3, 3, 10]\n",
    "# predicados\n",
    "def F(x): return x < 10\n",
    "def G(x): return x % 2 == 1\n",
    "# fbf\n",
    "all(F(x) for x in U if G(x))"
   ]
  },
  {
   "cell_type": "code",
   "execution_count": 28,
   "metadata": {},
   "outputs": [
    {
     "data": {
      "text/plain": [
       "False"
      ]
     },
     "execution_count": 28,
     "metadata": {},
     "output_type": "execute_result"
    }
   ],
   "source": [
    "# 3\n",
    "U = [1, 3, 3, 10]\n",
    "# predicados\n",
    "def F(x): return x > 10\n",
    "def G(x): return x % 2 == 1\n",
    "# fbf\n",
    "any([G(x) for x in U if F(x)])\n",
    "any([G(x) and F(x) for x in U])"
   ]
  },
  {
   "cell_type": "code",
   "execution_count": 29,
   "metadata": {},
   "outputs": [
    {
     "data": {
      "text/plain": [
       "True"
      ]
     },
     "execution_count": 29,
     "metadata": {},
     "output_type": "execute_result"
    }
   ],
   "source": [
    "# 4\n",
    "A = [0, 2, 4, 6]\n",
    "B = [0, 1, 2, 3]\n",
    "# predicado\n",
    "def F(a, b): return a == 2 * b\n",
    "# fbf\n",
    "all([any([F(a, b) for a in A]) for b in B])"
   ]
  },
  {
   "cell_type": "code",
   "execution_count": 30,
   "metadata": {},
   "outputs": [
    {
     "data": {
      "text/plain": [
       "True"
      ]
     },
     "execution_count": 30,
     "metadata": {},
     "output_type": "execute_result"
    }
   ],
   "source": [
    "# 5\n",
    "U = [36, 33, 43, 75, 21, 92, 16, 34,\n",
    "    31, 35, 80, 45, 47, 10, 52, 45,\n",
    "    21, 58, 30, 42]\n",
    "# func. auxiliar\n",
    "def implies(a, b): return not(a and not b)\n",
    "# predicados \n",
    "def par(x): return x % 2 == 0\n",
    "def impar(x): return x % 2 != 0\n",
    "\n",
    "all(implies(par(x), not impar(x)) for x in U)"
   ]
  },
  {
   "cell_type": "code",
   "execution_count": 31,
   "metadata": {},
   "outputs": [
    {
     "data": {
      "text/plain": [
       "False"
      ]
     },
     "execution_count": 31,
     "metadata": {},
     "output_type": "execute_result"
    }
   ],
   "source": [
    "# 6\n",
    "U = [36, 33, 43, 75, 21, 92, 16, 34,\n",
    "    31, 35, 80, 45, 47, 10, 52, 45,\n",
    "    21, 58, 30, 42]\n",
    "# predicados \n",
    "def par(x): return x % 2 == 0\n",
    "def impar(x): return x % 2 != 0\n",
    "\n",
    "any(par(x) and impar(x) for x in U)"
   ]
  },
  {
   "cell_type": "code",
   "execution_count": 32,
   "metadata": {},
   "outputs": [
    {
     "data": {
      "text/plain": [
       "False"
      ]
     },
     "execution_count": 32,
     "metadata": {},
     "output_type": "execute_result"
    }
   ],
   "source": [
    "# 7\n",
    "X = [(2010, \"Jan\"), (2010, \"Feb\"), (2011, \"Feb\"),\n",
    "     (2015, \"Dec\"), (2018, \"Feb\"), (2018, \"Aug\")]\n",
    "# subconjunto auxiliar\n",
    "void = ['Apr', 'May', 'Jun', 'Jul', 'Aug', 'Sep', 'Oct', 'Nov', 'Dec']\n",
    "def F(x): return 2010 <= x <= 2018\n",
    "all([F(x[0]) and not (x[0] == 2018 and x[1] in void) for x in X])"
   ]
  }
 ],
 "metadata": {
  "kernelspec": {
   "display_name": "Python 3",
   "language": "python",
   "name": "python3"
  },
  "language_info": {
   "codemirror_mode": {
    "name": "ipython",
    "version": 3
   },
   "file_extension": ".py",
   "mimetype": "text/x-python",
   "name": "python",
   "nbconvert_exporter": "python",
   "pygments_lexer": "ipython3",
   "version": "3.6.8"
  }
 },
 "nbformat": 4,
 "nbformat_minor": 2
}
