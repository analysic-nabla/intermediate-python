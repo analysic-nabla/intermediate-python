{
 "cells": [
  {
   "cell_type": "markdown",
   "metadata": {},
   "source": [
    "![logo](../files/misc/logo.png)\n",
    "<h1 style=\"color:#872325\">Concurrency</h1>\n",
    "\n",
    "### Trabajando en paralelo"
   ]
  },
  {
   "cell_type": "markdown",
   "metadata": {},
   "source": [
    "_**concurrencia**_: Acción de concurrir distintas personas, sucesos o cosas en un mismo lugar o tiempo."
   ]
  },
  {
   "cell_type": "markdown",
   "metadata": {},
   "source": [
    "En resumidas cuentas, los transistores son _amplificadores de señal_ que pueden ser usados como apagadores (ON/OFF) en un circuito. Al conectar transistores creamos circuitos lógicos.\n",
    "\n",
    "* A medida que contamos con mayor cantidad de transistores, los circuitos se pueden hacer cada vez más complejos\n",
    "* A medida que el tamaño de los transistores disminuye, más rápidos son en procesar la información.\n",
    "\n",
    "A medida que ha pasado el tiempo, el número de transistores dentro de las computadoras han ido aumentando. De acuerdo a la [ley de Moore](https://en.wikipedia.org/wiki/Moore%27s_law), el número de transistores en un microchip se duplica cada dos años"
   ]
  },
  {
   "cell_type": "markdown",
   "metadata": {},
   "source": [
    "![timeline_number_transistors](../files/lec08/transistors_timeline.png)"
   ]
  },
  {
   "cell_type": "markdown",
   "metadata": {},
   "source": [
    "## Subprocesos"
   ]
  },
  {
   "cell_type": "markdown",
   "metadata": {},
   "source": [
    "Un hilo (_thread_ en inglés) o subproceso, es una forma de dividir (partir) un programa en dos o mas tareas simultáneamente o pseudo-simultáneamente."
   ]
  },
  {
   "cell_type": "markdown",
   "metadata": {},
   "source": [
    "### Un Proceso Simultáneo\n",
    "![Proceso Simultáneo](../files/lec08/simultaneous-sprocess.png)\n",
    "\n",
    "En un proceso simultáneo, un mismo programa coordina dos núcleos de un mismo cpu. Estos pueden compartir los recursos disponibles y que cada uno cree."
   ]
  },
  {
   "cell_type": "markdown",
   "metadata": {},
   "source": [
    "### Un Proceso Pseudo-Simultáneo\n",
    "![Proceso Simultáneo](../files/lec08/pseudo-simultaneous.png)\n",
    "\n",
    "En un proceso pseudo-simultáneo, un mimso programa coordina dos subprocesos de un mismo programa. Estos no necesariamente viven en núcleos diferentes. "
   ]
  },
  {
   "cell_type": "markdown",
   "metadata": {},
   "source": [
    "----\n",
    "## El GIL\n",
    "\n",
    "En procesadores multinúcleo, una colección de subprocesos dentro de un proceso (un único programa de computación) se puede correr en paralelo. Esto permite hacer uso de la memoria RAM simúltáneamente entre dos subprocesos.\n",
    "\n",
    "Esta última idea sería equivalente a correr un único programa de Python que pueda hacer uso de múltiples núcleos de nuestro CPU.\n",
    "\n",
    "La implementación de Python se escribió de tal manera que **prohibe** la ejecución de un proceso púramente simultáneo. A esta implementación se le conoce como el _GIL_\n",
    "\n",
    ">  **El GIL hace de un programa de python correr un único subproceso.**\n",
    "\n",
    "Podemos pensar el GIL cómo una bandera: un único subproceso puede tener el GIL a cada punto de tiempo. Cualquier otro subproceso no puede puede avanzar en ejecución mientras quien tenga la bandera no haya terminado.\n",
    "\n",
    "En efecto, el GIL hace de cualquier programa (multinúcleo o no), dependiente de un único núcleo a cada parte del tiempo"
   ]
  },
  {
   "cell_type": "markdown",
   "metadata": {},
   "source": [
    "# Concurrencia en Python\n",
    "Aunque el GIL no nos permite correr procesos completamente simúltaneos, Python cuenta con librerías que nos permiten trabajar de una manera simultánea y pseudo-simultánea.\n",
    "\n",
    "Saber la libería a ocupar depende del proceso del cuál dependa el problema a resolver. En general, podemos hablar de dos clases de procesos concurrentes: _I/O Bound_ y _CPU Bound_.\n",
    "\n",
    "**I/O Bound**  \n",
    "Se dice que un proceso es de tipo I/O (_I/O bound_) si el tiempo para completar una tarea está determinado principalmentete por el período de espera de operaciones de ingreso y egreso.\n",
    "\n",
    "**CPU Bound**  \n",
    "Se dice que unn proceso es tipo CPU (_CPU Bound_) si el tiempo para completarr una tarea está determinado principalente por operaciones que se lleven a cabo dentro de CPU."
   ]
  },
  {
   "cell_type": "markdown",
   "metadata": {},
   "source": [
    "# I/O Bound\n",
    "\n",
    "Al tener un proceso de tipo I/O, el poder computacional de nuestra máquina afecta marginalmente al tiempo en el cuál el programa se terminará de correr. Este tipo de procesos se presentan principalmente al momento de tener que esperar la respuesta de una maquina ajena a la nuestra para poder continuar con el proceso."
   ]
  },
  {
   "cell_type": "markdown",
   "metadata": {},
   "source": [
    "<h2 style=\"color:teal\">Ejemplo</h2>\n",
    "\n",
    "Supongamos queremos extrer todos los _tags_ `h1`, `h2` y `h3` de una lísta de páginas. Para lograr esto, introduciremos una nueva librería de la librería estándard\n",
    "\n",
    "¿De qué manera podríamos lograr esto?\n",
    "\n",
    "```HTML\n",
    "<h1>Esto es un h1</h1>\n",
    "<h2>Esto es un h2</h2>\n",
    "<h3>Esto es un h3</h3>\n",
    "<h4>Esto es un h4</h4>\n",
    "```\n",
    "\n",
    "<h1>Esto es un h1</h1>\n",
    "<h2>Esto es un h2</h2>\n",
    "<h3>Esto es un h3</h3>\n",
    "<h4>Esto es un h4</h4>"
   ]
  },
  {
   "cell_type": "code",
   "execution_count": 1,
   "metadata": {},
   "outputs": [],
   "source": [
    "from urllib.request import urlopen\n",
    "from string import punctuation\n",
    "from time import time\n",
    "import re\n",
    "\n",
    "def extract_headers(url):\n",
    "    regexp = re.compile(r\"<h[1-4](?:.*)>([ A-Za-z0-9\\?]+)<.*>\")\n",
    "    init = time()\n",
    "    with urlopen(url) as res:\n",
    "        html = res.read().decode(\"utf8\")\n",
    "    print(f\"{url} took {time() - init:0.2f} seconds\")\n",
    "    headers = regexp.findall(html)\n",
    "    return headers\n",
    "\n",
    "def batch_extract_headers(list_urls):\n",
    "    headers = []\n",
    "    for url in list_urls:\n",
    "        headers.extend(extract_headers(url))\n",
    "    return headers"
   ]
  },
  {
   "cell_type": "code",
   "execution_count": 53,
   "metadata": {},
   "outputs": [],
   "source": [
    "urls = [\n",
    "    \"https://projecteuler.net/\",\n",
    "    \"https://nabla.mx\",\n",
    "    \"https://ocw.mit.edu/index.htm\",\n",
    "    \"https://distill.pub/\",\n",
    "    \"https://github.com\",\n",
    "    \"https://www.python.org/\",\n",
    "    \"https://nips.cc/\",\n",
    "    \"https://scikit-learn.org/stable/\",\n",
    "    \"https://arxiv.org/\",\n",
    "    \"https://www.nature.com/\",\n",
    "    \"https://www.springer.com/gp/book/9780387310732\",\n",
    "    \"https://docs.scipy.org/doc/numpy/index.html\",\n",
    "    \"https://online.stanford.edu/\",\n",
    "    \"https://keras.io/\",\n",
    "    \"https://math.stackexchange.com/\",\n",
    "    \"https://lexfridman.com/\"\n",
    "]"
   ]
  },
  {
   "cell_type": "code",
   "execution_count": 3,
   "metadata": {
    "scrolled": true
   },
   "outputs": [
    {
     "name": "stdout",
     "output_type": "stream",
     "text": [
      "https://projecteuler.net/ took 0.79 seconds\n",
      "https://nabla.mx took 18.95 seconds\n",
      "https://ocw.mit.edu/index.htm took 0.72 seconds\n",
      "https://distill.pub/ took 0.58 seconds\n",
      "https://github.com took 0.67 seconds\n",
      "https://www.python.org/ took 0.45 seconds\n",
      "https://nips.cc/ took 0.94 seconds\n",
      "https://scikit-learn.org/stable/ took 0.59 seconds\n",
      "https://arxiv.org/ took 2.46 seconds\n",
      "https://www.nature.com/ took 2.69 seconds\n",
      "https://www.springer.com/gp/book/9780387310732 took 1.68 seconds\n",
      "https://docs.scipy.org/doc/numpy/index.html took 1.11 seconds\n",
      "https://online.stanford.edu/ took 0.72 seconds\n",
      "https://keras.io/ took 2.52 seconds\n",
      "https://math.stackexchange.com/ took 17.87 seconds\n",
      "https://lexfridman.com/ took 0.65 seconds\n",
      "CPU times: user 375 ms, sys: 59.4 ms, total: 435 ms\n",
      "Wall time: 53.4 s\n"
     ]
    }
   ],
   "source": [
    "%%time\n",
    "headers = batch_extract_headers(urls)"
   ]
  },
  {
   "cell_type": "code",
   "execution_count": 4,
   "metadata": {
    "scrolled": true
   },
   "outputs": [
    {
     "data": {
      "text/plain": [
       "168"
      ]
     },
     "execution_count": 4,
     "metadata": {},
     "output_type": "execute_result"
    }
   ],
   "source": [
    "len(headers)"
   ]
  },
  {
   "cell_type": "markdown",
   "metadata": {},
   "source": [
    "# Threads\n",
    "\n",
    "La librería `threads` de la librería estándard nos permite correr subprocesos pseudo-simultáneos dentro de python. El objeto principal para ejecutar subprocesos asincronicamente es `ThreadPoolExecutor`, el cuál\n",
    "\n",
    "> [...] es una subclase de `Executor` tal que considera un conjunto de subprocesos y los ejectuta asincrónicamente.\n",
    "\n",
    "Una instancia de `ThreadPoolExecutor` contiene el método `.map` el cual, al igual que la función `map` tiene como parámetros una función y una lista de iterables."
   ]
  },
  {
   "cell_type": "code",
   "execution_count": 10,
   "metadata": {},
   "outputs": [],
   "source": [
    "from concurrent.futures import ThreadPoolExecutor\n",
    "def concurrent_extract_headers(list_urls):\n",
    "    with ThreadPoolExecutor(max_workers=16) as executor:\n",
    "            res = executor.map(extract_headers, list_urls)\n",
    "    return res"
   ]
  },
  {
   "cell_type": "code",
   "execution_count": 11,
   "metadata": {},
   "outputs": [
    {
     "name": "stdout",
     "output_type": "stream",
     "text": [
      "https://scikit-learn.org/stable/ took 0.25 seconds\n",
      "https://keras.io/ took 0.26 seconds\n",
      "https://www.python.org/ took 0.38 seconds\n",
      "https://docs.scipy.org/doc/numpy/index.html took 0.40 seconds\n",
      "https://ocw.mit.edu/index.htm took 0.75 seconds\n",
      "https://projecteuler.net/ took 0.97 seconds\n",
      "https://nips.cc/ took 0.91 seconds\n",
      "https://lexfridman.com/ took 0.89 seconds\n",
      "https://distill.pub/ took 1.01 seconds\n",
      "https://arxiv.org/ took 1.00 seconds\n",
      "https://online.stanford.edu/ took 0.98 seconds\n",
      "https://github.com took 1.10 seconds\n",
      "https://math.stackexchange.com/ took 1.64 seconds\n",
      "https://nabla.mx took 2.47 seconds\n",
      "https://www.nature.com/ took 3.54 seconds\n",
      "https://www.springer.com/gp/book/9780387310732 took 4.37 seconds\n",
      "CPU times: user 332 ms, sys: 52.6 ms, total: 385 ms\n",
      "Wall time: 4.47 s\n"
     ]
    }
   ],
   "source": [
    "%%time\n",
    "headers = concurrent_extract_headers(urls)"
   ]
  },
  {
   "cell_type": "markdown",
   "metadata": {},
   "source": [
    "Para este ejemplo, el programa con subprocesos asincrónicos tomó al rededor de 80% menos tiempo que la versión sincrónica"
   ]
  },
  {
   "cell_type": "markdown",
   "metadata": {},
   "source": [
    "### El problema con `threads`\n",
    "La más grande desventaja de trabajar con threads son problemas conocidos como _race conditions_\n",
    "\n",
    "Otra de las limitantes de la librería `threads` es el uso intensivo del CPU a fin de poder cambiar tareas"
   ]
  },
  {
   "cell_type": "markdown",
   "metadata": {},
   "source": [
    "The limit on total threads is the total CPU power minus the cost of task switches and synchronization overhead.\n",
    "\n",
    "Using threading is ok as long as our i/o bound program is **not** CPU intensive. If we do not need 100% of all of the CPU power, using threads is a pass."
   ]
  },
  {
   "cell_type": "markdown",
   "metadata": {},
   "source": [
    "# Asyncio\n",
    "\n",
    "Asyncio es una librería diseñanda para escribir código concurrente por medio del uso de la sintáxis `async` `await`.\n",
    "\n",
    "Asyncio es la manera recomendada de correr procesos de tipo I/O dentro de Python dada su eficiente ejecución al momento de cambiar tareas, al contrario de _threading_, el cuál suele ser intensivo para el CPU."
   ]
  },
  {
   "cell_type": "code",
   "execution_count": 4,
   "metadata": {},
   "outputs": [],
   "source": [
    "import asyncio"
   ]
  },
  {
   "cell_type": "markdown",
   "metadata": {},
   "source": [
    "### Corutinas y el _event loop_"
   ]
  },
  {
   "cell_type": "markdown",
   "metadata": {},
   "source": [
    "Asyncio provee un mecanismo de ejecución llamado el **event loop** el cual se encarga de correr y coordinar las tareas tareas que se correran de manera concurrente.\n",
    "\n",
    "Otro componente importante en un programa con asyncio es una corutina. Una **corutina** es un versión especializada de un generador de Python la cual puede suspender su ejecución antes de finalizar una función a fin de ceder el control del programa a otra corutina en otro momento. \n",
    "\n",
    "El event loop, entonces, se encarga de dos tareas principales:\n",
    "1. Llevar un registro de las tareas que han terminado su ejecución, las tareas que aún esperan ser ejecutadas, las tareas que estan en espera de reanudar operación y la tarea que tiene el actual control.\n",
    "2. Ceder control a tareas que esperan ser ejecutadas o a tareas que esperan reanudar su operación."
   ]
  },
  {
   "cell_type": "markdown",
   "metadata": {},
   "source": [
    "---\n",
    "\n",
    "Nota: `asyncio` no funciona óptimamente en Jupyter notebooks, por lo que ejecutaremos scripts externos que nos permitan entender su uso.\n",
    "\n",
    "---"
   ]
  },
  {
   "cell_type": "markdown",
   "metadata": {},
   "source": [
    "### Definiendo corutinas"
   ]
  },
  {
   "cell_type": "markdown",
   "metadata": {},
   "source": [
    "Dos _keywords_ escenciales para definir una corutina son:\n",
    "* `async`\n",
    "* `await`\n",
    "\n",
    "La funcionaliad básica de **async** es informarle a Python que la función a definir será de tipo asincrónica, i.e., una corutina; por otro lado, **await** sede el control del programa."
   ]
  },
  {
   "cell_type": "markdown",
   "metadata": {},
   "source": [
    "Decimos que una función es de tipo _awaitable_ si podemos usarlo dentro de una expresión `await`, i.e, podemos llamar el código de tipo\n",
    "\n",
    "```python\n",
    "await smth\n",
    "```\n",
    "\n",
    "Es entonces, que la estructura básica para definir una corutina dentro de Python es de la siguiente manera:\n",
    "\n",
    "```python\n",
    "async def fn():\n",
    "    # ... process\n",
    "    await awaitable\n",
    "```"
   ]
  },
  {
   "cell_type": "markdown",
   "metadata": {},
   "source": [
    "### Ejecutando Corutinas"
   ]
  },
  {
   "cell_type": "markdown",
   "metadata": {},
   "source": [
    "En código para Python 3.6 en adelante, la manera de ejecutar una corutina es mediante una llamada al _event loop_ para posteriormente ejectutar\n",
    "```python\n",
    "# Python 3.6+\n",
    "event_loop = asyncio.get_event_loop()\n",
    "event_loop.run_until_complete(corutine)\n",
    "```\n",
    "\n",
    "La manera [provisional](https://docs.python.org/3/glossary.html#term-provisional-api) de ejecutar una corutina en python es por medio de la función `run` dentro de la librería `asyncio`. \n",
    "```python\n",
    "# Python 3.7+\n",
    "asyncio.run(corutine)\n",
    "```"
   ]
  },
  {
   "cell_type": "markdown",
   "metadata": {},
   "source": [
    "<h2 style=\"color:teal\">Ejemplo</h2>\n",
    "\n",
    "Definiendo un primer programa con `asyncio`."
   ]
  },
  {
   "cell_type": "code",
   "execution_count": 45,
   "metadata": {},
   "outputs": [
    {
     "name": "stdout",
     "output_type": "stream",
     "text": [
      "Overwriting ../files/lec08/first_async.py\n"
     ]
    }
   ],
   "source": [
    "%%writefile ../files/lec08/first_async.py\n",
    "import asyncio\n",
    "async def greet():\n",
    "    print(\"Hello\")\n",
    "    await asyncio.sleep(2) # Un proceso de tipo I/O\n",
    "    print(\"World\")\n",
    "\n",
    "if __name__ == \"__main\":\n",
    "    event_loop = asyncio.get_event_loop()\n",
    "    event_loop.run_until_complete(greet())"
   ]
  },
  {
   "cell_type": "code",
   "execution_count": 46,
   "metadata": {},
   "outputs": [
    {
     "name": "stdout",
     "output_type": "stream",
     "text": [
      "CPU times: user 3.62 ms, sys: 6.17 ms, total: 9.78 ms\n",
      "Wall time: 234 ms\n"
     ]
    }
   ],
   "source": [
    "%%time\n",
    "!python ../files/lec08/first_async.py"
   ]
  },
  {
   "cell_type": "markdown",
   "metadata": {},
   "source": [
    "El programa anterior tomó el mismo tiempo que le hubiese tomado a un programa sincrónico correr su ejecución. **¿A qué se deberá esto?**"
   ]
  },
  {
   "cell_type": "markdown",
   "metadata": {},
   "source": [
    "<h2 style=\"color:teal\">Ejemplo</h2>\n",
    "\n",
    "Supongamos tenemos el siguiente programa el cuál imprime en la pantalla `\"Hello\"` seguido de `\"World\"`.\n",
    "\n",
    "Supongamos de igual manerra que entre la primera y la segunda impresión a la pantalla existe un proceso de tipo _I/O_ el cuál tarda 2 segundos en terminar de completarse.\n",
    "\n",
    "De necesitar tener que correr este proceso tres veces. Una manera sincrónica de escribir este programa sería de la siguiente manera:"
   ]
  },
  {
   "cell_type": "code",
   "execution_count": 43,
   "metadata": {},
   "outputs": [
    {
     "name": "stdout",
     "output_type": "stream",
     "text": [
      "Overwriting ../files/lec08/hello.py\n"
     ]
    }
   ],
   "source": [
    "%%writefile ../files/lec08/hello.py\n",
    "import time\n",
    "\n",
    "def greeting():\n",
    "    print(\"Hello\")\n",
    "    # Proceso de tipo I/O que toma 2 segundos en regresar una respuesta\n",
    "    time.sleep(2)\n",
    "    print(\"AsyncIO\")\n",
    "\n",
    "def main():\n",
    "    for _ in range(3):\n",
    "        greeting()\n",
    "\n",
    "if __name__ == \"__main__\":\n",
    "    main()"
   ]
  },
  {
   "cell_type": "code",
   "execution_count": 44,
   "metadata": {},
   "outputs": [
    {
     "name": "stdout",
     "output_type": "stream",
     "text": [
      "Hello\n",
      "AsyncIO\n",
      "Hello\n",
      "AsyncIO\n",
      "Hello\n",
      "AsyncIO\n",
      "CPU times: user 124 ms, sys: 43.5 ms, total: 167 ms\n",
      "Wall time: 6.18 s\n"
     ]
    }
   ],
   "source": [
    "%%time\n",
    "!python ../files/lec08/hello.py"
   ]
  },
  {
   "cell_type": "markdown",
   "metadata": {},
   "source": [
    "En caso de tener dos o más corutinas a ejecutar dentro de una corutina, programamos su ejecución concurrente creando un _task_ por medio de la función \n",
    "\n",
    "```python\n",
    "# Python 3.6+\n",
    "asyncio.ensure_future(cor())\n",
    "```\n",
    "\n",
    "```python\n",
    "# Python 3.7+\n",
    "asyncio.create_task(cor())\n",
    "```"
   ]
  },
  {
   "cell_type": "code",
   "execution_count": 32,
   "metadata": {},
   "outputs": [
    {
     "name": "stdout",
     "output_type": "stream",
     "text": [
      "Overwriting ../files/lec08/hello_async0.py\n"
     ]
    }
   ],
   "source": [
    "%%writefile ../files/lec08/hello_async0.py\n",
    "import asyncio\n",
    "async def greet():\n",
    "    print(\"Hello\")\n",
    "    await asyncio.sleep(2) # Un proceso de tipo I/O\n",
    "    print(\"World\")\n",
    "\n",
    "\n",
    "async def main():\n",
    "    t1 = asyncio.ensure_future(greet()) # asyncio.create_task(cor()) 3.7+\n",
    "    t2 = asyncio.ensure_future(greet()) # asyncio.create_task(cor()) 3.7+\n",
    "    t3 = asyncio.ensure_future(greet()) # asyncio.create_task(cor()) 3.7+\n",
    "    await t1\n",
    "    await t2\n",
    "    await t3\n",
    "    \n",
    "if __name__ == \"__main__\":\n",
    "    event_loop = asyncio.get_event_loop()\n",
    "    event_loop.run_until_complete(main())"
   ]
  },
  {
   "cell_type": "code",
   "execution_count": 33,
   "metadata": {},
   "outputs": [
    {
     "name": "stdout",
     "output_type": "stream",
     "text": [
      "Hello\n",
      "Hello\n",
      "Hello\n",
      "World\n",
      "World\n",
      "World\n",
      "CPU times: user 44.7 ms, sys: 19.4 ms, total: 64.2 ms\n",
      "Wall time: 2.24 s\n"
     ]
    }
   ],
   "source": [
    "%%time\n",
    "!python ../files/lec08/hello_async0.py"
   ]
  },
  {
   "cell_type": "markdown",
   "metadata": {},
   "source": [
    "Una manera alternativa de correr una seríe de corutinas hechas tareas dentro de una corutina es mediante la función\n",
    "\n",
    "```python\n",
    "asyncio.gather(cor0(), cor1(), ..., corn())\n",
    "```"
   ]
  },
  {
   "cell_type": "code",
   "execution_count": 50,
   "metadata": {},
   "outputs": [
    {
     "name": "stdout",
     "output_type": "stream",
     "text": [
      "Overwriting ../files/lec08/hello_async1.py\n"
     ]
    }
   ],
   "source": [
    "%%writefile ../files/lec08/hello_async1.py\n",
    "import asyncio\n",
    "async def greet():\n",
    "    print(\"Hello\")\n",
    "    await asyncio.sleep(2) # Un proceso de tipo I/O\n",
    "    print(\"World\")\n",
    "\n",
    "async def main():\n",
    "    tasks = [greet(), greet(), greet()]\n",
    "    await asyncio.gather(*tasks)\n",
    "\n",
    "if __name__ == \"__main__\":\n",
    "    event_loop = asyncio.get_event_loop()\n",
    "    event_loop.run_until_complete(main())"
   ]
  },
  {
   "cell_type": "code",
   "execution_count": 51,
   "metadata": {},
   "outputs": [
    {
     "name": "stdout",
     "output_type": "stream",
     "text": [
      "Hello\n",
      "Hello\n",
      "Hello\n",
      "World\n",
      "World\n",
      "World\n",
      "CPU times: user 44.8 ms, sys: 18.6 ms, total: 63.4 ms\n",
      "Wall time: 2.23 s\n"
     ]
    }
   ],
   "source": [
    "%%time\n",
    "!python ../files/lec08/hello_async1.py"
   ]
  },
  {
   "cell_type": "markdown",
   "metadata": {},
   "source": [
    "# CPU Bound\n",
    "\n",
    "Hasta ahora nos hemos enfocado en procesos de tipo _I/O_. Pero, ¿Qué sucede si nuestro problema requiere de un proceso tipo _CPU_?\n",
    "\n",
    "Como mencionamos anteriormente, el _GIL_ prohibe a un proceso de Python correr una colección de subprocesos. La forma de eludir este problema dentro de un proceso de Python es mediante la librería `multiprocessing`."
   ]
  },
  {
   "cell_type": "markdown",
   "metadata": {},
   "source": [
    "<h2 style=\"color:teal\">Ejemplo</h2>\n",
    "\n",
    "Extrayendo el número de carácteres del código fuente desde una lista de páginas. (Necesario tener instalada la librería `aiohttp` para ejecutar este ejemplo)"
   ]
  },
  {
   "cell_type": "code",
   "execution_count": null,
   "metadata": {},
   "outputs": [],
   "source": [
    "!pip install aiohttp"
   ]
  },
  {
   "cell_type": "code",
   "execution_count": 115,
   "metadata": {},
   "outputs": [
    {
     "name": "stdout",
     "output_type": "stream",
     "text": [
      "Overwriting ../files/lec08/async_fetch.py\n"
     ]
    }
   ],
   "source": [
    "%%writefile ../files/lec08/async_fetch.py\n",
    "import asyncio\n",
    "import aiohttp\n",
    "\n",
    "async def get(sess, url):\n",
    "    async with sess.get(url) as r:\n",
    "        return await r.text()\n",
    "\n",
    "async def main(urls):\n",
    "    async with aiohttp.ClientSession() as sess:\n",
    "        tasks = [get(sess, url) for url in urls]\n",
    "        responses = await asyncio.gather(*tasks)\n",
    "    print([len(web) for web in responses])\n",
    "        \n",
    "if __name__ == \"__main__\":\n",
    "    urls = ['https://projecteuler.net/',\n",
    "            'https://nabla.mx',\n",
    "            'https://ocw.mit.edu/index.htm',\n",
    "            'https://distill.pub/',\n",
    "            'https://github.com',\n",
    "            'https://www.python.org/',\n",
    "            'https://nips.cc/',\n",
    "            'https://scikit-learn.org/stable/',\n",
    "            'https://arxiv.org/',\n",
    "            'https://www.nature.com/',\n",
    "            'https://www.springer.com/gp/book/9780387310732',\n",
    "            'https://docs.scipy.org/doc/numpy/index.html',\n",
    "            'https://online.stanford.edu/',\n",
    "            'https://keras.io/',\n",
    "            'https://math.stackexchange.com/',\n",
    "            'https://lexfridman.com/']\n",
    "    event_loop = asyncio.get_event_loop()\n",
    "    event_loop.run_until_complete(main(urls))"
   ]
  },
  {
   "cell_type": "code",
   "execution_count": 116,
   "metadata": {},
   "outputs": [
    {
     "name": "stdout",
     "output_type": "stream",
     "text": [
      "[5194, 253691, 54877, 39473, 93492, 48433, 48345, 23735, 26543, 190614, 54551, 6612, 47573, 23812, 272144, 43367]\n",
      "CPU times: user 44.1 ms, sys: 20.9 ms, total: 64.9 ms\n",
      "Wall time: 2.22 s\n"
     ]
    }
   ],
   "source": [
    "%%time\n",
    "!python ../files/lec08/async_fetch.py"
   ]
  },
  {
   "cell_type": "markdown",
   "metadata": {},
   "source": [
    "# Multiprocessing"
   ]
  },
  {
   "cell_type": "code",
   "execution_count": null,
   "metadata": {},
   "outputs": [],
   "source": [
    "import multiprocessing"
   ]
  },
  {
   "cell_type": "markdown",
   "metadata": {},
   "source": [
    "La manera en la que `multiprocessing` evade el GIL es creando nuevos procesos independientes del proceso actual."
   ]
  },
  {
   "cell_type": "markdown",
   "metadata": {},
   "source": [
    "## `multiprocessing.map`\n",
    "\n",
    "La función `map` es una de las maneras más convenientes de introducir paralelísmo dentro de Python."
   ]
  },
  {
   "cell_type": "markdown",
   "metadata": {},
   "source": [
    "<h2 style=\"color:teal\">Ejemplo</h2>\n",
    "\n",
    "Consideremos la función `f(x)` dentro del siguiente programa que espera dos segundos antes de regresar el valor `x ** 2`. El programa `multiprocessing.py` tomará una lista de enteros y calculará el valor al cuadrado de cada uno de estos considerando un _pool_ con 4 procesos."
   ]
  },
  {
   "cell_type": "code",
   "execution_count": 93,
   "metadata": {},
   "outputs": [
    {
     "name": "stdout",
     "output_type": "stream",
     "text": [
      "Overwriting ../files/lec08/multiprocessing0.py\n"
     ]
    }
   ],
   "source": [
    "%%writefile ../files/lec08/multiprocessing0.py\n",
    "from multiprocessing import Pool\n",
    "from time import sleep\n",
    "\n",
    "def f(x):\n",
    "    sleep(2)\n",
    "    return x ** 2\n",
    "\n",
    "if __name__ == \"__main__\":\n",
    "    import sys\n",
    "    values = [int(v) for v in sys.argv[1:]]\n",
    "    # Creamos una colección de 4 procesos a correr\n",
    "    pool = Pool(processes=4)\n",
    "    res = pool.map(f, values)\n",
    "    print(res)"
   ]
  },
  {
   "cell_type": "markdown",
   "metadata": {},
   "source": [
    "Si corremos el programa con 4 elementos, se crean los 4 subprocesos y el programa tarda al rededor de dos segundos en correr."
   ]
  },
  {
   "cell_type": "code",
   "execution_count": 94,
   "metadata": {},
   "outputs": [
    {
     "name": "stdout",
     "output_type": "stream",
     "text": [
      "[1, 4, 9, 16]\n",
      "CPU times: user 49.9 ms, sys: 21.1 ms, total: 70.9 ms\n",
      "Wall time: 2.25 s\n"
     ]
    }
   ],
   "source": [
    "%%time\n",
    "!python ../files/lec08/multiprocessing0.py 1 2 3 4"
   ]
  },
  {
   "cell_type": "markdown",
   "metadata": {},
   "source": [
    "Si introducimos un elemento adicional, el tiempo de respuesta se duplica debido al elemento adicional que necesitamos procesar, es decir, durante los primeros dos segundos, todos los procesos se encuentran ocupados y no es sino hasta que terminamos de correr el proceso que podemos considerar el siguiente elemento."
   ]
  },
  {
   "cell_type": "code",
   "execution_count": 95,
   "metadata": {},
   "outputs": [
    {
     "name": "stdout",
     "output_type": "stream",
     "text": [
      "[1, 4, 9, 16, 25]\n",
      "CPU times: user 92.4 ms, sys: 34.6 ms, total: 127 ms\n",
      "Wall time: 4.31 s\n"
     ]
    }
   ],
   "source": [
    "%%time\n",
    "!python ../files/lec08/multiprocessing0.py 1 2 3 4 5"
   ]
  },
  {
   "cell_type": "markdown",
   "metadata": {},
   "source": [
    "Se considera una buena practica ocupar como número de procesos el número total de núcleos dentro de nuestra computadora."
   ]
  },
  {
   "cell_type": "code",
   "execution_count": 84,
   "metadata": {},
   "outputs": [
    {
     "data": {
      "text/plain": [
       "8"
      ]
     },
     "execution_count": 84,
     "metadata": {},
     "output_type": "execute_result"
    }
   ],
   "source": [
    "import os\n",
    "os.cpu_count()"
   ]
  },
  {
   "cell_type": "markdown",
   "metadata": {},
   "source": [
    "<h2 style=\"color:crimson\">Ejercicios</h2>"
   ]
  },
  {
   "cell_type": "markdown",
   "metadata": {},
   "source": [
    "1. Menciona tres procesos de tipo _CPU_\n",
    "\n",
    "---\n",
    "\n",
    "2. Menciona tres procesos de tipo _I/O_\n",
    "\n",
    "---\n",
    "\n",
    "3. Usando `asyncio`, escribe la versión asincrónica de `extract_headers` y guardalo dentro del archivo `async_h1_extract.py` ¿Cuánto tiempo toma ejecutar el programa?\n",
    "\n",
    "---\n",
    "\n",
    "4. Usando multiprocessing, crea el archivo `mult_h1_extract.py` que extraiga los encabezados de `urls`. ¿Cuánto tiempo toma ejecutar el programa?\n",
    "\n",
    "--- \n",
    "\n",
    "5. Dado los últimos dos ejercicios, ¿cuál consideras es una mejor manera de extraer los encabezados de una página? ¿por qué?\n",
    "\n",
    "---\n",
    "\n",
    "6. Se quiere escribir un programa que ejecute procesos `A1`, `A2`, `A3`, `B` y `C` de la siguiente manera:\n",
    "\n",
    "```\n",
    "+-----+\n",
    "| A1  +---------+\n",
    "+-----+         |\n",
    "                |\n",
    "+-----+      +--v--+      +-----+\n",
    "| A2  +----->+  B  +----->+  C  |\n",
    "+-----+      +--^--+      +-----+\n",
    "                |\n",
    "+-----+         |\n",
    "| A3  +---------+\n",
    "+-----+\n",
    "```\n",
    "\n",
    "Describe en tus palabras cómo usarías herramientas de concurrencia para ejecutar el proceso de manera óptima."
   ]
  },
  {
   "cell_type": "markdown",
   "metadata": {},
   "source": [
    "## Referencias\n",
    "1. https://pybay.com/site_media/slides/raymond2017-keynote/index.html\n",
    "2. https://asyncio.readthedocs.io/en/latest/hello_world.html\n",
    "3. https://www.youtube.com/watch?v=KVKufdTphKs\n",
    "4. https://realpython.com/python-concurrency/\n",
    "5. https://stackoverflow.com/a/38145183/11278455\n",
    "6. https://docs.python.org/3/library/concurrent.futures.html\n",
    "7. https://docs.python.org/3.6/library/multiprocessing.html?highlight=multithreading"
   ]
  }
 ],
 "metadata": {
  "kernelspec": {
   "display_name": "Python 3",
   "language": "python",
   "name": "python3"
  },
  "language_info": {
   "codemirror_mode": {
    "name": "ipython",
    "version": 3
   },
   "file_extension": ".py",
   "mimetype": "text/x-python",
   "name": "python",
   "nbconvert_exporter": "python",
   "pygments_lexer": "ipython3",
   "version": "3.6.8"
  }
 },
 "nbformat": 4,
 "nbformat_minor": 2
}
