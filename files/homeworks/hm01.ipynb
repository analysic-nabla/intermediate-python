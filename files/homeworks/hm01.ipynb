{
 "cells": [
  {
   "cell_type": "markdown",
   "metadata": {},
   "source": [
    "![logo](../files/misc/logo.png)\n",
    "<h1 style=\"color:#872325\">HM01</h1>"
   ]
  },
  {
   "cell_type": "markdown",
   "metadata": {},
   "source": [
    "## OOP"
   ]
  },
  {
   "cell_type": "markdown",
   "metadata": {},
   "source": [
    "1. Define la clase `Categorical` que tome como valores del constructor un numpy array unidimensional `probs` de `dtype=\"f\"`, longitud `K` tal que la sume de valores sea uno.\n",
    "    1. Si `probs.sum() != 1.0`, levanta un `ValueError` informando al usuario que la suma de probabilidades no es igual a `1.0`; de otra manera, guarda `probs` dentro de la clase\n",
    "    2. Si `np.any(probs) < 0` es verdadero, levanta un `ValueError` informando al usuario que no probabilidad puede ser menor a 0.\n",
    "    2. Define el método `pmf` que tome un ndarray `x` de la misma longitud tal que sólo un elemento es `1` y el resto `0`, e.g., `x = np.array([0, 0, 1, 0])` y regrese el siguiente resultado:\n",
    "        \n",
    "    $$\n",
    "        p({\\bf x} | {\\bf \\mu}) = \\prod_{k=1}^K \\mu_k^{x_k} = \\mu_1^{x_1} \\times \\mu_2^{x_2} \\times \\ldots \\times \\mu_K^{x_K}\n",
    "    $$\n",
    "    \n",
    "----\n",
    "\n",
    "2. Define la clase `Multinomial` que herede las propiedades de `Categorical`.\n",
    "    1. Define el método `pmf` que considere un ndarray `m` de números enteros (con `len(x) == len(self.probs)`), y regrese el método `Categorical.pmf` multiplicado por el factor de normalización\n",
    "    $$\n",
    "        \\frac{N!}{m_1!m_2!\\cdots m_K!}\n",
    "    $$\n",
    "    Dónde $N = \\sum_k m_k$, ${\\bf m} = \\{m_1, \\ldots, m_k\\}$ y $n! = n\\times n-1\\times \\cdots \\times 1$ es la función factorial   \n",
    "    Quedando la definición de `Multinomial.pmf` como sigue:\n",
    "    $$\n",
    "        p_\\text{mult}({\\bf m} | {\\bf \\mu}) = \\frac{N!}{m_1!m_2!\\cdots m_K!}  p_\\text{cat}({\\bf m} | {\\bf \\mu}) = \\frac{N!}{m_1!m_2!\\cdots m_K!} \\prod_{k=1}^K \\mu_k^{m_k}\n",
    "    $$\n",
    "    Considera la función `factorial` dentro de `scipy.special` para calcular el factor de normalización.\n",
    "\n",
    "----\n",
    "\n",
    "3. Define la clase `Binomial` que herede de `Multinomial`\n",
    "    1. Modifica el constructor a fin que tome un único parámetro ` 0 <= p <= 1` e inicializa la clase padre correctamente.\n",
    "    2. Define el método `pmf(m, N)` que considere un enteros `m`, `N` tal que `m <= N`. El método deberá regresar `Multinomial.pdf` con parámetro `np.array([m, N - m])`.\n",
    "\n",
    "----\n",
    "4. Define la clase `Bernoulli` que herede de `Binomial`\n",
    "    1. Define el método `pmf(x)` que considere la variable binaria `x in [0, 1]`. El método deberá regresar `Binomial.pdf(x, 1)`"
   ]
  },
  {
   "cell_type": "markdown",
   "metadata": {},
   "source": [
    "## FP"
   ]
  },
  {
   "cell_type": "markdown",
   "metadata": {},
   "source": [
    "1. Usando un list comprehension, encuentra la suma de todos los múltiplos de 3 o 5 por debajo de 1000\n",
    "\n",
    "---\n",
    "\n",
    "2. define la función **lambda** `conjunto_potencia_unidades` que tome un número `n ` y un número entero `lim`. La función deberá regresar un diccionario con llaves los valores `0` al `n` y valores una lista con los valores únicos de unidades para cada número $\\{k^i\\}_{i=1}^{\\texttt{lim}}$\n",
    "```python\n",
    ">>> conjunto_potencia_unidades(10, 20)\n",
    "{0: [0],\n",
    " 1: [1],\n",
    " 2: [2, 4, 6, 8],\n",
    " 3: [1, 3, 7, 9],\n",
    " 4: [4, 6],\n",
    " 5: [5],\n",
    " 6: [6],\n",
    " 7: [1, 3, 7, 9],\n",
    " 8: [2, 4, 6, 8],\n",
    " 9: [9, 1],\n",
    " 10: [0]}\n",
    "```\n",
    "\n",
    "----\n",
    "\n",
    "3. Usando un list comphrension, define la función `fizzbuzz` que le pida al usuario un número entero $n$. El programa debe regresar una lista del 1 al $n$ con las siguientes reglas:\n",
    "\n",
    "    * `Fizz` si el número es divisible entre $3$;\n",
    "    * `Buzz` si el número es divisible entre $5$;\n",
    "    * `FizzBuzz` si el número es divisible entre $3$ y $5$;\n",
    "    * El número si no es divisible entre $3$ o $5$.\n",
    "\n",
    "Por ejemplo, si `n=16`, `fizzbuzz(16)` regresa\n",
    "\n",
    "```\n",
    "[1, 2, 'Fizz', 4, 'Buzz', 'Fizz', 7, 8, 'Fizz', 'Buzz', 11, 'Fizz', 13, 14, 'FizzBuzz', 16]\n",
    "```\n",
    "\n",
    "----\n",
    "\n",
    "4. Crea un list comprehension que arroje el siguiente resultado:\n",
    "```\n",
    "[[1, 2, 3, 4, 5, 6, 7, 8, 9, 10],\n",
    " [2, 4, 6, 8, 10, 12, 14, 16, 18, 20],\n",
    " [3, 6, 9, 12, 15, 18, 21, 24, 27, 30],\n",
    " [4, 8, 12, 16, 20, 24, 28, 32, 36, 40],\n",
    " [5, 10, 15, 20, 25, 30, 35, 40, 45, 50],\n",
    " [6, 12, 18, 24, 30, 36, 42, 48, 54, 60],\n",
    " [7, 14, 21, 28, 35, 42, 49, 56, 63, 70],\n",
    " [8, 16, 24, 32, 40, 48, 56, 64, 72, 80],\n",
    " [9, 18, 27, 36, 45, 54, 63, 72, 81, 90],\n",
    " [10, 20, 30, 40, 50, 60, 70, 80, 90, 100]]\n",
    "```\n",
    "\n",
    "----\n",
    "\n",
    "5. Dada la lista `numbers`, crea un diccionario dónde la llave sea la entrada de cada lista y el valor la longitud de cada entrada\n",
    "```python\n",
    "numbers = [\"one\", \"two\", \"three\", \"four\", \"five\", \"six\"]\n",
    "```"
   ]
  },
  {
   "cell_type": "markdown",
   "metadata": {},
   "source": [
    "## Iterators"
   ]
  },
  {
   "cell_type": "markdown",
   "metadata": {},
   "source": [
    "1. Crea el iterable `FizzBuzz(n)` el cual itere `n` veces y cumpla que, para cada `i = 1, ..., n`,\n",
    "    * Si `i` es divisible por `3`, el iterador deberá regresar `\"Fizz\"`;\n",
    "    * si `i` es divisible por `5`, el iterador deberá regresar `\"Buzz\"`; \n",
    "    * si `i` es divisible por `5` y `3`, el iterador deberá regresar `\"FizzBuzz\"`; \n",
    "    * si ninguna de las reglas de arriba se cumple, el iterador deberá regresar `i`.\n",
    "    \n",
    "---\n",
    "\n",
    "2. Crea el iterable `FizzBuzzV2(n, v1, v2)` el cuál itere `n` veces y cumpla que, para cada `i = 1, ..., n`,\n",
    "    * Si `i` es divisible por `v1`, el iterador deberá regresar `\"Fizz\"`;\n",
    "    * si `i` es divisible por `v2`, el iterador deberá regresar `\"Buzz\"`; \n",
    "    * si `i` es divisible por `v1` y `v2`, el iterador deberá regresar `\"FizzBuzz\"`; \n",
    "    * si ninguna de las reglas de arriba se cumple, el iterador deberá regresar `i`.\n",
    " \n",
    "---    \n",
    "\n",
    "3. Crea el iterrable `Div(n, v1, v2, ..., vk)` el cuál itere `n` veces y cumpla que, para cada `i = 1, ..., n`\n",
    "    * Si `i` es divisible por cualesquiera `vi`, el iterador deberá regresar:  \n",
    "        `\"i divisible by vi, vi2, ..., vik\"`\n",
    "    * En otro caso, el iterrador deberá regresar: `i`\n",
    "    \n",
    "    \n",
    "```python\n",
    ">>> for v in Divn(n=14, v1=2, v2=3, v3=7):\n",
    ">>>     print(v)\n",
    "1\n",
    "2 divisible by 2\n",
    "3 divisible by 3\n",
    "4 divisible by 2\n",
    "5\n",
    "6 divisible by 2, 3\n",
    "7 divisible by 7\n",
    "8 divisible by 2\n",
    "9 divisible by 3\n",
    "10 divisible by 2\n",
    "11\n",
    "12 divisible by 2, 3\n",
    "13\n",
    "14 divisible by 2, 7\n",
    "```"
   ]
  }
 ],
 "metadata": {
  "kernelspec": {
   "display_name": "Python 3",
   "language": "python",
   "name": "python3"
  },
  "language_info": {
   "codemirror_mode": {
    "name": "ipython",
    "version": 3
   },
   "file_extension": ".py",
   "mimetype": "text/x-python",
   "name": "python",
   "nbconvert_exporter": "python",
   "pygments_lexer": "ipython3",
   "version": "3.7.3"
  }
 },
 "nbformat": 4,
 "nbformat_minor": 2
}
