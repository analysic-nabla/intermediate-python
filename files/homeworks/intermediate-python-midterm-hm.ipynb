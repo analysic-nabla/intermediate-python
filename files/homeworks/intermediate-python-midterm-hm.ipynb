{
 "cells": [
  {
   "cell_type": "markdown",
   "metadata": {},
   "source": [
    "1. Define la función `palindromo(seq)` que verifique si `seq` (un `str`) es un palíndromo. La función deberá regresar `True` si `seq` es un palíndrromo o `False` de lo contrario.\n",
    "\n",
    "```python\n",
    ">>> palindromo(\"Anita lava la tina\")\n",
    "True\n",
    ">>> palindromo(\"A ti no bonita\")\n",
    "True\n",
    ">>> palindromo(\"machine learning\")\n",
    "False\n",
    ">>> palindromo(\"Tu eres\")\n",
    "False\n",
    ">>> palindromo(\"Yo soy\")\n",
    "True\n",
    "```"
   ]
  },
  {
   "cell_type": "code",
   "execution_count": null,
   "metadata": {},
   "outputs": [],
   "source": []
  },
  {
   "cell_type": "markdown",
   "metadata": {},
   "source": [
    "2. Define la función `pascal(n)` que regrese una lista de listas con cada uno de los términos de un triángulo de pascal.\n",
    "\n",
    "La función debería tomar un valor $n \\geq 2$,\n",
    "\n",
    "* Si $n < 2$, la función deberá arrojar un `ValueError` con mensaje ;\n",
    "* Si $n$ no es de tipo `int`, el programa deberá arrojar un `TypeError` con mensaje `\"El numero n={n} no es de tipo entero\"`\n",
    "\n",
    "```python\n",
    ">>> pascal(3)\n",
    "[[1],\n",
    " [1, 1],\n",
    " [1, 2, 1]]\n",
    ">>> pascal(12)\n",
    "[[1],\n",
    " [1, 1],\n",
    " [1, 2, 1],\n",
    " [1, 3, 3, 1],\n",
    " [1, 4, 6, 4, 1],\n",
    " [1, 5, 10, 10, 5, 1],\n",
    " [1, 6, 15, 20, 15, 6, 1],\n",
    " [1, 7, 21, 35, 35, 21, 7, 1],\n",
    " [1, 8, 28, 56, 70, 56, 28, 8, 1],\n",
    " [1, 9, 36, 84, 126, 126, 84, 36, 9, 1],\n",
    " [1, 10, 45, 120, 210, 252, 210, 120, 45, 10, 1],\n",
    " [1, 11, 55, 165, 330, 462, 462, 330, 165, 55, 11, 1]]\n",
    ">>> pascal(5.0)\n",
    "TypeError: El valor n=5.0 no es de tipo entero\n",
    ">>> pascal(-1)\n",
    "ValueError: n debe ser mayor o igual a 2 (n = -1)\n",
    " ```"
   ]
  },
  {
   "cell_type": "code",
   "execution_count": null,
   "metadata": {},
   "outputs": [],
   "source": []
  },
  {
   "cell_type": "markdown",
   "metadata": {},
   "source": [
    "3. Se definió la función pyramid que tome un valor v e imprima una pirámide de la siguiente manera\n",
    "\n",
    "```python\n",
    ">>> pyramid(4)\n",
    "   1\n",
    "  2 2\n",
    " 3 3 3\n",
    "4 4 4 4\n",
    "```\n",
    "La pirámide deberá tomar forma dependiendo v a fin de no perder la estructura. Por ejemplo, si `v = 11`\n",
    "```python\n",
    ">>> pyramid(10)\n",
    "               01                \n",
    "              02 02              \n",
    "            03 03 03             \n",
    "           04 04 04 04           \n",
    "         05 05 05 05 05          \n",
    "        06 06 06 06 06 06        \n",
    "      07 07 07 07 07 07 07       \n",
    "     08 08 08 08 08 08 08 08     \n",
    "   09 09 09 09 09 09 09 09 09    \n",
    "  10 10 10 10 10 10 10 10 10 10  \n",
    "11 11 11 11 11 11 11 11 11 11 11\n",
    "```\n",
    "\n",
    "En el caso `v >= 100`, las unidades deberían tener dos ceros de _padding_ y así sucesivamente, e.g. `003`, `087`, `239`\n",
    "\n",
    "Se tiene la siguiente función que trata de resolver este problema\n",
    "```python\n",
    "def pyramid(v):\n",
    "vlen = len(str(v))\n",
    "    max_len = v * 2\n",
    "    for i in range(v + 1):\n",
    "        label = format(i, \"02\")\n",
    "    print((f\"{label} \" * i).center(v))\n",
    "```\n",
    "\n",
    "Por medio de `ipdb`, analiza la función y arregla la función."
   ]
  },
  {
   "cell_type": "code",
   "execution_count": null,
   "metadata": {},
   "outputs": [],
   "source": []
  },
  {
   "cell_type": "markdown",
   "metadata": {},
   "source": [
    "4. Escribe la función `computesto(capital, r, years, filename)` que tome un capital inicial capital, una tasa de interés real `r`, un número de años `years`, el nombre de un archivo `filename` y cree un archivo con `years` filas de la siguiente forma: `t={y:02} | C={amount:02f}`; donde `y` es el año en cuestión y `amount` es el valor de la inversión al año `y`.\n",
    "\n",
    "Por ejemplo:\n",
    "```python\n",
    "compuesto(100, 0.03, 5, \"comp.txt\")\n",
    "```\n",
    "Deberá crear un archivo `comp.txt` con la siguiente información:\n",
    "```\n",
    "t=00 | C=100.00\n",
    "t=01 | C=103.00\n",
    "t=02 | C=106.09\n",
    "t=03 | C=109.27\n",
    "t=04 | C=112.55\n",
    "t=05 | C=115.93\n",
    "```"
   ]
  },
  {
   "cell_type": "code",
   "execution_count": null,
   "metadata": {},
   "outputs": [],
   "source": []
  },
  {
   "cell_type": "markdown",
   "metadata": {},
   "source": [
    "5. Considerando la función `compuesto` definida anteriormente, crea el archivo `tasas.py` que contenga la función `compuesto`. Si una persona corre `tasas.py` desde la línea de comandos de la siguiente manera,\n",
    "\n",
    "```\n",
    "python tasas.py 100 0.03 5 comp.txt\n",
    "```\n",
    "\n",
    "El programa deberá generar el archivo `comp.txt` con sus respectivos parametros.\n",
    "\n",
    "De otra manera, si el usuario importa la librería `tasas`, no debería correr ningún programa, únicamente cargar la librería."
   ]
  }
 ],
 "metadata": {
  "kernelspec": {
   "display_name": "Python 3",
   "language": "python",
   "name": "python3"
  },
  "language_info": {
   "codemirror_mode": {
    "name": "ipython",
    "version": 3
   },
   "file_extension": ".py",
   "mimetype": "text/x-python",
   "name": "python",
   "nbconvert_exporter": "python",
   "pygments_lexer": "ipython3",
   "version": "3.6.8"
  }
 },
 "nbformat": 4,
 "nbformat_minor": 2
}
